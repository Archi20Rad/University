{
  "nbformat": 4,
  "nbformat_minor": 0,
  "metadata": {
    "colab": {
      "provenance": []
    },
    "kernelspec": {
      "name": "ir",
      "display_name": "R"
    },
    "language_info": {
      "name": "R"
    }
  },
  "cells": [
    {
      "cell_type": "markdown",
      "source": [
        "# Контрольная работа\n",
        "# Вариант 19\n",
        "\n"
      ],
      "metadata": {
        "id": "99CqHvYTT19e"
      }
    },
    {
      "cell_type": "markdown",
      "source": [
        "# Выполнил:\n",
        "# Радайкин Артём, ПМ20-4 "
      ],
      "metadata": {
        "id": "zSTT2Zl8FQF2"
      }
    },
    {
      "cell_type": "markdown",
      "source": [
        "## Загружаем данные"
      ],
      "metadata": {
        "id": "aO90CBMFXQxg"
      }
    },
    {
      "cell_type": "code",
      "source": [
        "install.packages('lmtest')\n",
        "library('lmtest')"
      ],
      "metadata": {
        "colab": {
          "base_uri": "https://localhost:8080/"
        },
        "id": "AvLVFmhsZnUp",
        "outputId": "392df35a-8ae4-42b4-aaf2-5f800ef9f746"
      },
      "execution_count": null,
      "outputs": [
        {
          "output_type": "stream",
          "name": "stderr",
          "text": [
            "Installing package into ‘/usr/local/lib/R/site-library’\n",
            "(as ‘lib’ is unspecified)\n",
            "\n",
            "also installing the dependency ‘zoo’\n",
            "\n",
            "\n",
            "Loading required package: zoo\n",
            "\n",
            "\n",
            "Attaching package: ‘zoo’\n",
            "\n",
            "\n",
            "The following objects are masked from ‘package:base’:\n",
            "\n",
            "    as.Date, as.Date.numeric\n",
            "\n",
            "\n"
          ]
        }
      ]
    },
    {
      "cell_type": "code",
      "source": [
        "df = read.table('19.txt', header=T, sep='\\t', dec='.')\n",
        "df"
      ],
      "metadata": {
        "id": "JwSfFvB1qIUb"
      },
      "execution_count": null,
      "outputs": []
    },
    {
      "cell_type": "markdown",
      "source": [
        "## Построение модели\n"
      ],
      "metadata": {
        "id": "9RL7aQU8lBwe"
      }
    },
    {
      "cell_type": "code",
      "source": [
        "model_1 = lm(y ~ x1 + x2, data=df)"
      ],
      "metadata": {
        "id": "TzI_DW7ro7Cn"
      },
      "execution_count": null,
      "outputs": []
    },
    {
      "cell_type": "code",
      "source": [
        "summary(model_1)"
      ],
      "metadata": {
        "colab": {
          "base_uri": "https://localhost:8080/",
          "height": 347
        },
        "outputId": "df487d4a-f53a-44ae-c744-665c10961f27",
        "id": "PNQi3lZKpWcB"
      },
      "execution_count": null,
      "outputs": [
        {
          "output_type": "display_data",
          "data": {
            "text/plain": [
              "\n",
              "Call:\n",
              "lm(formula = y ~ x1 + x2, data = df)\n",
              "\n",
              "Residuals:\n",
              "     Min       1Q   Median       3Q      Max \n",
              "-1.28332 -0.31502 -0.08199  0.38497  1.72936 \n",
              "\n",
              "Coefficients:\n",
              "            Estimate Std. Error t value Pr(>|t|)    \n",
              "(Intercept) 16.55736   29.18175   0.567    0.572    \n",
              "x1           0.73504    0.08737   8.412  2.6e-12 ***\n",
              "x2           0.07590    0.09904   0.766    0.446    \n",
              "---\n",
              "Signif. codes:  0 ‘***’ 0.001 ‘**’ 0.01 ‘*’ 0.05 ‘.’ 0.1 ‘ ’ 1\n",
              "\n",
              "Residual standard error: 0.6118 on 72 degrees of freedom\n",
              "Multiple R-squared:  0.6563,\tAdjusted R-squared:  0.6467 \n",
              "F-statistic: 68.74 on 2 and 72 DF,  p-value: < 2.2e-16\n"
            ]
          },
          "metadata": {}
        }
      ]
    },
    {
      "cell_type": "markdown",
      "source": [
        "Y_hat = 16.55736 + 0.73504 * x1 + 0.0759*x2\n",
        "       \n",
        "\n",
        "> (29.18175)    (0.08737)  (0.09904)     \n",
        "\n",
        "> F-statistic: 68.74\n",
        "\n",
        "> R-squared (R^2):  0.6563\n",
        "\n",
        "> Adjusted R-squared (R^2_adj):  0.6467\n",
        "\n",
        "> Residual standard error (Se): 0.6118\n",
        "\n",
        "> A_mean = 0.163 % (посчитанно ниже)\n"
      ],
      "metadata": {
        "id": "OL6QtO_OpWcL"
      }
    },
    {
      "cell_type": "markdown",
      "source": [
        "**Оцените качество моделей, используя коэффициент детерминации и среднюю \n",
        "относительную ошибку аппроксимации.**"
      ],
      "metadata": {
        "id": "oT-LF10CyqDx"
      }
    },
    {
      "cell_type": "code",
      "source": [
        "R_2 =  0.656\n",
        "R_adj = 0.647\n",
        "y_p = df[,1]\n",
        "yi_hat = predict(model_1)\n",
        "\n",
        "A_mean = (1/75) * (sum(abs((y_p - yi_hat) / y_p))) * 100\n",
        "paste0('A_mean = ', round(A_mean,3), ' %' )"
      ],
      "metadata": {
        "colab": {
          "base_uri": "https://localhost:8080/",
          "height": 34
        },
        "id": "8vBaavZbyxEE",
        "outputId": "f3619f6d-230d-4084-a990-09344ac57e7b"
      },
      "execution_count": null,
      "outputs": [
        {
          "output_type": "display_data",
          "data": {
            "text/html": [
              "'A_mean = 0.163 %'"
            ],
            "text/markdown": "'A_mean = 0.163 %'",
            "text/latex": "'A\\_mean = 0.163 \\%'",
            "text/plain": [
              "[1] \"A_mean = 0.163 %\""
            ]
          },
          "metadata": {}
        }
      ]
    },
    {
      "cell_type": "markdown",
      "source": [
        "**Проведём тесты на значимость параметров моделей и моделей в целом.**"
      ],
      "metadata": {
        "id": "4wKRIkIJ5Ikc"
      }
    },
    {
      "cell_type": "code",
      "source": [
        "t_alfa = 0.567\n",
        "t_b1 = 8.412\n",
        "t_b2 = 0.766\n",
        "t_fr = qt(0.975, 72) # t_табл(0.05, 72) \n",
        "paste0(round(t_fr,3))"
      ],
      "metadata": {
        "id": "lyZ6nbsv72lF",
        "colab": {
          "base_uri": "https://localhost:8080/",
          "height": 34
        },
        "outputId": "7b709ed0-556d-4e71-ec1a-5e579db2a2ed"
      },
      "execution_count": null,
      "outputs": [
        {
          "output_type": "display_data",
          "data": {
            "text/html": [
              "'1.993'"
            ],
            "text/markdown": "'1.993'",
            "text/latex": "'1.993'",
            "text/plain": [
              "[1] \"1.993\""
            ]
          },
          "metadata": {}
        }
      ]
    },
    {
      "cell_type": "markdown",
      "source": [
        ">  |t_b1| > t_табл => гипотеза H0 отвергается => параметры модели значимы\n",
        "\n",
        "> |t_alfa|, |t_b2| < t_табл => гипотеза H0 не отвергается => параметры модели незначимы\n",
        "\n"
      ],
      "metadata": {
        "id": "hq3uJa8e72lF"
      }
    },
    {
      "cell_type": "code",
      "source": [
        "F_stat = 68.74 # F_набл\n",
        "F_fr = qf(0.975, 2, 72) # F_табл(0.05, 2, 72)\n",
        "paste0(round(F_fr,3))"
      ],
      "metadata": {
        "id": "p2Qi6wHX-czg",
        "colab": {
          "base_uri": "https://localhost:8080/",
          "height": 34
        },
        "outputId": "cab398f4-21b7-4283-dc3e-f071f32a837a"
      },
      "execution_count": null,
      "outputs": [
        {
          "output_type": "display_data",
          "data": {
            "text/html": [
              "'3.885'"
            ],
            "text/markdown": "'3.885'",
            "text/latex": "'3.885'",
            "text/plain": [
              "[1] \"3.885\""
            ]
          },
          "metadata": {}
        }
      ]
    },
    {
      "cell_type": "markdown",
      "source": [
        "> F_набл > F_табл => гипотеза H0 отвергается => модель значима"
      ],
      "metadata": {
        "id": "zf-g4mLy-czh"
      }
    },
    {
      "cell_type": "markdown",
      "source": [
        "**t-критерий Стьюдента для проверки значимости коэффициента корреляции:**"
      ],
      "metadata": {
        "id": "H1FgfpAK2PXJ"
      }
    },
    {
      "cell_type": "code",
      "source": [
        "t_fr = qt(0.975, 73) # t_табл(0.05, 73) \n",
        "paste0(round(t_fr,3))"
      ],
      "metadata": {
        "colab": {
          "base_uri": "https://localhost:8080/",
          "height": 34
        },
        "id": "OyBksi81mKUK",
        "outputId": "f9d02ec3-1142-4720-8f22-8d16864c8d7d"
      },
      "execution_count": null,
      "outputs": [
        {
          "output_type": "display_data",
          "data": {
            "text/html": [
              "'1.993'"
            ],
            "text/markdown": "'1.993'",
            "text/latex": "'1.993'",
            "text/plain": [
              "[1] \"1.993\""
            ]
          },
          "metadata": {}
        }
      ]
    },
    {
      "cell_type": "markdown",
      "source": [
        "r_x1_x2"
      ],
      "metadata": {
        "id": "SOtls8yjl0lz"
      }
    },
    {
      "cell_type": "code",
      "source": [
        "result = cor.test(df[,2], df[,3], method = \"pearson\")\n",
        "print(result)"
      ],
      "metadata": {
        "colab": {
          "base_uri": "https://localhost:8080/"
        },
        "outputId": "8d208801-d697-47ee-9cb4-6ec83be73752",
        "id": "BzaOnqEal0l8"
      },
      "execution_count": null,
      "outputs": [
        {
          "output_type": "stream",
          "name": "stdout",
          "text": [
            "\n",
            "\tPearson's product-moment correlation\n",
            "\n",
            "data:  df[, 2] and df[, 3]\n",
            "t = 7.2732, df = 73, p-value = 3.235e-10\n",
            "alternative hypothesis: true correlation is not equal to 0\n",
            "95 percent confidence interval:\n",
            " 0.4939078 0.7629280\n",
            "sample estimates:\n",
            "      cor \n",
            "0.6482068 \n",
            "\n"
          ]
        }
      ]
    },
    {
      "cell_type": "markdown",
      "source": [
        "### **Вывод: значим**\n"
      ],
      "metadata": {
        "id": "TeuiRRi3m2jF"
      }
    },
    {
      "cell_type": "markdown",
      "source": [
        "r_x1_y"
      ],
      "metadata": {
        "id": "3PFHJtR5k9T4"
      }
    },
    {
      "cell_type": "code",
      "source": [
        "result = cor.test(df[,2], df[,1], method = \"pearson\")\n",
        "print(result)"
      ],
      "metadata": {
        "colab": {
          "base_uri": "https://localhost:8080/"
        },
        "id": "8dl7ONf_6mXZ",
        "outputId": "a624c560-e9f0-423d-c4ab-326417f90d6b"
      },
      "execution_count": null,
      "outputs": [
        {
          "output_type": "stream",
          "name": "stdout",
          "text": [
            "\n",
            "\tPearson's product-moment correlation\n",
            "\n",
            "data:  df[, 2] and df[, 1]\n",
            "t = 11.733, df = 73, p-value < 2.2e-16\n",
            "alternative hypothesis: true correlation is not equal to 0\n",
            "95 percent confidence interval:\n",
            " 0.7120688 0.8748384\n",
            "sample estimates:\n",
            "      cor \n",
            "0.8083855 \n",
            "\n"
          ]
        }
      ]
    },
    {
      "cell_type": "markdown",
      "source": [
        "### **Вывод: значим**"
      ],
      "metadata": {
        "id": "bJHEED2LnG1D"
      }
    },
    {
      "cell_type": "markdown",
      "source": [
        "r_x2_y"
      ],
      "metadata": {
        "id": "QEie1Z5tlBsm"
      }
    },
    {
      "cell_type": "code",
      "source": [
        "result = cor.test(df[,3], df[,1], method = \"pearson\")\n",
        "print(result)"
      ],
      "metadata": {
        "colab": {
          "base_uri": "https://localhost:8080/"
        },
        "id": "8-dc3OBfk7E0",
        "outputId": "e94d7265-4e3a-450c-8eb8-7e3438885399"
      },
      "execution_count": null,
      "outputs": [
        {
          "output_type": "stream",
          "name": "stdout",
          "text": [
            "\n",
            "\tPearson's product-moment correlation\n",
            "\n",
            "data:  df[, 3] and df[, 1]\n",
            "t = 5.8404, df = 73, p-value = 1.343e-07\n",
            "alternative hypothesis: true correlation is not equal to 0\n",
            "95 percent confidence interval:\n",
            " 0.3869150 0.7014426\n",
            "sample estimates:\n",
            "     cor \n",
            "0.564321 \n",
            "\n"
          ]
        }
      ]
    },
    {
      "cell_type": "markdown",
      "source": [
        "### **Вывод: значим**"
      ],
      "metadata": {
        "id": "J4znnzpwnH9a"
      }
    },
    {
      "cell_type": "markdown",
      "source": [
        "#**Коэффициенты бетта, дельта и эластичности.**"
      ],
      "metadata": {
        "id": "_86WX3yt_ANi"
      }
    },
    {
      "cell_type": "code",
      "source": [
        "summary(model_1)"
      ],
      "metadata": {
        "colab": {
          "base_uri": "https://localhost:8080/",
          "height": 347
        },
        "outputId": "18ea87cf-3500-49ab-9f71-6c11871ac16e",
        "id": "W8z9U-GMC7JW"
      },
      "execution_count": null,
      "outputs": [
        {
          "output_type": "display_data",
          "data": {
            "text/plain": [
              "\n",
              "Call:\n",
              "lm(formula = y ~ x1 + x2, data = df)\n",
              "\n",
              "Residuals:\n",
              "     Min       1Q   Median       3Q      Max \n",
              "-1.28332 -0.31502 -0.08199  0.38497  1.72936 \n",
              "\n",
              "Coefficients:\n",
              "            Estimate Std. Error t value Pr(>|t|)    \n",
              "(Intercept) 16.55736   29.18175   0.567    0.572    \n",
              "x1           0.73504    0.08737   8.412  2.6e-12 ***\n",
              "x2           0.07590    0.09904   0.766    0.446    \n",
              "---\n",
              "Signif. codes:  0 ‘***’ 0.001 ‘**’ 0.01 ‘*’ 0.05 ‘.’ 0.1 ‘ ’ 1\n",
              "\n",
              "Residual standard error: 0.6118 on 72 degrees of freedom\n",
              "Multiple R-squared:  0.6563,\tAdjusted R-squared:  0.6467 \n",
              "F-statistic: 68.74 on 2 and 72 DF,  p-value: < 2.2e-16\n"
            ]
          },
          "metadata": {}
        }
      ]
    },
    {
      "cell_type": "markdown",
      "source": [
        "## Средний коэффициент эластичности"
      ],
      "metadata": {
        "id": "XbaDVsaop_4x"
      }
    },
    {
      "cell_type": "code",
      "source": [
        "E_x1 = 0.73504 * (mean(df[,2])/mean(df[,1])) # Средний коэффициент эластичности для x1\n",
        "round(E_x1,3)"
      ],
      "metadata": {
        "colab": {
          "base_uri": "https://localhost:8080/",
          "height": 34
        },
        "outputId": "ee7ad6ba-e472-4f7f-d271-42eff7d4fdcd",
        "id": "sMe8gVsTC7JW"
      },
      "execution_count": null,
      "outputs": [
        {
          "output_type": "display_data",
          "data": {
            "text/html": [
              "0.931"
            ],
            "text/markdown": "0.931",
            "text/latex": "0.931",
            "text/plain": [
              "[1] 0.931"
            ]
          },
          "metadata": {}
        }
      ]
    },
    {
      "cell_type": "markdown",
      "source": [
        "### С увеличением x1 на 1%, Y увеличится на 0.931%"
      ],
      "metadata": {
        "id": "HG5QMjofC7Jc"
      }
    },
    {
      "cell_type": "code",
      "source": [
        "E_x2 = 0.07590 * (mean(df[,3])/mean(df[,1])) # Средний коэффициент эластичности для x2\n",
        "round(E_x2,3)"
      ],
      "metadata": {
        "colab": {
          "base_uri": "https://localhost:8080/",
          "height": 34
        },
        "id": "PU4i7pJKDIze",
        "outputId": "d62da8e2-ff4f-4c97-ac2e-0b0f867b0ddc"
      },
      "execution_count": null,
      "outputs": [
        {
          "output_type": "display_data",
          "data": {
            "text/html": [
              "0.01"
            ],
            "text/markdown": "0.01",
            "text/latex": "0.01",
            "text/plain": [
              "[1] 0.01"
            ]
          },
          "metadata": {}
        }
      ]
    },
    {
      "cell_type": "markdown",
      "source": [
        "### С увеличением x2 на 1%, Y увеличится на 0.01%"
      ],
      "metadata": {
        "id": "wDMtx0ooDWOf"
      }
    },
    {
      "cell_type": "markdown",
      "source": [
        "Delta коэф для x1"
      ],
      "metadata": {
        "id": "JkMJH1SYFX25"
      }
    },
    {
      "cell_type": "code",
      "source": [
        "cor_x1_y = cor(df[,1], df[,2])\n",
        "cor_x2_y = cor(df[,1], df[,3])"
      ],
      "metadata": {
        "id": "pi_XPzQ-q7R8"
      },
      "execution_count": null,
      "outputs": []
    },
    {
      "cell_type": "code",
      "source": [
        "delta_coef_x1 = cor_x1_y*(0.73504/0.6563)\n",
        "round(delta_coef_x1,3)"
      ],
      "metadata": {
        "colab": {
          "base_uri": "https://localhost:8080/",
          "height": 34
        },
        "outputId": "229dddb2-7b46-4381-b653-7689e9dd44e1",
        "id": "eCiS9tqdC7Jd"
      },
      "execution_count": null,
      "outputs": [
        {
          "output_type": "display_data",
          "data": {
            "text/html": [
              "0.905"
            ],
            "text/markdown": "0.905",
            "text/latex": "0.905",
            "text/plain": [
              "[1] 0.905"
            ]
          },
          "metadata": {}
        }
      ]
    },
    {
      "cell_type": "markdown",
      "source": [
        "Delta коэф для x2"
      ],
      "metadata": {
        "id": "tIEe031hFcG8"
      }
    },
    {
      "cell_type": "code",
      "source": [
        "delta_coef_x2 = cor_x2_y*(0.07590/0.6563)\n",
        "round(delta_coef_x2,3)"
      ],
      "metadata": {
        "colab": {
          "base_uri": "https://localhost:8080/",
          "height": 34
        },
        "id": "nXxJsj9V_KJP",
        "outputId": "cc168c85-7ea7-4a6d-a2b6-6dc588611cb8"
      },
      "execution_count": null,
      "outputs": [
        {
          "output_type": "display_data",
          "data": {
            "text/html": [
              "0.065"
            ],
            "text/markdown": "0.065",
            "text/latex": "0.065",
            "text/plain": [
              "[1] 0.065"
            ]
          },
          "metadata": {}
        }
      ]
    },
    {
      "cell_type": "markdown",
      "source": [
        "### Дельта коэф показывает среднюю долю влияния соответствующего фактора в совокупном влиянии всех факторов, включённых в модель.\n",
        "### Таким образом x1 оказывает наибольшую долю влияния во множественной моделе регрессии "
      ],
      "metadata": {
        "id": "Imfzb57oA-ba"
      }
    },
    {
      "cell_type": "markdown",
      "source": [
        "##**Итоговый вывод по модели: Так как коэфф детерминации и скорректировннаый коэфф детерминации равны 0.656 и 0.647 соответсвенно и оба меньше 0.7, а средняя относительная ошибка аппроксимации (0.163 %) меньше 5% , то качество модели среднее.**"
      ],
      "metadata": {
        "id": "dZeaGK4xr6pL"
      }
    },
    {
      "cell_type": "markdown",
      "source": [
        "#**Сопоставьте длинную и короткую модели, в качестве короткой модели используйте линейную модель с фактором, который имеют более сильную связь с эндогенной переменной:**"
      ],
      "metadata": {
        "id": "oRG5sc5pFk1y"
      }
    },
    {
      "cell_type": "code",
      "source": [
        "cor_x1_y = cor(df[,1], df[,2])\n",
        "cor_x1_y"
      ],
      "metadata": {
        "colab": {
          "base_uri": "https://localhost:8080/",
          "height": 34
        },
        "id": "skRu9d4htR_5",
        "outputId": "021f8ee4-c8f3-483e-b443-648918e8045e"
      },
      "execution_count": null,
      "outputs": [
        {
          "output_type": "display_data",
          "data": {
            "text/html": [
              "0.808385465473973"
            ],
            "text/markdown": "0.808385465473973",
            "text/latex": "0.808385465473973",
            "text/plain": [
              "[1] 0.8083855"
            ]
          },
          "metadata": {}
        }
      ]
    },
    {
      "cell_type": "code",
      "source": [
        "cor_x2_y = cor(df[,1], df[,3])\n",
        "cor_x2_y"
      ],
      "metadata": {
        "colab": {
          "base_uri": "https://localhost:8080/",
          "height": 34
        },
        "id": "xK11TY8htWfK",
        "outputId": "ad5ca20c-c56d-4c0a-db66-2f56d3328993"
      },
      "execution_count": null,
      "outputs": [
        {
          "output_type": "display_data",
          "data": {
            "text/html": [
              "0.564321027003226"
            ],
            "text/markdown": "0.564321027003226",
            "text/latex": "0.564321027003226",
            "text/plain": [
              "[1] 0.564321"
            ]
          },
          "metadata": {}
        }
      ]
    },
    {
      "cell_type": "markdown",
      "source": [
        "Из полученных парных коэффициентов корреляции можно сделать вывод, что наиболее коррелирует y с фактором x1 => будем строить короткую модель с x1"
      ],
      "metadata": {
        "id": "KQd867IVtSSq"
      }
    },
    {
      "cell_type": "code",
      "source": [
        "model_2 = lm(y ~ x1, data=df)"
      ],
      "metadata": {
        "id": "eukfsuvKt7PZ"
      },
      "execution_count": null,
      "outputs": []
    },
    {
      "cell_type": "code",
      "source": [
        "summary(model_2)"
      ],
      "metadata": {
        "colab": {
          "base_uri": "https://localhost:8080/",
          "height": 329
        },
        "outputId": "2e174c6f-16b9-4375-84c6-73f1ff0d6a49",
        "id": "cHoWgZZAt7Pg"
      },
      "execution_count": null,
      "outputs": [
        {
          "output_type": "display_data",
          "data": {
            "text/plain": [
              "\n",
              "Call:\n",
              "lm(formula = y ~ x1, data = df)\n",
              "\n",
              "Residuals:\n",
              "     Min       1Q   Median       3Q      Max \n",
              "-1.28989 -0.33213 -0.06038  0.43339  1.69660 \n",
              "\n",
              "Coefficients:\n",
              "            Estimate Std. Error t value Pr(>|t|)    \n",
              "(Intercept)  3.85291   23.94801   0.161    0.873    \n",
              "x1           0.77844    0.06634  11.733   <2e-16 ***\n",
              "---\n",
              "Signif. codes:  0 ‘***’ 0.001 ‘**’ 0.01 ‘*’ 0.05 ‘.’ 0.1 ‘ ’ 1\n",
              "\n",
              "Residual standard error: 0.6101 on 73 degrees of freedom\n",
              "Multiple R-squared:  0.6535,\tAdjusted R-squared:  0.6487 \n",
              "F-statistic: 137.7 on 1 and 73 DF,  p-value: < 2.2e-16\n"
            ]
          },
          "metadata": {}
        }
      ]
    },
    {
      "cell_type": "markdown",
      "source": [
        "### Тест на длинную/короткую модель регрессии:"
      ],
      "metadata": {
        "id": "EW_6RQVJvVY8"
      }
    },
    {
      "cell_type": "code",
      "source": [
        "waldtest(model_2, model_1, test = c(\"F\"))"
      ],
      "metadata": {
        "colab": {
          "base_uri": "https://localhost:8080/",
          "height": 161
        },
        "id": "mMboJbIwYDeb",
        "outputId": "386b1828-4bc9-43a4-fa8e-ede8b5d995b5"
      },
      "execution_count": null,
      "outputs": [
        {
          "output_type": "display_data",
          "data": {
            "text/html": [
              "<table class=\"dataframe\">\n",
              "<caption>A anova: 2 × 4</caption>\n",
              "<thead>\n",
              "\t<tr><th></th><th scope=col>Res.Df</th><th scope=col>Df</th><th scope=col>F</th><th scope=col>Pr(&gt;F)</th></tr>\n",
              "\t<tr><th></th><th scope=col>&lt;dbl&gt;</th><th scope=col>&lt;dbl&gt;</th><th scope=col>&lt;dbl&gt;</th><th scope=col>&lt;dbl&gt;</th></tr>\n",
              "</thead>\n",
              "<tbody>\n",
              "\t<tr><th scope=row>1</th><td>73</td><td>NA</td><td>       NA</td><td>       NA</td></tr>\n",
              "\t<tr><th scope=row>2</th><td>72</td><td> 1</td><td>0.5873335</td><td>0.4459576</td></tr>\n",
              "</tbody>\n",
              "</table>\n"
            ],
            "text/markdown": "\nA anova: 2 × 4\n\n| <!--/--> | Res.Df &lt;dbl&gt; | Df &lt;dbl&gt; | F &lt;dbl&gt; | Pr(&gt;F) &lt;dbl&gt; |\n|---|---|---|---|---|\n| 1 | 73 | NA |        NA |        NA |\n| 2 | 72 |  1 | 0.5873335 | 0.4459576 |\n\n",
            "text/latex": "A anova: 2 × 4\n\\begin{tabular}{r|llll}\n  & Res.Df & Df & F & Pr(>F)\\\\\n  & <dbl> & <dbl> & <dbl> & <dbl>\\\\\n\\hline\n\t1 & 73 & NA &        NA &        NA\\\\\n\t2 & 72 &  1 & 0.5873335 & 0.4459576\\\\\n\\end{tabular}\n",
            "text/plain": [
              "  Res.Df Df F         Pr(>F)   \n",
              "1 73     NA        NA        NA\n",
              "2 72      1 0.5873335 0.4459576"
            ]
          },
          "metadata": {}
        }
      ]
    },
    {
      "cell_type": "markdown",
      "source": [
        "### Т.к. P-value > alfa (0.4459576 > 0.05) => H0 верна => Предпочтительнее короткая модель регрессии с x1 \n"
      ],
      "metadata": {
        "id": "r9BZoMnNbxRj"
      }
    },
    {
      "cell_type": "markdown",
      "source": [
        "**Выбранную модель проверяем на наличие пропущенных переменных.**"
      ],
      "metadata": {
        "id": "KtbZQusqa-_9"
      }
    },
    {
      "cell_type": "markdown",
      "source": [
        "**Используя тест Рамсея, проверим нашу модель**"
      ],
      "metadata": {
        "id": "nc6vNey-H0rq"
      }
    },
    {
      "cell_type": "markdown",
      "source": [
        "Строим вспомогательную модель регрессиии от x1 \n",
        "\n",
        "$$ \\hat{\\hat{y_i}} =a+b_1+x_{1i}+b_2\\hat{y_i}^2 +b_3\\hat{y_i}^3$$\n",
        "\n",
        "$$\\hat{y_i} =a+b_1+x_{1i}$$\n",
        "\n",
        "---\n",
        "\n",
        "$$ H_0: b_2=b_3=0 $$\n",
        "\n",
        "$$ H_1: b_2^2=b_3^2=0 $$\n"
      ],
      "metadata": {
        "id": "M8RmY8vAc8_Y"
      }
    },
    {
      "cell_type": "code",
      "source": [
        "resettest(model_2, type=\"regressor\")"
      ],
      "metadata": {
        "colab": {
          "base_uri": "https://localhost:8080/",
          "height": 104
        },
        "id": "uJBBRrLkZ5iC",
        "outputId": "521f02b3-2af8-4491-8f1c-568dc8ee981e"
      },
      "execution_count": null,
      "outputs": [
        {
          "output_type": "display_data",
          "data": {
            "text/plain": [
              "\n",
              "\tRESET test\n",
              "\n",
              "data:  model_2\n",
              "RESET = 0.0037649, df1 = 2, df2 = 71, p-value = 0.9962\n"
            ]
          },
          "metadata": {}
        }
      ]
    },
    {
      "cell_type": "markdown",
      "source": [
        "$$ \\text{Т.к. } p_{value} > alfa \\text{     (0.9962 > 0.05)} => {H_0} \\text{ - верна} => \\text{в модели нет пропущенных факторов} $$\n"
      ],
      "metadata": {
        "id": "cZT6yOf9egXz"
      }
    },
    {
      "cell_type": "code",
      "source": [
        "predict(model_2, newdata = df, interval = \"confidence\") # точечный"
      ],
      "metadata": {
        "colab": {
          "base_uri": "https://localhost:8080/",
          "height": 1000
        },
        "id": "F5Ig-6l9xjl4",
        "outputId": "94d91918-ed19-479a-92e5-6a9e7b140d9b"
      },
      "execution_count": null,
      "outputs": [
        {
          "output_type": "display_data",
          "data": {
            "text/html": [
              "<table class=\"dataframe\">\n",
              "<caption>A matrix: 75 × 3 of type dbl</caption>\n",
              "<thead>\n",
              "\t<tr><th></th><th scope=col>fit</th><th scope=col>lwr</th><th scope=col>upr</th></tr>\n",
              "</thead>\n",
              "<tbody>\n",
              "\t<tr><th scope=row>1</th><td>285.5342</td><td>285.3509</td><td>285.7174</td></tr>\n",
              "\t<tr><th scope=row>2</th><td>284.7196</td><td>284.5777</td><td>284.8615</td></tr>\n",
              "\t<tr><th scope=row>3</th><td>285.3199</td><td>285.1576</td><td>285.4821</td></tr>\n",
              "\t<tr><th scope=row>4</th><td>285.7123</td><td>285.5083</td><td>285.9163</td></tr>\n",
              "\t<tr><th scope=row>5</th><td>283.8855</td><td>283.6709</td><td>284.1001</td></tr>\n",
              "\t<tr><th scope=row>6</th><td>285.3574</td><td>285.1919</td><td>285.5230</td></tr>\n",
              "\t<tr><th scope=row>7</th><td>284.6635</td><td>284.5199</td><td>284.8071</td></tr>\n",
              "\t<tr><th scope=row>8</th><td>285.0977</td><td>284.9507</td><td>285.2447</td></tr>\n",
              "\t<tr><th scope=row>9</th><td>285.5767</td><td>285.3887</td><td>285.7646</td></tr>\n",
              "\t<tr><th scope=row>10</th><td>284.8966</td><td>284.7559</td><td>285.0373</td></tr>\n",
              "\t<tr><th scope=row>11</th><td>284.1013</td><td>283.9129</td><td>284.2897</td></tr>\n",
              "\t<tr><th scope=row>12</th><td>284.0559</td><td>283.8622</td><td>284.2495</td></tr>\n",
              "\t<tr><th scope=row>13</th><td>284.1297</td><td>283.9445</td><td>284.3149</td></tr>\n",
              "\t<tr><th scope=row>14</th><td>284.8619</td><td>284.7214</td><td>285.0023</td></tr>\n",
              "\t<tr><th scope=row>15</th><td>284.2980</td><td>284.1300</td><td>284.4660</td></tr>\n",
              "\t<tr><th scope=row>16</th><td>285.5163</td><td>285.3350</td><td>285.6976</td></tr>\n",
              "\t<tr><th scope=row>17</th><td>284.9131</td><td>284.7722</td><td>285.0541</td></tr>\n",
              "\t<tr><th scope=row>18</th><td>284.5119</td><td>284.3608</td><td>284.6630</td></tr>\n",
              "\t<tr><th scope=row>19</th><td>284.6051</td><td>284.4590</td><td>284.7511</td></tr>\n",
              "\t<tr><th scope=row>20</th><td>285.3868</td><td>285.2185</td><td>285.5550</td></tr>\n",
              "\t<tr><th scope=row>21</th><td>284.2365</td><td>284.0625</td><td>284.4104</td></tr>\n",
              "\t<tr><th scope=row>22</th><td>285.7177</td><td>285.5130</td><td>285.9224</td></tr>\n",
              "\t<tr><th scope=row>23</th><td>285.1848</td><td>285.0327</td><td>285.3368</td></tr>\n",
              "\t<tr><th scope=row>24</th><td>284.1220</td><td>283.9359</td><td>284.3081</td></tr>\n",
              "\t<tr><th scope=row>25</th><td>285.3679</td><td>285.2014</td><td>285.5344</td></tr>\n",
              "\t<tr><th scope=row>26</th><td>284.6325</td><td>284.4877</td><td>284.7773</td></tr>\n",
              "\t<tr><th scope=row>27</th><td>284.4891</td><td>284.3365</td><td>284.6417</td></tr>\n",
              "\t<tr><th scope=row>28</th><td>282.9833</td><td>282.6380</td><td>283.3287</td></tr>\n",
              "\t<tr><th scope=row>29</th><td>286.2447</td><td>285.9680</td><td>286.5214</td></tr>\n",
              "\t<tr><th scope=row>30</th><td>284.6793</td><td>284.5363</td><td>284.8224</td></tr>\n",
              "\t<tr><th scope=row>⋮</th><td>⋮</td><td>⋮</td><td>⋮</td></tr>\n",
              "\t<tr><th scope=row>46</th><td>284.9611</td><td>284.8192</td><td>285.1030</td></tr>\n",
              "\t<tr><th scope=row>47</th><td>284.3003</td><td>284.1325</td><td>284.4681</td></tr>\n",
              "\t<tr><th scope=row>48</th><td>283.4057</td><td>283.1243</td><td>283.6870</td></tr>\n",
              "\t<tr><th scope=row>49</th><td>284.6223</td><td>284.4770</td><td>284.7675</td></tr>\n",
              "\t<tr><th scope=row>50</th><td>284.6435</td><td>284.4992</td><td>284.7879</td></tr>\n",
              "\t<tr><th scope=row>51</th><td>283.4061</td><td>283.1248</td><td>283.6874</td></tr>\n",
              "\t<tr><th scope=row>52</th><td>285.1227</td><td>284.9743</td><td>285.2710</td></tr>\n",
              "\t<tr><th scope=row>53</th><td>285.6419</td><td>285.4464</td><td>285.8374</td></tr>\n",
              "\t<tr><th scope=row>54</th><td>285.2338</td><td>285.0784</td><td>285.3893</td></tr>\n",
              "\t<tr><th scope=row>55</th><td>283.2630</td><td>282.9604</td><td>283.5655</td></tr>\n",
              "\t<tr><th scope=row>56</th><td>284.5344</td><td>284.3846</td><td>284.6841</td></tr>\n",
              "\t<tr><th scope=row>57</th><td>285.9783</td><td>285.7395</td><td>286.2171</td></tr>\n",
              "\t<tr><th scope=row>58</th><td>284.6882</td><td>284.5455</td><td>284.8310</td></tr>\n",
              "\t<tr><th scope=row>59</th><td>286.1799</td><td>285.9126</td><td>286.4471</td></tr>\n",
              "\t<tr><th scope=row>60</th><td>284.7818</td><td>284.6411</td><td>284.9226</td></tr>\n",
              "\t<tr><th scope=row>61</th><td>284.2504</td><td>284.0778</td><td>284.4229</td></tr>\n",
              "\t<tr><th scope=row>62</th><td>284.4666</td><td>284.3124</td><td>284.6207</td></tr>\n",
              "\t<tr><th scope=row>63</th><td>285.6125</td><td>285.4205</td><td>285.8046</td></tr>\n",
              "\t<tr><th scope=row>64</th><td>284.3603</td><td>284.1979</td><td>284.5227</td></tr>\n",
              "\t<tr><th scope=row>65</th><td>285.8946</td><td>285.6671</td><td>286.1220</td></tr>\n",
              "\t<tr><th scope=row>66</th><td>284.3801</td><td>284.2194</td><td>284.5409</td></tr>\n",
              "\t<tr><th scope=row>67</th><td>284.0351</td><td>283.8390</td><td>284.2311</td></tr>\n",
              "\t<tr><th scope=row>68</th><td>285.5197</td><td>285.3380</td><td>285.7013</td></tr>\n",
              "\t<tr><th scope=row>69</th><td>286.0385</td><td>285.7914</td><td>286.2857</td></tr>\n",
              "\t<tr><th scope=row>70</th><td>285.8205</td><td>285.6028</td><td>286.0382</td></tr>\n",
              "\t<tr><th scope=row>71</th><td>285.1104</td><td>284.9627</td><td>285.2581</td></tr>\n",
              "\t<tr><th scope=row>72</th><td>284.3203</td><td>284.1544</td><td>284.4863</td></tr>\n",
              "\t<tr><th scope=row>73</th><td>284.5668</td><td>284.4189</td><td>284.7147</td></tr>\n",
              "\t<tr><th scope=row>74</th><td>284.1279</td><td>283.9424</td><td>284.3133</td></tr>\n",
              "\t<tr><th scope=row>75</th><td>286.5303</td><td>286.2109</td><td>286.8498</td></tr>\n",
              "</tbody>\n",
              "</table>\n"
            ],
            "text/markdown": "\nA matrix: 75 × 3 of type dbl\n\n| <!--/--> | fit | lwr | upr |\n|---|---|---|---|\n| 1 | 285.5342 | 285.3509 | 285.7174 |\n| 2 | 284.7196 | 284.5777 | 284.8615 |\n| 3 | 285.3199 | 285.1576 | 285.4821 |\n| 4 | 285.7123 | 285.5083 | 285.9163 |\n| 5 | 283.8855 | 283.6709 | 284.1001 |\n| 6 | 285.3574 | 285.1919 | 285.5230 |\n| 7 | 284.6635 | 284.5199 | 284.8071 |\n| 8 | 285.0977 | 284.9507 | 285.2447 |\n| 9 | 285.5767 | 285.3887 | 285.7646 |\n| 10 | 284.8966 | 284.7559 | 285.0373 |\n| 11 | 284.1013 | 283.9129 | 284.2897 |\n| 12 | 284.0559 | 283.8622 | 284.2495 |\n| 13 | 284.1297 | 283.9445 | 284.3149 |\n| 14 | 284.8619 | 284.7214 | 285.0023 |\n| 15 | 284.2980 | 284.1300 | 284.4660 |\n| 16 | 285.5163 | 285.3350 | 285.6976 |\n| 17 | 284.9131 | 284.7722 | 285.0541 |\n| 18 | 284.5119 | 284.3608 | 284.6630 |\n| 19 | 284.6051 | 284.4590 | 284.7511 |\n| 20 | 285.3868 | 285.2185 | 285.5550 |\n| 21 | 284.2365 | 284.0625 | 284.4104 |\n| 22 | 285.7177 | 285.5130 | 285.9224 |\n| 23 | 285.1848 | 285.0327 | 285.3368 |\n| 24 | 284.1220 | 283.9359 | 284.3081 |\n| 25 | 285.3679 | 285.2014 | 285.5344 |\n| 26 | 284.6325 | 284.4877 | 284.7773 |\n| 27 | 284.4891 | 284.3365 | 284.6417 |\n| 28 | 282.9833 | 282.6380 | 283.3287 |\n| 29 | 286.2447 | 285.9680 | 286.5214 |\n| 30 | 284.6793 | 284.5363 | 284.8224 |\n| ⋮ | ⋮ | ⋮ | ⋮ |\n| 46 | 284.9611 | 284.8192 | 285.1030 |\n| 47 | 284.3003 | 284.1325 | 284.4681 |\n| 48 | 283.4057 | 283.1243 | 283.6870 |\n| 49 | 284.6223 | 284.4770 | 284.7675 |\n| 50 | 284.6435 | 284.4992 | 284.7879 |\n| 51 | 283.4061 | 283.1248 | 283.6874 |\n| 52 | 285.1227 | 284.9743 | 285.2710 |\n| 53 | 285.6419 | 285.4464 | 285.8374 |\n| 54 | 285.2338 | 285.0784 | 285.3893 |\n| 55 | 283.2630 | 282.9604 | 283.5655 |\n| 56 | 284.5344 | 284.3846 | 284.6841 |\n| 57 | 285.9783 | 285.7395 | 286.2171 |\n| 58 | 284.6882 | 284.5455 | 284.8310 |\n| 59 | 286.1799 | 285.9126 | 286.4471 |\n| 60 | 284.7818 | 284.6411 | 284.9226 |\n| 61 | 284.2504 | 284.0778 | 284.4229 |\n| 62 | 284.4666 | 284.3124 | 284.6207 |\n| 63 | 285.6125 | 285.4205 | 285.8046 |\n| 64 | 284.3603 | 284.1979 | 284.5227 |\n| 65 | 285.8946 | 285.6671 | 286.1220 |\n| 66 | 284.3801 | 284.2194 | 284.5409 |\n| 67 | 284.0351 | 283.8390 | 284.2311 |\n| 68 | 285.5197 | 285.3380 | 285.7013 |\n| 69 | 286.0385 | 285.7914 | 286.2857 |\n| 70 | 285.8205 | 285.6028 | 286.0382 |\n| 71 | 285.1104 | 284.9627 | 285.2581 |\n| 72 | 284.3203 | 284.1544 | 284.4863 |\n| 73 | 284.5668 | 284.4189 | 284.7147 |\n| 74 | 284.1279 | 283.9424 | 284.3133 |\n| 75 | 286.5303 | 286.2109 | 286.8498 |\n\n",
            "text/latex": "A matrix: 75 × 3 of type dbl\n\\begin{tabular}{r|lll}\n  & fit & lwr & upr\\\\\n\\hline\n\t1 & 285.5342 & 285.3509 & 285.7174\\\\\n\t2 & 284.7196 & 284.5777 & 284.8615\\\\\n\t3 & 285.3199 & 285.1576 & 285.4821\\\\\n\t4 & 285.7123 & 285.5083 & 285.9163\\\\\n\t5 & 283.8855 & 283.6709 & 284.1001\\\\\n\t6 & 285.3574 & 285.1919 & 285.5230\\\\\n\t7 & 284.6635 & 284.5199 & 284.8071\\\\\n\t8 & 285.0977 & 284.9507 & 285.2447\\\\\n\t9 & 285.5767 & 285.3887 & 285.7646\\\\\n\t10 & 284.8966 & 284.7559 & 285.0373\\\\\n\t11 & 284.1013 & 283.9129 & 284.2897\\\\\n\t12 & 284.0559 & 283.8622 & 284.2495\\\\\n\t13 & 284.1297 & 283.9445 & 284.3149\\\\\n\t14 & 284.8619 & 284.7214 & 285.0023\\\\\n\t15 & 284.2980 & 284.1300 & 284.4660\\\\\n\t16 & 285.5163 & 285.3350 & 285.6976\\\\\n\t17 & 284.9131 & 284.7722 & 285.0541\\\\\n\t18 & 284.5119 & 284.3608 & 284.6630\\\\\n\t19 & 284.6051 & 284.4590 & 284.7511\\\\\n\t20 & 285.3868 & 285.2185 & 285.5550\\\\\n\t21 & 284.2365 & 284.0625 & 284.4104\\\\\n\t22 & 285.7177 & 285.5130 & 285.9224\\\\\n\t23 & 285.1848 & 285.0327 & 285.3368\\\\\n\t24 & 284.1220 & 283.9359 & 284.3081\\\\\n\t25 & 285.3679 & 285.2014 & 285.5344\\\\\n\t26 & 284.6325 & 284.4877 & 284.7773\\\\\n\t27 & 284.4891 & 284.3365 & 284.6417\\\\\n\t28 & 282.9833 & 282.6380 & 283.3287\\\\\n\t29 & 286.2447 & 285.9680 & 286.5214\\\\\n\t30 & 284.6793 & 284.5363 & 284.8224\\\\\n\t⋮ & ⋮ & ⋮ & ⋮\\\\\n\t46 & 284.9611 & 284.8192 & 285.1030\\\\\n\t47 & 284.3003 & 284.1325 & 284.4681\\\\\n\t48 & 283.4057 & 283.1243 & 283.6870\\\\\n\t49 & 284.6223 & 284.4770 & 284.7675\\\\\n\t50 & 284.6435 & 284.4992 & 284.7879\\\\\n\t51 & 283.4061 & 283.1248 & 283.6874\\\\\n\t52 & 285.1227 & 284.9743 & 285.2710\\\\\n\t53 & 285.6419 & 285.4464 & 285.8374\\\\\n\t54 & 285.2338 & 285.0784 & 285.3893\\\\\n\t55 & 283.2630 & 282.9604 & 283.5655\\\\\n\t56 & 284.5344 & 284.3846 & 284.6841\\\\\n\t57 & 285.9783 & 285.7395 & 286.2171\\\\\n\t58 & 284.6882 & 284.5455 & 284.8310\\\\\n\t59 & 286.1799 & 285.9126 & 286.4471\\\\\n\t60 & 284.7818 & 284.6411 & 284.9226\\\\\n\t61 & 284.2504 & 284.0778 & 284.4229\\\\\n\t62 & 284.4666 & 284.3124 & 284.6207\\\\\n\t63 & 285.6125 & 285.4205 & 285.8046\\\\\n\t64 & 284.3603 & 284.1979 & 284.5227\\\\\n\t65 & 285.8946 & 285.6671 & 286.1220\\\\\n\t66 & 284.3801 & 284.2194 & 284.5409\\\\\n\t67 & 284.0351 & 283.8390 & 284.2311\\\\\n\t68 & 285.5197 & 285.3380 & 285.7013\\\\\n\t69 & 286.0385 & 285.7914 & 286.2857\\\\\n\t70 & 285.8205 & 285.6028 & 286.0382\\\\\n\t71 & 285.1104 & 284.9627 & 285.2581\\\\\n\t72 & 284.3203 & 284.1544 & 284.4863\\\\\n\t73 & 284.5668 & 284.4189 & 284.7147\\\\\n\t74 & 284.1279 & 283.9424 & 284.3133\\\\\n\t75 & 286.5303 & 286.2109 & 286.8498\\\\\n\\end{tabular}\n",
            "text/plain": [
              "   fit      lwr      upr     \n",
              "1  285.5342 285.3509 285.7174\n",
              "2  284.7196 284.5777 284.8615\n",
              "3  285.3199 285.1576 285.4821\n",
              "4  285.7123 285.5083 285.9163\n",
              "5  283.8855 283.6709 284.1001\n",
              "6  285.3574 285.1919 285.5230\n",
              "7  284.6635 284.5199 284.8071\n",
              "8  285.0977 284.9507 285.2447\n",
              "9  285.5767 285.3887 285.7646\n",
              "10 284.8966 284.7559 285.0373\n",
              "11 284.1013 283.9129 284.2897\n",
              "12 284.0559 283.8622 284.2495\n",
              "13 284.1297 283.9445 284.3149\n",
              "14 284.8619 284.7214 285.0023\n",
              "15 284.2980 284.1300 284.4660\n",
              "16 285.5163 285.3350 285.6976\n",
              "17 284.9131 284.7722 285.0541\n",
              "18 284.5119 284.3608 284.6630\n",
              "19 284.6051 284.4590 284.7511\n",
              "20 285.3868 285.2185 285.5550\n",
              "21 284.2365 284.0625 284.4104\n",
              "22 285.7177 285.5130 285.9224\n",
              "23 285.1848 285.0327 285.3368\n",
              "24 284.1220 283.9359 284.3081\n",
              "25 285.3679 285.2014 285.5344\n",
              "26 284.6325 284.4877 284.7773\n",
              "27 284.4891 284.3365 284.6417\n",
              "28 282.9833 282.6380 283.3287\n",
              "29 286.2447 285.9680 286.5214\n",
              "30 284.6793 284.5363 284.8224\n",
              "⋮  ⋮        ⋮        ⋮       \n",
              "46 284.9611 284.8192 285.1030\n",
              "47 284.3003 284.1325 284.4681\n",
              "48 283.4057 283.1243 283.6870\n",
              "49 284.6223 284.4770 284.7675\n",
              "50 284.6435 284.4992 284.7879\n",
              "51 283.4061 283.1248 283.6874\n",
              "52 285.1227 284.9743 285.2710\n",
              "53 285.6419 285.4464 285.8374\n",
              "54 285.2338 285.0784 285.3893\n",
              "55 283.2630 282.9604 283.5655\n",
              "56 284.5344 284.3846 284.6841\n",
              "57 285.9783 285.7395 286.2171\n",
              "58 284.6882 284.5455 284.8310\n",
              "59 286.1799 285.9126 286.4471\n",
              "60 284.7818 284.6411 284.9226\n",
              "61 284.2504 284.0778 284.4229\n",
              "62 284.4666 284.3124 284.6207\n",
              "63 285.6125 285.4205 285.8046\n",
              "64 284.3603 284.1979 284.5227\n",
              "65 285.8946 285.6671 286.1220\n",
              "66 284.3801 284.2194 284.5409\n",
              "67 284.0351 283.8390 284.2311\n",
              "68 285.5197 285.3380 285.7013\n",
              "69 286.0385 285.7914 286.2857\n",
              "70 285.8205 285.6028 286.0382\n",
              "71 285.1104 284.9627 285.2581\n",
              "72 284.3203 284.1544 284.4863\n",
              "73 284.5668 284.4189 284.7147\n",
              "74 284.1279 283.9424 284.3133\n",
              "75 286.5303 286.2109 286.8498"
            ]
          },
          "metadata": {}
        }
      ]
    }
  ]
}