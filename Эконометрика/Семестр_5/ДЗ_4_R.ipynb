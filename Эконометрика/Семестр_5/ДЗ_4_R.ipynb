{
  "nbformat": 4,
  "nbformat_minor": 0,
  "metadata": {
    "colab": {
      "provenance": []
    },
    "kernelspec": {
      "name": "ir",
      "display_name": "R"
    },
    "language_info": {
      "name": "R"
    }
  },
  "cells": [
    {
      "cell_type": "markdown",
      "source": [
        "# Домашнее задание 4 по теме:\n",
        "# «Предпосылки Гаусса-Маркова. Проверка нормальности случайных отклонений»"
      ],
      "metadata": {
        "id": "99CqHvYTT19e"
      }
    },
    {
      "cell_type": "markdown",
      "source": [
        "# Выполнил:\n",
        "# Радайкин Артём, ПМ20-4 "
      ],
      "metadata": {
        "id": "zSTT2Zl8FQF2"
      }
    },
    {
      "cell_type": "markdown",
      "source": [
        "## Загружаем данные"
      ],
      "metadata": {
        "id": "aO90CBMFXQxg"
      }
    },
    {
      "cell_type": "code",
      "source": [
        "install.packages('stats')\n",
        "library('stats')\n",
        "\n",
        "install.packages('tseries')\n",
        "library('tseries')\n",
        "\n",
        "install.packages('nortest')\n",
        "library('nortest')\n",
        "\n",
        "library('lmtest')"
      ],
      "metadata": {
        "colab": {
          "base_uri": "https://localhost:8080/"
        },
        "id": "AvLVFmhsZnUp",
        "outputId": "f7893e3d-18f9-476a-ebb0-cfd013cbbd11"
      },
      "execution_count": null,
      "outputs": [
        {
          "output_type": "stream",
          "name": "stderr",
          "text": [
            "Installing package into ‘/usr/local/lib/R/site-library’\n",
            "(as ‘lib’ is unspecified)\n",
            "\n",
            "Warning message:\n",
            "“package ‘stats’ is a base package, and should not be updated”\n",
            "Installing package into ‘/usr/local/lib/R/site-library’\n",
            "(as ‘lib’ is unspecified)\n",
            "\n",
            "Installing package into ‘/usr/local/lib/R/site-library’\n",
            "(as ‘lib’ is unspecified)\n",
            "\n"
          ]
        }
      ]
    },
    {
      "cell_type": "code",
      "source": [
        "df = read.table('Данные_дз_4.txt', header=TRUE, sep='\\t', dec=',', encoding='UTF-8')\n",
        "head(df,n=5)"
      ],
      "metadata": {
        "id": "JwSfFvB1qIUb",
        "colab": {
          "base_uri": "https://localhost:8080/",
          "height": 255
        },
        "outputId": "9ed0f12e-3fec-4541-9d46-01a821232cbe"
      },
      "execution_count": null,
      "outputs": [
        {
          "output_type": "display_data",
          "data": {
            "text/html": [
              "<table class=\"dataframe\">\n",
              "<caption>A data.frame: 5 × 3</caption>\n",
              "<thead>\n",
              "\t<tr><th></th><th scope=col>Year</th><th scope=col>X</th><th scope=col>Y</th></tr>\n",
              "\t<tr><th></th><th scope=col>&lt;int&gt;</th><th scope=col>&lt;dbl&gt;</th><th scope=col>&lt;dbl&gt;</th></tr>\n",
              "</thead>\n",
              "<tbody>\n",
              "\t<tr><th scope=row>1</th><td>2000</td><td>4.0</td><td>4.0771595</td></tr>\n",
              "\t<tr><th scope=row>2</th><td>2001</td><td>4.7</td><td>0.9543387</td></tr>\n",
              "\t<tr><th scope=row>3</th><td>2002</td><td>5.8</td><td>1.6959429</td></tr>\n",
              "\t<tr><th scope=row>4</th><td>2003</td><td>6.0</td><td>2.7962091</td></tr>\n",
              "\t<tr><th scope=row>5</th><td>2004</td><td>5.5</td><td>3.8525526</td></tr>\n",
              "</tbody>\n",
              "</table>\n"
            ],
            "text/markdown": "\nA data.frame: 5 × 3\n\n| <!--/--> | Year &lt;int&gt; | X &lt;dbl&gt; | Y &lt;dbl&gt; |\n|---|---|---|---|\n| 1 | 2000 | 4.0 | 4.0771595 |\n| 2 | 2001 | 4.7 | 0.9543387 |\n| 3 | 2002 | 5.8 | 1.6959429 |\n| 4 | 2003 | 6.0 | 2.7962091 |\n| 5 | 2004 | 5.5 | 3.8525526 |\n\n",
            "text/latex": "A data.frame: 5 × 3\n\\begin{tabular}{r|lll}\n  & Year & X & Y\\\\\n  & <int> & <dbl> & <dbl>\\\\\n\\hline\n\t1 & 2000 & 4.0 & 4.0771595\\\\\n\t2 & 2001 & 4.7 & 0.9543387\\\\\n\t3 & 2002 & 5.8 & 1.6959429\\\\\n\t4 & 2003 & 6.0 & 2.7962091\\\\\n\t5 & 2004 & 5.5 & 3.8525526\\\\\n\\end{tabular}\n",
            "text/plain": [
              "  Year X   Y        \n",
              "1 2000 4.0 4.0771595\n",
              "2 2001 4.7 0.9543387\n",
              "3 2002 5.8 1.6959429\n",
              "4 2003 6.0 2.7962091\n",
              "5 2004 5.5 3.8525526"
            ]
          },
          "metadata": {}
        }
      ]
    },
    {
      "cell_type": "markdown",
      "source": [
        "# Задания:"
      ],
      "metadata": {
        "id": "7-XQvY_7Ny8g"
      }
    },
    {
      "cell_type": "code",
      "source": [
        "# Тест Шапиро-Уилка\n",
        "# library(stats)\n",
        "# shapiro.test\n",
        "\n",
        "# Тест Харке-Бера\n",
        "# library(tseries)\n",
        "# jarque.bera.test\n",
        "\n",
        "# Критерий согласия Пирсона\n",
        "# library(nortest)\n",
        "# pearson.test"
      ],
      "metadata": {
        "id": "okxIOyT00hPX"
      },
      "execution_count": null,
      "outputs": []
    },
    {
      "cell_type": "code",
      "source": [
        "model = lm(Y ~ X, data=df)"
      ],
      "metadata": {
        "id": "Y1IY51B1142e"
      },
      "execution_count": null,
      "outputs": []
    },
    {
      "cell_type": "code",
      "source": [
        "summary(model)"
      ],
      "metadata": {
        "colab": {
          "base_uri": "https://localhost:8080/",
          "height": 329
        },
        "id": "5fQHX3hA4CGR",
        "outputId": "78f045b0-8c84-477c-db6b-c7b277237cb7"
      },
      "execution_count": null,
      "outputs": [
        {
          "output_type": "display_data",
          "data": {
            "text/plain": [
              "\n",
              "Call:\n",
              "lm(formula = Y ~ X, data = df)\n",
              "\n",
              "Residuals:\n",
              "    Min      1Q  Median      3Q     Max \n",
              "-4.6362 -0.3737  0.4129  0.8816  1.9650 \n",
              "\n",
              "Coefficients:\n",
              "            Estimate Std. Error t value Pr(>|t|)  \n",
              "(Intercept)   3.8658     1.3928   2.776   0.0141 *\n",
              "X            -0.3252     0.2277  -1.428   0.1737  \n",
              "---\n",
              "Signif. codes:  0 ‘***’ 0.001 ‘**’ 0.01 ‘*’ 0.05 ‘.’ 0.1 ‘ ’ 1\n",
              "\n",
              "Residual standard error: 1.63 on 15 degrees of freedom\n",
              "Multiple R-squared:  0.1197,\tAdjusted R-squared:  0.06101 \n",
              "F-statistic:  2.04 on 1 and 15 DF,  p-value: 0.1737\n"
            ]
          },
          "metadata": {}
        }
      ]
    },
    {
      "cell_type": "code",
      "source": [
        "yi_hat = predict(model)\n",
        "vector_Se = yi_hat - df[,3]"
      ],
      "metadata": {
        "id": "2XTCNxSC4c-4"
      },
      "execution_count": null,
      "outputs": []
    },
    {
      "cell_type": "markdown",
      "source": [
        "# Тест Шапиро-Уилка"
      ],
      "metadata": {
        "id": "-h18tZBW4ZUD"
      }
    },
    {
      "cell_type": "code",
      "source": [
        "shapiro.test(vector_Se)"
      ],
      "metadata": {
        "colab": {
          "base_uri": "https://localhost:8080/",
          "height": 104
        },
        "id": "4s-AeXPL4HRM",
        "outputId": "616b0a8a-23dd-4cf4-c59c-105bd8811e03"
      },
      "execution_count": null,
      "outputs": [
        {
          "output_type": "display_data",
          "data": {
            "text/plain": [
              "\n",
              "\tShapiro-Wilk normality test\n",
              "\n",
              "data:  vector_Se\n",
              "W = 0.87113, p-value = 0.0229\n"
            ]
          },
          "metadata": {}
        }
      ]
    },
    {
      "cell_type": "markdown",
      "source": [
        "# Тест Харке-Бера"
      ],
      "metadata": {
        "id": "Vr42nokr5G69"
      }
    },
    {
      "cell_type": "code",
      "source": [
        "jarque.bera.test(vector_Se)"
      ],
      "metadata": {
        "colab": {
          "base_uri": "https://localhost:8080/",
          "height": 104
        },
        "id": "cE5-U_Fr5GLl",
        "outputId": "29d0746d-9d4d-4ad8-c318-189a12dc5314"
      },
      "execution_count": null,
      "outputs": [
        {
          "output_type": "display_data",
          "data": {
            "text/plain": [
              "\n",
              "\tJarque Bera Test\n",
              "\n",
              "data:  vector_Se\n",
              "X-squared = 10.423, df = 2, p-value = 0.005454\n"
            ]
          },
          "metadata": {}
        }
      ]
    },
    {
      "cell_type": "markdown",
      "source": [
        "# Критерий согласия Пирсона"
      ],
      "metadata": {
        "id": "z1183b6U5RJp"
      }
    },
    {
      "cell_type": "code",
      "source": [
        "pearson.test(vector_Se)"
      ],
      "metadata": {
        "colab": {
          "base_uri": "https://localhost:8080/",
          "height": 104
        },
        "id": "XWvurSmM5RYR",
        "outputId": "f2eec0c4-fdd6-4d85-cc3b-39ba5d5bbe95"
      },
      "execution_count": null,
      "outputs": [
        {
          "output_type": "display_data",
          "data": {
            "text/plain": [
              "\n",
              "\tPearson chi-square normality test\n",
              "\n",
              "data:  vector_Se\n",
              "P = 7.2941, p-value = 0.1211\n"
            ]
          },
          "metadata": {}
        }
      ]
    },
    {
      "cell_type": "markdown",
      "source": [
        "## **Выводы:**\n",
        "Т.к. наши данные содержат выборку только за 17 лет о уровне безработицы и о росте ВВП => размер выборки слишком мал (<50) и при примении критерия Пирсона (X^2) эмпирические частоты могут оказаться заниженными, в результате чего \n",
        "будет получен некорректный результат. Это подверждают и наши результаты, только у критерия Пирсона p-value = 0.1211 > 0.05 и соответсвенно гипотеза H0 о том, что вектор случайных отклонений модели имеет нормальное распределение -  принимается. При использовании двух других тестов p-value < 0.05 и гипотеза отвергается. "
      ],
      "metadata": {
        "id": "L9QUxGjL6jCz"
      }
    },
    {
      "cell_type": "markdown",
      "source": [
        "Тест Шапиро-Уилка будет лучше всего подходить для нашей задачи, т.к. данные измерены в количественной шкале, а также объём выборки небольшой, < 50.\n",
        "По результатам этого теста p-value = 0.0229 < 0.05 и гипотеза H0 о том, что вектор случайных отклонений модели имеет нормальное распределение - отвергается. Это и будет мой окончательный вывод по данной задаче. "
      ],
      "metadata": {
        "id": "R0CilDuZ91uk"
      }
    },
    {
      "cell_type": "code",
      "source": [],
      "metadata": {
        "id": "BGDhcnm49z1d"
      },
      "execution_count": null,
      "outputs": []
    }
  ]
}