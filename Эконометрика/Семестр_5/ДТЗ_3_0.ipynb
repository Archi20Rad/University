{
  "nbformat": 4,
  "nbformat_minor": 0,
  "metadata": {
    "colab": {
      "provenance": []
    },
    "kernelspec": {
      "name": "python3",
      "display_name": "Python 3"
    },
    "language_info": {
      "name": "python"
    },
    "widgets": {
      "application/vnd.jupyter.widget-state+json": {
        "aa40dc497cff4a9f957c1292621d61e6": {
          "model_module": "catboost-widget",
          "model_name": "CatboostWidgetModel",
          "model_module_version": "^1.0.0",
          "state": {
            "_dom_classes": [],
            "_model_module": "catboost-widget",
            "_model_module_version": "^1.0.0",
            "_model_name": "CatboostWidgetModel",
            "_view_count": null,
            "_view_module": "catboost-widget",
            "_view_module_version": "^1.0.0",
            "_view_name": "CatboostWidgetView",
            "data": {
              "catboost_info": {
                "path": "catboost_info",
                "name": "catboost_info",
                "content": {
                  "passed_iterations": 199,
                  "total_iterations": 200,
                  "data": {
                    "iterations": [
                      {
                        "learn": [
                          0.7564950539
                        ],
                        "iteration": 0,
                        "passed_time": 0.002969915534,
                        "remaining_time": 0.5910131913,
                        "test": [
                          0.7361184599
                        ]
                      },
                      {
                        "learn": [
                          0.7405092732
                        ],
                        "iteration": 1,
                        "passed_time": 0.005497940188,
                        "remaining_time": 0.5442960787,
                        "test": [
                          0.7188166386
                        ]
                      },
                      {
                        "learn": [
                          0.7257940733
                        ],
                        "iteration": 2,
                        "passed_time": 0.006371941935,
                        "remaining_time": 0.418424187,
                        "test": [
                          0.7032861124
                        ]
                      },
                      {
                        "learn": [
                          0.7130086239
                        ],
                        "iteration": 3,
                        "passed_time": 0.007129983064,
                        "remaining_time": 0.3493691701,
                        "test": [
                          0.689000647
                        ]
                      },
                      {
                        "learn": [
                          0.7000358078
                        ],
                        "iteration": 4,
                        "passed_time": 0.009702398006,
                        "remaining_time": 0.3783935222,
                        "test": [
                          0.6748410078
                        ]
                      },
                      {
                        "learn": [
                          0.6889028519
                        ],
                        "iteration": 5,
                        "passed_time": 0.01134592134,
                        "remaining_time": 0.3668514567,
                        "test": [
                          0.6613384265
                        ]
                      },
                      {
                        "learn": [
                          0.6770659395
                        ],
                        "iteration": 6,
                        "passed_time": 0.01380392589,
                        "remaining_time": 0.3805939567,
                        "test": [
                          0.6490057467
                        ]
                      },
                      {
                        "learn": [
                          0.6667665964
                        ],
                        "iteration": 7,
                        "passed_time": 0.0155788592,
                        "remaining_time": 0.3738926209,
                        "test": [
                          0.6377842702
                        ]
                      },
                      {
                        "learn": [
                          0.6574790219
                        ],
                        "iteration": 8,
                        "passed_time": 0.01871757499,
                        "remaining_time": 0.3972285359,
                        "test": [
                          0.6285446493
                        ]
                      },
                      {
                        "learn": [
                          0.6500283539
                        ],
                        "iteration": 9,
                        "passed_time": 0.01997495775,
                        "remaining_time": 0.3795241973,
                        "test": [
                          0.6200717768
                        ]
                      },
                      {
                        "learn": [
                          0.6406442612
                        ],
                        "iteration": 10,
                        "passed_time": 0.02285272292,
                        "remaining_time": 0.3926513303,
                        "test": [
                          0.6108930704
                        ]
                      },
                      {
                        "learn": [
                          0.6330365037
                        ],
                        "iteration": 11,
                        "passed_time": 0.02420950539,
                        "remaining_time": 0.3792822511,
                        "test": [
                          0.6022232909
                        ]
                      },
                      {
                        "learn": [
                          0.6266896077
                        ],
                        "iteration": 12,
                        "passed_time": 0.02601477875,
                        "remaining_time": 0.3742125866,
                        "test": [
                          0.5958118982
                        ]
                      },
                      {
                        "learn": [
                          0.6191990571
                        ],
                        "iteration": 13,
                        "passed_time": 0.02859999371,
                        "remaining_time": 0.379971345,
                        "test": [
                          0.5893670373
                        ]
                      },
                      {
                        "learn": [
                          0.6113975637
                        ],
                        "iteration": 14,
                        "passed_time": 0.03118637845,
                        "remaining_time": 0.3846320009,
                        "test": [
                          0.581745647
                        ]
                      },
                      {
                        "learn": [
                          0.6047878055
                        ],
                        "iteration": 15,
                        "passed_time": 0.03245857056,
                        "remaining_time": 0.3732735615,
                        "test": [
                          0.5749246034
                        ]
                      },
                      {
                        "learn": [
                          0.5983847637
                        ],
                        "iteration": 16,
                        "passed_time": 0.03597792736,
                        "remaining_time": 0.3872918063,
                        "test": [
                          0.5680848733
                        ]
                      },
                      {
                        "learn": [
                          0.5931872761
                        ],
                        "iteration": 17,
                        "passed_time": 0.04040531573,
                        "remaining_time": 0.4085426369,
                        "test": [
                          0.562504899
                        ]
                      },
                      {
                        "learn": [
                          0.5878725322
                        ],
                        "iteration": 18,
                        "passed_time": 0.04359520182,
                        "remaining_time": 0.4153016594,
                        "test": [
                          0.5570055624
                        ]
                      },
                      {
                        "learn": [
                          0.5823577148
                        ],
                        "iteration": 19,
                        "passed_time": 0.04629343695,
                        "remaining_time": 0.4166409325,
                        "test": [
                          0.5516181066
                        ]
                      },
                      {
                        "learn": [
                          0.5780797767
                        ],
                        "iteration": 20,
                        "passed_time": 0.04897594183,
                        "remaining_time": 0.4174615994,
                        "test": [
                          0.5473678139
                        ]
                      },
                      {
                        "learn": [
                          0.5736927791
                        ],
                        "iteration": 21,
                        "passed_time": 0.05160606664,
                        "remaining_time": 0.4175399937,
                        "test": [
                          0.5441257505
                        ]
                      },
                      {
                        "learn": [
                          0.5700714519
                        ],
                        "iteration": 22,
                        "passed_time": 0.05378019077,
                        "remaining_time": 0.413873642,
                        "test": [
                          0.5402798404
                        ]
                      },
                      {
                        "learn": [
                          0.5663993661
                        ],
                        "iteration": 23,
                        "passed_time": 0.05680160682,
                        "remaining_time": 0.4165451167,
                        "test": [
                          0.5363320272
                        ]
                      },
                      {
                        "learn": [
                          0.5625750541
                        ],
                        "iteration": 24,
                        "passed_time": 0.05968009244,
                        "remaining_time": 0.4177606471,
                        "test": [
                          0.5332595734
                        ]
                      },
                      {
                        "learn": [
                          0.5585152316
                        ],
                        "iteration": 25,
                        "passed_time": 0.06222924735,
                        "remaining_time": 0.4164572707,
                        "test": [
                          0.529290964
                        ]
                      },
                      {
                        "learn": [
                          0.5555571648
                        ],
                        "iteration": 26,
                        "passed_time": 0.0654673735,
                        "remaining_time": 0.4194761339,
                        "test": [
                          0.5264722811
                        ]
                      },
                      {
                        "learn": [
                          0.5523448846
                        ],
                        "iteration": 27,
                        "passed_time": 0.06807627872,
                        "remaining_time": 0.418182855,
                        "test": [
                          0.523533439
                        ]
                      },
                      {
                        "learn": [
                          0.5485892311
                        ],
                        "iteration": 28,
                        "passed_time": 0.07035804301,
                        "remaining_time": 0.4148698398,
                        "test": [
                          0.5198877681
                        ]
                      },
                      {
                        "learn": [
                          0.5451219085
                        ],
                        "iteration": 29,
                        "passed_time": 0.07322834817,
                        "remaining_time": 0.4149606397,
                        "test": [
                          0.5174277546
                        ]
                      },
                      {
                        "learn": [
                          0.5421118801
                        ],
                        "iteration": 30,
                        "passed_time": 0.0758437934,
                        "remaining_time": 0.4134710027,
                        "test": [
                          0.5147793188
                        ]
                      },
                      {
                        "learn": [
                          0.5385875167
                        ],
                        "iteration": 31,
                        "passed_time": 0.07883992898,
                        "remaining_time": 0.4139096271,
                        "test": [
                          0.5114790064
                        ]
                      },
                      {
                        "learn": [
                          0.5364664382
                        ],
                        "iteration": 32,
                        "passed_time": 0.08142254349,
                        "remaining_time": 0.4120474171,
                        "test": [
                          0.5093389508
                        ]
                      },
                      {
                        "learn": [
                          0.5320115755
                        ],
                        "iteration": 33,
                        "passed_time": 0.08403470871,
                        "remaining_time": 0.4102871073,
                        "test": [
                          0.5053037738
                        ]
                      },
                      {
                        "learn": [
                          0.5291990791
                        ],
                        "iteration": 34,
                        "passed_time": 0.08661028366,
                        "remaining_time": 0.408305623,
                        "test": [
                          0.5028285972
                        ]
                      },
                      {
                        "learn": [
                          0.5279236544
                        ],
                        "iteration": 35,
                        "passed_time": 0.08735393499,
                        "remaining_time": 0.3979457038,
                        "test": [
                          0.501374781
                        ]
                      },
                      {
                        "learn": [
                          0.5254514717
                        ],
                        "iteration": 36,
                        "passed_time": 0.08990033967,
                        "remaining_time": 0.3960474423,
                        "test": [
                          0.4991190485
                        ]
                      },
                      {
                        "learn": [
                          0.5236761855
                        ],
                        "iteration": 37,
                        "passed_time": 0.09220746444,
                        "remaining_time": 0.39309498,
                        "test": [
                          0.4975200973
                        ]
                      },
                      {
                        "learn": [
                          0.5213644778
                        ],
                        "iteration": 38,
                        "passed_time": 0.09448834873,
                        "remaining_time": 0.3900672858,
                        "test": [
                          0.4958086528
                        ]
                      },
                      {
                        "learn": [
                          0.5192124083
                        ],
                        "iteration": 39,
                        "passed_time": 0.09762208451,
                        "remaining_time": 0.390488338,
                        "test": [
                          0.493859612
                        ]
                      },
                      {
                        "learn": [
                          0.5167739843
                        ],
                        "iteration": 40,
                        "passed_time": 0.1004749896,
                        "remaining_time": 0.3896469111,
                        "test": [
                          0.4923429671
                        ]
                      },
                      {
                        "learn": [
                          0.5136450986
                        ],
                        "iteration": 41,
                        "passed_time": 0.103357005,
                        "remaining_time": 0.3888192095,
                        "test": [
                          0.4895539154
                        ]
                      },
                      {
                        "learn": [
                          0.5113152453
                        ],
                        "iteration": 42,
                        "passed_time": 0.1062305502,
                        "remaining_time": 0.3878650322,
                        "test": [
                          0.4874922988
                        ]
                      },
                      {
                        "learn": [
                          0.5095944651
                        ],
                        "iteration": 43,
                        "passed_time": 0.1073699524,
                        "remaining_time": 0.3806752856,
                        "test": [
                          0.4854240414
                        ]
                      },
                      {
                        "learn": [
                          0.5084507277
                        ],
                        "iteration": 44,
                        "passed_time": 0.109917777,
                        "remaining_time": 0.3786056765,
                        "test": [
                          0.4842195835
                        ]
                      },
                      {
                        "learn": [
                          0.5073148399
                        ],
                        "iteration": 45,
                        "passed_time": 0.1121805213,
                        "remaining_time": 0.3755608757,
                        "test": [
                          0.4838049271
                        ]
                      },
                      {
                        "learn": [
                          0.5055169558
                        ],
                        "iteration": 46,
                        "passed_time": 0.1145262657,
                        "remaining_time": 0.3728195457,
                        "test": [
                          0.4824582521
                        ]
                      },
                      {
                        "learn": [
                          0.5054904288
                        ],
                        "iteration": 47,
                        "passed_time": 0.1148719262,
                        "remaining_time": 0.3637610996,
                        "test": [
                          0.4824549959
                        ]
                      },
                      {
                        "learn": [
                          0.504211264
                        ],
                        "iteration": 48,
                        "passed_time": 0.1171703105,
                        "remaining_time": 0.3610758548,
                        "test": [
                          0.4811390696
                        ]
                      },
                      {
                        "learn": [
                          0.5021743574
                        ],
                        "iteration": 49,
                        "passed_time": 0.119557395,
                        "remaining_time": 0.3586721849,
                        "test": [
                          0.4800522345
                        ]
                      },
                      {
                        "learn": [
                          0.5013679055
                        ],
                        "iteration": 50,
                        "passed_time": 0.1202540164,
                        "remaining_time": 0.3513303617,
                        "test": [
                          0.4790579788
                        ]
                      },
                      {
                        "learn": [
                          0.5003145955
                        ],
                        "iteration": 51,
                        "passed_time": 0.1236814829,
                        "remaining_time": 0.3520165282,
                        "test": [
                          0.4783598121
                        ]
                      },
                      {
                        "learn": [
                          0.4991768136
                        ],
                        "iteration": 52,
                        "passed_time": 0.1261154874,
                        "remaining_time": 0.3497920122,
                        "test": [
                          0.4778133046
                        ]
                      },
                      {
                        "learn": [
                          0.4980104968
                        ],
                        "iteration": 53,
                        "passed_time": 0.1282512212,
                        "remaining_time": 0.3467533019,
                        "test": [
                          0.4774289044
                        ]
                      },
                      {
                        "learn": [
                          0.4968909911
                        ],
                        "iteration": 54,
                        "passed_time": 0.1301248645,
                        "remaining_time": 0.3430564609,
                        "test": [
                          0.4768125714
                        ]
                      },
                      {
                        "learn": [
                          0.4957561356
                        ],
                        "iteration": 55,
                        "passed_time": 0.1328647499,
                        "remaining_time": 0.341652214,
                        "test": [
                          0.4763762987
                        ]
                      },
                      {
                        "learn": [
                          0.494761834
                        ],
                        "iteration": 56,
                        "passed_time": 0.1351057643,
                        "remaining_time": 0.3389495491,
                        "test": [
                          0.476332346
                        ]
                      },
                      {
                        "learn": [
                          0.492399555
                        ],
                        "iteration": 57,
                        "passed_time": 0.1372952485,
                        "remaining_time": 0.3361366428,
                        "test": [
                          0.4742150252
                        ]
                      },
                      {
                        "learn": [
                          0.4918822379
                        ],
                        "iteration": 58,
                        "passed_time": 0.1396478329,
                        "remaining_time": 0.3337346514,
                        "test": [
                          0.473971091
                        ]
                      },
                      {
                        "learn": [
                          0.4903436179
                        ],
                        "iteration": 59,
                        "passed_time": 0.1423032479,
                        "remaining_time": 0.3320409119,
                        "test": [
                          0.4723408329
                        ]
                      },
                      {
                        "learn": [
                          0.4901396977
                        ],
                        "iteration": 60,
                        "passed_time": 0.142836219,
                        "remaining_time": 0.325479253,
                        "test": [
                          0.4720359465
                        ]
                      },
                      {
                        "learn": [
                          0.4898575165
                        ],
                        "iteration": 61,
                        "passed_time": 0.143927521,
                        "remaining_time": 0.3203548049,
                        "test": [
                          0.4717800396
                        ]
                      },
                      {
                        "learn": [
                          0.4897351492
                        ],
                        "iteration": 62,
                        "passed_time": 0.144446432,
                        "remaining_time": 0.3141136696,
                        "test": [
                          0.4715348389
                        ]
                      },
                      {
                        "learn": [
                          0.4892908286
                        ],
                        "iteration": 63,
                        "passed_time": 0.1455560141,
                        "remaining_time": 0.30930653,
                        "test": [
                          0.4710930967
                        ]
                      },
                      {
                        "learn": [
                          0.4892826507
                        ],
                        "iteration": 64,
                        "passed_time": 0.1458915448,
                        "remaining_time": 0.3030055162,
                        "test": [
                          0.471088433
                        ]
                      },
                      {
                        "learn": [
                          0.4880861251
                        ],
                        "iteration": 65,
                        "passed_time": 0.14861044,
                        "remaining_time": 0.3017242267,
                        "test": [
                          0.4705516421
                        ]
                      },
                      {
                        "learn": [
                          0.4864496004
                        ],
                        "iteration": 66,
                        "passed_time": 0.1513155951,
                        "remaining_time": 0.3003727486,
                        "test": [
                          0.4694855236
                        ]
                      },
                      {
                        "learn": [
                          0.484977101
                        ],
                        "iteration": 67,
                        "passed_time": 0.1564588952,
                        "remaining_time": 0.3037143261,
                        "test": [
                          0.4684499585
                        ]
                      },
                      {
                        "learn": [
                          0.4844325059
                        ],
                        "iteration": 68,
                        "passed_time": 0.1585884993,
                        "remaining_time": 0.3010883103,
                        "test": [
                          0.4678569638
                        ]
                      },
                      {
                        "learn": [
                          0.4833321855
                        ],
                        "iteration": 69,
                        "passed_time": 0.1611367942,
                        "remaining_time": 0.2992540464,
                        "test": [
                          0.4672945525
                        ]
                      },
                      {
                        "learn": [
                          0.4826152809
                        ],
                        "iteration": 70,
                        "passed_time": 0.163576969,
                        "remaining_time": 0.2972032253,
                        "test": [
                          0.4668440623
                        ]
                      },
                      {
                        "learn": [
                          0.4818524471
                        ],
                        "iteration": 71,
                        "passed_time": 0.166394474,
                        "remaining_time": 0.2958123983,
                        "test": [
                          0.4663647199
                        ]
                      },
                      {
                        "learn": [
                          0.4808271447
                        ],
                        "iteration": 72,
                        "passed_time": 0.1689931588,
                        "remaining_time": 0.2940017968,
                        "test": [
                          0.4653716208
                        ]
                      },
                      {
                        "learn": [
                          0.4800375962
                        ],
                        "iteration": 73,
                        "passed_time": 0.1714768936,
                        "remaining_time": 0.2919741702,
                        "test": [
                          0.465412689
                        ]
                      },
                      {
                        "learn": [
                          0.4783617457
                        ],
                        "iteration": 74,
                        "passed_time": 0.1739703084,
                        "remaining_time": 0.2899505141,
                        "test": [
                          0.4632695081
                        ]
                      },
                      {
                        "learn": [
                          0.4768244601
                        ],
                        "iteration": 75,
                        "passed_time": 0.1766140635,
                        "remaining_time": 0.2881597878,
                        "test": [
                          0.462791366
                        ]
                      },
                      {
                        "learn": [
                          0.4764158189
                        ],
                        "iteration": 76,
                        "passed_time": 0.1777738257,
                        "remaining_time": 0.2839763709,
                        "test": [
                          0.4624793505
                        ]
                      },
                      {
                        "learn": [
                          0.4753707037
                        ],
                        "iteration": 77,
                        "passed_time": 0.1808635614,
                        "remaining_time": 0.2828891601,
                        "test": [
                          0.4623111994
                        ]
                      },
                      {
                        "learn": [
                          0.4733238049
                        ],
                        "iteration": 78,
                        "passed_time": 0.1837014469,
                        "remaining_time": 0.2813655073,
                        "test": [
                          0.4606962553
                        ]
                      },
                      {
                        "learn": [
                          0.473149244
                        ],
                        "iteration": 79,
                        "passed_time": 0.1840572679,
                        "remaining_time": 0.2760859019,
                        "test": [
                          0.46058089
                        ]
                      },
                      {
                        "learn": [
                          0.4725135842
                        ],
                        "iteration": 80,
                        "passed_time": 0.1866966829,
                        "remaining_time": 0.2742827811,
                        "test": [
                          0.4603288251
                        ]
                      },
                      {
                        "learn": [
                          0.471561382
                        ],
                        "iteration": 81,
                        "passed_time": 0.1891227875,
                        "remaining_time": 0.2721523039,
                        "test": [
                          0.4593016423
                        ]
                      },
                      {
                        "learn": [
                          0.4709307607
                        ],
                        "iteration": 82,
                        "passed_time": 0.1918825125,
                        "remaining_time": 0.2704849874,
                        "test": [
                          0.4592613599
                        ]
                      },
                      {
                        "learn": [
                          0.4700674851
                        ],
                        "iteration": 83,
                        "passed_time": 0.1948053381,
                        "remaining_time": 0.2690168955,
                        "test": [
                          0.4585227607
                        ]
                      },
                      {
                        "learn": [
                          0.4700060661
                        ],
                        "iteration": 84,
                        "passed_time": 0.1951816591,
                        "remaining_time": 0.2640693035,
                        "test": [
                          0.4583190744
                        ]
                      },
                      {
                        "learn": [
                          0.4697370449
                        ],
                        "iteration": 85,
                        "passed_time": 0.1975384533,
                        "remaining_time": 0.2618532986,
                        "test": [
                          0.4579769685
                        ]
                      },
                      {
                        "learn": [
                          0.4686091634
                        ],
                        "iteration": 86,
                        "passed_time": 0.203584085,
                        "remaining_time": 0.2644253058,
                        "test": [
                          0.4571906683
                        ]
                      },
                      {
                        "learn": [
                          0.4679352921
                        ],
                        "iteration": 87,
                        "passed_time": 0.2063416802,
                        "remaining_time": 0.2626166839,
                        "test": [
                          0.4568769605
                        ]
                      },
                      {
                        "learn": [
                          0.4672799368
                        ],
                        "iteration": 88,
                        "passed_time": 0.2082989436,
                        "remaining_time": 0.2597885701,
                        "test": [
                          0.4569584322
                        ]
                      },
                      {
                        "learn": [
                          0.4667557157
                        ],
                        "iteration": 89,
                        "passed_time": 0.2106251479,
                        "remaining_time": 0.2574307363,
                        "test": [
                          0.4568156411
                        ]
                      },
                      {
                        "learn": [
                          0.4652609746
                        ],
                        "iteration": 90,
                        "passed_time": 0.2129968923,
                        "remaining_time": 0.2551281458,
                        "test": [
                          0.4564003974
                        ]
                      },
                      {
                        "learn": [
                          0.4647264932
                        ],
                        "iteration": 91,
                        "passed_time": 0.2157340075,
                        "remaining_time": 0.2532529654,
                        "test": [
                          0.4564538569
                        ]
                      },
                      {
                        "learn": [
                          0.4643974749
                        ],
                        "iteration": 92,
                        "passed_time": 0.2168822799,
                        "remaining_time": 0.2495312253,
                        "test": [
                          0.4562649733
                        ]
                      },
                      {
                        "learn": [
                          0.46368443
                        ],
                        "iteration": 93,
                        "passed_time": 0.219561915,
                        "remaining_time": 0.2475910956,
                        "test": [
                          0.4564386234
                        ]
                      },
                      {
                        "learn": [
                          0.4636458871
                        ],
                        "iteration": 94,
                        "passed_time": 0.2200880158,
                        "remaining_time": 0.2432551753,
                        "test": [
                          0.4562754844
                        ]
                      },
                      {
                        "learn": [
                          0.4632588336
                        ],
                        "iteration": 95,
                        "passed_time": 0.2226974908,
                        "remaining_time": 0.241255615,
                        "test": [
                          0.4562917354
                        ]
                      },
                      {
                        "learn": [
                          0.4626736341
                        ],
                        "iteration": 96,
                        "passed_time": 0.2252277754,
                        "remaining_time": 0.2391593904,
                        "test": [
                          0.4562277994
                        ]
                      },
                      {
                        "learn": [
                          0.4618510007
                        ],
                        "iteration": 97,
                        "passed_time": 0.228092381,
                        "remaining_time": 0.2374022742,
                        "test": [
                          0.4556135236
                        ]
                      },
                      {
                        "learn": [
                          0.460495068
                        ],
                        "iteration": 98,
                        "passed_time": 0.230675016,
                        "remaining_time": 0.2353351173,
                        "test": [
                          0.4548030989
                        ]
                      },
                      {
                        "learn": [
                          0.4601390826
                        ],
                        "iteration": 99,
                        "passed_time": 0.2332843608,
                        "remaining_time": 0.2332843608,
                        "test": [
                          0.4549126532
                        ]
                      },
                      {
                        "learn": [
                          0.4595263956
                        ],
                        "iteration": 100,
                        "passed_time": 0.2358380157,
                        "remaining_time": 0.231167956,
                        "test": [
                          0.4543351022
                        ]
                      },
                      {
                        "learn": [
                          0.4589419498
                        ],
                        "iteration": 101,
                        "passed_time": 0.2387981214,
                        "remaining_time": 0.2294334892,
                        "test": [
                          0.4543040201
                        ]
                      },
                      {
                        "learn": [
                          0.4573348833
                        ],
                        "iteration": 102,
                        "passed_time": 0.2415037268,
                        "remaining_time": 0.2274355485,
                        "test": [
                          0.4533452495
                        ]
                      },
                      {
                        "learn": [
                          0.4566600104
                        ],
                        "iteration": 103,
                        "passed_time": 0.2441367618,
                        "remaining_time": 0.2253570109,
                        "test": [
                          0.4529217582
                        ]
                      },
                      {
                        "learn": [
                          0.4563073923
                        ],
                        "iteration": 104,
                        "passed_time": 0.2468543068,
                        "remaining_time": 0.2233443728,
                        "test": [
                          0.4528808555
                        ]
                      },
                      {
                        "learn": [
                          0.455195352
                        ],
                        "iteration": 105,
                        "passed_time": 0.249486892,
                        "remaining_time": 0.2212430929,
                        "test": [
                          0.452359826
                        ]
                      },
                      {
                        "learn": [
                          0.4547128215
                        ],
                        "iteration": 106,
                        "passed_time": 0.2521909472,
                        "remaining_time": 0.2191940008,
                        "test": [
                          0.4522427914
                        ]
                      },
                      {
                        "learn": [
                          0.4542279281
                        ],
                        "iteration": 107,
                        "passed_time": 0.2548099324,
                        "remaining_time": 0.2170603128,
                        "test": [
                          0.4522270062
                        ]
                      },
                      {
                        "learn": [
                          0.4539408213
                        ],
                        "iteration": 108,
                        "passed_time": 0.2571220767,
                        "remaining_time": 0.2146615503,
                        "test": [
                          0.4522017425
                        ]
                      },
                      {
                        "learn": [
                          0.4534495335
                        ],
                        "iteration": 109,
                        "passed_time": 0.2598464617,
                        "remaining_time": 0.2126016505,
                        "test": [
                          0.4518389426
                        ]
                      },
                      {
                        "learn": [
                          0.4533566786
                        ],
                        "iteration": 110,
                        "passed_time": 0.2614148347,
                        "remaining_time": 0.2096028855,
                        "test": [
                          0.4518323091
                        ]
                      },
                      {
                        "learn": [
                          0.4526441712
                        ],
                        "iteration": 111,
                        "passed_time": 0.2637828693,
                        "remaining_time": 0.2072579687,
                        "test": [
                          0.4513446776
                        ]
                      },
                      {
                        "learn": [
                          0.4518729063
                        ],
                        "iteration": 112,
                        "passed_time": 0.2663593843,
                        "remaining_time": 0.2050731543,
                        "test": [
                          0.451429402
                        ]
                      },
                      {
                        "learn": [
                          0.4504125869
                        ],
                        "iteration": 113,
                        "passed_time": 0.2692548899,
                        "remaining_time": 0.2031221099,
                        "test": [
                          0.4509741054
                        ]
                      },
                      {
                        "learn": [
                          0.449424412
                        ],
                        "iteration": 114,
                        "passed_time": 0.271928145,
                        "remaining_time": 0.200990368,
                        "test": [
                          0.4501907579
                        ]
                      },
                      {
                        "learn": [
                          0.449037232
                        ],
                        "iteration": 115,
                        "passed_time": 0.2748303204,
                        "remaining_time": 0.1990150596,
                        "test": [
                          0.4499032052
                        ]
                      },
                      {
                        "learn": [
                          0.4486469355
                        ],
                        "iteration": 116,
                        "passed_time": 0.2772569152,
                        "remaining_time": 0.1966865296,
                        "test": [
                          0.4499437759
                        ]
                      },
                      {
                        "learn": [
                          0.447604657
                        ],
                        "iteration": 117,
                        "passed_time": 0.2799624503,
                        "remaining_time": 0.1945501773,
                        "test": [
                          0.4495469042
                        ]
                      },
                      {
                        "learn": [
                          0.4473802681
                        ],
                        "iteration": 118,
                        "passed_time": 0.2821106242,
                        "remaining_time": 0.1920248786,
                        "test": [
                          0.4495005787
                        ]
                      },
                      {
                        "learn": [
                          0.4463780303
                        ],
                        "iteration": 119,
                        "passed_time": 0.2845105686,
                        "remaining_time": 0.1896737124,
                        "test": [
                          0.4493792985
                        ]
                      },
                      {
                        "learn": [
                          0.4448628473
                        ],
                        "iteration": 120,
                        "passed_time": 0.287350324,
                        "remaining_time": 0.1876088892,
                        "test": [
                          0.4486172982
                        ]
                      },
                      {
                        "learn": [
                          0.4431664655
                        ],
                        "iteration": 121,
                        "passed_time": 0.2897304586,
                        "remaining_time": 0.1852375063,
                        "test": [
                          0.4474930755
                        ]
                      },
                      {
                        "learn": [
                          0.4428967289
                        ],
                        "iteration": 122,
                        "passed_time": 0.2922252432,
                        "remaining_time": 0.1829377539,
                        "test": [
                          0.4472949988
                        ]
                      },
                      {
                        "learn": [
                          0.44135257
                        ],
                        "iteration": 123,
                        "passed_time": 0.2950108087,
                        "remaining_time": 0.1808130763,
                        "test": [
                          0.4472721488
                        ]
                      },
                      {
                        "learn": [
                          0.4412863533
                        ],
                        "iteration": 124,
                        "passed_time": 0.2955578095,
                        "remaining_time": 0.1773346857,
                        "test": [
                          0.4472207932
                        ]
                      },
                      {
                        "learn": [
                          0.440037006
                        ],
                        "iteration": 125,
                        "passed_time": 0.2976680136,
                        "remaining_time": 0.1748208969,
                        "test": [
                          0.446925883
                        ]
                      },
                      {
                        "learn": [
                          0.4385574413
                        ],
                        "iteration": 126,
                        "passed_time": 0.3003224886,
                        "remaining_time": 0.1726263124,
                        "test": [
                          0.445851728
                        ]
                      },
                      {
                        "learn": [
                          0.4382384367
                        ],
                        "iteration": 127,
                        "passed_time": 0.3031449737,
                        "remaining_time": 0.1705190477,
                        "test": [
                          0.4456810147
                        ]
                      },
                      {
                        "learn": [
                          0.4373045666
                        ],
                        "iteration": 128,
                        "passed_time": 0.3061765396,
                        "remaining_time": 0.1685157698,
                        "test": [
                          0.4446482521
                        ]
                      },
                      {
                        "learn": [
                          0.4371593572
                        ],
                        "iteration": 129,
                        "passed_time": 0.3086607442,
                        "remaining_time": 0.1662019392,
                        "test": [
                          0.4447326337
                        ]
                      },
                      {
                        "learn": [
                          0.4365032738
                        ],
                        "iteration": 130,
                        "passed_time": 0.3112078693,
                        "remaining_time": 0.1639186487,
                        "test": [
                          0.4441386182
                        ]
                      },
                      {
                        "learn": [
                          0.4363269
                        ],
                        "iteration": 131,
                        "passed_time": 0.3140099743,
                        "remaining_time": 0.1617627141,
                        "test": [
                          0.4440857154
                        ]
                      },
                      {
                        "learn": [
                          0.4358447304
                        ],
                        "iteration": 132,
                        "passed_time": 0.3165649693,
                        "remaining_time": 0.1594725785,
                        "test": [
                          0.4438077362
                        ]
                      },
                      {
                        "learn": [
                          0.4346711693
                        ],
                        "iteration": 133,
                        "passed_time": 0.3189222541,
                        "remaining_time": 0.1570811102,
                        "test": [
                          0.4430095435
                        ]
                      },
                      {
                        "learn": [
                          0.4340353738
                        ],
                        "iteration": 134,
                        "passed_time": 0.3213807987,
                        "remaining_time": 0.1547389031,
                        "test": [
                          0.4427591142
                        ]
                      },
                      {
                        "learn": [
                          0.4335210063
                        ],
                        "iteration": 135,
                        "passed_time": 0.3237950236,
                        "remaining_time": 0.1523741287,
                        "test": [
                          0.4422923099
                        ]
                      },
                      {
                        "learn": [
                          0.4333332153
                        ],
                        "iteration": 136,
                        "passed_time": 0.3263872888,
                        "remaining_time": 0.1500905051,
                        "test": [
                          0.4420864735
                        ]
                      },
                      {
                        "learn": [
                          0.4325025716
                        ],
                        "iteration": 137,
                        "passed_time": 0.3288830734,
                        "remaining_time": 0.147759062,
                        "test": [
                          0.4421932305
                        ]
                      },
                      {
                        "learn": [
                          0.4320025024
                        ],
                        "iteration": 138,
                        "passed_time": 0.3313072579,
                        "remaining_time": 0.1453938326,
                        "test": [
                          0.4416224439
                        ]
                      },
                      {
                        "learn": [
                          0.432002193
                        ],
                        "iteration": 139,
                        "passed_time": 0.3316552184,
                        "remaining_time": 0.1421379507,
                        "test": [
                          0.4416210068
                        ]
                      },
                      {
                        "learn": [
                          0.4318048165
                        ],
                        "iteration": 140,
                        "passed_time": 0.3342556529,
                        "remaining_time": 0.1398658406,
                        "test": [
                          0.4416617687
                        ]
                      },
                      {
                        "learn": [
                          0.431166018
                        ],
                        "iteration": 141,
                        "passed_time": 0.3369172978,
                        "remaining_time": 0.1376141075,
                        "test": [
                          0.441307835
                        ]
                      },
                      {
                        "learn": [
                          0.429859482
                        ],
                        "iteration": 142,
                        "passed_time": 0.3393656823,
                        "remaining_time": 0.1352716356,
                        "test": [
                          0.4399163148
                        ]
                      },
                      {
                        "learn": [
                          0.4296253793
                        ],
                        "iteration": 143,
                        "passed_time": 0.3424403282,
                        "remaining_time": 0.1331712388,
                        "test": [
                          0.4396754259
                        ]
                      },
                      {
                        "learn": [
                          0.4296209998
                        ],
                        "iteration": 144,
                        "passed_time": 0.3429677392,
                        "remaining_time": 0.1300912114,
                        "test": [
                          0.4396495535
                        ]
                      },
                      {
                        "learn": [
                          0.4293909039
                        ],
                        "iteration": 145,
                        "passed_time": 0.3454474741,
                        "remaining_time": 0.1277682438,
                        "test": [
                          0.4397776898
                        ]
                      },
                      {
                        "learn": [
                          0.4290029935
                        ],
                        "iteration": 146,
                        "passed_time": 0.3481352492,
                        "remaining_time": 0.1255181511,
                        "test": [
                          0.4397290644
                        ]
                      },
                      {
                        "learn": [
                          0.4283936806
                        ],
                        "iteration": 147,
                        "passed_time": 0.3507733842,
                        "remaining_time": 0.1232447026,
                        "test": [
                          0.4397881448
                        ]
                      },
                      {
                        "learn": [
                          0.4278895472
                        ],
                        "iteration": 148,
                        "passed_time": 0.3536290196,
                        "remaining_time": 0.1210408054,
                        "test": [
                          0.4400440911
                        ]
                      },
                      {
                        "learn": [
                          0.4272571803
                        ],
                        "iteration": 149,
                        "passed_time": 0.3563156845,
                        "remaining_time": 0.1187718948,
                        "test": [
                          0.43995608
                        ]
                      },
                      {
                        "learn": [
                          0.4270476059
                        ],
                        "iteration": 150,
                        "passed_time": 0.3588557794,
                        "remaining_time": 0.1164498887,
                        "test": [
                          0.4399296987
                        ]
                      },
                      {
                        "learn": [
                          0.4269677948
                        ],
                        "iteration": 151,
                        "passed_time": 0.3617866046,
                        "remaining_time": 0.1142484015,
                        "test": [
                          0.4397974861
                        ]
                      },
                      {
                        "learn": [
                          0.426228775
                        ],
                        "iteration": 152,
                        "passed_time": 0.3642963092,
                        "remaining_time": 0.1119080166,
                        "test": [
                          0.4392183162
                        ]
                      },
                      {
                        "learn": [
                          0.4261726734
                        ],
                        "iteration": 153,
                        "passed_time": 0.3650954411,
                        "remaining_time": 0.1090544824,
                        "test": [
                          0.4391831996
                        ]
                      },
                      {
                        "learn": [
                          0.4253906287
                        ],
                        "iteration": 154,
                        "passed_time": 0.3676904961,
                        "remaining_time": 0.1067488537,
                        "test": [
                          0.4390429739
                        ]
                      },
                      {
                        "learn": [
                          0.4253264173
                        ],
                        "iteration": 155,
                        "passed_time": 0.3702101407,
                        "remaining_time": 0.1044182448,
                        "test": [
                          0.4390685263
                        ]
                      },
                      {
                        "learn": [
                          0.4252741599
                        ],
                        "iteration": 156,
                        "passed_time": 0.3707483117,
                        "remaining_time": 0.1015425312,
                        "test": [
                          0.4390339728
                        ]
                      },
                      {
                        "learn": [
                          0.4249656624
                        ],
                        "iteration": 157,
                        "passed_time": 0.3731820962,
                        "remaining_time": 0.09920030407,
                        "test": [
                          0.4387602711
                        ]
                      },
                      {
                        "learn": [
                          0.4247201606
                        ],
                        "iteration": 158,
                        "passed_time": 0.3757774214,
                        "remaining_time": 0.09689858037,
                        "test": [
                          0.438676568
                        ]
                      },
                      {
                        "learn": [
                          0.4245939401
                        ],
                        "iteration": 159,
                        "passed_time": 0.378240646,
                        "remaining_time": 0.0945601615,
                        "test": [
                          0.4385490742
                        ]
                      },
                      {
                        "learn": [
                          0.4245798529
                        ],
                        "iteration": 160,
                        "passed_time": 0.3806890705,
                        "remaining_time": 0.09221660715,
                        "test": [
                          0.4385170169
                        ]
                      },
                      {
                        "learn": [
                          0.4240865597
                        ],
                        "iteration": 161,
                        "passed_time": 0.3832170054,
                        "remaining_time": 0.08989040868,
                        "test": [
                          0.4380570398
                        ]
                      },
                      {
                        "learn": [
                          0.4240630028
                        ],
                        "iteration": 162,
                        "passed_time": 0.3858082404,
                        "remaining_time": 0.08757610365,
                        "test": [
                          0.4380315376
                        ]
                      },
                      {
                        "learn": [
                          0.422937274
                        ],
                        "iteration": 163,
                        "passed_time": 0.3883464353,
                        "remaining_time": 0.08524677848,
                        "test": [
                          0.4378614483
                        ]
                      },
                      {
                        "learn": [
                          0.4226901496
                        ],
                        "iteration": 164,
                        "passed_time": 0.3905591697,
                        "remaining_time": 0.08284588448,
                        "test": [
                          0.4378669974
                        ]
                      },
                      {
                        "learn": [
                          0.4218351244
                        ],
                        "iteration": 165,
                        "passed_time": 0.3929739839,
                        "remaining_time": 0.08048864731,
                        "test": [
                          0.4377420534
                        ]
                      },
                      {
                        "learn": [
                          0.4211558642
                        ],
                        "iteration": 166,
                        "passed_time": 0.3956438693,
                        "remaining_time": 0.07818112387,
                        "test": [
                          0.4377910146
                        ]
                      },
                      {
                        "learn": [
                          0.4210480679
                        ],
                        "iteration": 167,
                        "passed_time": 0.3980577137,
                        "remaining_time": 0.0758205169,
                        "test": [
                          0.4377194476
                        ]
                      },
                      {
                        "learn": [
                          0.420675951
                        ],
                        "iteration": 168,
                        "passed_time": 0.4003820181,
                        "remaining_time": 0.07344285539,
                        "test": [
                          0.4376281052
                        ]
                      },
                      {
                        "learn": [
                          0.4202472316
                        ],
                        "iteration": 169,
                        "passed_time": 0.4027439323,
                        "remaining_time": 0.07107245864,
                        "test": [
                          0.4374983264
                        ]
                      },
                      {
                        "learn": [
                          0.4201057829
                        ],
                        "iteration": 170,
                        "passed_time": 0.4054408674,
                        "remaining_time": 0.06875897751,
                        "test": [
                          0.437599739
                        ]
                      },
                      {
                        "learn": [
                          0.4191381837
                        ],
                        "iteration": 171,
                        "passed_time": 0.4076599018,
                        "remaining_time": 0.06636323983,
                        "test": [
                          0.4372413399
                        ]
                      },
                      {
                        "learn": [
                          0.4186225263
                        ],
                        "iteration": 172,
                        "passed_time": 0.4112669485,
                        "remaining_time": 0.06418617116,
                        "test": [
                          0.4374194709
                        ]
                      },
                      {
                        "learn": [
                          0.4184521281
                        ],
                        "iteration": 173,
                        "passed_time": 0.4138445035,
                        "remaining_time": 0.06183883385,
                        "test": [
                          0.4373557911
                        ]
                      },
                      {
                        "learn": [
                          0.4178157244
                        ],
                        "iteration": 174,
                        "passed_time": 0.4164506082,
                        "remaining_time": 0.05949294404,
                        "test": [
                          0.4366672641
                        ]
                      },
                      {
                        "learn": [
                          0.417418439
                        ],
                        "iteration": 175,
                        "passed_time": 0.4190008529,
                        "remaining_time": 0.05713647995,
                        "test": [
                          0.4366189506
                        ]
                      },
                      {
                        "learn": [
                          0.4169813089
                        ],
                        "iteration": 176,
                        "passed_time": 0.4219627787,
                        "remaining_time": 0.05483132152,
                        "test": [
                          0.4365023644
                        ]
                      },
                      {
                        "learn": [
                          0.4167319792
                        ],
                        "iteration": 177,
                        "passed_time": 0.4244526135,
                        "remaining_time": 0.05246043538,
                        "test": [
                          0.436392388
                        ]
                      },
                      {
                        "learn": [
                          0.4164259572
                        ],
                        "iteration": 178,
                        "passed_time": 0.4267983779,
                        "remaining_time": 0.05007131808,
                        "test": [
                          0.4362048217
                        ]
                      },
                      {
                        "learn": [
                          0.4160925601
                        ],
                        "iteration": 179,
                        "passed_time": 0.4294045729,
                        "remaining_time": 0.04771161921,
                        "test": [
                          0.4362494419
                        ]
                      },
                      {
                        "learn": [
                          0.415934211
                        ],
                        "iteration": 180,
                        "passed_time": 0.4317746071,
                        "remaining_time": 0.04532440627,
                        "test": [
                          0.4363870765
                        ]
                      },
                      {
                        "learn": [
                          0.4156149646
                        ],
                        "iteration": 181,
                        "passed_time": 0.4372669175,
                        "remaining_time": 0.04324617865,
                        "test": [
                          0.4362689436
                        ]
                      },
                      {
                        "learn": [
                          0.4154978226
                        ],
                        "iteration": 182,
                        "passed_time": 0.4399583028,
                        "remaining_time": 0.04087044343,
                        "test": [
                          0.4362231184
                        ]
                      },
                      {
                        "learn": [
                          0.4153076751
                        ],
                        "iteration": 183,
                        "passed_time": 0.4425666276,
                        "remaining_time": 0.03848405457,
                        "test": [
                          0.4362183269
                        ]
                      },
                      {
                        "learn": [
                          0.4146952699
                        ],
                        "iteration": 184,
                        "passed_time": 0.4451947528,
                        "remaining_time": 0.03609687185,
                        "test": [
                          0.4353811593
                        ]
                      },
                      {
                        "learn": [
                          0.4142205563
                        ],
                        "iteration": 185,
                        "passed_time": 0.4478987782,
                        "remaining_time": 0.03371281126,
                        "test": [
                          0.4354527635
                        ]
                      },
                      {
                        "learn": [
                          0.4140458689
                        ],
                        "iteration": 186,
                        "passed_time": 0.4502613528,
                        "remaining_time": 0.03130159137,
                        "test": [
                          0.4353553
                        ]
                      },
                      {
                        "learn": [
                          0.4134425577
                        ],
                        "iteration": 187,
                        "passed_time": 0.4528674678,
                        "remaining_time": 0.02890643412,
                        "test": [
                          0.4351072314
                        ]
                      },
                      {
                        "learn": [
                          0.412922524
                        ],
                        "iteration": 188,
                        "passed_time": 0.4554208627,
                        "remaining_time": 0.02650597614,
                        "test": [
                          0.4348446306
                        ]
                      },
                      {
                        "learn": [
                          0.4128837624
                        ],
                        "iteration": 189,
                        "passed_time": 0.4580546978,
                        "remaining_time": 0.02410814199,
                        "test": [
                          0.4348261824
                        ]
                      },
                      {
                        "learn": [
                          0.4124942804
                        ],
                        "iteration": 190,
                        "passed_time": 0.4608996731,
                        "remaining_time": 0.02171778564,
                        "test": [
                          0.4342945079
                        ]
                      },
                      {
                        "learn": [
                          0.4121652234
                        ],
                        "iteration": 191,
                        "passed_time": 0.4636413181,
                        "remaining_time": 0.01931838825,
                        "test": [
                          0.4343618613
                        ]
                      },
                      {
                        "learn": [
                          0.4115611192
                        ],
                        "iteration": 192,
                        "passed_time": 0.4659743322,
                        "remaining_time": 0.01690062345,
                        "test": [
                          0.4342878463
                        ]
                      },
                      {
                        "learn": [
                          0.4115296817
                        ],
                        "iteration": 193,
                        "passed_time": 0.4689418082,
                        "remaining_time": 0.01450335489,
                        "test": [
                          0.4341999129
                        ]
                      },
                      {
                        "learn": [
                          0.4105989625
                        ],
                        "iteration": 194,
                        "passed_time": 0.4713404927,
                        "remaining_time": 0.01208565366,
                        "test": [
                          0.4332809806
                        ]
                      },
                      {
                        "learn": [
                          0.4102698066
                        ],
                        "iteration": 195,
                        "passed_time": 0.4740369376,
                        "remaining_time": 0.009674223216,
                        "test": [
                          0.4332707126
                        ]
                      },
                      {
                        "learn": [
                          0.4102570647
                        ],
                        "iteration": 196,
                        "passed_time": 0.4766184125,
                        "remaining_time": 0.007258148414,
                        "test": [
                          0.4332816357
                        ]
                      },
                      {
                        "learn": [
                          0.4101964012
                        ],
                        "iteration": 197,
                        "passed_time": 0.4788982066,
                        "remaining_time": 0.004837355622,
                        "test": [
                          0.4332696204
                        ]
                      },
                      {
                        "learn": [
                          0.4096130486
                        ],
                        "iteration": 198,
                        "passed_time": 0.4814796113,
                        "remaining_time": 0.002419495534,
                        "test": [
                          0.43316854
                        ]
                      },
                      {
                        "learn": [
                          0.4094916433
                        ],
                        "iteration": 199,
                        "passed_time": 0.4841419264,
                        "remaining_time": 0,
                        "test": [
                          0.4330470068
                        ]
                      }
                    ],
                    "meta": {
                      "test_sets": [
                        "test"
                      ],
                      "test_metrics": [
                        {
                          "best_value": "Min",
                          "name": "RMSE"
                        }
                      ],
                      "learn_metrics": [
                        {
                          "best_value": "Min",
                          "name": "RMSE"
                        }
                      ],
                      "launch_mode": "Train",
                      "parameters": "",
                      "iteration_count": 200,
                      "learn_sets": [
                        "learn"
                      ],
                      "name": "experiment"
                    }
                  }
                }
              }
            },
            "layout": "IPY_MODEL_f05359125590485b984cfba62c240da0"
          }
        }
      }
    }
  },
  "cells": [
    {
      "cell_type": "markdown",
      "source": [
        "# Выполнил:\n",
        "# Радайкин Артём, ПМ20-4 "
      ],
      "metadata": {
        "id": "zSTT2Zl8FQF2"
      }
    },
    {
      "cell_type": "markdown",
      "source": [
        "## Загружаем данные"
      ],
      "metadata": {
        "id": "aO90CBMFXQxg"
      }
    },
    {
      "cell_type": "code",
      "source": [
        "!pip install catboost"
      ],
      "metadata": {
        "colab": {
          "base_uri": "https://localhost:8080/"
        },
        "id": "_tPCVqI7Z2DJ",
        "outputId": "4e26a359-eccd-4128-9796-6eae7abfc35e"
      },
      "execution_count": null,
      "outputs": [
        {
          "output_type": "stream",
          "name": "stdout",
          "text": [
            "Looking in indexes: https://pypi.org/simple, https://us-python.pkg.dev/colab-wheels/public/simple/\n",
            "Collecting catboost\n",
            "  Downloading catboost-1.1.1-cp38-none-manylinux1_x86_64.whl (76.6 MB)\n",
            "\u001b[K     |████████████████████████████████| 76.6 MB 1.1 MB/s \n",
            "\u001b[?25hRequirement already satisfied: graphviz in /usr/local/lib/python3.8/dist-packages (from catboost) (0.10.1)\n",
            "Requirement already satisfied: pandas>=0.24.0 in /usr/local/lib/python3.8/dist-packages (from catboost) (1.3.5)\n",
            "Requirement already satisfied: scipy in /usr/local/lib/python3.8/dist-packages (from catboost) (1.7.3)\n",
            "Requirement already satisfied: numpy>=1.16.0 in /usr/local/lib/python3.8/dist-packages (from catboost) (1.21.6)\n",
            "Requirement already satisfied: plotly in /usr/local/lib/python3.8/dist-packages (from catboost) (5.5.0)\n",
            "Requirement already satisfied: six in /usr/local/lib/python3.8/dist-packages (from catboost) (1.15.0)\n",
            "Requirement already satisfied: matplotlib in /usr/local/lib/python3.8/dist-packages (from catboost) (3.2.2)\n",
            "Requirement already satisfied: python-dateutil>=2.7.3 in /usr/local/lib/python3.8/dist-packages (from pandas>=0.24.0->catboost) (2.8.2)\n",
            "Requirement already satisfied: pytz>=2017.3 in /usr/local/lib/python3.8/dist-packages (from pandas>=0.24.0->catboost) (2022.6)\n",
            "Requirement already satisfied: pyparsing!=2.0.4,!=2.1.2,!=2.1.6,>=2.0.1 in /usr/local/lib/python3.8/dist-packages (from matplotlib->catboost) (3.0.9)\n",
            "Requirement already satisfied: kiwisolver>=1.0.1 in /usr/local/lib/python3.8/dist-packages (from matplotlib->catboost) (1.4.4)\n",
            "Requirement already satisfied: cycler>=0.10 in /usr/local/lib/python3.8/dist-packages (from matplotlib->catboost) (0.11.0)\n",
            "Requirement already satisfied: tenacity>=6.2.0 in /usr/local/lib/python3.8/dist-packages (from plotly->catboost) (8.1.0)\n",
            "Installing collected packages: catboost\n",
            "Successfully installed catboost-1.1.1\n"
          ]
        }
      ]
    },
    {
      "cell_type": "code",
      "source": [
        "import numpy as np\n",
        "import pandas as pd\n",
        "import statsmodels.api as sm\n",
        "import patsy as pt\n",
        "import sklearn.linear_model as lm\n",
        "import scipy.stats as sts\n",
        "import seaborn as sns\n",
        "import matplotlib.pyplot as plt\n",
        "import plotly.express as px\n",
        "import datetime as dt\n",
        "import warnings\n",
        "warnings.filterwarnings('ignore')\n",
        "import plotly.graph_objects as go\n",
        "pd.set_option('display.max_columns' , None)\n",
        "from plotly.subplots import make_subplots\n",
        "from sklearn.model_selection import train_test_split\n",
        "from sklearn.linear_model import LinearRegression\n",
        "from catboost import CatBoostRegressor\n",
        "from sklearn.metrics import mean_squared_error\n",
        "from sklearn.metrics import r2_score\n",
        "from sklearn.metrics import mean_absolute_error\n",
        "from sklearn.metrics import mean_squared_log_error\n",
        "import xgboost\n",
        "from sklearn.metrics import mean_absolute_percentage_error"
      ],
      "metadata": {
        "id": "0t-oMcD9zVxw"
      },
      "execution_count": null,
      "outputs": []
    },
    {
      "cell_type": "code",
      "source": [
        "df = pd.read_csv('/content/drive/MyDrive/Colab Notebooks/Эконометрика /ДТЗ/ds_salaries.csv')\n",
        "df.drop(['Unnamed: 0', 'salary_currency'], axis=1, inplace=True)\n",
        "df.head(5)"
      ],
      "metadata": {
        "id": "JwSfFvB1qIUb",
        "colab": {
          "base_uri": "https://localhost:8080/",
          "height": 206
        },
        "outputId": "301dd17d-df77-4d17-c91e-2a82d24bbb48"
      },
      "execution_count": null,
      "outputs": [
        {
          "output_type": "execute_result",
          "data": {
            "text/plain": [
              "   work_year experience_level employment_type                   job_title  \\\n",
              "0       2020               MI              FT              Data Scientist   \n",
              "1       2020               SE              FT  Machine Learning Scientist   \n",
              "2       2020               SE              FT           Big Data Engineer   \n",
              "3       2020               MI              FT        Product Data Analyst   \n",
              "4       2020               SE              FT   Machine Learning Engineer   \n",
              "\n",
              "   salary  salary_in_usd employee_residence  remote_ratio company_location  \\\n",
              "0   70000          79833                 DE             0               DE   \n",
              "1  260000         260000                 JP             0               JP   \n",
              "2   85000         109024                 GB            50               GB   \n",
              "3   20000          20000                 HN             0               HN   \n",
              "4  150000         150000                 US            50               US   \n",
              "\n",
              "  company_size  \n",
              "0            L  \n",
              "1            S  \n",
              "2            M  \n",
              "3            S  \n",
              "4            L  "
            ],
            "text/html": [
              "\n",
              "  <div id=\"df-d521e7df-46a7-40cb-ac14-b9459b982d46\">\n",
              "    <div class=\"colab-df-container\">\n",
              "      <div>\n",
              "<style scoped>\n",
              "    .dataframe tbody tr th:only-of-type {\n",
              "        vertical-align: middle;\n",
              "    }\n",
              "\n",
              "    .dataframe tbody tr th {\n",
              "        vertical-align: top;\n",
              "    }\n",
              "\n",
              "    .dataframe thead th {\n",
              "        text-align: right;\n",
              "    }\n",
              "</style>\n",
              "<table border=\"1\" class=\"dataframe\">\n",
              "  <thead>\n",
              "    <tr style=\"text-align: right;\">\n",
              "      <th></th>\n",
              "      <th>work_year</th>\n",
              "      <th>experience_level</th>\n",
              "      <th>employment_type</th>\n",
              "      <th>job_title</th>\n",
              "      <th>salary</th>\n",
              "      <th>salary_in_usd</th>\n",
              "      <th>employee_residence</th>\n",
              "      <th>remote_ratio</th>\n",
              "      <th>company_location</th>\n",
              "      <th>company_size</th>\n",
              "    </tr>\n",
              "  </thead>\n",
              "  <tbody>\n",
              "    <tr>\n",
              "      <th>0</th>\n",
              "      <td>2020</td>\n",
              "      <td>MI</td>\n",
              "      <td>FT</td>\n",
              "      <td>Data Scientist</td>\n",
              "      <td>70000</td>\n",
              "      <td>79833</td>\n",
              "      <td>DE</td>\n",
              "      <td>0</td>\n",
              "      <td>DE</td>\n",
              "      <td>L</td>\n",
              "    </tr>\n",
              "    <tr>\n",
              "      <th>1</th>\n",
              "      <td>2020</td>\n",
              "      <td>SE</td>\n",
              "      <td>FT</td>\n",
              "      <td>Machine Learning Scientist</td>\n",
              "      <td>260000</td>\n",
              "      <td>260000</td>\n",
              "      <td>JP</td>\n",
              "      <td>0</td>\n",
              "      <td>JP</td>\n",
              "      <td>S</td>\n",
              "    </tr>\n",
              "    <tr>\n",
              "      <th>2</th>\n",
              "      <td>2020</td>\n",
              "      <td>SE</td>\n",
              "      <td>FT</td>\n",
              "      <td>Big Data Engineer</td>\n",
              "      <td>85000</td>\n",
              "      <td>109024</td>\n",
              "      <td>GB</td>\n",
              "      <td>50</td>\n",
              "      <td>GB</td>\n",
              "      <td>M</td>\n",
              "    </tr>\n",
              "    <tr>\n",
              "      <th>3</th>\n",
              "      <td>2020</td>\n",
              "      <td>MI</td>\n",
              "      <td>FT</td>\n",
              "      <td>Product Data Analyst</td>\n",
              "      <td>20000</td>\n",
              "      <td>20000</td>\n",
              "      <td>HN</td>\n",
              "      <td>0</td>\n",
              "      <td>HN</td>\n",
              "      <td>S</td>\n",
              "    </tr>\n",
              "    <tr>\n",
              "      <th>4</th>\n",
              "      <td>2020</td>\n",
              "      <td>SE</td>\n",
              "      <td>FT</td>\n",
              "      <td>Machine Learning Engineer</td>\n",
              "      <td>150000</td>\n",
              "      <td>150000</td>\n",
              "      <td>US</td>\n",
              "      <td>50</td>\n",
              "      <td>US</td>\n",
              "      <td>L</td>\n",
              "    </tr>\n",
              "  </tbody>\n",
              "</table>\n",
              "</div>\n",
              "      <button class=\"colab-df-convert\" onclick=\"convertToInteractive('df-d521e7df-46a7-40cb-ac14-b9459b982d46')\"\n",
              "              title=\"Convert this dataframe to an interactive table.\"\n",
              "              style=\"display:none;\">\n",
              "        \n",
              "  <svg xmlns=\"http://www.w3.org/2000/svg\" height=\"24px\"viewBox=\"0 0 24 24\"\n",
              "       width=\"24px\">\n",
              "    <path d=\"M0 0h24v24H0V0z\" fill=\"none\"/>\n",
              "    <path d=\"M18.56 5.44l.94 2.06.94-2.06 2.06-.94-2.06-.94-.94-2.06-.94 2.06-2.06.94zm-11 1L8.5 8.5l.94-2.06 2.06-.94-2.06-.94L8.5 2.5l-.94 2.06-2.06.94zm10 10l.94 2.06.94-2.06 2.06-.94-2.06-.94-.94-2.06-.94 2.06-2.06.94z\"/><path d=\"M17.41 7.96l-1.37-1.37c-.4-.4-.92-.59-1.43-.59-.52 0-1.04.2-1.43.59L10.3 9.45l-7.72 7.72c-.78.78-.78 2.05 0 2.83L4 21.41c.39.39.9.59 1.41.59.51 0 1.02-.2 1.41-.59l7.78-7.78 2.81-2.81c.8-.78.8-2.07 0-2.86zM5.41 20L4 18.59l7.72-7.72 1.47 1.35L5.41 20z\"/>\n",
              "  </svg>\n",
              "      </button>\n",
              "      \n",
              "  <style>\n",
              "    .colab-df-container {\n",
              "      display:flex;\n",
              "      flex-wrap:wrap;\n",
              "      gap: 12px;\n",
              "    }\n",
              "\n",
              "    .colab-df-convert {\n",
              "      background-color: #E8F0FE;\n",
              "      border: none;\n",
              "      border-radius: 50%;\n",
              "      cursor: pointer;\n",
              "      display: none;\n",
              "      fill: #1967D2;\n",
              "      height: 32px;\n",
              "      padding: 0 0 0 0;\n",
              "      width: 32px;\n",
              "    }\n",
              "\n",
              "    .colab-df-convert:hover {\n",
              "      background-color: #E2EBFA;\n",
              "      box-shadow: 0px 1px 2px rgba(60, 64, 67, 0.3), 0px 1px 3px 1px rgba(60, 64, 67, 0.15);\n",
              "      fill: #174EA6;\n",
              "    }\n",
              "\n",
              "    [theme=dark] .colab-df-convert {\n",
              "      background-color: #3B4455;\n",
              "      fill: #D2E3FC;\n",
              "    }\n",
              "\n",
              "    [theme=dark] .colab-df-convert:hover {\n",
              "      background-color: #434B5C;\n",
              "      box-shadow: 0px 1px 3px 1px rgba(0, 0, 0, 0.15);\n",
              "      filter: drop-shadow(0px 1px 2px rgba(0, 0, 0, 0.3));\n",
              "      fill: #FFFFFF;\n",
              "    }\n",
              "  </style>\n",
              "\n",
              "      <script>\n",
              "        const buttonEl =\n",
              "          document.querySelector('#df-d521e7df-46a7-40cb-ac14-b9459b982d46 button.colab-df-convert');\n",
              "        buttonEl.style.display =\n",
              "          google.colab.kernel.accessAllowed ? 'block' : 'none';\n",
              "\n",
              "        async function convertToInteractive(key) {\n",
              "          const element = document.querySelector('#df-d521e7df-46a7-40cb-ac14-b9459b982d46');\n",
              "          const dataTable =\n",
              "            await google.colab.kernel.invokeFunction('convertToInteractive',\n",
              "                                                     [key], {});\n",
              "          if (!dataTable) return;\n",
              "\n",
              "          const docLinkHtml = 'Like what you see? Visit the ' +\n",
              "            '<a target=\"_blank\" href=https://colab.research.google.com/notebooks/data_table.ipynb>data table notebook</a>'\n",
              "            + ' to learn more about interactive tables.';\n",
              "          element.innerHTML = '';\n",
              "          dataTable['output_type'] = 'display_data';\n",
              "          await google.colab.output.renderOutput(dataTable, element);\n",
              "          const docLink = document.createElement('div');\n",
              "          docLink.innerHTML = docLinkHtml;\n",
              "          element.appendChild(docLink);\n",
              "        }\n",
              "      </script>\n",
              "    </div>\n",
              "  </div>\n",
              "  "
            ]
          },
          "metadata": {},
          "execution_count": 5
        }
      ]
    },
    {
      "cell_type": "markdown",
      "source": [
        "### Описание данных:"
      ],
      "metadata": {
        "id": "H1JuK8JTwP-b"
      }
    },
    {
      "cell_type": "code",
      "source": [
        "df.info()"
      ],
      "metadata": {
        "colab": {
          "base_uri": "https://localhost:8080/"
        },
        "id": "pznyZIQoIFNf",
        "outputId": "be01e780-b098-447b-fbb3-63becce3d654"
      },
      "execution_count": null,
      "outputs": [
        {
          "output_type": "stream",
          "name": "stdout",
          "text": [
            "<class 'pandas.core.frame.DataFrame'>\n",
            "RangeIndex: 607 entries, 0 to 606\n",
            "Data columns (total 10 columns):\n",
            " #   Column              Non-Null Count  Dtype \n",
            "---  ------              --------------  ----- \n",
            " 0   work_year           607 non-null    int64 \n",
            " 1   experience_level    607 non-null    object\n",
            " 2   employment_type     607 non-null    object\n",
            " 3   job_title           607 non-null    object\n",
            " 4   salary              607 non-null    int64 \n",
            " 5   salary_in_usd       607 non-null    int64 \n",
            " 6   employee_residence  607 non-null    object\n",
            " 7   remote_ratio        607 non-null    int64 \n",
            " 8   company_location    607 non-null    object\n",
            " 9   company_size        607 non-null    object\n",
            "dtypes: int64(4), object(6)\n",
            "memory usage: 47.5+ KB\n"
          ]
        }
      ]
    },
    {
      "cell_type": "markdown",
      "source": [
        "![image.png](data:image/png;base64,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)"
      ],
      "metadata": {
        "id": "AxI_AYUZxnHg"
      }
    },
    {
      "cell_type": "code",
      "source": [
        "experience = {\n",
        "    \"EN\":0,\n",
        "    \"MI\":1,\n",
        "    \"SE\":2,\n",
        "    \"EX\":3\n",
        "}\n"
      ],
      "metadata": {
        "id": "kFdpv4Ox-yaL"
      },
      "execution_count": null,
      "outputs": []
    },
    {
      "cell_type": "code",
      "source": [
        "df['experience_level'] = df['experience_level'].map(experience)"
      ],
      "metadata": {
        "id": "K5l8fATc_NYR"
      },
      "execution_count": null,
      "outputs": []
    },
    {
      "cell_type": "code",
      "source": [
        "def Titles_reduction(x):\n",
        "    if ( x.find(\"Data Science\")>=0  or  x.find(\"Data Scientist\")>=0   ):\n",
        "        df['job_title'].replace(x,'Data Scientist',inplace = True)\n",
        "    elif ( x.find(\"Analyst\")>=0  or  x.find(\"Analytics\")>=0 ): \n",
        "        df['job_title'].replace(x,'Data Analyst',inplace = True)\n",
        "    elif ( x.find(\"ML\")>=0  or  x.find(\"Machine Learning\")>=0 ) :\n",
        "        df['job_title'].replace(x,'Machine Learning Engineer',inplace = True) \n",
        "    elif ( x.find(\"Data Engineer\")>=0  or  x.find(\"Data Engineering\")>=0 ):\n",
        "        df['job_title'].replace(x,'Data Engineer',inplace = True)\n",
        "    else : \n",
        "        df['job_title'].replace(x,'AI related',inplace = True)"
      ],
      "metadata": {
        "id": "2ojuPLi4_Na8"
      },
      "execution_count": null,
      "outputs": []
    },
    {
      "cell_type": "code",
      "source": [
        "for i in df['job_title']:\n",
        "    Titles_reduction(i)"
      ],
      "metadata": {
        "id": "3IETbt1o_NeP"
      },
      "execution_count": null,
      "outputs": []
    },
    {
      "cell_type": "code",
      "source": [
        "df['job_title'].value_counts()"
      ],
      "metadata": {
        "colab": {
          "base_uri": "https://localhost:8080/"
        },
        "id": "T95mFAen-ycg",
        "outputId": "aba6bd36-7c32-4d28-e11f-cefaadbb4cdb"
      },
      "execution_count": null,
      "outputs": [
        {
          "output_type": "execute_result",
          "data": {
            "text/plain": [
              "Data Scientist               192\n",
              "Data Engineer                158\n",
              "Data Analyst                 135\n",
              "Machine Learning Engineer     68\n",
              "AI related                    54\n",
              "Name: job_title, dtype: int64"
            ]
          },
          "metadata": {},
          "execution_count": 11
        }
      ]
    },
    {
      "cell_type": "code",
      "source": [
        "size = {\n",
        "    \"S\":0,\n",
        "    \"M\":1,\n",
        "    \"L\":2\n",
        "}"
      ],
      "metadata": {
        "id": "JMmqFkq8_5dX"
      },
      "execution_count": null,
      "outputs": []
    },
    {
      "cell_type": "code",
      "source": [
        "df['company_size'] = df['company_size'].map(size)"
      ],
      "metadata": {
        "id": "j92YREIP_5gZ"
      },
      "execution_count": null,
      "outputs": []
    },
    {
      "cell_type": "code",
      "source": [
        "def res(x):\n",
        "    if (x == \"US\"):\n",
        "        return \"US\" \n",
        "    else :\n",
        "        return \"Other\""
      ],
      "metadata": {
        "id": "0RNgPR74_5jC"
      },
      "execution_count": null,
      "outputs": []
    },
    {
      "cell_type": "code",
      "source": [
        "df['employee_residence'] = df['employee_residence'].apply(res)\n",
        "df['company_location'] = df['company_location'].apply(res)"
      ],
      "metadata": {
        "id": "MVC7s3-d__8q"
      },
      "execution_count": null,
      "outputs": []
    },
    {
      "cell_type": "code",
      "source": [
        "# Прологарифмируем зарплату в USD \n",
        "df['salary_in_usd'] = np.log(df['salary_in_usd']) \n",
        "df['salary_in_usd']"
      ],
      "metadata": {
        "colab": {
          "base_uri": "https://localhost:8080/"
        },
        "id": "chvSlahr___I",
        "outputId": "02b7575d-29f0-4092-b8a1-6da139c99cc3"
      },
      "execution_count": null,
      "outputs": [
        {
          "output_type": "execute_result",
          "data": {
            "text/plain": [
              "0      11.287692\n",
              "1      12.468437\n",
              "2      11.599323\n",
              "3       9.903488\n",
              "4      11.918391\n",
              "         ...    \n",
              "602    11.944708\n",
              "603    11.744037\n",
              "604    11.767568\n",
              "605    11.918391\n",
              "606    12.206073\n",
              "Name: salary_in_usd, Length: 607, dtype: float64"
            ]
          },
          "metadata": {},
          "execution_count": 16
        }
      ]
    },
    {
      "cell_type": "code",
      "source": [
        "nums = df.select_dtypes(exclude=\"object\").columns\n",
        "nums"
      ],
      "metadata": {
        "colab": {
          "base_uri": "https://localhost:8080/"
        },
        "id": "IV6_ulT_AABn",
        "outputId": "126404cd-c59f-48bc-cf4b-8247046daae6"
      },
      "execution_count": null,
      "outputs": [
        {
          "output_type": "execute_result",
          "data": {
            "text/plain": [
              "Index(['work_year', 'experience_level', 'salary', 'salary_in_usd',\n",
              "       'remote_ratio', 'company_size'],\n",
              "      dtype='object')"
            ]
          },
          "metadata": {},
          "execution_count": 17
        }
      ]
    },
    {
      "cell_type": "code",
      "source": [
        "cats = df.select_dtypes(include=\"object\").columns\n",
        "cats"
      ],
      "metadata": {
        "colab": {
          "base_uri": "https://localhost:8080/"
        },
        "id": "VQiezFxaAAGu",
        "outputId": "e04e3f6f-7d9a-4ecc-d639-e66920189d94"
      },
      "execution_count": null,
      "outputs": [
        {
          "output_type": "execute_result",
          "data": {
            "text/plain": [
              "Index(['employment_type', 'job_title', 'employee_residence',\n",
              "       'company_location'],\n",
              "      dtype='object')"
            ]
          },
          "metadata": {},
          "execution_count": 18
        }
      ]
    },
    {
      "cell_type": "code",
      "source": [
        "df = df[(df.salary_in_usd < 500_000)]"
      ],
      "metadata": {
        "id": "GrxFXbSlYTEF"
      },
      "execution_count": null,
      "outputs": []
    },
    {
      "cell_type": "code",
      "source": [
        "df['job_title'] = df.job_title.map(lambda x: x.replace(' ','_'))"
      ],
      "metadata": {
        "id": "pYpqucGgKQ52"
      },
      "execution_count": null,
      "outputs": []
    },
    {
      "cell_type": "markdown",
      "source": [
        "### Распределение зарплаты \n"
      ],
      "metadata": {
        "id": "8ei7gnKR7XMV"
      }
    },
    {
      "cell_type": "code",
      "source": [
        "# Распределение зарплаты\n",
        "sns.set()\n",
        "fig, ax = plt.subplots(figsize=(10, 8))\n",
        "sns.distplot(df['salary_in_usd'], ax=ax, label='Y').legend();\n",
        "# px.histogram(df, x = 'salary_in_usd' , template = 'ggplot2' , labels = {'salary_in_usd' : 'salary'} , title = '<b> Распределение зарплаты в USD')"
      ],
      "metadata": {
        "colab": {
          "base_uri": "https://localhost:8080/",
          "height": 502
        },
        "id": "TUUBwudC97YJ",
        "outputId": "9fe37490-eda1-4365-a2cf-0753a3cafb53"
      },
      "execution_count": null,
      "outputs": [
        {
          "output_type": "display_data",
          "data": {
            "text/plain": [
              "<Figure size 720x576 with 1 Axes>"
            ],
            "image/png": "[encoded data removed]"
          },
          "metadata": {}
        }
      ]
    },
    {
      "cell_type": "code",
      "source": [
        "# Выделяем X и Y для дальнейших моделей\n",
        "X, Y = df.drop([\"salary_in_usd\", \"salary\"], axis=1) , df[\"salary_in_usd\"] "
      ],
      "metadata": {
        "id": "YShii9UdY1mp"
      },
      "execution_count": null,
      "outputs": []
    },
    {
      "cell_type": "markdown",
      "source": [
        "# **Машинное обучение с помощью CatBoostRegressor**\n",
        "\n"
      ],
      "metadata": {
        "id": "T_MRczSN_I2C"
      }
    },
    {
      "cell_type": "markdown",
      "source": [
        "### **Разделяем данные с помощью train_test_split**"
      ],
      "metadata": {
        "id": "Mh96BRZfHcEE"
      }
    },
    {
      "cell_type": "code",
      "source": [
        "# Выделяем X и Y для дальнейших моделей\n",
        "X, Y = df.drop([\"salary_in_usd\", \"salary\"], axis=1) , df[\"salary_in_usd\"] "
      ],
      "metadata": {
        "id": "9s92LhcgBAxf"
      },
      "execution_count": null,
      "outputs": []
    },
    {
      "cell_type": "code",
      "source": [
        "X_train, X_test, y_train, y_test = train_test_split(X, Y, train_size=0.7, random_state=32)\n",
        "\n",
        "# В качестве признаков выбираем все данные, которые не float \n",
        "cat_features = np.where(X.dtypes != np.float)[0]"
      ],
      "metadata": {
        "id": "7HlSlIXa75zp"
      },
      "execution_count": null,
      "outputs": []
    },
    {
      "cell_type": "markdown",
      "source": [
        "### **Запускаем градиентный бустинг** "
      ],
      "metadata": {
        "id": "1Fnu5SiyY_nS"
      }
    },
    {
      "cell_type": "code",
      "source": [
        "model = CatBoostRegressor (\n",
        "        iterations=200,\n",
        "        learning_rate=0.05,\n",
        "        loss_function='RMSE',\n",
        "        random_seed=32, \n",
        "        depth=7 \n",
        ")\n",
        "\n",
        "model.fit(X, Y,\n",
        "        cat_features=cat_features,\n",
        "        eval_set=(X_test, y_test),\n",
        "        verbose=25,\n",
        "        plot=True\n",
        ")"
      ],
      "metadata": {
        "colab": {
          "base_uri": "https://localhost:8080/",
          "height": 260,
          "referenced_widgets": [
            "aa40dc497cff4a9f957c1292621d61e6"
          ]
        },
        "id": "e9SO8rOl753t",
        "outputId": "61a11d3d-79bf-4b28-ee91-77f96de1dfb3"
      },
      "execution_count": null,
      "outputs": [
        {
          "output_type": "display_data",
          "data": {
            "text/plain": [
              "MetricVisualizer(layout=Layout(align_self='stretch', height='500px'))"
            ],
            "application/vnd.jupyter.widget-view+json": {
              "version_major": 2,
              "version_minor": 0,
              "model_id": "aa40dc497cff4a9f957c1292621d61e6"
            }
          },
          "metadata": {}
        },
        {
          "output_type": "stream",
          "name": "stdout",
          "text": [
            "0:\tlearn: 0.7564951\ttest: 0.7361185\tbest: 0.7361185 (0)\ttotal: 2.97ms\tremaining: 591ms\n",
            "25:\tlearn: 0.5585152\ttest: 0.5292910\tbest: 0.5292910 (25)\ttotal: 62.2ms\tremaining: 416ms\n",
            "50:\tlearn: 0.5013679\ttest: 0.4790580\tbest: 0.4790580 (50)\ttotal: 120ms\tremaining: 351ms\n",
            "75:\tlearn: 0.4768245\ttest: 0.4627914\tbest: 0.4627914 (75)\ttotal: 177ms\tremaining: 288ms\n",
            "100:\tlearn: 0.4595264\ttest: 0.4543351\tbest: 0.4543351 (100)\ttotal: 236ms\tremaining: 231ms\n",
            "125:\tlearn: 0.4400370\ttest: 0.4469259\tbest: 0.4469259 (125)\ttotal: 298ms\tremaining: 175ms\n",
            "150:\tlearn: 0.4270476\ttest: 0.4399297\tbest: 0.4396496 (144)\ttotal: 359ms\tremaining: 116ms\n",
            "175:\tlearn: 0.4174184\ttest: 0.4366190\tbest: 0.4366190 (175)\ttotal: 419ms\tremaining: 57.1ms\n",
            "199:\tlearn: 0.4094916\ttest: 0.4330470\tbest: 0.4330470 (199)\ttotal: 484ms\tremaining: 0us\n",
            "\n",
            "bestTest = 0.4330470068\n",
            "bestIteration = 199\n",
            "\n"
          ]
        },
        {
          "output_type": "execute_result",
          "data": {
            "text/plain": [
              "<catboost.core.CatBoostRegressor at 0x7f6707f993a0>"
            ]
          },
          "metadata": {},
          "execution_count": 45
        }
      ]
    },
    {
      "cell_type": "code",
      "source": [
        "model.predict(X)"
      ],
      "metadata": {
        "id": "qLkCUExd_QGZ"
      },
      "execution_count": null,
      "outputs": []
    },
    {
      "cell_type": "code",
      "source": [
        "model.best_score_"
      ],
      "metadata": {
        "colab": {
          "base_uri": "https://localhost:8080/"
        },
        "id": "yXo8H5FmMMIH",
        "outputId": "580f1c33-e020-41ce-cb6c-06b694a910ab"
      },
      "execution_count": null,
      "outputs": [
        {
          "output_type": "execute_result",
          "data": {
            "text/plain": [
              "{'learn': {'RMSE': 0.4094916433364214},\n",
              " 'validation': {'RMSE': 0.43304700679710856}}"
            ]
          },
          "metadata": {},
          "execution_count": 47
        }
      ]
    },
    {
      "cell_type": "markdown",
      "source": [
        "### **Различные метрики:**"
      ],
      "metadata": {
        "id": "w4KPvH2weqq_"
      }
    },
    {
      "cell_type": "code",
      "source": [
        "print(f'The R-squared value : {r2_score(Y, model.predict(X))}')\n",
        "print(f'RMSE : {np.sqrt(mean_squared_error(Y, model.predict(X)))}')\n",
        "print(f'MAE : {mean_absolute_error(Y, model.predict(X))}')\n",
        "print(f'RMSLE : {np.sqrt(mean_squared_log_error(Y, model.predict(X)))}')\n",
        "print(f'MAPE : {mean_absolute_percentage_error(Y, model.predict(X))}')"
      ],
      "metadata": {
        "colab": {
          "base_uri": "https://localhost:8080/"
        },
        "id": "unnwzqzt29MW",
        "outputId": "e83c7e7a-b002-4954-de8b-5aa381fdd634"
      },
      "execution_count": null,
      "outputs": [
        {
          "output_type": "stream",
          "name": "stdout",
          "text": [
            "The R-squared value : 0.6480043928955711\n",
            "RMSE : 0.4589159939769242\n",
            "MAE : 0.3290423058039776\n",
            "RMSLE : 0.03945569603276474\n",
            "MAPE : 0.030062273191435465\n"
          ]
        }
      ]
    },
    {
      "cell_type": "code",
      "source": [
        "# Точность для тренировочных данных \n",
        "\n",
        "# print(f'The R-squared value : {r2_score(y_train, model.predict(X_train))}')\n",
        "# print(f'RMSE : {np.sqrt(mean_squared_error(y_train, model.predict(X_train)))}')\n",
        "# print(f'MAE : {mean_absolute_error(y_train, model.predict(X_train))}')\n",
        "# print(f'RMSLE : {np.sqrt(mean_squared_log_error(y_train, model.predict(X_train)))}')\n",
        "# print(f'MAPE : {mean_absolute_percentage_error(y_train, model.predict(X_train))}')"
      ],
      "metadata": {
        "colab": {
          "base_uri": "https://localhost:8080/"
        },
        "id": "x9a6ukl9eq1E",
        "outputId": "00e8990e-ee79-400f-84fd-62903454d2fd"
      },
      "execution_count": null,
      "outputs": [
        {
          "output_type": "stream",
          "name": "stdout",
          "text": [
            "The R-squared value : 0.6389213125276163\n",
            "RMSE : 0.46964114336853807\n",
            "MAE : 0.33624423664071185\n",
            "RMSLE : 0.040379980113958186\n",
            "MAPE : 0.030680526224414844\n"
          ]
        }
      ]
    },
    {
      "cell_type": "code",
      "source": [
        "# # Точность для тестируемых данных\n",
        "\n",
        "# print(f'The R-squared value: {r2_score(y_test, model.predict(X_test))}') \n",
        "# print(f'RMSE : {np.sqrt(mean_squared_error(y_test, model.predict(X_test)))}')\n",
        "# print(f'MAE : {mean_absolute_error(y_test, model.predict(X_test))}')\n",
        "# print(f'RMSLE : {np.sqrt(mean_squared_log_error(y_test, model.predict(X_test)))}')\n",
        "# print(f'MAPE : {mean_absolute_percentage_error(y_test, model.predict(X_test))}')"
      ],
      "metadata": {
        "colab": {
          "base_uri": "https://localhost:8080/"
        },
        "id": "cfXRrx24iA08",
        "outputId": "0c84b2eb-d5f9-48cf-8adc-36022110ff23"
      },
      "execution_count": null,
      "outputs": [
        {
          "output_type": "stream",
          "name": "stdout",
          "text": [
            "The R-squared value: 0.6702583106855562\n",
            "RMSE : 0.4330469770988237\n",
            "MAE : 0.3123558649582105\n",
            "RMSLE : 0.037226106404885266\n",
            "MAPE : 0.02862981807677287\n"
          ]
        }
      ]
    },
    {
      "cell_type": "markdown",
      "source": [
        "### **Оценка влияния признаков**"
      ],
      "metadata": {
        "id": "tN5Vw1aSav4s"
      }
    },
    {
      "cell_type": "code",
      "source": [
        "features_value = model.get_feature_importance()\n",
        "features_name = X.columns.values\n",
        "\n",
        "print('Значения признаков: ')\n",
        "for i in range(len(features_name)):\n",
        "  print(f'{features_name[i]}: {np.round(features_value[i], 3)}')"
      ],
      "metadata": {
        "colab": {
          "base_uri": "https://localhost:8080/"
        },
        "id": "u2cqiC8yRPGG",
        "outputId": "dac6424e-c4a7-434a-c44f-1391af331c05"
      },
      "execution_count": null,
      "outputs": [
        {
          "output_type": "stream",
          "name": "stdout",
          "text": [
            "Значения признаков: \n",
            "work_year: 11.259\n",
            "experience_level: 21.699\n",
            "employment_type: 3.687\n",
            "job_title: 11.626\n",
            "employee_residence: 34.546\n",
            "remote_ratio: 5.073\n",
            "company_location: 3.16\n",
            "company_size: 8.95\n"
          ]
        }
      ]
    },
    {
      "cell_type": "markdown",
      "source": [
        "# **Таблица сравнения итоговых результатов**"
      ],
      "metadata": {
        "id": "eUQn1CgVbGgn"
      }
    },
    {
      "cell_type": "code",
      "source": [
        "comparison = pd.DataFrame({'Real_Item_Outlet_Sales': y_test,'Model_Item_Outlet_Sales': model.predict(X_test), 'Differences (%)': abs(((y_test-model.predict(X_test))/y_test)*100)})\n",
        "comparison"
      ],
      "metadata": {
        "colab": {
          "base_uri": "https://localhost:8080/",
          "height": 424
        },
        "id": "hvKbNQ_JfqOI",
        "outputId": "017cd6ee-0c49-4072-8428-375a14ed447c"
      },
      "execution_count": null,
      "outputs": [
        {
          "output_type": "execute_result",
          "data": {
            "text/plain": [
              "     Real_Item_Outlet_Sales  Model_Item_Outlet_Sales  Differences (%)\n",
              "51                11.418615                11.341751         0.673147\n",
              "19                10.933107                10.747620         1.696567\n",
              "438               12.152936                11.830159         2.655951\n",
              "238                8.294050                10.289678        24.060970\n",
              "188               11.249390                11.418174         1.500385\n",
              "..                      ...                      ...              ...\n",
              "242               11.608236                11.795875         1.616430\n",
              "70                11.046531                10.664149         3.461559\n",
              "558               12.232228                11.820643         3.364754\n",
              "182               10.166044                10.835041         6.580698\n",
              "10                10.845855                10.444662         3.699050\n",
              "\n",
              "[183 rows x 3 columns]"
            ],
            "text/html": [
              "\n",
              "  <div id=\"df-5841cbe7-c029-4dd7-a77b-785803b5196d\">\n",
              "    <div class=\"colab-df-container\">\n",
              "      <div>\n",
              "<style scoped>\n",
              "    .dataframe tbody tr th:only-of-type {\n",
              "        vertical-align: middle;\n",
              "    }\n",
              "\n",
              "    .dataframe tbody tr th {\n",
              "        vertical-align: top;\n",
              "    }\n",
              "\n",
              "    .dataframe thead th {\n",
              "        text-align: right;\n",
              "    }\n",
              "</style>\n",
              "<table border=\"1\" class=\"dataframe\">\n",
              "  <thead>\n",
              "    <tr style=\"text-align: right;\">\n",
              "      <th></th>\n",
              "      <th>Real_Item_Outlet_Sales</th>\n",
              "      <th>Model_Item_Outlet_Sales</th>\n",
              "      <th>Differences (%)</th>\n",
              "    </tr>\n",
              "  </thead>\n",
              "  <tbody>\n",
              "    <tr>\n",
              "      <th>51</th>\n",
              "      <td>11.418615</td>\n",
              "      <td>11.341751</td>\n",
              "      <td>0.673147</td>\n",
              "    </tr>\n",
              "    <tr>\n",
              "      <th>19</th>\n",
              "      <td>10.933107</td>\n",
              "      <td>10.747620</td>\n",
              "      <td>1.696567</td>\n",
              "    </tr>\n",
              "    <tr>\n",
              "      <th>438</th>\n",
              "      <td>12.152936</td>\n",
              "      <td>11.830159</td>\n",
              "      <td>2.655951</td>\n",
              "    </tr>\n",
              "    <tr>\n",
              "      <th>238</th>\n",
              "      <td>8.294050</td>\n",
              "      <td>10.289678</td>\n",
              "      <td>24.060970</td>\n",
              "    </tr>\n",
              "    <tr>\n",
              "      <th>188</th>\n",
              "      <td>11.249390</td>\n",
              "      <td>11.418174</td>\n",
              "      <td>1.500385</td>\n",
              "    </tr>\n",
              "    <tr>\n",
              "      <th>...</th>\n",
              "      <td>...</td>\n",
              "      <td>...</td>\n",
              "      <td>...</td>\n",
              "    </tr>\n",
              "    <tr>\n",
              "      <th>242</th>\n",
              "      <td>11.608236</td>\n",
              "      <td>11.795875</td>\n",
              "      <td>1.616430</td>\n",
              "    </tr>\n",
              "    <tr>\n",
              "      <th>70</th>\n",
              "      <td>11.046531</td>\n",
              "      <td>10.664149</td>\n",
              "      <td>3.461559</td>\n",
              "    </tr>\n",
              "    <tr>\n",
              "      <th>558</th>\n",
              "      <td>12.232228</td>\n",
              "      <td>11.820643</td>\n",
              "      <td>3.364754</td>\n",
              "    </tr>\n",
              "    <tr>\n",
              "      <th>182</th>\n",
              "      <td>10.166044</td>\n",
              "      <td>10.835041</td>\n",
              "      <td>6.580698</td>\n",
              "    </tr>\n",
              "    <tr>\n",
              "      <th>10</th>\n",
              "      <td>10.845855</td>\n",
              "      <td>10.444662</td>\n",
              "      <td>3.699050</td>\n",
              "    </tr>\n",
              "  </tbody>\n",
              "</table>\n",
              "<p>183 rows × 3 columns</p>\n",
              "</div>\n",
              "      <button class=\"colab-df-convert\" onclick=\"convertToInteractive('df-5841cbe7-c029-4dd7-a77b-785803b5196d')\"\n",
              "              title=\"Convert this dataframe to an interactive table.\"\n",
              "              style=\"display:none;\">\n",
              "        \n",
              "  <svg xmlns=\"http://www.w3.org/2000/svg\" height=\"24px\"viewBox=\"0 0 24 24\"\n",
              "       width=\"24px\">\n",
              "    <path d=\"M0 0h24v24H0V0z\" fill=\"none\"/>\n",
              "    <path d=\"M18.56 5.44l.94 2.06.94-2.06 2.06-.94-2.06-.94-.94-2.06-.94 2.06-2.06.94zm-11 1L8.5 8.5l.94-2.06 2.06-.94-2.06-.94L8.5 2.5l-.94 2.06-2.06.94zm10 10l.94 2.06.94-2.06 2.06-.94-2.06-.94-.94-2.06-.94 2.06-2.06.94z\"/><path d=\"M17.41 7.96l-1.37-1.37c-.4-.4-.92-.59-1.43-.59-.52 0-1.04.2-1.43.59L10.3 9.45l-7.72 7.72c-.78.78-.78 2.05 0 2.83L4 21.41c.39.39.9.59 1.41.59.51 0 1.02-.2 1.41-.59l7.78-7.78 2.81-2.81c.8-.78.8-2.07 0-2.86zM5.41 20L4 18.59l7.72-7.72 1.47 1.35L5.41 20z\"/>\n",
              "  </svg>\n",
              "      </button>\n",
              "      \n",
              "  <style>\n",
              "    .colab-df-container {\n",
              "      display:flex;\n",
              "      flex-wrap:wrap;\n",
              "      gap: 12px;\n",
              "    }\n",
              "\n",
              "    .colab-df-convert {\n",
              "      background-color: #E8F0FE;\n",
              "      border: none;\n",
              "      border-radius: 50%;\n",
              "      cursor: pointer;\n",
              "      display: none;\n",
              "      fill: #1967D2;\n",
              "      height: 32px;\n",
              "      padding: 0 0 0 0;\n",
              "      width: 32px;\n",
              "    }\n",
              "\n",
              "    .colab-df-convert:hover {\n",
              "      background-color: #E2EBFA;\n",
              "      box-shadow: 0px 1px 2px rgba(60, 64, 67, 0.3), 0px 1px 3px 1px rgba(60, 64, 67, 0.15);\n",
              "      fill: #174EA6;\n",
              "    }\n",
              "\n",
              "    [theme=dark] .colab-df-convert {\n",
              "      background-color: #3B4455;\n",
              "      fill: #D2E3FC;\n",
              "    }\n",
              "\n",
              "    [theme=dark] .colab-df-convert:hover {\n",
              "      background-color: #434B5C;\n",
              "      box-shadow: 0px 1px 3px 1px rgba(0, 0, 0, 0.15);\n",
              "      filter: drop-shadow(0px 1px 2px rgba(0, 0, 0, 0.3));\n",
              "      fill: #FFFFFF;\n",
              "    }\n",
              "  </style>\n",
              "\n",
              "      <script>\n",
              "        const buttonEl =\n",
              "          document.querySelector('#df-5841cbe7-c029-4dd7-a77b-785803b5196d button.colab-df-convert');\n",
              "        buttonEl.style.display =\n",
              "          google.colab.kernel.accessAllowed ? 'block' : 'none';\n",
              "\n",
              "        async function convertToInteractive(key) {\n",
              "          const element = document.querySelector('#df-5841cbe7-c029-4dd7-a77b-785803b5196d');\n",
              "          const dataTable =\n",
              "            await google.colab.kernel.invokeFunction('convertToInteractive',\n",
              "                                                     [key], {});\n",
              "          if (!dataTable) return;\n",
              "\n",
              "          const docLinkHtml = 'Like what you see? Visit the ' +\n",
              "            '<a target=\"_blank\" href=https://colab.research.google.com/notebooks/data_table.ipynb>data table notebook</a>'\n",
              "            + ' to learn more about interactive tables.';\n",
              "          element.innerHTML = '';\n",
              "          dataTable['output_type'] = 'display_data';\n",
              "          await google.colab.output.renderOutput(dataTable, element);\n",
              "          const docLink = document.createElement('div');\n",
              "          docLink.innerHTML = docLinkHtml;\n",
              "          element.appendChild(docLink);\n",
              "        }\n",
              "      </script>\n",
              "    </div>\n",
              "  </div>\n",
              "  "
            ]
          },
          "metadata": {},
          "execution_count": 41
        }
      ]
    },
    {
      "cell_type": "code",
      "source": [
        "df['Y_hat'] = model.predict(X)"
      ],
      "metadata": {
        "id": "xmm1fnjO6b7d"
      },
      "execution_count": null,
      "outputs": []
    },
    {
      "cell_type": "code",
      "source": [
        "fig, ax = plt.subplots(figsize=(10, 8))\n",
        "sns.distplot(df['salary_in_usd'], ax=ax, label='Y').legend()\n",
        "sns.distplot(df['Y_hat'], ax=ax, label='Y_hat').legend()\n",
        "ax.set_xlabel('Salary_in_usd', size=20);"
      ],
      "metadata": {
        "colab": {
          "base_uri": "https://localhost:8080/",
          "height": 509
        },
        "id": "n913Uw1O6mfv",
        "outputId": "ee2c526f-fd8c-4ed6-c8cc-5bcc1272202d"
      },
      "execution_count": null,
      "outputs": [
        {
          "output_type": "display_data",
          "data": {
            "text/plain": [
              "<Figure size 720x576 with 1 Axes>"
            ],
            "image/png": "[encoded data removed]"
          },
          "metadata": {}
        }
      ]
    },
    {
      "cell_type": "markdown",
      "source": [
        "# **XGBoost**"
      ],
      "metadata": {
        "id": "MunYuyd3qRvt"
      }
    },
    {
      "cell_type": "code",
      "source": [
        "df.info()"
      ],
      "metadata": {
        "colab": {
          "base_uri": "https://localhost:8080/"
        },
        "id": "noCBKVn0553q",
        "outputId": "cbb79bed-fe19-42f6-8f23-4b9b67504931"
      },
      "execution_count": null,
      "outputs": [
        {
          "output_type": "stream",
          "name": "stdout",
          "text": [
            "<class 'pandas.core.frame.DataFrame'>\n",
            "Int64Index: 607 entries, 0 to 606\n",
            "Data columns (total 10 columns):\n",
            " #   Column              Non-Null Count  Dtype  \n",
            "---  ------              --------------  -----  \n",
            " 0   work_year           607 non-null    int64  \n",
            " 1   experience_level    607 non-null    int64  \n",
            " 2   employment_type     607 non-null    object \n",
            " 3   job_title           607 non-null    object \n",
            " 4   salary              607 non-null    int64  \n",
            " 5   salary_in_usd       607 non-null    float64\n",
            " 6   employee_residence  607 non-null    object \n",
            " 7   remote_ratio        607 non-null    int64  \n",
            " 8   company_location    607 non-null    object \n",
            " 9   company_size        607 non-null    int64  \n",
            "dtypes: float64(1), int64(5), object(4)\n",
            "memory usage: 52.2+ KB\n"
          ]
        }
      ]
    },
    {
      "cell_type": "markdown",
      "source": [
        "### **Разделяем данные с помощью train_test_split**"
      ],
      "metadata": {
        "id": "NrP3xA4_rQ6r"
      }
    },
    {
      "cell_type": "code",
      "source": [
        "df1 = pd.get_dummies(df,columns=cats,drop_first=True)"
      ],
      "metadata": {
        "id": "fZQfZqSSBAuX"
      },
      "execution_count": null,
      "outputs": []
    },
    {
      "cell_type": "code",
      "source": [
        "# define dataset\n",
        "X, Y = df1.drop([\"salary_in_usd\", \"salary\"], axis=1) , df1[\"salary_in_usd\"] "
      ],
      "metadata": {
        "id": "gRqgU8DXcmhk"
      },
      "execution_count": null,
      "outputs": []
    },
    {
      "cell_type": "code",
      "source": [
        "X_train, X_test, y_train, y_test = train_test_split(X, Y, train_size=0.75, random_state=42)"
      ],
      "metadata": {
        "id": "R4PbnK46rQ6z"
      },
      "execution_count": null,
      "outputs": []
    },
    {
      "cell_type": "markdown",
      "source": [
        "### **Машинное обучение**"
      ],
      "metadata": {
        "id": "ATOZm4SwuxFq"
      }
    },
    {
      "cell_type": "code",
      "source": [
        "model = xgboost.XGBRegressor().fit(X, Y)"
      ],
      "metadata": {
        "colab": {
          "base_uri": "https://localhost:8080/"
        },
        "id": "y-eWIatlnL-n",
        "outputId": "77322c1e-95f0-4431-eb3b-5e2859c48830"
      },
      "execution_count": null,
      "outputs": [
        {
          "output_type": "stream",
          "name": "stdout",
          "text": [
            "[11:20:40] WARNING: /workspace/src/objective/regression_obj.cu:152: reg:linear is now deprecated in favor of reg:squarederror.\n"
          ]
        }
      ]
    },
    {
      "cell_type": "code",
      "source": [
        "model.predict(X)"
      ],
      "metadata": {
        "id": "pAY100Wtsc-5"
      },
      "execution_count": null,
      "outputs": []
    },
    {
      "cell_type": "markdown",
      "source": [
        "### **Различные метрики:**"
      ],
      "metadata": {
        "id": "2cOM6OcBsc-6"
      }
    },
    {
      "cell_type": "code",
      "source": [
        "print(f'The R-squared value : {r2_score(Y, model.predict(X))}')\n",
        "print(f'RMSE : {np.sqrt(mean_squared_error(Y, model.predict(X)))}')\n",
        "print(f'MAE : {mean_absolute_error(Y, model.predict(X))}')\n",
        "print(f'RMSLE : {np.sqrt(mean_squared_log_error(Y, model.predict(X)))}')\n",
        "print(f'MAPE : {mean_absolute_percentage_error(Y, model.predict(X))}')"
      ],
      "metadata": {
        "colab": {
          "base_uri": "https://localhost:8080/"
        },
        "id": "cGfn8gdc3K-t",
        "outputId": "6b76893d-4d55-4702-f82c-dbbbc7914659"
      },
      "execution_count": null,
      "outputs": [
        {
          "output_type": "stream",
          "name": "stdout",
          "text": [
            "The R-squared value : 0.776626088695758\n",
            "RMSE : 0.36557862619759435\n",
            "MAE : 0.27078228622881634\n",
            "RMSLE : 0.03078109980375362\n",
            "MAPE : 0.024412673019746138\n"
          ]
        }
      ]
    },
    {
      "cell_type": "code",
      "source": [
        "# # Точность для тренировочных данных \n",
        "\n",
        "# print(f'The R-squared value : {r2_score(y_train, model.predict(X_train))}')\n",
        "# print(f'RMSE : {np.sqrt(mean_squared_error(y_train, model.predict(X_train)))}')\n",
        "# print(f'MAE : {mean_absolute_error(y_train, model.predict(X_train))}')\n",
        "# print(f'RMSLE : {np.sqrt(mean_squared_log_error(y_train, model.predict(X_train)))}')\n",
        "# print(f'MAPE : {mean_absolute_percentage_error(y_train, model.predict(X_train))}')"
      ],
      "metadata": {
        "id": "E5ktnwP-sc-7"
      },
      "execution_count": null,
      "outputs": []
    },
    {
      "cell_type": "code",
      "source": [
        "# # Точность для тестируемых данных\n",
        "\n",
        "# print(f'The R-squared value: {r2_score(y_test, model.predict(X_test))}') \n",
        "# print(f'RMSE : {np.sqrt(mean_squared_error(y_test, model.predict(X_test)))}')\n",
        "# print(f'MAE : {mean_absolute_error(y_test, model.predict(X_test))}')\n",
        "# print(f'RMSLE : {np.sqrt(mean_squared_log_error(y_test, model.predict(X_test)))}')\n",
        "# print(f'MAPE : {mean_absolute_percentage_error(y_test, model.predict(X_test))}')"
      ],
      "metadata": {
        "id": "M1eMqhUFsc-7"
      },
      "execution_count": null,
      "outputs": []
    },
    {
      "cell_type": "code",
      "source": [
        "df['Y_hat'] = model.predict(X)"
      ],
      "metadata": {
        "id": "tUOn60aa3qZR"
      },
      "execution_count": null,
      "outputs": []
    },
    {
      "cell_type": "code",
      "source": [
        "fig, ax = plt.subplots(figsize=(10, 8))\n",
        "sns.distplot(df['salary_in_usd'], ax=ax, label='Y').legend()\n",
        "sns.distplot(df['Y_hat'], ax=ax, label='Y_hat').legend()\n",
        "ax.set_xlabel('Salary_in_usd', size=20);"
      ],
      "metadata": {
        "colab": {
          "base_uri": "https://localhost:8080/",
          "height": 510
        },
        "outputId": "88d38d25-af88-4b64-826e-e612a3ac083d",
        "id": "nzEL2zN_3qZS"
      },
      "execution_count": null,
      "outputs": [
        {
          "output_type": "display_data",
          "data": {
            "text/plain": [
              "<Figure size 720x576 with 1 Axes>"
            ],
            "image/png": "[encoded data removed]"
          },
          "metadata": {}
        }
      ]
    }
  ]
}