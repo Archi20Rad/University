{
  "nbformat": 4,
  "nbformat_minor": 0,
  "metadata": {
    "colab": {
      "provenance": []
    },
    "kernelspec": {
      "name": "python3",
      "display_name": "Python 3"
    },
    "language_info": {
      "name": "python"
    }
  },
  "cells": [
    {
      "cell_type": "markdown",
      "source": [
        "# Выполнил:\n",
        "# Радайкин Артём, ПМ20-4 "
      ],
      "metadata": {
        "id": "zSTT2Zl8FQF2"
      }
    },
    {
      "cell_type": "markdown",
      "source": [
        "## Загружаем данные"
      ],
      "metadata": {
        "id": "aO90CBMFXQxg"
      }
    },
    {
      "cell_type": "code",
      "source": [
        "import numpy as np\n",
        "import pandas as pd\n",
        "import statsmodels.api as sm\n",
        "import patsy as pt\n",
        "import sklearn.linear_model as lm\n",
        "import scipy.stats as sts\n",
        "import seaborn as sns\n",
        "import matplotlib.pyplot as plt"
      ],
      "metadata": {
        "id": "0t-oMcD9zVxw"
      },
      "execution_count": null,
      "outputs": []
    },
    {
      "cell_type": "code",
      "source": [
        "df = pd.read_excel('/content/drive/MyDrive/Colab Notebooks/Эконометрика /Данные_7.xlsx')\n",
        "df.head(5)"
      ],
      "metadata": {
        "id": "JwSfFvB1qIUb",
        "colab": {
          "base_uri": "https://localhost:8080/",
          "height": 206
        },
        "outputId": "cd259b9e-2547-4715-869c-52fb1a577831"
      },
      "execution_count": null,
      "outputs": [
        {
          "output_type": "execute_result",
          "data": {
            "text/plain": [
              "      Y     X1     X2     X3\n",
              "0  15.3  135.2  109.5  125.2\n",
              "1  18.6   86.5  111.4  112.2\n",
              "2  19.4  107.4  105.3  105.1\n",
              "3  18.1  108.1  105.1  112.4\n",
              "4  19.9  104.6  112.0  106.2"
            ],
            "text/html": [
              "\n",
              "  <div id=\"df-d07ecb5e-57f9-49e2-9c79-44ed1041e08a\">\n",
              "    <div class=\"colab-df-container\">\n",
              "      <div>\n",
              "<style scoped>\n",
              "    .dataframe tbody tr th:only-of-type {\n",
              "        vertical-align: middle;\n",
              "    }\n",
              "\n",
              "    .dataframe tbody tr th {\n",
              "        vertical-align: top;\n",
              "    }\n",
              "\n",
              "    .dataframe thead th {\n",
              "        text-align: right;\n",
              "    }\n",
              "</style>\n",
              "<table border=\"1\" class=\"dataframe\">\n",
              "  <thead>\n",
              "    <tr style=\"text-align: right;\">\n",
              "      <th></th>\n",
              "      <th>Y</th>\n",
              "      <th>X1</th>\n",
              "      <th>X2</th>\n",
              "      <th>X3</th>\n",
              "    </tr>\n",
              "  </thead>\n",
              "  <tbody>\n",
              "    <tr>\n",
              "      <th>0</th>\n",
              "      <td>15.3</td>\n",
              "      <td>135.2</td>\n",
              "      <td>109.5</td>\n",
              "      <td>125.2</td>\n",
              "    </tr>\n",
              "    <tr>\n",
              "      <th>1</th>\n",
              "      <td>18.6</td>\n",
              "      <td>86.5</td>\n",
              "      <td>111.4</td>\n",
              "      <td>112.2</td>\n",
              "    </tr>\n",
              "    <tr>\n",
              "      <th>2</th>\n",
              "      <td>19.4</td>\n",
              "      <td>107.4</td>\n",
              "      <td>105.3</td>\n",
              "      <td>105.1</td>\n",
              "    </tr>\n",
              "    <tr>\n",
              "      <th>3</th>\n",
              "      <td>18.1</td>\n",
              "      <td>108.1</td>\n",
              "      <td>105.1</td>\n",
              "      <td>112.4</td>\n",
              "    </tr>\n",
              "    <tr>\n",
              "      <th>4</th>\n",
              "      <td>19.9</td>\n",
              "      <td>104.6</td>\n",
              "      <td>112.0</td>\n",
              "      <td>106.2</td>\n",
              "    </tr>\n",
              "  </tbody>\n",
              "</table>\n",
              "</div>\n",
              "      <button class=\"colab-df-convert\" onclick=\"convertToInteractive('df-d07ecb5e-57f9-49e2-9c79-44ed1041e08a')\"\n",
              "              title=\"Convert this dataframe to an interactive table.\"\n",
              "              style=\"display:none;\">\n",
              "        \n",
              "  <svg xmlns=\"http://www.w3.org/2000/svg\" height=\"24px\"viewBox=\"0 0 24 24\"\n",
              "       width=\"24px\">\n",
              "    <path d=\"M0 0h24v24H0V0z\" fill=\"none\"/>\n",
              "    <path d=\"M18.56 5.44l.94 2.06.94-2.06 2.06-.94-2.06-.94-.94-2.06-.94 2.06-2.06.94zm-11 1L8.5 8.5l.94-2.06 2.06-.94-2.06-.94L8.5 2.5l-.94 2.06-2.06.94zm10 10l.94 2.06.94-2.06 2.06-.94-2.06-.94-.94-2.06-.94 2.06-2.06.94z\"/><path d=\"M17.41 7.96l-1.37-1.37c-.4-.4-.92-.59-1.43-.59-.52 0-1.04.2-1.43.59L10.3 9.45l-7.72 7.72c-.78.78-.78 2.05 0 2.83L4 21.41c.39.39.9.59 1.41.59.51 0 1.02-.2 1.41-.59l7.78-7.78 2.81-2.81c.8-.78.8-2.07 0-2.86zM5.41 20L4 18.59l7.72-7.72 1.47 1.35L5.41 20z\"/>\n",
              "  </svg>\n",
              "      </button>\n",
              "      \n",
              "  <style>\n",
              "    .colab-df-container {\n",
              "      display:flex;\n",
              "      flex-wrap:wrap;\n",
              "      gap: 12px;\n",
              "    }\n",
              "\n",
              "    .colab-df-convert {\n",
              "      background-color: #E8F0FE;\n",
              "      border: none;\n",
              "      border-radius: 50%;\n",
              "      cursor: pointer;\n",
              "      display: none;\n",
              "      fill: #1967D2;\n",
              "      height: 32px;\n",
              "      padding: 0 0 0 0;\n",
              "      width: 32px;\n",
              "    }\n",
              "\n",
              "    .colab-df-convert:hover {\n",
              "      background-color: #E2EBFA;\n",
              "      box-shadow: 0px 1px 2px rgba(60, 64, 67, 0.3), 0px 1px 3px 1px rgba(60, 64, 67, 0.15);\n",
              "      fill: #174EA6;\n",
              "    }\n",
              "\n",
              "    [theme=dark] .colab-df-convert {\n",
              "      background-color: #3B4455;\n",
              "      fill: #D2E3FC;\n",
              "    }\n",
              "\n",
              "    [theme=dark] .colab-df-convert:hover {\n",
              "      background-color: #434B5C;\n",
              "      box-shadow: 0px 1px 3px 1px rgba(0, 0, 0, 0.15);\n",
              "      filter: drop-shadow(0px 1px 2px rgba(0, 0, 0, 0.3));\n",
              "      fill: #FFFFFF;\n",
              "    }\n",
              "  </style>\n",
              "\n",
              "      <script>\n",
              "        const buttonEl =\n",
              "          document.querySelector('#df-d07ecb5e-57f9-49e2-9c79-44ed1041e08a button.colab-df-convert');\n",
              "        buttonEl.style.display =\n",
              "          google.colab.kernel.accessAllowed ? 'block' : 'none';\n",
              "\n",
              "        async function convertToInteractive(key) {\n",
              "          const element = document.querySelector('#df-d07ecb5e-57f9-49e2-9c79-44ed1041e08a');\n",
              "          const dataTable =\n",
              "            await google.colab.kernel.invokeFunction('convertToInteractive',\n",
              "                                                     [key], {});\n",
              "          if (!dataTable) return;\n",
              "\n",
              "          const docLinkHtml = 'Like what you see? Visit the ' +\n",
              "            '<a target=\"_blank\" href=https://colab.research.google.com/notebooks/data_table.ipynb>data table notebook</a>'\n",
              "            + ' to learn more about interactive tables.';\n",
              "          element.innerHTML = '';\n",
              "          dataTable['output_type'] = 'display_data';\n",
              "          await google.colab.output.renderOutput(dataTable, element);\n",
              "          const docLink = document.createElement('div');\n",
              "          docLink.innerHTML = docLinkHtml;\n",
              "          element.appendChild(docLink);\n",
              "        }\n",
              "      </script>\n",
              "    </div>\n",
              "  </div>\n",
              "  "
            ]
          },
          "metadata": {},
          "execution_count": 9
        }
      ]
    },
    {
      "cell_type": "code",
      "source": [
        "from patsy import dmatrices\n",
        "from statsmodels.stats.outliers_influence import variance_inflation_factor\n",
        "\n",
        "#find design matrix for linear regression model using 'rating' as response variable \n",
        "y, X = dmatrices('Y ~ X1+X2+X3', data=df, return_type='dataframe')\n",
        "\n",
        "#calculate VIF for each explanatory variable\n",
        "vif = pd.DataFrame()\n",
        "vif['VIF'] = [variance_inflation_factor(X.values, i) for i in range(X.shape[1])]\n",
        "vif['variable'] = X.columns\n",
        "\n",
        "#view VIF for each explanatory variable \n",
        "vif"
      ],
      "metadata": {
        "colab": {
          "base_uri": "https://localhost:8080/",
          "height": 175
        },
        "id": "K44E5EidEX7a",
        "outputId": "c7b67501-6008-4605-f6ca-1af29b2e5236"
      },
      "execution_count": null,
      "outputs": [
        {
          "output_type": "execute_result",
          "data": {
            "text/plain": [
              "           VIF   variable\n",
              "0  1163.073118  Intercept\n",
              "1     1.137075         X1\n",
              "2     1.147613         X2\n",
              "3     1.035222         X3"
            ],
            "text/html": [
              "\n",
              "  <div id=\"df-7d1b12fd-078c-4b9c-8a48-665afbedb38b\">\n",
              "    <div class=\"colab-df-container\">\n",
              "      <div>\n",
              "<style scoped>\n",
              "    .dataframe tbody tr th:only-of-type {\n",
              "        vertical-align: middle;\n",
              "    }\n",
              "\n",
              "    .dataframe tbody tr th {\n",
              "        vertical-align: top;\n",
              "    }\n",
              "\n",
              "    .dataframe thead th {\n",
              "        text-align: right;\n",
              "    }\n",
              "</style>\n",
              "<table border=\"1\" class=\"dataframe\">\n",
              "  <thead>\n",
              "    <tr style=\"text-align: right;\">\n",
              "      <th></th>\n",
              "      <th>VIF</th>\n",
              "      <th>variable</th>\n",
              "    </tr>\n",
              "  </thead>\n",
              "  <tbody>\n",
              "    <tr>\n",
              "      <th>0</th>\n",
              "      <td>1163.073118</td>\n",
              "      <td>Intercept</td>\n",
              "    </tr>\n",
              "    <tr>\n",
              "      <th>1</th>\n",
              "      <td>1.137075</td>\n",
              "      <td>X1</td>\n",
              "    </tr>\n",
              "    <tr>\n",
              "      <th>2</th>\n",
              "      <td>1.147613</td>\n",
              "      <td>X2</td>\n",
              "    </tr>\n",
              "    <tr>\n",
              "      <th>3</th>\n",
              "      <td>1.035222</td>\n",
              "      <td>X3</td>\n",
              "    </tr>\n",
              "  </tbody>\n",
              "</table>\n",
              "</div>\n",
              "      <button class=\"colab-df-convert\" onclick=\"convertToInteractive('df-7d1b12fd-078c-4b9c-8a48-665afbedb38b')\"\n",
              "              title=\"Convert this dataframe to an interactive table.\"\n",
              "              style=\"display:none;\">\n",
              "        \n",
              "  <svg xmlns=\"http://www.w3.org/2000/svg\" height=\"24px\"viewBox=\"0 0 24 24\"\n",
              "       width=\"24px\">\n",
              "    <path d=\"M0 0h24v24H0V0z\" fill=\"none\"/>\n",
              "    <path d=\"M18.56 5.44l.94 2.06.94-2.06 2.06-.94-2.06-.94-.94-2.06-.94 2.06-2.06.94zm-11 1L8.5 8.5l.94-2.06 2.06-.94-2.06-.94L8.5 2.5l-.94 2.06-2.06.94zm10 10l.94 2.06.94-2.06 2.06-.94-2.06-.94-.94-2.06-.94 2.06-2.06.94z\"/><path d=\"M17.41 7.96l-1.37-1.37c-.4-.4-.92-.59-1.43-.59-.52 0-1.04.2-1.43.59L10.3 9.45l-7.72 7.72c-.78.78-.78 2.05 0 2.83L4 21.41c.39.39.9.59 1.41.59.51 0 1.02-.2 1.41-.59l7.78-7.78 2.81-2.81c.8-.78.8-2.07 0-2.86zM5.41 20L4 18.59l7.72-7.72 1.47 1.35L5.41 20z\"/>\n",
              "  </svg>\n",
              "      </button>\n",
              "      \n",
              "  <style>\n",
              "    .colab-df-container {\n",
              "      display:flex;\n",
              "      flex-wrap:wrap;\n",
              "      gap: 12px;\n",
              "    }\n",
              "\n",
              "    .colab-df-convert {\n",
              "      background-color: #E8F0FE;\n",
              "      border: none;\n",
              "      border-radius: 50%;\n",
              "      cursor: pointer;\n",
              "      display: none;\n",
              "      fill: #1967D2;\n",
              "      height: 32px;\n",
              "      padding: 0 0 0 0;\n",
              "      width: 32px;\n",
              "    }\n",
              "\n",
              "    .colab-df-convert:hover {\n",
              "      background-color: #E2EBFA;\n",
              "      box-shadow: 0px 1px 2px rgba(60, 64, 67, 0.3), 0px 1px 3px 1px rgba(60, 64, 67, 0.15);\n",
              "      fill: #174EA6;\n",
              "    }\n",
              "\n",
              "    [theme=dark] .colab-df-convert {\n",
              "      background-color: #3B4455;\n",
              "      fill: #D2E3FC;\n",
              "    }\n",
              "\n",
              "    [theme=dark] .colab-df-convert:hover {\n",
              "      background-color: #434B5C;\n",
              "      box-shadow: 0px 1px 3px 1px rgba(0, 0, 0, 0.15);\n",
              "      filter: drop-shadow(0px 1px 2px rgba(0, 0, 0, 0.3));\n",
              "      fill: #FFFFFF;\n",
              "    }\n",
              "  </style>\n",
              "\n",
              "      <script>\n",
              "        const buttonEl =\n",
              "          document.querySelector('#df-7d1b12fd-078c-4b9c-8a48-665afbedb38b button.colab-df-convert');\n",
              "        buttonEl.style.display =\n",
              "          google.colab.kernel.accessAllowed ? 'block' : 'none';\n",
              "\n",
              "        async function convertToInteractive(key) {\n",
              "          const element = document.querySelector('#df-7d1b12fd-078c-4b9c-8a48-665afbedb38b');\n",
              "          const dataTable =\n",
              "            await google.colab.kernel.invokeFunction('convertToInteractive',\n",
              "                                                     [key], {});\n",
              "          if (!dataTable) return;\n",
              "\n",
              "          const docLinkHtml = 'Like what you see? Visit the ' +\n",
              "            '<a target=\"_blank\" href=https://colab.research.google.com/notebooks/data_table.ipynb>data table notebook</a>'\n",
              "            + ' to learn more about interactive tables.';\n",
              "          element.innerHTML = '';\n",
              "          dataTable['output_type'] = 'display_data';\n",
              "          await google.colab.output.renderOutput(dataTable, element);\n",
              "          const docLink = document.createElement('div');\n",
              "          docLink.innerHTML = docLinkHtml;\n",
              "          element.appendChild(docLink);\n",
              "        }\n",
              "      </script>\n",
              "    </div>\n",
              "  </div>\n",
              "  "
            ]
          },
          "metadata": {},
          "execution_count": 10
        }
      ]
    },
    {
      "cell_type": "markdown",
      "source": [
        "## Вывод: Так как все VIF значения меньше 10, то можно сделать вывод, что построенная модель yt = ... не содкржит коллинеарных факторов и может быть использована для анализа и прогнозирования "
      ],
      "metadata": {
        "id": "rTMZi1nOFWAl"
      }
    },
    {
      "cell_type": "markdown",
      "source": [
        "### Построим модель:"
      ],
      "metadata": {
        "id": "lozYwELcFjws"
      }
    },
    {
      "cell_type": "code",
      "source": [
        "X1 = df['X1'].values\n",
        "X2 = df['X2'].values\n",
        "X3 = df['X3'].values\n",
        "Y = df['Y'].values"
      ],
      "metadata": {
        "id": "I69jID_u3D9F"
      },
      "execution_count": null,
      "outputs": []
    },
    {
      "cell_type": "code",
      "source": [
        "model = sm.OLS.from_formula(\"Y ~ X1 + X2 + X3\", data=df)\n",
        "result = model.fit()\n",
        "print(result.params)"
      ],
      "metadata": {
        "id": "Y1IY51B1142e",
        "colab": {
          "base_uri": "https://localhost:8080/"
        },
        "outputId": "32129854-5001-43ec-9879-c4d8a2adaa5c"
      },
      "execution_count": null,
      "outputs": [
        {
          "output_type": "stream",
          "name": "stdout",
          "text": [
            "Intercept    69.532016\n",
            "X1           -0.074919\n",
            "X2           -0.349244\n",
            "X3           -0.049191\n",
            "dtype: float64\n"
          ]
        }
      ]
    },
    {
      "cell_type": "code",
      "source": [
        "print(result.summary())"
      ],
      "metadata": {
        "colab": {
          "base_uri": "https://localhost:8080/"
        },
        "id": "JpW6oAfB4TOG",
        "outputId": "24193679-4247-40e4-e491-09d3c2de08aa"
      },
      "execution_count": null,
      "outputs": [
        {
          "output_type": "stream",
          "name": "stdout",
          "text": [
            "                            OLS Regression Results                            \n",
            "==============================================================================\n",
            "Dep. Variable:                      Y   R-squared:                       0.666\n",
            "Model:                            OLS   Adj. R-squared:                  0.594\n",
            "Method:                 Least Squares   F-statistic:                     9.294\n",
            "Date:                Sat, 10 Dec 2022   Prob (F-statistic):            0.00123\n",
            "Time:                        12:53:51   Log-Likelihood:                -29.069\n",
            "No. Observations:                  18   AIC:                             66.14\n",
            "Df Residuals:                      14   BIC:                             69.70\n",
            "Df Model:                           3                                         \n",
            "Covariance Type:            nonrobust                                         \n",
            "==============================================================================\n",
            "                 coef    std err          t      P>|t|      [0.025      0.975]\n",
            "------------------------------------------------------------------------------\n",
            "Intercept     69.5320     11.088      6.271      0.000      45.750      93.314\n",
            "X1            -0.0749      0.023     -3.278      0.005      -0.124      -0.026\n",
            "X2            -0.3492      0.093     -3.740      0.002      -0.550      -0.149\n",
            "X3            -0.0492      0.022     -2.205      0.045      -0.097      -0.001\n",
            "==============================================================================\n",
            "Omnibus:                        0.180   Durbin-Watson:                   2.114\n",
            "Prob(Omnibus):                  0.914   Jarque-Bera (JB):                0.030\n",
            "Skew:                          -0.044   Prob(JB):                        0.985\n",
            "Kurtosis:                       2.819   Cond. No.                     6.26e+03\n",
            "==============================================================================\n",
            "\n",
            "Notes:\n",
            "[1] Standard Errors assume that the covariance matrix of the errors is correctly specified.\n",
            "[2] The condition number is large, 6.26e+03. This might indicate that there are\n",
            "strong multicollinearity or other numerical problems.\n"
          ]
        },
        {
          "output_type": "stream",
          "name": "stderr",
          "text": [
            "/usr/local/lib/python3.8/dist-packages/scipy/stats/stats.py:1541: UserWarning: kurtosistest only valid for n>=20 ... continuing anyway, n=18\n",
            "  warnings.warn(\"kurtosistest only valid for n>=20 ... continuing \"\n"
          ]
        }
      ]
    },
    {
      "cell_type": "code",
      "source": [
        "t_tabl = sts.t.isf(0.05/2, 14)\n",
        "t_tabl"
      ],
      "metadata": {
        "colab": {
          "base_uri": "https://localhost:8080/"
        },
        "id": "GDRXYGKUGnWP",
        "outputId": "264f3bbc-2c68-4805-ff88-77d2afee8c1b"
      },
      "execution_count": null,
      "outputs": [
        {
          "output_type": "execute_result",
          "data": {
            "text/plain": [
              "2.1447866879169277"
            ]
          },
          "metadata": {},
          "execution_count": 18
        }
      ]
    },
    {
      "cell_type": "code",
      "source": [
        "f_tabl = sts.f.isf(0.05, 3, 14)\n",
        "f_tabl"
      ],
      "metadata": {
        "colab": {
          "base_uri": "https://localhost:8080/"
        },
        "id": "mi5o9fFaG7EI",
        "outputId": "f28985c6-f91e-4c40-dda5-db20501fd45e"
      },
      "execution_count": null,
      "outputs": [
        {
          "output_type": "execute_result",
          "data": {
            "text/plain": [
              "3.3438886781189123"
            ]
          },
          "metadata": {},
          "execution_count": 38
        }
      ]
    },
    {
      "cell_type": "markdown",
      "source": [
        "# Алгоритм проверки \n",
        "\n"
      ],
      "metadata": {
        "id": "eHd-SVeeKSBN"
      }
    },
    {
      "cell_type": "markdown",
      "source": [
        "### Построим корреляционную матрицу между экзогенными перемеными"
      ],
      "metadata": {
        "id": "_dipRdA9HRxw"
      }
    },
    {
      "cell_type": "code",
      "source": [
        "corr_matrix = df.drop('Y', axis=1).corr()\n",
        "det = np.linalg.det(corr_matrix)\n",
        "det"
      ],
      "metadata": {
        "colab": {
          "base_uri": "https://localhost:8080/"
        },
        "id": "w1jjsdt0HDkb",
        "outputId": "8a5d0add-ab59-44f5-a967-fd8b774ef98b"
      },
      "execution_count": null,
      "outputs": [
        {
          "output_type": "execute_result",
          "data": {
            "text/plain": [
              "0.865116163185151"
            ]
          },
          "metadata": {},
          "execution_count": 32
        }
      ]
    },
    {
      "cell_type": "markdown",
      "source": [
        "### Вычислим наблюдаемре значение статистики Фаррара-Глоубера:"
      ],
      "metadata": {
        "id": "MKPo7l03IbrU"
      }
    },
    {
      "cell_type": "code",
      "source": [
        "n = 18\n",
        "k = 3\n",
        "FG = -(n-1-(1/6)*(2*k+5))*np.log(det)\n",
        "FG"
      ],
      "metadata": {
        "colab": {
          "base_uri": "https://localhost:8080/"
        },
        "id": "UrjBniXaH4FQ",
        "outputId": "076f1d90-d2e8-4b00-de21-a27d714ed4d1"
      },
      "execution_count": null,
      "outputs": [
        {
          "output_type": "execute_result",
          "data": {
            "text/plain": [
              "2.197520906901297"
            ]
          },
          "metadata": {},
          "execution_count": 29
        }
      ]
    },
    {
      "cell_type": "code",
      "source": [
        "chi2_tabl = sts.chi2.isf(0.05, (1/2)*k*(k-1))\n",
        "chi2_tabl"
      ],
      "metadata": {
        "colab": {
          "base_uri": "https://localhost:8080/"
        },
        "id": "46N9z3A2I-lk",
        "outputId": "b9314aeb-103e-4d05-dd15-d4d16459dd03"
      },
      "execution_count": null,
      "outputs": [
        {
          "output_type": "execute_result",
          "data": {
            "text/plain": [
              "7.814727903251178"
            ]
          },
          "metadata": {},
          "execution_count": 31
        }
      ]
    },
    {
      "cell_type": "markdown",
      "source": [
        "## Вывод: Т.к. FG =< chi2_tabl (2.197520906901297 < 7.814727903251178), то гипотеза H0 отвергается => мультиколлинеарность отсутствует "
      ],
      "metadata": {
        "id": "yvMweL3CJwNK"
      }
    },
    {
      "cell_type": "markdown",
      "source": [
        "## Найдём обратную матрицу корреляционной матрицы"
      ],
      "metadata": {
        "id": "dy2BvW1eKap-"
      }
    },
    {
      "cell_type": "code",
      "source": [
        "inv_matrix = np.linalg.inv(corr_matrix)"
      ],
      "metadata": {
        "colab": {
          "base_uri": "https://localhost:8080/"
        },
        "id": "8CavsAlGKaHm",
        "outputId": "bbcf11ca-0feb-45c8-ff96-923650fd940b"
      },
      "execution_count": null,
      "outputs": [
        {
          "output_type": "execute_result",
          "data": {
            "text/plain": [
              "array([[ 1.1370754 ,  0.38601575, -0.14564043],\n",
              "       [ 0.38601575,  1.14761281, -0.1792197 ],\n",
              "       [-0.14564043, -0.1792197 ,  1.03522183]])"
            ]
          },
          "metadata": {},
          "execution_count": 33
        }
      ]
    },
    {
      "cell_type": "markdown",
      "source": [
        "### Возьмём главную диагональ:"
      ],
      "metadata": {
        "id": "JZo6eC7oKhxo"
      }
    },
    {
      "cell_type": "code",
      "source": [
        "diag = np.diagonal(inv_matrix)\n",
        "diag"
      ],
      "metadata": {
        "colab": {
          "base_uri": "https://localhost:8080/"
        },
        "id": "4pWPy_W5Jqwo",
        "outputId": "23075eb5-ecf6-45a1-b62f-e9ef475b824a"
      },
      "execution_count": null,
      "outputs": [
        {
          "output_type": "execute_result",
          "data": {
            "text/plain": [
              "array([1.1370754 , 1.14761281, 1.03522183])"
            ]
          },
          "metadata": {},
          "execution_count": 35
        }
      ]
    },
    {
      "cell_type": "markdown",
      "source": [
        "### Вычислим F-критерий для каждого фактора:"
      ],
      "metadata": {
        "id": "TWmTDevlLYM7"
      }
    },
    {
      "cell_type": "code",
      "source": [
        "F_4fact = (diag - 1)*(n - k - 1) / k\n",
        "F_4fact"
      ],
      "metadata": {
        "colab": {
          "base_uri": "https://localhost:8080/"
        },
        "id": "PfkzyQO9LK_9",
        "outputId": "4cf1c2a2-4ccd-4345-a28e-698ee3c226ab"
      },
      "execution_count": null,
      "outputs": [
        {
          "output_type": "execute_result",
          "data": {
            "text/plain": [
              "array([0.63968518, 0.6888598 , 0.16436852])"
            ]
          },
          "metadata": {},
          "execution_count": 39
        }
      ]
    },
    {
      "cell_type": "code",
      "source": [
        "sts.f.isf(0.05, 3, 14)"
      ],
      "metadata": {
        "colab": {
          "base_uri": "https://localhost:8080/"
        },
        "id": "E6Lys-ouLVgo",
        "outputId": "ad9750d1-a0c2-4cc3-ab71-9342ecb640ef"
      },
      "execution_count": null,
      "outputs": [
        {
          "output_type": "execute_result",
          "data": {
            "text/plain": [
              "3.3438886781189123"
            ]
          },
          "metadata": {},
          "execution_count": 37
        }
      ]
    },
    {
      "cell_type": "code",
      "source": [
        "F_4fact < sts.f.isf(0.05, 3, 14)"
      ],
      "metadata": {
        "colab": {
          "base_uri": "https://localhost:8080/"
        },
        "id": "ZG5PGhDbL_Mq",
        "outputId": "41a5b6bd-2bd3-46ca-db20-6eb9ea3c4b54"
      },
      "execution_count": null,
      "outputs": [
        {
          "output_type": "execute_result",
          "data": {
            "text/plain": [
              "array([ True,  True,  True])"
            ]
          },
          "metadata": {},
          "execution_count": 40
        }
      ]
    },
    {
      "cell_type": "markdown",
      "source": [
        "## Вывод: Сравниваем с табличными значениями, и получаем что F-набл каждого фактора < F_табл => H0 отвергается => мультиколлинеарность отсутсвует "
      ],
      "metadata": {
        "id": "dXyrWGW3L0pl"
      }
    },
    {
      "cell_type": "markdown",
      "source": [
        "# Каждой пары переменных (t-тест)"
      ],
      "metadata": {
        "id": "LmsnVW1AMqDU"
      }
    },
    {
      "cell_type": "markdown",
      "source": [
        "## Найдём частные коэффициенты корреляции"
      ],
      "metadata": {
        "id": "8aQZEDMYMkmg"
      }
    },
    {
      "cell_type": "code",
      "source": [
        "inv_matrix"
      ],
      "metadata": {
        "colab": {
          "base_uri": "https://localhost:8080/"
        },
        "id": "Onm9iasPLipj",
        "outputId": "f6952a13-7ead-434e-b322-dbea6be67b4e"
      },
      "execution_count": null,
      "outputs": [
        {
          "output_type": "execute_result",
          "data": {
            "text/plain": [
              "array([[ 1.1370754 ,  0.38601575, -0.14564043],\n",
              "       [ 0.38601575,  1.14761281, -0.1792197 ],\n",
              "       [-0.14564043, -0.1792197 ,  1.03522183]])"
            ]
          },
          "metadata": {},
          "execution_count": 44
        }
      ]
    },
    {
      "cell_type": "markdown",
      "source": [
        "![image.png](data:image/png;base64,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)"
      ],
      "metadata": {
        "id": "oA4lcVAfNtTL"
      }
    },
    {
      "cell_type": "code",
      "source": [
        "r_coefs = []\n",
        "for i in range(3):\n",
        "  for j in range(3):\n",
        "    r_coefs.append(-inv_matrix[i,j] / np.sqrt(inv_matrix[i,i] * inv_matrix[j,j]))\n",
        "r_coefs = np.array(r_coefs)"
      ],
      "metadata": {
        "id": "xQGh6kaWNH_F"
      },
      "execution_count": null,
      "outputs": []
    },
    {
      "cell_type": "code",
      "source": [
        "r_coefs = r_coefs.reshape(3,3)\n",
        "r_coefs"
      ],
      "metadata": {
        "colab": {
          "base_uri": "https://localhost:8080/"
        },
        "id": "SSBbtlnfPb3d",
        "outputId": "a2ccb68d-fd5c-45a7-d0f2-d2eb9ad5ca8d"
      },
      "execution_count": null,
      "outputs": [
        {
          "output_type": "execute_result",
          "data": {
            "text/plain": [
              "array([[-1.        , -0.33791907,  0.13423649],\n",
              "       [-0.33791907, -1.        ,  0.16442632],\n",
              "       [ 0.13423649,  0.16442632, -1.        ]])"
            ]
          },
          "metadata": {},
          "execution_count": 54
        }
      ]
    },
    {
      "cell_type": "markdown",
      "source": [
        "### Вычислим t-критерий "
      ],
      "metadata": {
        "id": "RG0o2g4ONGnD"
      }
    },
    {
      "cell_type": "code",
      "source": [
        "t_obs = []\n",
        "for r in [r_coefs[0,1], r_coefs[0,2], r_coefs[1,2]]:\n",
        "    t_obs.append(r * np.sqrt(n - k - 1) / np.sqrt(1 - r**2))\n",
        "t_obs"
      ],
      "metadata": {
        "colab": {
          "base_uri": "https://localhost:8080/"
        },
        "id": "hCBOdtMANAqz",
        "outputId": "c016bbbe-3a4b-4b3a-d4dc-046f57761700"
      },
      "execution_count": null,
      "outputs": [
        {
          "output_type": "execute_result",
          "data": {
            "text/plain": [
              "[-1.3434028336189843, 0.5068543411836797, 0.623716118670544]"
            ]
          },
          "metadata": {},
          "execution_count": 55
        }
      ]
    },
    {
      "cell_type": "code",
      "source": [
        "t_tabl = sts.t.isf(0.05/2, 14)\n",
        "t_tabl"
      ],
      "metadata": {
        "colab": {
          "base_uri": "https://localhost:8080/"
        },
        "id": "9etlA2c6RwtX",
        "outputId": "897800a5-da1e-40e1-e1c2-db7f0d6b081b"
      },
      "execution_count": null,
      "outputs": [
        {
          "output_type": "execute_result",
          "data": {
            "text/plain": [
              "2.1447866879169277"
            ]
          },
          "metadata": {},
          "execution_count": 56
        }
      ]
    },
    {
      "cell_type": "code",
      "source": [
        "t_tabl > t_obs"
      ],
      "metadata": {
        "colab": {
          "base_uri": "https://localhost:8080/"
        },
        "id": "7tA8Mrw4R1YR",
        "outputId": "998d46ae-f8d7-4dfb-f070-a43af6078acd"
      },
      "execution_count": null,
      "outputs": [
        {
          "output_type": "execute_result",
          "data": {
            "text/plain": [
              "array([ True,  True,  True])"
            ]
          },
          "metadata": {},
          "execution_count": 57
        }
      ]
    },
    {
      "cell_type": "markdown",
      "source": [
        "# Вывод: Сравниваем с табличными значениями, и получаем что t-набл каждого фактора < t_табл => H0 отвергается => мультиколлинеарность отсутсвует"
      ],
      "metadata": {
        "id": "TeFv8EszR7lE"
      }
    }
  ]
}