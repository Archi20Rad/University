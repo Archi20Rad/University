{
  "nbformat": 4,
  "nbformat_minor": 0,
  "metadata": {
    "colab": {
      "provenance": []
    },
    "kernelspec": {
      "name": "python3",
      "display_name": "Python 3"
    },
    "language_info": {
      "name": "python"
    }
  },
  "cells": [
    {
      "cell_type": "markdown",
      "source": [
        "# Выполнил: Радайкин Артём, ПМ20-4, вариант 16"
      ],
      "metadata": {
        "id": "FKJWv5teTUAo"
      }
    },
    {
      "cell_type": "code",
      "execution_count": null,
      "metadata": {
        "id": "pq3lhAhMQJJb"
      },
      "outputs": [],
      "source": [
        "import numpy as np\n",
        "import pandas as pd\n",
        "import statsmodels.api as sm\n",
        "import patsy as pt\n",
        "import sklearn.linear_model as lm\n",
        "import scipy.stats as sts\n",
        "import seaborn as sns\n",
        "import matplotlib.pyplot as plt"
      ]
    },
    {
      "cell_type": "markdown",
      "source": [
        "## **Индекс обрабатывающего производства по ОКВЭД2 (IP2_CEA_M) от периода T (месяц)**"
      ],
      "metadata": {
        "id": "ndwfEjd7crfg"
      }
    },
    {
      "cell_type": "code",
      "source": [
        "df = pd.read_excel('/content/drive/MyDrive/Colab Notebooks/Эконометрика /Семестр_6/Данные_1.xlsx')\n",
        "df.tail(5)"
      ],
      "metadata": {
        "colab": {
          "base_uri": "https://localhost:8080/",
          "height": 206
        },
        "id": "1dAiEpCeRJWl",
        "outputId": "c9724c2b-8c3e-4fc0-fd17-ee45ab0fae22"
      },
      "execution_count": null,
      "outputs": [
        {
          "output_type": "execute_result",
          "data": {
            "text/plain": [
              "       T  IP2_CEA_M\n",
              "92  93.0      155.3\n",
              "93  94.0      160.4\n",
              "94  95.0      163.2\n",
              "95  96.0      190.7\n",
              "96  97.0      131.0"
            ],
            "text/html": [
              "\n",
              "  <div id=\"df-35d1c2c9-91ce-4589-8ccc-9af35ed9f992\">\n",
              "    <div class=\"colab-df-container\">\n",
              "      <div>\n",
              "<style scoped>\n",
              "    .dataframe tbody tr th:only-of-type {\n",
              "        vertical-align: middle;\n",
              "    }\n",
              "\n",
              "    .dataframe tbody tr th {\n",
              "        vertical-align: top;\n",
              "    }\n",
              "\n",
              "    .dataframe thead th {\n",
              "        text-align: right;\n",
              "    }\n",
              "</style>\n",
              "<table border=\"1\" class=\"dataframe\">\n",
              "  <thead>\n",
              "    <tr style=\"text-align: right;\">\n",
              "      <th></th>\n",
              "      <th>T</th>\n",
              "      <th>IP2_CEA_M</th>\n",
              "    </tr>\n",
              "  </thead>\n",
              "  <tbody>\n",
              "    <tr>\n",
              "      <th>92</th>\n",
              "      <td>93.0</td>\n",
              "      <td>155.3</td>\n",
              "    </tr>\n",
              "    <tr>\n",
              "      <th>93</th>\n",
              "      <td>94.0</td>\n",
              "      <td>160.4</td>\n",
              "    </tr>\n",
              "    <tr>\n",
              "      <th>94</th>\n",
              "      <td>95.0</td>\n",
              "      <td>163.2</td>\n",
              "    </tr>\n",
              "    <tr>\n",
              "      <th>95</th>\n",
              "      <td>96.0</td>\n",
              "      <td>190.7</td>\n",
              "    </tr>\n",
              "    <tr>\n",
              "      <th>96</th>\n",
              "      <td>97.0</td>\n",
              "      <td>131.0</td>\n",
              "    </tr>\n",
              "  </tbody>\n",
              "</table>\n",
              "</div>\n",
              "      <button class=\"colab-df-convert\" onclick=\"convertToInteractive('df-35d1c2c9-91ce-4589-8ccc-9af35ed9f992')\"\n",
              "              title=\"Convert this dataframe to an interactive table.\"\n",
              "              style=\"display:none;\">\n",
              "        \n",
              "  <svg xmlns=\"http://www.w3.org/2000/svg\" height=\"24px\"viewBox=\"0 0 24 24\"\n",
              "       width=\"24px\">\n",
              "    <path d=\"M0 0h24v24H0V0z\" fill=\"none\"/>\n",
              "    <path d=\"M18.56 5.44l.94 2.06.94-2.06 2.06-.94-2.06-.94-.94-2.06-.94 2.06-2.06.94zm-11 1L8.5 8.5l.94-2.06 2.06-.94-2.06-.94L8.5 2.5l-.94 2.06-2.06.94zm10 10l.94 2.06.94-2.06 2.06-.94-2.06-.94-.94-2.06-.94 2.06-2.06.94z\"/><path d=\"M17.41 7.96l-1.37-1.37c-.4-.4-.92-.59-1.43-.59-.52 0-1.04.2-1.43.59L10.3 9.45l-7.72 7.72c-.78.78-.78 2.05 0 2.83L4 21.41c.39.39.9.59 1.41.59.51 0 1.02-.2 1.41-.59l7.78-7.78 2.81-2.81c.8-.78.8-2.07 0-2.86zM5.41 20L4 18.59l7.72-7.72 1.47 1.35L5.41 20z\"/>\n",
              "  </svg>\n",
              "      </button>\n",
              "      \n",
              "  <style>\n",
              "    .colab-df-container {\n",
              "      display:flex;\n",
              "      flex-wrap:wrap;\n",
              "      gap: 12px;\n",
              "    }\n",
              "\n",
              "    .colab-df-convert {\n",
              "      background-color: #E8F0FE;\n",
              "      border: none;\n",
              "      border-radius: 50%;\n",
              "      cursor: pointer;\n",
              "      display: none;\n",
              "      fill: #1967D2;\n",
              "      height: 32px;\n",
              "      padding: 0 0 0 0;\n",
              "      width: 32px;\n",
              "    }\n",
              "\n",
              "    .colab-df-convert:hover {\n",
              "      background-color: #E2EBFA;\n",
              "      box-shadow: 0px 1px 2px rgba(60, 64, 67, 0.3), 0px 1px 3px 1px rgba(60, 64, 67, 0.15);\n",
              "      fill: #174EA6;\n",
              "    }\n",
              "\n",
              "    [theme=dark] .colab-df-convert {\n",
              "      background-color: #3B4455;\n",
              "      fill: #D2E3FC;\n",
              "    }\n",
              "\n",
              "    [theme=dark] .colab-df-convert:hover {\n",
              "      background-color: #434B5C;\n",
              "      box-shadow: 0px 1px 3px 1px rgba(0, 0, 0, 0.15);\n",
              "      filter: drop-shadow(0px 1px 2px rgba(0, 0, 0, 0.3));\n",
              "      fill: #FFFFFF;\n",
              "    }\n",
              "  </style>\n",
              "\n",
              "      <script>\n",
              "        const buttonEl =\n",
              "          document.querySelector('#df-35d1c2c9-91ce-4589-8ccc-9af35ed9f992 button.colab-df-convert');\n",
              "        buttonEl.style.display =\n",
              "          google.colab.kernel.accessAllowed ? 'block' : 'none';\n",
              "\n",
              "        async function convertToInteractive(key) {\n",
              "          const element = document.querySelector('#df-35d1c2c9-91ce-4589-8ccc-9af35ed9f992');\n",
              "          const dataTable =\n",
              "            await google.colab.kernel.invokeFunction('convertToInteractive',\n",
              "                                                     [key], {});\n",
              "          if (!dataTable) return;\n",
              "\n",
              "          const docLinkHtml = 'Like what you see? Visit the ' +\n",
              "            '<a target=\"_blank\" href=https://colab.research.google.com/notebooks/data_table.ipynb>data table notebook</a>'\n",
              "            + ' to learn more about interactive tables.';\n",
              "          element.innerHTML = '';\n",
              "          dataTable['output_type'] = 'display_data';\n",
              "          await google.colab.output.renderOutput(dataTable, element);\n",
              "          const docLink = document.createElement('div');\n",
              "          docLink.innerHTML = docLinkHtml;\n",
              "          element.appendChild(docLink);\n",
              "        }\n",
              "      </script>\n",
              "    </div>\n",
              "  </div>\n",
              "  "
            ]
          },
          "metadata": {},
          "execution_count": 50
        }
      ]
    },
    {
      "cell_type": "markdown",
      "source": [
        "## Исходная модель регрессиии"
      ],
      "metadata": {
        "id": "11GBMmhTSCvD"
      }
    },
    {
      "cell_type": "code",
      "source": [
        "X, Y = df.drop(\"IP2_CEA_M\",axis=1) , df[\"IP2_CEA_M\"] "
      ],
      "metadata": {
        "id": "OsiHWise20wP"
      },
      "execution_count": null,
      "outputs": []
    },
    {
      "cell_type": "code",
      "source": [
        "sns.set()\n",
        "fig, axes = plt.subplots(1,1, figsize=(10, 8))\n",
        "sns.scatterplot(df['T'], Y, ax=axes);"
      ],
      "metadata": {
        "colab": {
          "base_uri": "https://localhost:8080/",
          "height": 557
        },
        "id": "aD1Nh9CiRb-n",
        "outputId": "d6fba19f-df68-46b3-dcbe-8dcdf788a22c"
      },
      "execution_count": null,
      "outputs": [
        {
          "output_type": "stream",
          "name": "stderr",
          "text": [
            "/usr/local/lib/python3.8/dist-packages/seaborn/_decorators.py:36: FutureWarning: Pass the following variables as keyword args: x, y. From version 0.12, the only valid positional argument will be `data`, and passing other arguments without an explicit keyword will result in an error or misinterpretation.\n",
            "  warnings.warn(\n"
          ]
        },
        {
          "output_type": "display_data",
          "data": {
            "text/plain": [
              "<Figure size 720x576 with 1 Axes>"
            ],
            "image/png": "[encoded data removed]"
          },
          "metadata": {}
        }
      ]
    },
    {
      "cell_type": "code",
      "source": [
        "' + '.join(X.columns) "
      ],
      "metadata": {
        "colab": {
          "base_uri": "https://localhost:8080/",
          "height": 36
        },
        "id": "nbK8x2dw3MA7",
        "outputId": "05211fb6-dc5e-49ad-c1e7-a0a8f1ffd9ca"
      },
      "execution_count": null,
      "outputs": [
        {
          "output_type": "execute_result",
          "data": {
            "text/plain": [
              "'T'"
            ],
            "application/vnd.google.colaboratory.intrinsic+json": {
              "type": "string"
            }
          },
          "metadata": {},
          "execution_count": 53
        }
      ]
    },
    {
      "cell_type": "code",
      "source": [
        "model = sm.OLS.from_formula(\"IP2_CEA_M ~ T\",\n",
        "                            data=df)\n",
        "result = model.fit()\n",
        "print(result.params)"
      ],
      "metadata": {
        "id": "qfluuTHncFOI",
        "colab": {
          "base_uri": "https://localhost:8080/"
        },
        "outputId": "279e020b-2122-4451-fd2a-497a8ab73f2e"
      },
      "execution_count": null,
      "outputs": [
        {
          "output_type": "stream",
          "name": "stdout",
          "text": [
            "Intercept    115.451933\n",
            "T              0.362921\n",
            "dtype: float64\n"
          ]
        }
      ]
    },
    {
      "cell_type": "code",
      "source": [
        "print(result.summary())"
      ],
      "metadata": {
        "colab": {
          "base_uri": "https://localhost:8080/"
        },
        "id": "RrfAm-Z84Jbt",
        "outputId": "e9264c37-0f11-47c0-d038-f11321e6ba9c"
      },
      "execution_count": null,
      "outputs": [
        {
          "output_type": "stream",
          "name": "stdout",
          "text": [
            "                            OLS Regression Results                            \n",
            "==============================================================================\n",
            "Dep. Variable:              IP2_CEA_M   R-squared:                       0.389\n",
            "Model:                            OLS   Adj. R-squared:                  0.383\n",
            "Method:                 Least Squares   F-statistic:                     60.60\n",
            "Date:                Tue, 14 Feb 2023   Prob (F-statistic):           8.53e-12\n",
            "Time:                        15:47:01   Log-Likelihood:                -384.35\n",
            "No. Observations:                  97   AIC:                             772.7\n",
            "Df Residuals:                      95   BIC:                             777.8\n",
            "Df Model:                           1                                         \n",
            "Covariance Type:            nonrobust                                         \n",
            "==============================================================================\n",
            "                 coef    std err          t      P>|t|      [0.025      0.975]\n",
            "------------------------------------------------------------------------------\n",
            "Intercept    115.4519      2.631     43.881      0.000     110.229     120.675\n",
            "T              0.3629      0.047      7.785      0.000       0.270       0.455\n",
            "==============================================================================\n",
            "Omnibus:                        3.510   Durbin-Watson:                   1.635\n",
            "Prob(Omnibus):                  0.173   Jarque-Bera (JB):                3.063\n",
            "Skew:                           0.259   Prob(JB):                        0.216\n",
            "Kurtosis:                       3.700   Cond. No.                         114.\n",
            "==============================================================================\n",
            "\n",
            "Notes:\n",
            "[1] Standard Errors assume that the covariance matrix of the errors is correctly specified.\n"
          ]
        }
      ]
    },
    {
      "cell_type": "markdown",
      "source": [
        "## 1. Метод Зарембки"
      ],
      "metadata": {
        "id": "oFFAzTicShyr"
      }
    },
    {
      "cell_type": "code",
      "source": [
        "from scipy.stats import gmean\n",
        "# Среднее геометрическое\n",
        "mean_geom = gmean(Y)\n",
        "\n",
        "# Y* и ln(Y*)\n",
        "Y_new = Y / mean_geom\n",
        "Y_new_ln = np.log(Y_new)\n",
        "\n",
        "df['Y_new'] = Y_new\n",
        "df['Y_new_ln'] = Y_new_ln"
      ],
      "metadata": {
        "id": "LIFPk-xoU2Lc"
      },
      "execution_count": null,
      "outputs": []
    },
    {
      "cell_type": "markdown",
      "source": [
        "### Рассмотрим 2 новые регресии и посчитаем ESS_1 и ESS_2"
      ],
      "metadata": {
        "id": "6rdul9U2V-zS"
      }
    },
    {
      "cell_type": "code",
      "source": [
        "model_1 = sm.OLS.from_formula(\"Y_new ~ T\",\n",
        "                            data=df)\n",
        "result_1 = model_1.fit()\n",
        "print(result_1.params)"
      ],
      "metadata": {
        "colab": {
          "base_uri": "https://localhost:8080/"
        },
        "outputId": "847db1b8-535b-437a-d67b-b58d8eb1b34e",
        "id": "QJlHBN8cWN74"
      },
      "execution_count": null,
      "outputs": [
        {
          "output_type": "stream",
          "name": "stdout",
          "text": [
            "Intercept    0.872877\n",
            "T            0.002744\n",
            "dtype: float64\n"
          ]
        }
      ]
    },
    {
      "cell_type": "code",
      "source": [
        "print(result_1.summary())"
      ],
      "metadata": {
        "colab": {
          "base_uri": "https://localhost:8080/"
        },
        "outputId": "71b76589-ee04-46bb-fa1f-a597063e34f1",
        "id": "OlZcBa03WN75"
      },
      "execution_count": null,
      "outputs": [
        {
          "output_type": "stream",
          "name": "stdout",
          "text": [
            "                            OLS Regression Results                            \n",
            "==============================================================================\n",
            "Dep. Variable:                  Y_new   R-squared:                       0.389\n",
            "Model:                            OLS   Adj. R-squared:                  0.383\n",
            "Method:                 Least Squares   F-statistic:                     60.60\n",
            "Date:                Tue, 14 Feb 2023   Prob (F-statistic):           8.53e-12\n",
            "Time:                        15:47:02   Log-Likelihood:                 89.479\n",
            "No. Observations:                  97   AIC:                            -175.0\n",
            "Df Residuals:                      95   BIC:                            -169.8\n",
            "Df Model:                           1                                         \n",
            "Covariance Type:            nonrobust                                         \n",
            "==============================================================================\n",
            "                 coef    std err          t      P>|t|      [0.025      0.975]\n",
            "------------------------------------------------------------------------------\n",
            "Intercept      0.8729      0.020     43.881      0.000       0.833       0.912\n",
            "T              0.0027      0.000      7.785      0.000       0.002       0.003\n",
            "==============================================================================\n",
            "Omnibus:                        3.510   Durbin-Watson:                   1.635\n",
            "Prob(Omnibus):                  0.173   Jarque-Bera (JB):                3.063\n",
            "Skew:                           0.259   Prob(JB):                        0.216\n",
            "Kurtosis:                       3.700   Cond. No.                         114.\n",
            "==============================================================================\n",
            "\n",
            "Notes:\n",
            "[1] Standard Errors assume that the covariance matrix of the errors is correctly specified.\n"
          ]
        }
      ]
    },
    {
      "cell_type": "code",
      "source": [
        "# ESS_1\n",
        "ESS_1 = np.sum(result_1.resid**2)\n",
        "ESS_1"
      ],
      "metadata": {
        "colab": {
          "base_uri": "https://localhost:8080/"
        },
        "id": "E_hPrPUNXjk8",
        "outputId": "27ee6315-b59f-4e6f-ad31-f010ccdec180"
      },
      "execution_count": null,
      "outputs": [
        {
          "output_type": "execute_result",
          "data": {
            "text/plain": [
              "0.8975371549184653"
            ]
          },
          "metadata": {},
          "execution_count": 59
        }
      ]
    },
    {
      "cell_type": "code",
      "source": [
        "model_2 = sm.OLS.from_formula(\"Y_new_ln ~ T\",\n",
        "                            data=df)\n",
        "result_2 = model_2.fit()\n",
        "print(result_2.params)"
      ],
      "metadata": {
        "colab": {
          "base_uri": "https://localhost:8080/"
        },
        "outputId": "7a544292-8101-4027-dfca-59bd96cb7e7a",
        "id": "jbMCMrGpW7wh"
      },
      "execution_count": null,
      "outputs": [
        {
          "output_type": "stream",
          "name": "stdout",
          "text": [
            "Intercept   -0.131604\n",
            "T            0.002686\n",
            "dtype: float64\n"
          ]
        }
      ]
    },
    {
      "cell_type": "code",
      "source": [
        "print(result_2.summary())"
      ],
      "metadata": {
        "colab": {
          "base_uri": "https://localhost:8080/"
        },
        "outputId": "edbd6dd3-1414-4a86-e760-07fe635da4f1",
        "id": "KByd3ooWW7wq"
      },
      "execution_count": null,
      "outputs": [
        {
          "output_type": "stream",
          "name": "stdout",
          "text": [
            "                            OLS Regression Results                            \n",
            "==============================================================================\n",
            "Dep. Variable:               Y_new_ln   R-squared:                       0.390\n",
            "Model:                            OLS   Adj. R-squared:                  0.383\n",
            "Method:                 Least Squares   F-statistic:                     60.71\n",
            "Date:                Tue, 14 Feb 2023   Prob (F-statistic):           8.25e-12\n",
            "Time:                        15:47:03   Log-Likelihood:                 91.640\n",
            "No. Observations:                  97   AIC:                            -179.3\n",
            "Df Residuals:                      95   BIC:                            -174.1\n",
            "Df Model:                           1                                         \n",
            "Covariance Type:            nonrobust                                         \n",
            "==============================================================================\n",
            "                 coef    std err          t      P>|t|      [0.025      0.975]\n",
            "------------------------------------------------------------------------------\n",
            "Intercept     -0.1316      0.019     -6.765      0.000      -0.170      -0.093\n",
            "T              0.0027      0.000      7.792      0.000       0.002       0.003\n",
            "==============================================================================\n",
            "Omnibus:                        0.635   Durbin-Watson:                   1.580\n",
            "Prob(Omnibus):                  0.728   Jarque-Bera (JB):                0.393\n",
            "Skew:                          -0.153   Prob(JB):                        0.821\n",
            "Kurtosis:                       3.062   Cond. No.                         114.\n",
            "==============================================================================\n",
            "\n",
            "Notes:\n",
            "[1] Standard Errors assume that the covariance matrix of the errors is correctly specified.\n"
          ]
        }
      ]
    },
    {
      "cell_type": "code",
      "source": [
        "# ESS_2\n",
        "ESS_2 = np.sum(result_2.resid**2)\n",
        "ESS_2"
      ],
      "metadata": {
        "colab": {
          "base_uri": "https://localhost:8080/"
        },
        "id": "mtsrMw3NX3IS",
        "outputId": "8bceab8d-056e-42a4-d111-83090c39aae2"
      },
      "execution_count": null,
      "outputs": [
        {
          "output_type": "execute_result",
          "data": {
            "text/plain": [
              "0.8584212454961101"
            ]
          },
          "metadata": {},
          "execution_count": 62
        }
      ]
    },
    {
      "cell_type": "markdown",
      "source": [
        "### ![image.png](data:image/png;base64,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)"
      ],
      "metadata": {
        "id": "HcQ6LjoAYQXg"
      }
    },
    {
      "cell_type": "code",
      "source": [
        "Z = np.abs(len(Y)/2 * np.log(ESS_1 / ESS_2))\n",
        "Z"
      ],
      "metadata": {
        "colab": {
          "base_uri": "https://localhost:8080/"
        },
        "id": "U2MsI3DvYXRU",
        "outputId": "5fd27dc1-96ac-4c71-a05b-c6128212d233"
      },
      "execution_count": null,
      "outputs": [
        {
          "output_type": "execute_result",
          "data": {
            "text/plain": [
              "2.1611394661292156"
            ]
          },
          "metadata": {},
          "execution_count": 63
        }
      ]
    },
    {
      "cell_type": "markdown",
      "source": [
        "### Хи-квадрат(0,95; 1) статистика "
      ],
      "metadata": {
        "id": "6KDloJyIZf63"
      }
    },
    {
      "cell_type": "code",
      "source": [
        "sts.chi2.isf(0.05, 1)"
      ],
      "metadata": {
        "colab": {
          "base_uri": "https://localhost:8080/"
        },
        "id": "dg3d0YSBZVbP",
        "outputId": "98319437-21a2-4508-aaa6-00ef8e13a4b5"
      },
      "execution_count": null,
      "outputs": [
        {
          "output_type": "execute_result",
          "data": {
            "text/plain": [
              "3.8414588206941285"
            ]
          },
          "metadata": {},
          "execution_count": 64
        }
      ]
    },
    {
      "cell_type": "markdown",
      "source": [
        "### Вывод:\n",
        "Т.к. Хи-квадрат >  Z => гипотеза H0 не отвергается => выбираем линейную модель"
      ],
      "metadata": {
        "id": "u1II05yoar3H"
      }
    },
    {
      "cell_type": "markdown",
      "source": [
        "## 2. Тест Бокса-Кокса"
      ],
      "metadata": {
        "id": "cUFWVUaubDYn"
      }
    },
    {
      "cell_type": "code",
      "source": [
        "# Преобразуем зависимую переменную по методу П. Зарембеки (Y_new)"
      ],
      "metadata": {
        "id": "CtfLiVVYacwV"
      },
      "execution_count": null,
      "outputs": []
    },
    {
      "cell_type": "markdown",
      "source": [
        "![image.png](data:image/png;base64,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)"
      ],
      "metadata": {
        "id": "gikknC4RbuUF"
      }
    },
    {
      "cell_type": "code",
      "source": [
        "Y_BC, l1 =  sts.boxcox(Y_new)\n",
        "df['Y_BC'] = Y_BC"
      ],
      "metadata": {
        "id": "tpTVSk9Gbvw1"
      },
      "execution_count": null,
      "outputs": []
    },
    {
      "cell_type": "code",
      "source": [
        "X_BC, l2 =  sts.boxcox(df['T'])\n",
        "df['X_BC'] = X_BC"
      ],
      "metadata": {
        "id": "OlWkrPpEm8L0"
      },
      "execution_count": null,
      "outputs": []
    },
    {
      "cell_type": "code",
      "source": [
        "model_3 = sm.OLS.from_formula(\"Y_BC ~ X_BC\",\n",
        "                            data=df)\n",
        "result_3 = model_3.fit()\n",
        "print(result_3.params)"
      ],
      "metadata": {
        "colab": {
          "base_uri": "https://localhost:8080/"
        },
        "outputId": "755ad194-1999-4e0c-f18c-e3becf208ae3",
        "id": "kxgp4OMNoIg3"
      },
      "execution_count": null,
      "outputs": [
        {
          "output_type": "stream",
          "name": "stdout",
          "text": [
            "Intercept   -0.156338\n",
            "X_BC         0.007538\n",
            "dtype: float64\n"
          ]
        }
      ]
    },
    {
      "cell_type": "code",
      "source": [
        "print(result_3.summary())"
      ],
      "metadata": {
        "colab": {
          "base_uri": "https://localhost:8080/"
        },
        "outputId": "ea5b125c-b9a6-4ca6-c63c-4d0c61e86d5e",
        "id": "VFPVggGQoIg3"
      },
      "execution_count": null,
      "outputs": [
        {
          "output_type": "stream",
          "name": "stdout",
          "text": [
            "                            OLS Regression Results                            \n",
            "==============================================================================\n",
            "Dep. Variable:                   Y_BC   R-squared:                       0.383\n",
            "Model:                            OLS   Adj. R-squared:                  0.377\n",
            "Method:                 Least Squares   F-statistic:                     58.98\n",
            "Date:                Tue, 14 Feb 2023   Prob (F-statistic):           1.41e-11\n",
            "Time:                        15:47:05   Log-Likelihood:                 91.256\n",
            "No. Observations:                  97   AIC:                            -178.5\n",
            "Df Residuals:                      95   BIC:                            -173.4\n",
            "Df Model:                           1                                         \n",
            "Covariance Type:            nonrobust                                         \n",
            "==============================================================================\n",
            "                 coef    std err          t      P>|t|      [0.025      0.975]\n",
            "------------------------------------------------------------------------------\n",
            "Intercept     -0.1563      0.022     -7.030      0.000      -0.200      -0.112\n",
            "X_BC           0.0075      0.001      7.680      0.000       0.006       0.009\n",
            "==============================================================================\n",
            "Omnibus:                        1.388   Durbin-Watson:                   1.546\n",
            "Prob(Omnibus):                  0.500   Jarque-Bera (JB):                1.090\n",
            "Skew:                          -0.258   Prob(JB):                        0.580\n",
            "Kurtosis:                       3.055   Cond. No.                         52.1\n",
            "==============================================================================\n",
            "\n",
            "Notes:\n",
            "[1] Standard Errors assume that the covariance matrix of the errors is correctly specified.\n"
          ]
        }
      ]
    },
    {
      "cell_type": "code",
      "source": [
        "model_log = sm.OLS.from_formula(\"np.log(Y_BC) ~ X_BC\",\n",
        "                            data=df)\n",
        "result_log = model_log.fit()\n",
        "print(result_log.params)"
      ],
      "metadata": {
        "colab": {
          "base_uri": "https://localhost:8080/"
        },
        "outputId": "28bb15b5-7a22-4256-802c-b951500b6166",
        "id": "x6OPatA8rxwF"
      },
      "execution_count": null,
      "outputs": [
        {
          "output_type": "stream",
          "name": "stdout",
          "text": [
            "Intercept   -4.284081\n",
            "X_BC         0.060792\n",
            "dtype: float64\n"
          ]
        },
        {
          "output_type": "stream",
          "name": "stderr",
          "text": [
            "/usr/local/lib/python3.8/dist-packages/pandas/core/arraylike.py:364: RuntimeWarning: invalid value encountered in log\n",
            "  result = getattr(ufunc, method)(*inputs, **kwargs)\n"
          ]
        }
      ]
    },
    {
      "cell_type": "code",
      "source": [
        "print(result_log.summary())"
      ],
      "metadata": {
        "colab": {
          "base_uri": "https://localhost:8080/"
        },
        "outputId": "adb6a0f6-96a0-4096-ad48-9f1692f9d582",
        "id": "4nsxPRKErxwG"
      },
      "execution_count": null,
      "outputs": [
        {
          "output_type": "stream",
          "name": "stdout",
          "text": [
            "                            OLS Regression Results                            \n",
            "==============================================================================\n",
            "Dep. Variable:           np.log(Y_BC)   R-squared:                       0.160\n",
            "Model:                            OLS   Adj. R-squared:                  0.141\n",
            "Method:                 Least Squares   F-statistic:                     8.383\n",
            "Date:                Tue, 14 Feb 2023   Prob (F-statistic):            0.00588\n",
            "Time:                        16:09:45   Log-Likelihood:                -61.071\n",
            "No. Observations:                  46   AIC:                             126.1\n",
            "Df Residuals:                      44   BIC:                             129.8\n",
            "Df Model:                           1                                         \n",
            "Covariance Type:            nonrobust                                         \n",
            "==============================================================================\n",
            "                 coef    std err          t      P>|t|      [0.025      0.975]\n",
            "------------------------------------------------------------------------------\n",
            "Intercept     -4.2841      0.571     -7.502      0.000      -5.435      -3.133\n",
            "X_BC           0.0608      0.021      2.895      0.006       0.018       0.103\n",
            "==============================================================================\n",
            "Omnibus:                       20.441   Durbin-Watson:                   1.593\n",
            "Prob(Omnibus):                  0.000   Jarque-Bera (JB):               31.289\n",
            "Skew:                          -1.370   Prob(JB):                     1.61e-07\n",
            "Kurtosis:                       5.970   Cond. No.                         113.\n",
            "==============================================================================\n",
            "\n",
            "Notes:\n",
            "[1] Standard Errors assume that the covariance matrix of the errors is correctly specified.\n"
          ]
        }
      ]
    },
    {
      "cell_type": "markdown",
      "source": [
        "### Сравниваем модели с помощью информационного критерия Акаике"
      ],
      "metadata": {
        "id": "db2SWvKirSGN"
      }
    },
    {
      "cell_type": "code",
      "source": [
        "# Сравниваем модели с помощью информационного критерия Акаике\n",
        "aic_linear = result_3.aic\n",
        "aic_log = result_log.aic\n",
        "\n",
        "# Выводим результаты\n",
        "print('AIC для линейной модели регрессия:', aic_linear)\n",
        "print('AIC для полулогарифмической модели регрессии:', aic_log)\n",
        "\n",
        "# Определяем, какая модель лучше описывает данные\n",
        "if aic_linear < aic_log:\n",
        "    print('Вывод: \\naic_linear < aic_log => Предпочтительнее линейная модель регрессия')\n",
        "else:\n",
        "    print('Вывод: \\naic_linear > aic_log => Предпочтительнее полулогарифмическая модель регрессии')"
      ],
      "metadata": {
        "colab": {
          "base_uri": "https://localhost:8080/"
        },
        "id": "z0pgV6hYqyl-",
        "outputId": "068bc2dd-cf90-42ec-9ed0-bac70fa44b53"
      },
      "execution_count": null,
      "outputs": [
        {
          "output_type": "stream",
          "name": "stdout",
          "text": [
            "AIC для линейной модели регрессия: -178.5116492106156\n",
            "AIC для полулогарифмической модели регрессии: 126.14267742013993\n",
            "Вывод: \n",
            "aic_linear < aic_log => Предпочтительнее линейная модель регрессия\n"
          ]
        }
      ]
    },
    {
      "cell_type": "markdown",
      "source": [
        "## 3. Критерий Акаике"
      ],
      "metadata": {
        "id": "3GRm77doUOKv"
      }
    },
    {
      "cell_type": "code",
      "source": [
        "model = sm.OLS.from_formula(\"Y ~ X\",\n",
        "                            data=df)\n",
        "result = model.fit()\n",
        "print(result.params)"
      ],
      "metadata": {
        "colab": {
          "base_uri": "https://localhost:8080/"
        },
        "outputId": "3691a62b-a7c5-4bf1-ee1f-441b72d1f356",
        "id": "LtvSQDTcViFn"
      },
      "execution_count": null,
      "outputs": [
        {
          "output_type": "stream",
          "name": "stdout",
          "text": [
            "Intercept    115.451933\n",
            "X              0.362921\n",
            "dtype: float64\n"
          ]
        }
      ]
    },
    {
      "cell_type": "code",
      "source": [
        "print(result.summary())"
      ],
      "metadata": {
        "colab": {
          "base_uri": "https://localhost:8080/"
        },
        "outputId": "86d5dcd1-02fd-4c19-828a-64d53fb5625a",
        "id": "yk7hoHnBViFn"
      },
      "execution_count": null,
      "outputs": [
        {
          "output_type": "stream",
          "name": "stdout",
          "text": [
            "                            OLS Regression Results                            \n",
            "==============================================================================\n",
            "Dep. Variable:                      Y   R-squared:                       0.389\n",
            "Model:                            OLS   Adj. R-squared:                  0.383\n",
            "Method:                 Least Squares   F-statistic:                     60.60\n",
            "Date:                Tue, 14 Feb 2023   Prob (F-statistic):           8.53e-12\n",
            "Time:                        15:47:10   Log-Likelihood:                -384.35\n",
            "No. Observations:                  97   AIC:                             772.7\n",
            "Df Residuals:                      95   BIC:                             777.8\n",
            "Df Model:                           1                                         \n",
            "Covariance Type:            nonrobust                                         \n",
            "==============================================================================\n",
            "                 coef    std err          t      P>|t|      [0.025      0.975]\n",
            "------------------------------------------------------------------------------\n",
            "Intercept    115.4519      2.631     43.881      0.000     110.229     120.675\n",
            "X              0.3629      0.047      7.785      0.000       0.270       0.455\n",
            "==============================================================================\n",
            "Omnibus:                        3.510   Durbin-Watson:                   1.635\n",
            "Prob(Omnibus):                  0.173   Jarque-Bera (JB):                3.063\n",
            "Skew:                           0.259   Prob(JB):                        0.216\n",
            "Kurtosis:                       3.700   Cond. No.                         114.\n",
            "==============================================================================\n",
            "\n",
            "Notes:\n",
            "[1] Standard Errors assume that the covariance matrix of the errors is correctly specified.\n"
          ]
        }
      ]
    },
    {
      "cell_type": "code",
      "source": [
        "# ESS\n",
        "ESS = np.sum(result.resid**2)\n",
        "ESS"
      ],
      "metadata": {
        "colab": {
          "base_uri": "https://localhost:8080/"
        },
        "outputId": "c42a1241-2a04-4385-acf6-2e023e9bd19a",
        "id": "NhkULPnwViFo"
      },
      "execution_count": null,
      "outputs": [
        {
          "output_type": "execute_result",
          "data": {
            "text/plain": [
              "15701.764859562378"
            ]
          },
          "metadata": {},
          "execution_count": 73
        }
      ]
    },
    {
      "cell_type": "markdown",
      "source": [
        "![image.png](data:image/png;base64,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)"
      ],
      "metadata": {
        "id": "Mi-bVJTjVc-9"
      }
    },
    {
      "cell_type": "code",
      "source": [
        "# Статистика AIC линейной модели  \n",
        "n = len(Y)\n",
        "k = 1\n",
        "AIC_1 = np.log(ESS/n) + 2*k/n + 1 + np.log(2*np.pi)\n",
        "AIC_1"
      ],
      "metadata": {
        "id": "TBJw6189pfFh",
        "colab": {
          "base_uri": "https://localhost:8080/"
        },
        "outputId": "e210b295-5cca-46ec-ffd6-4e051adc4dad"
      },
      "execution_count": null,
      "outputs": [
        {
          "output_type": "execute_result",
          "data": {
            "text/plain": [
              "7.945313041062795"
            ]
          },
          "metadata": {},
          "execution_count": 85
        }
      ]
    },
    {
      "cell_type": "markdown",
      "source": [
        "### Строим LN(Y_i) модель регрессии"
      ],
      "metadata": {
        "id": "gNbzgmEsW5CJ"
      }
    },
    {
      "cell_type": "code",
      "source": [
        "model_ln = sm.OLS.from_formula(\"np.log(Y) ~ X\",\n",
        "                            data=df)\n",
        "result_ln = model_ln.fit()\n",
        "print(result_ln.params)"
      ],
      "metadata": {
        "colab": {
          "base_uri": "https://localhost:8080/"
        },
        "outputId": "e6937e78-ad38-4a70-ebe3-4fed7b7b0d8a",
        "id": "pDKzv8SNW2I2"
      },
      "execution_count": null,
      "outputs": [
        {
          "output_type": "stream",
          "name": "stdout",
          "text": [
            "Intercept    4.753210\n",
            "X            0.002686\n",
            "dtype: float64\n"
          ]
        }
      ]
    },
    {
      "cell_type": "code",
      "source": [
        "print(result_ln.summary())"
      ],
      "metadata": {
        "colab": {
          "base_uri": "https://localhost:8080/"
        },
        "outputId": "e9745e93-507d-4939-f43f-c0b9dee219da",
        "id": "S5ZRgJbVW2I2"
      },
      "execution_count": null,
      "outputs": [
        {
          "output_type": "stream",
          "name": "stdout",
          "text": [
            "                            OLS Regression Results                            \n",
            "==============================================================================\n",
            "Dep. Variable:              np.log(Y)   R-squared:                       0.390\n",
            "Model:                            OLS   Adj. R-squared:                  0.383\n",
            "Method:                 Least Squares   F-statistic:                     60.71\n",
            "Date:                Tue, 14 Feb 2023   Prob (F-statistic):           8.25e-12\n",
            "Time:                        15:47:14   Log-Likelihood:                 91.640\n",
            "No. Observations:                  97   AIC:                            -179.3\n",
            "Df Residuals:                      95   BIC:                            -174.1\n",
            "Df Model:                           1                                         \n",
            "Covariance Type:            nonrobust                                         \n",
            "==============================================================================\n",
            "                 coef    std err          t      P>|t|      [0.025      0.975]\n",
            "------------------------------------------------------------------------------\n",
            "Intercept      4.7532      0.019    244.336      0.000       4.715       4.792\n",
            "X              0.0027      0.000      7.792      0.000       0.002       0.003\n",
            "==============================================================================\n",
            "Omnibus:                        0.635   Durbin-Watson:                   1.580\n",
            "Prob(Omnibus):                  0.728   Jarque-Bera (JB):                0.393\n",
            "Skew:                          -0.153   Prob(JB):                        0.821\n",
            "Kurtosis:                       3.062   Cond. No.                         114.\n",
            "==============================================================================\n",
            "\n",
            "Notes:\n",
            "[1] Standard Errors assume that the covariance matrix of the errors is correctly specified.\n"
          ]
        }
      ]
    },
    {
      "cell_type": "code",
      "source": [
        "# ESS_ln\n",
        "ESS_ln = np.sum(result_ln.resid**2)\n",
        "ESS_ln"
      ],
      "metadata": {
        "colab": {
          "base_uri": "https://localhost:8080/"
        },
        "outputId": "88e92794-9da7-4da4-b44a-10756dc8f355",
        "id": "m6LesGPbW2I3"
      },
      "execution_count": null,
      "outputs": [
        {
          "output_type": "execute_result",
          "data": {
            "text/plain": [
              "0.8584212454961109"
            ]
          },
          "metadata": {},
          "execution_count": 77
        }
      ]
    },
    {
      "cell_type": "code",
      "source": [
        "# Статистика AIC полулогарифмической модели  \n",
        "n = len(Y)\n",
        "k = 1\n",
        "AIC_2 = np.log(ESS_ln/n) + 2*k/n + 1 + np.log(2*np.pi)\n",
        "AIC_2"
      ],
      "metadata": {
        "colab": {
          "base_uri": "https://localhost:8080/"
        },
        "id": "gnq1yGHhWy55",
        "outputId": "33f45a66-5b0d-41f1-8ebb-9f78681714c2"
      },
      "execution_count": null,
      "outputs": [
        {
          "output_type": "execute_result",
          "data": {
            "text/plain": [
              "-1.8688756932529689"
            ]
          },
          "metadata": {},
          "execution_count": 86
        }
      ]
    },
    {
      "cell_type": "markdown",
      "source": [
        "### Вывод:\n",
        "Т.к. AIC_1 > AIC_2 => Выбираем модель с наименьшим значением статистики Акаике, т.е. выбираем полулогарифмическую модель "
      ],
      "metadata": {
        "id": "eDEHPa2DZqGI"
      }
    },
    {
      "cell_type": "markdown",
      "source": [
        "## 4. Критерий Шварца "
      ],
      "metadata": {
        "id": "j3t0dlV5eDrC"
      }
    },
    {
      "cell_type": "markdown",
      "source": [
        "![image.png](data:image/png;base64,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)"
      ],
      "metadata": {
        "id": "fS5s9LhheQE_"
      }
    },
    {
      "cell_type": "code",
      "source": [
        "SC_1 = np.log(ESS/n) + (k*np.log(n)) / n + 1 + np.log(2*np.pi)\n",
        "SC_1"
      ],
      "metadata": {
        "colab": {
          "base_uri": "https://localhost:8080/"
        },
        "id": "p3-1JLoed_Mz",
        "outputId": "2e4777b7-fd9f-4906-c341-2e55a21c49c7"
      },
      "execution_count": null,
      "outputs": [
        {
          "output_type": "execute_result",
          "data": {
            "text/plain": [
              "7.971856453212314"
            ]
          },
          "metadata": {},
          "execution_count": 79
        }
      ]
    },
    {
      "cell_type": "code",
      "source": [
        "SC_2 = np.log(ESS_ln/n) + (k*np.log(n)) / n + 1 + np.log(2*np.pi)\n",
        "SC_2"
      ],
      "metadata": {
        "colab": {
          "base_uri": "https://localhost:8080/"
        },
        "id": "vM7lUMqNfljr",
        "outputId": "3746fb34-b343-4f9c-d578-146a18d8d3ed"
      },
      "execution_count": null,
      "outputs": [
        {
          "output_type": "execute_result",
          "data": {
            "text/plain": [
              "-1.8423322811034497"
            ]
          },
          "metadata": {},
          "execution_count": 80
        }
      ]
    },
    {
      "cell_type": "markdown",
      "source": [
        "### Вывод:\n",
        "Т.к. SC_1 > SC_2 => Выбираем модель с наименьшим значением статистики Шварца, т.е. выбираем полулогарифмическую модель "
      ],
      "metadata": {
        "id": "S_qH4ZZff_9Q"
      }
    },
    {
      "cell_type": "markdown",
      "source": [
        "## 5. Тест Дэвидсона"
      ],
      "metadata": {
        "id": "9MMKDJfDidbM"
      }
    },
    {
      "cell_type": "markdown",
      "source": [
        "Тест Дэвидсона (Davidson test) - это статистический тест на отсутствие линейности в регрессии. Он позволяет проверить, насколько хорошо модель линейной регрессии описывает данные и определить, следует ли использовать полулогарифмическую модель."
      ],
      "metadata": {
        "id": "fNIvn8cfi8ew"
      }
    },
    {
      "cell_type": "code",
      "source": [
        "import statsmodels.api as sm\n",
        "\n",
        "# Применяем тест Дэвидсона\n",
        "test = sm.stats.diagnostic.linear_harvey_collier(result)\n",
        "\n",
        "# Выводим результаты теста\n",
        "print('P-value:', test[1])\n",
        "print('Test statistic:', test[0])\n",
        "\n",
        "# Определяем, какая модель лучше описывает данные\n",
        "if test[1] > 0.05:\n",
        "    print('Вывод: \\nГипотеза H0 принимается => Предпочтительнее линейная модель регрессия')\n",
        "else:\n",
        "    print('Вывод: \\nГипотеза H0 не принимается => Предпочтительнее полулогарифмическая модель регрессии')"
      ],
      "metadata": {
        "colab": {
          "base_uri": "https://localhost:8080/"
        },
        "id": "ec5B6A68igSH",
        "outputId": "a09f1955-966d-4170-eb06-a05d6f634e2f"
      },
      "execution_count": null,
      "outputs": [
        {
          "output_type": "stream",
          "name": "stdout",
          "text": [
            "P-value: 0.7841840363526192\n",
            "Test statistic: -0.27466345195831615\n",
            "Вывод: \n",
            "Гипотеза H0 принимается => Предпочтительнее линейная модель регрессия\n"
          ]
        }
      ]
    }
  ]
}