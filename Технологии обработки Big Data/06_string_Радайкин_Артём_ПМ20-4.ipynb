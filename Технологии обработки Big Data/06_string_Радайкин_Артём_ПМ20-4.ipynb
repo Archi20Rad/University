{
 "cells": [
  {
   "cell_type": "markdown",
   "metadata": {},
   "source": [
    "# Работа со строковыми значениями"
   ]
  },
  {
   "cell_type": "markdown",
   "metadata": {},
   "source": [
    "__Автор задач: Блохин Н.В. (NVBlokhin@fa.ru)__\n",
    "\n",
    "Материалы:\n",
    "* Макрушин С.В. Лекция \"Работа со строковыми значениям\"\n",
    "* https://pyformat.info/\n",
    "* https://docs.python.org/3/library/re.html\n",
    "    * https://docs.python.org/3/library/re.html#flags\n",
    "    * https://docs.python.org/3/library/re.html#functions\n",
    "* https://pythonru.com/primery/primery-primeneniya-regulyarnyh-vyrazheniy-v-python\n",
    "* https://kanoki.org/2019/11/12/how-to-use-regex-in-pandas/\n",
    "* https://realpython.com/nltk-nlp-python/"
   ]
  },
  {
   "cell_type": "markdown",
   "metadata": {},
   "source": [
    "## Задачи для совместного разбора"
   ]
  },
  {
   "cell_type": "markdown",
   "metadata": {},
   "source": [
    "1. Вывести на экран данные из словаря `obj` построчно в виде `k = v`, задав формат таким образом, чтобы знак равенства оказался на одной и той же позиции во всех строках. Строковые литералы обернуть в кавычки."
   ]
  },
  {
   "cell_type": "code",
   "execution_count": 1,
   "metadata": {},
   "outputs": [],
   "source": [
    "import pandas as pd\n",
    "import numpy as np\n",
    "import nltk\n",
    "import re"
   ]
  },
  {
   "cell_type": "code",
   "execution_count": 2,
   "metadata": {},
   "outputs": [],
   "source": [
    "obj = {\n",
    "    \"home_page\": \"https://github.com/pypa/sampleproject\",\n",
    "    \"keywords\": \"sample setuptools development\",\n",
    "    \"license\": \"MIT\",\n",
    "}"
   ]
  },
  {
   "cell_type": "code",
   "execution_count": 3,
   "metadata": {},
   "outputs": [
    {
     "data": {
      "text/plain": [
       "\"name='Ilya'\""
      ]
     },
     "execution_count": 3,
     "metadata": {},
     "output_type": "execute_result"
    }
   ],
   "source": [
    "name = 'Ilya'\n",
    "f\"{name=}\""
   ]
  },
  {
   "cell_type": "code",
   "execution_count": 4,
   "metadata": {},
   "outputs": [
    {
     "data": {
      "text/plain": [
       "'   Ilya   '"
      ]
     },
     "execution_count": 4,
     "metadata": {},
     "output_type": "execute_result"
    }
   ],
   "source": [
    "name = 'Ilya'\n",
    "f\"{name:^10}\""
   ]
  },
  {
   "cell_type": "code",
   "execution_count": 5,
   "metadata": {},
   "outputs": [
    {
     "name": "stdout",
     "output_type": "stream",
     "text": [
      "home_page  = 'https://github.com/pypa/sampleproject'\n",
      "keywords   = 'sample setuptools development'\n",
      "license    = 'MIT'\n"
     ]
    }
   ],
   "source": [
    "for k,v in obj.items():\n",
    "    print(f\"{k:10} = '{v}'\")"
   ]
  },
  {
   "cell_type": "markdown",
   "metadata": {},
   "source": [
    "2. Написать регулярное выражение,которое позволит найти номера групп студентов."
   ]
  },
  {
   "cell_type": "code",
   "execution_count": 6,
   "metadata": {},
   "outputs": [
    {
     "data": {
      "text/plain": [
       "0    Евгения гр.ПМ19-1\n",
       "1         Илья пм 20-4\n",
       "2            Анна 20-3\n",
       "dtype: object"
      ]
     },
     "execution_count": 6,
     "metadata": {},
     "output_type": "execute_result"
    }
   ],
   "source": [
    "obj = pd.Series([\"Евгения гр.ПМ19-1\", \"Илья пм 20-4\", \"Анна 20-3\"])\n",
    "obj"
   ]
  },
  {
   "cell_type": "code",
   "execution_count": 7,
   "metadata": {},
   "outputs": [
    {
     "name": "stdout",
     "output_type": "stream",
     "text": [
      "Евгения гр.ПМ19-1    ['ПМ19-1']\n",
      "Илья пм 20-4         ['пм 20-4']\n",
      "Анна 20-3            [' 20-3']\n"
     ]
    }
   ],
   "source": [
    "import re\n",
    "\n",
    "patt = re.compile(r\"(?:ПМ)?\\s?\\d+-\\d\", re.I)\n",
    "for item in obj:\n",
    "    print(f\"{item:20}\", patt.findall(item))"
   ]
  },
  {
   "cell_type": "code",
   "execution_count": 8,
   "metadata": {},
   "outputs": [
    {
     "data": {
      "text/plain": [
       "0     [ПМ19-1]\n",
       "1    [пм 20-4]\n",
       "2      [ 20-3]\n",
       "dtype: object"
      ]
     },
     "execution_count": 8,
     "metadata": {},
     "output_type": "execute_result"
    }
   ],
   "source": [
    "obj.str.findall(patt)"
   ]
  },
  {
   "cell_type": "markdown",
   "metadata": {},
   "source": [
    "3. Разбейте текст формулировки задачи 2 на слова."
   ]
  },
  {
   "cell_type": "code",
   "execution_count": 9,
   "metadata": {},
   "outputs": [],
   "source": [
    "import nltk"
   ]
  },
  {
   "cell_type": "code",
   "execution_count": 10,
   "metadata": {},
   "outputs": [],
   "source": [
    "#!pip install nltk\n",
    "#nltk.download('punkt')"
   ]
  },
  {
   "cell_type": "code",
   "execution_count": 11,
   "metadata": {},
   "outputs": [
    {
     "data": {
      "text/plain": [
       "['Написать',\n",
       " 'регулярное',\n",
       " 'выражение,которое',\n",
       " 'позволит',\n",
       " 'найти',\n",
       " 'номера',\n",
       " 'групп',\n",
       " 'студентов.']"
      ]
     },
     "execution_count": 11,
     "metadata": {},
     "output_type": "execute_result"
    }
   ],
   "source": [
    "text = \"Написать регулярное выражение,которое позволит найти номера групп студентов.\"\n",
    "text.split()"
   ]
  },
  {
   "cell_type": "code",
   "execution_count": 12,
   "metadata": {},
   "outputs": [
    {
     "data": {
      "text/plain": [
       "['Написать',\n",
       " 'регулярное',\n",
       " 'выражение',\n",
       " 'которое',\n",
       " 'позволит',\n",
       " 'найти',\n",
       " 'номера',\n",
       " 'групп',\n",
       " 'студентов']"
      ]
     },
     "execution_count": 12,
     "metadata": {},
     "output_type": "execute_result"
    }
   ],
   "source": [
    "tokenize = nltk.tokenize.RegexpTokenizer(r\"\\w+\")\n",
    "tokenize.tokenize(text)"
   ]
  },
  {
   "cell_type": "code",
   "execution_count": null,
   "metadata": {},
   "outputs": [],
   "source": []
  },
  {
   "cell_type": "markdown",
   "metadata": {},
   "source": [
    "## Лабораторная работа 6"
   ]
  },
  {
   "cell_type": "markdown",
   "metadata": {},
   "source": [
    "### Форматирование строк"
   ]
  },
  {
   "cell_type": "markdown",
   "metadata": {},
   "source": [
    "1\\. Загрузите данные из файла `recipes_sample.csv` (__ЛР2__) в виде `pd.DataFrame` `recipes` При помощи форматирования строк выведите информацию об id рецепта и времени выполнения 5 случайных рецептов в виде таблицы следующего вида:\n",
    "\n",
    "    \n",
    "    |      id      |  minutes  |\n",
    "    |--------------------------|\n",
    "    |    61178     |    65     |\n",
    "    |    202352    |    80     |\n",
    "    |    364322    |    150    |\n",
    "    |    26177     |    20     |\n",
    "    |    224785    |    35     |\n",
    "    \n",
    "Обратите внимание, что ширина столбцов заранее неизвестна и должна рассчитываться динамически, в зависимости от тех данных, которые были выбраны. "
   ]
  },
  {
   "cell_type": "code",
   "execution_count": 62,
   "metadata": {},
   "outputs": [],
   "source": [
    "recipes = pd.read_csv('C:\\\\Users\\\\Артём\\\\OneDrive - ФГОБУ ВО Финансовый университет при Правительстве РФ\\\\Учёба\\\\3 курс\\\\Технологии обработки BD\\\\ТОБД22-ПМ20-Материалы к семинарам\\\\02_pandas\\\\02_pandas_data\\\\recipes_sample.csv', sep=',',\n",
    "                      parse_dates=['submitted'])"
   ]
  },
  {
   "cell_type": "code",
   "execution_count": 14,
   "metadata": {},
   "outputs": [
    {
     "data": {
      "text/plain": [
       "(30000, 8)"
      ]
     },
     "execution_count": 14,
     "metadata": {},
     "output_type": "execute_result"
    }
   ],
   "source": [
    "recipes.shape"
   ]
  },
  {
   "cell_type": "code",
   "execution_count": 15,
   "metadata": {},
   "outputs": [
    {
     "data": {
      "text/html": [
       "<div>\n",
       "<style scoped>\n",
       "    .dataframe tbody tr th:only-of-type {\n",
       "        vertical-align: middle;\n",
       "    }\n",
       "\n",
       "    .dataframe tbody tr th {\n",
       "        vertical-align: top;\n",
       "    }\n",
       "\n",
       "    .dataframe thead th {\n",
       "        text-align: right;\n",
       "    }\n",
       "</style>\n",
       "<table border=\"1\" class=\"dataframe\">\n",
       "  <thead>\n",
       "    <tr style=\"text-align: right;\">\n",
       "      <th></th>\n",
       "      <th>id</th>\n",
       "      <th>minutes</th>\n",
       "    </tr>\n",
       "  </thead>\n",
       "  <tbody>\n",
       "    <tr>\n",
       "      <th>5012</th>\n",
       "      <td>33284</td>\n",
       "      <td>10</td>\n",
       "    </tr>\n",
       "    <tr>\n",
       "      <th>15736</th>\n",
       "      <td>244177</td>\n",
       "      <td>15</td>\n",
       "    </tr>\n",
       "    <tr>\n",
       "      <th>19851</th>\n",
       "      <td>267785</td>\n",
       "      <td>75</td>\n",
       "    </tr>\n",
       "    <tr>\n",
       "      <th>1542</th>\n",
       "      <td>43030</td>\n",
       "      <td>60</td>\n",
       "    </tr>\n",
       "    <tr>\n",
       "      <th>1641</th>\n",
       "      <td>169147</td>\n",
       "      <td>15</td>\n",
       "    </tr>\n",
       "  </tbody>\n",
       "</table>\n",
       "</div>"
      ],
      "text/plain": [
       "           id  minutes\n",
       "5012    33284       10\n",
       "15736  244177       15\n",
       "19851  267785       75\n",
       "1542    43030       60\n",
       "1641   169147       15"
      ]
     },
     "execution_count": 15,
     "metadata": {},
     "output_type": "execute_result"
    }
   ],
   "source": [
    "indexes = np.random.choice(recipes.shape[0], 5, replace=False)\n",
    "rec_5 = recipes.loc[indexes][['id','minutes']]\n",
    "rec_5"
   ]
  },
  {
   "cell_type": "markdown",
   "metadata": {},
   "source": [
    "#### Итоговый результат"
   ]
  },
  {
   "cell_type": "code",
   "execution_count": 16,
   "metadata": {},
   "outputs": [
    {
     "name": "stdout",
     "output_type": "stream",
     "text": [
      "|    id     |  minutes  |\n",
      "|-----------------------|\n",
      "|   33284   |     10    |\n",
      "|  244177   |     15    |\n",
      "|  267785   |     75    |\n",
      "|   43030   |     60    |\n",
      "|  169147   |     15    |\n"
     ]
    }
   ],
   "source": [
    "print(f\"|{'id':^11}| {'minutes':^10}|\\n|{'-'*23}|\")\n",
    "for index, row in rec_5.iterrows():\n",
    "    print(f\"|{row['id']:^11}| {row['minutes']:^10}|\") "
   ]
  },
  {
   "cell_type": "markdown",
   "metadata": {},
   "source": [
    "2\\. Напишите функцию `show_info`, которая по данным о рецепте создает строку (в смысле объекта python) с описанием следующего вида:\n",
    "\n",
    "```\n",
    "\"Название Из Нескольких Слов\"\n",
    "\n",
    "1. Шаг 1.\n",
    "2. Шаг 2.\n",
    "----------\n",
    "Автор: contributor_id\n",
    "Среднее время приготовления: minutes минут\n",
    "```\n",
    "\n",
    "    \n",
    "Данные для создания строки получите из файлов `recipes_sample.csv` (__ЛР2__) и `steps_sample.xml` (__ЛР3__). \n",
    "Вызовите данную функцию для рецепта с id `170895` и выведите (через `print`) полученную строку на экран."
   ]
  },
  {
   "cell_type": "code",
   "execution_count": 17,
   "metadata": {},
   "outputs": [
    {
     "name": "stderr",
     "output_type": "stream",
     "text": [
      "D:\\Anaconda\\envs\\Python\\lib\\site-packages\\bs4\\builder\\__init__.py:545: XMLParsedAsHTMLWarning: It looks like you're parsing an XML document using an HTML parser. If this really is an HTML document (maybe it's XHTML?), you can ignore or filter this warning. If it's XML, you should know that using an XML parser will be more reliable. To parse this document as XML, make sure you have the lxml package installed, and pass the keyword argument `features=\"xml\"` into the BeautifulSoup constructor.\n",
      "  warnings.warn(\n"
     ]
    }
   ],
   "source": [
    "from bs4 import BeautifulSoup\n",
    "\n",
    "\n",
    "with open(\n",
    "    'C:\\\\Users\\\\Артём\\\\OneDrive - ФГОБУ ВО Финансовый университет при Правительстве РФ\\\\Учёба\\\\3 курс\\\\Технологии обработки BD\\\\ТОБД22-ПМ20-Материалы к семинарам\\\\03_data_files\\\\03_data_files_data\\\\steps_sample.xml', \n",
    "    'r', encoding='utf-8'\n",
    ") as fp:\n",
    "    xml = BeautifulSoup(fp)"
   ]
  },
  {
   "cell_type": "code",
   "execution_count": 18,
   "metadata": {},
   "outputs": [
    {
     "data": {
      "text/html": [
       "<div>\n",
       "<style scoped>\n",
       "    .dataframe tbody tr th:only-of-type {\n",
       "        vertical-align: middle;\n",
       "    }\n",
       "\n",
       "    .dataframe tbody tr th {\n",
       "        vertical-align: top;\n",
       "    }\n",
       "\n",
       "    .dataframe thead th {\n",
       "        text-align: right;\n",
       "    }\n",
       "</style>\n",
       "<table border=\"1\" class=\"dataframe\">\n",
       "  <thead>\n",
       "    <tr style=\"text-align: right;\">\n",
       "      <th></th>\n",
       "      <th>id</th>\n",
       "      <th>steps</th>\n",
       "    </tr>\n",
       "  </thead>\n",
       "  <tbody>\n",
       "    <tr>\n",
       "      <th>0</th>\n",
       "      <td>44123</td>\n",
       "      <td>[in 1 / 4 cup butter , saute carrots , onion ,...</td>\n",
       "    </tr>\n",
       "    <tr>\n",
       "      <th>1</th>\n",
       "      <td>67664</td>\n",
       "      <td>[mix all the ingredients using a blender, pour...</td>\n",
       "    </tr>\n",
       "    <tr>\n",
       "      <th>2</th>\n",
       "      <td>38798</td>\n",
       "      <td>[combine all ingredients in a large bowl and m...</td>\n",
       "    </tr>\n",
       "    <tr>\n",
       "      <th>3</th>\n",
       "      <td>35173</td>\n",
       "      <td>[lay out sandwich rolls on jelly roll pans / c...</td>\n",
       "    </tr>\n",
       "    <tr>\n",
       "      <th>4</th>\n",
       "      <td>84797</td>\n",
       "      <td>[honey mustard sauce: whisk all the ingredient...</td>\n",
       "    </tr>\n",
       "  </tbody>\n",
       "</table>\n",
       "</div>"
      ],
      "text/plain": [
       "      id                                              steps\n",
       "0  44123  [in 1 / 4 cup butter , saute carrots , onion ,...\n",
       "1  67664  [mix all the ingredients using a blender, pour...\n",
       "2  38798  [combine all ingredients in a large bowl and m...\n",
       "3  35173  [lay out sandwich rolls on jelly roll pans / c...\n",
       "4  84797  [honey mustard sauce: whisk all the ingredient..."
      ]
     },
     "execution_count": 18,
     "metadata": {},
     "output_type": "execute_result"
    }
   ],
   "source": [
    "df_steps = pd.DataFrame(columns=['id', 'steps'])\n",
    "for i, recipe in enumerate(xml.findAll('recipe')):\n",
    "    id_r = recipe.find('id').text\n",
    "    rs = [step.next for step in recipe.steps.find_all(\"step\")]\n",
    "    df_steps.loc[i] = [int(id_r), rs]\n",
    "     \n",
    "df_steps.head(5)   "
   ]
  },
  {
   "cell_type": "code",
   "execution_count": 19,
   "metadata": {},
   "outputs": [
    {
     "data": {
      "text/html": [
       "<div>\n",
       "<style scoped>\n",
       "    .dataframe tbody tr th:only-of-type {\n",
       "        vertical-align: middle;\n",
       "    }\n",
       "\n",
       "    .dataframe tbody tr th {\n",
       "        vertical-align: top;\n",
       "    }\n",
       "\n",
       "    .dataframe thead th {\n",
       "        text-align: right;\n",
       "    }\n",
       "</style>\n",
       "<table border=\"1\" class=\"dataframe\">\n",
       "  <thead>\n",
       "    <tr style=\"text-align: right;\">\n",
       "      <th></th>\n",
       "      <th>name</th>\n",
       "      <th>id</th>\n",
       "      <th>minutes</th>\n",
       "      <th>contributor_id</th>\n",
       "      <th>submitted</th>\n",
       "      <th>n_steps</th>\n",
       "      <th>description</th>\n",
       "      <th>n_ingredients</th>\n",
       "    </tr>\n",
       "  </thead>\n",
       "  <tbody>\n",
       "    <tr>\n",
       "      <th>0</th>\n",
       "      <td>george s at the cove  black bean soup</td>\n",
       "      <td>44123</td>\n",
       "      <td>90</td>\n",
       "      <td>35193</td>\n",
       "      <td>2002-10-25</td>\n",
       "      <td>NaN</td>\n",
       "      <td>an original recipe created by chef scott meska...</td>\n",
       "      <td>18.0</td>\n",
       "    </tr>\n",
       "    <tr>\n",
       "      <th>1</th>\n",
       "      <td>healthy for them  yogurt popsicles</td>\n",
       "      <td>67664</td>\n",
       "      <td>10</td>\n",
       "      <td>91970</td>\n",
       "      <td>2003-07-26</td>\n",
       "      <td>NaN</td>\n",
       "      <td>my children and their friends ask for my homem...</td>\n",
       "      <td>NaN</td>\n",
       "    </tr>\n",
       "    <tr>\n",
       "      <th>2</th>\n",
       "      <td>i can t believe it s spinach</td>\n",
       "      <td>38798</td>\n",
       "      <td>30</td>\n",
       "      <td>1533</td>\n",
       "      <td>2002-08-29</td>\n",
       "      <td>NaN</td>\n",
       "      <td>these were so go, it surprised even me.</td>\n",
       "      <td>8.0</td>\n",
       "    </tr>\n",
       "    <tr>\n",
       "      <th>3</th>\n",
       "      <td>italian  gut busters</td>\n",
       "      <td>35173</td>\n",
       "      <td>45</td>\n",
       "      <td>22724</td>\n",
       "      <td>2002-07-27</td>\n",
       "      <td>NaN</td>\n",
       "      <td>my sister-in-law made these for us at a family...</td>\n",
       "      <td>NaN</td>\n",
       "    </tr>\n",
       "    <tr>\n",
       "      <th>4</th>\n",
       "      <td>love is in the air  beef fondue   sauces</td>\n",
       "      <td>84797</td>\n",
       "      <td>25</td>\n",
       "      <td>4470</td>\n",
       "      <td>2004-02-23</td>\n",
       "      <td>4.0</td>\n",
       "      <td>i think a fondue is a very romantic casual din...</td>\n",
       "      <td>NaN</td>\n",
       "    </tr>\n",
       "  </tbody>\n",
       "</table>\n",
       "</div>"
      ],
      "text/plain": [
       "                                       name     id  minutes  contributor_id  \\\n",
       "0     george s at the cove  black bean soup  44123       90           35193   \n",
       "1        healthy for them  yogurt popsicles  67664       10           91970   \n",
       "2              i can t believe it s spinach  38798       30            1533   \n",
       "3                      italian  gut busters  35173       45           22724   \n",
       "4  love is in the air  beef fondue   sauces  84797       25            4470   \n",
       "\n",
       "   submitted  n_steps                                        description  \\\n",
       "0 2002-10-25      NaN  an original recipe created by chef scott meska...   \n",
       "1 2003-07-26      NaN  my children and their friends ask for my homem...   \n",
       "2 2002-08-29      NaN            these were so go, it surprised even me.   \n",
       "3 2002-07-27      NaN  my sister-in-law made these for us at a family...   \n",
       "4 2004-02-23      4.0  i think a fondue is a very romantic casual din...   \n",
       "\n",
       "   n_ingredients  \n",
       "0           18.0  \n",
       "1            NaN  \n",
       "2            8.0  \n",
       "3            NaN  \n",
       "4            NaN  "
      ]
     },
     "execution_count": 19,
     "metadata": {},
     "output_type": "execute_result"
    }
   ],
   "source": [
    "recipes.head(5)"
   ]
  },
  {
   "cell_type": "code",
   "execution_count": 20,
   "metadata": {},
   "outputs": [
    {
     "data": {
      "text/html": [
       "<div>\n",
       "<style scoped>\n",
       "    .dataframe tbody tr th:only-of-type {\n",
       "        vertical-align: middle;\n",
       "    }\n",
       "\n",
       "    .dataframe tbody tr th {\n",
       "        vertical-align: top;\n",
       "    }\n",
       "\n",
       "    .dataframe thead th {\n",
       "        text-align: right;\n",
       "    }\n",
       "</style>\n",
       "<table border=\"1\" class=\"dataframe\">\n",
       "  <thead>\n",
       "    <tr style=\"text-align: right;\">\n",
       "      <th></th>\n",
       "      <th>name</th>\n",
       "      <th>contributor_id</th>\n",
       "      <th>minutes</th>\n",
       "      <th>steps</th>\n",
       "    </tr>\n",
       "    <tr>\n",
       "      <th>id</th>\n",
       "      <th></th>\n",
       "      <th></th>\n",
       "      <th></th>\n",
       "      <th></th>\n",
       "    </tr>\n",
       "  </thead>\n",
       "  <tbody>\n",
       "    <tr>\n",
       "      <th>44123</th>\n",
       "      <td>george s at the cove  black bean soup</td>\n",
       "      <td>35193</td>\n",
       "      <td>90</td>\n",
       "      <td>[in 1 / 4 cup butter , saute carrots , onion ,...</td>\n",
       "    </tr>\n",
       "    <tr>\n",
       "      <th>67664</th>\n",
       "      <td>healthy for them  yogurt popsicles</td>\n",
       "      <td>91970</td>\n",
       "      <td>10</td>\n",
       "      <td>[mix all the ingredients using a blender, pour...</td>\n",
       "    </tr>\n",
       "    <tr>\n",
       "      <th>38798</th>\n",
       "      <td>i can t believe it s spinach</td>\n",
       "      <td>1533</td>\n",
       "      <td>30</td>\n",
       "      <td>[combine all ingredients in a large bowl and m...</td>\n",
       "    </tr>\n",
       "    <tr>\n",
       "      <th>35173</th>\n",
       "      <td>italian  gut busters</td>\n",
       "      <td>22724</td>\n",
       "      <td>45</td>\n",
       "      <td>[lay out sandwich rolls on jelly roll pans / c...</td>\n",
       "    </tr>\n",
       "    <tr>\n",
       "      <th>84797</th>\n",
       "      <td>love is in the air  beef fondue   sauces</td>\n",
       "      <td>4470</td>\n",
       "      <td>25</td>\n",
       "      <td>[honey mustard sauce: whisk all the ingredient...</td>\n",
       "    </tr>\n",
       "  </tbody>\n",
       "</table>\n",
       "</div>"
      ],
      "text/plain": [
       "                                           name  contributor_id  minutes  \\\n",
       "id                                                                         \n",
       "44123     george s at the cove  black bean soup           35193       90   \n",
       "67664        healthy for them  yogurt popsicles           91970       10   \n",
       "38798              i can t believe it s spinach            1533       30   \n",
       "35173                      italian  gut busters           22724       45   \n",
       "84797  love is in the air  beef fondue   sauces            4470       25   \n",
       "\n",
       "                                                   steps  \n",
       "id                                                        \n",
       "44123  [in 1 / 4 cup butter , saute carrots , onion ,...  \n",
       "67664  [mix all the ingredients using a blender, pour...  \n",
       "38798  [combine all ingredients in a large bowl and m...  \n",
       "35173  [lay out sandwich rolls on jelly roll pans / c...  \n",
       "84797  [honey mustard sauce: whisk all the ingredient...  "
      ]
     },
     "execution_count": 20,
     "metadata": {},
     "output_type": "execute_result"
    }
   ],
   "source": [
    "df_merge = recipes[['id', 'name', 'contributor_id', 'minutes']].merge(df_steps)\n",
    "df_merge.set_index('id', inplace=True)\n",
    "df_merge.head(5)"
   ]
  },
  {
   "cell_type": "code",
   "execution_count": 22,
   "metadata": {},
   "outputs": [],
   "source": [
    "assert (\n",
    "    show_info(\n",
    "        name=\"george s at the cove black bean soup\",\n",
    "        steps=[\n",
    "            \"clean the leeks and discard the dark green portions\",\n",
    "            \"cut the leeks lengthwise then into one-inch pieces\",\n",
    "            \"melt the butter in a medium skillet , med\",\n",
    "        ],\n",
    "        minutes=90,\n",
    "        author_id=35193,\n",
    "    )\n",
    "    == '\"George S At The Cove Black Bean Soup\"\\n\\n1. Clean the leeks and discard the dark green portions\\n2. Cut the leeks lengthwise then into one-inch pieces\\n3. Melt the butter in a medium skillet , med\\n----------\\nАвтор: 35193\\nСреднее время приготовления: 90 минут\\n'\n",
    ")"
   ]
  },
  {
   "cell_type": "code",
   "execution_count": 23,
   "metadata": {},
   "outputs": [],
   "source": [
    "def show_info(name, steps, minutes, author_id):\n",
    "    steps_str = \"\\n\".join(map(lambda x: f\"{x[0]}. {x[1].capitalize()}\",enumerate(steps, 1)))\n",
    "    return f'\"{name.capitalize()}\"\\n\\n{steps_str}\\n----------\\nАвтор: {author_id}\\nСреднее время приготовления: {minutes} минут\\n'  "
   ]
  },
  {
   "cell_type": "code",
   "execution_count": 24,
   "metadata": {},
   "outputs": [
    {
     "data": {
      "text/plain": [
       "name                         leeks and parsnips  sauteed or creamed\n",
       "contributor_id                                                 8377\n",
       "minutes                                                          27\n",
       "steps             [clean the leeks and discard the dark green po...\n",
       "Name: 170895, dtype: object"
      ]
     },
     "execution_count": 24,
     "metadata": {},
     "output_type": "execute_result"
    }
   ],
   "source": [
    "s_test = df_merge.loc[170895]\n",
    "s_test"
   ]
  },
  {
   "cell_type": "markdown",
   "metadata": {},
   "source": [
    "#### Итоговый результат"
   ]
  },
  {
   "cell_type": "code",
   "execution_count": 25,
   "metadata": {},
   "outputs": [
    {
     "name": "stdout",
     "output_type": "stream",
     "text": [
      "\"Leeks and parsnips  sauteed or creamed\"\n",
      "\n",
      "1. Clean the leeks and discard the dark green portions\n",
      "2. Cut the leeks lengthwise then into one-inch pieces\n",
      "3. Melt the butter in a medium skillet , med\n",
      "4. Heat\n",
      "5. Add the garlic and fry 'til fragrant\n",
      "6. Add leeks and fry until the leeks are tender , about 6-minutes\n",
      "7. Meanwhile , peel and chunk the parsnips into one-inch pieces\n",
      "8. Place in a steaming basket and steam 'til they are as tender as you prefer\n",
      "9. I like them fork-tender\n",
      "10. Drain parsnips and add to the skillet with the leeks\n",
      "11. Add salt and pepper\n",
      "12. Gently sautee together for 5-minutes\n",
      "13. At this point you can serve it , or continue on and cream it:\n",
      "14. In a jar with a screw top , add the half-n-half and arrowroot\n",
      "15. Shake 'til blended\n",
      "16. Turn heat to low under the leeks and parsnips\n",
      "17. Pour in the arrowroot mixture , stirring gently as you pour\n",
      "18. If too thick , gradually add the water\n",
      "19. Let simmer for a couple of minutes\n",
      "20. Taste to adjust seasoning , probably an additional 1 / 2 teaspoon salt\n",
      "21. Serve warm\n",
      "----------\n",
      "Автор: 8377\n",
      "Среднее время приготовления: 27 минут\n",
      "\n"
     ]
    }
   ],
   "source": [
    "print(show_info(name=s_test['name'], steps=s_test['steps'], minutes=s_test['minutes'], author_id=s_test['contributor_id']))"
   ]
  },
  {
   "cell_type": "markdown",
   "metadata": {},
   "source": [
    "## Работа с регулярными выражениями"
   ]
  },
  {
   "cell_type": "markdown",
   "metadata": {},
   "source": [
    "3\\. Напишите регулярное выражение, которое ищет следующий паттерн в строке: число (1 цифра или более), затем пробел, затем слова: hour или hours или minute или minutes. Произведите поиск по данному регулярному выражению в каждом шаге рецепта с id 25082. Выведите на экран все непустые результаты, найденные по данному шаблону."
   ]
  },
  {
   "cell_type": "code",
   "execution_count": 26,
   "metadata": {},
   "outputs": [
    {
     "data": {
      "text/plain": [
       "0     proof yeast in half a cup of the water , with ...\n",
       "1     combine the rest of the water with the yeast /...\n",
       "2     stir the mixture about 100 times in the same d...\n",
       "3                              stir in the salt and oil\n",
       "4     add the remaining flour half a cup at a time ,...\n",
       "5     turn out onto a lightly floured board and knea...\n",
       "6     the dough should be springy and nice to work with\n",
       "7     when it has been sufficiently kneaded , cover ...\n",
       "8     after it has rested , knead the dough a few mo...\n",
       "9     let the dough rise until it springs back when ...\n",
       "10    longer or shorter depending on the room temper...\n",
       "11    but sometimes you just don't have time for tha...\n",
       "12    deflate the dough by punching or kneading it a...\n",
       "13    when the dough has risen twice , deflate it ag...\n",
       "14    let the shaped dough rise on a baking sheet or...\n",
       "15    slash the top of the bread if you want , so th...\n",
       "16    bake at 400 for 20 minutes , and then turn the...\n",
       "17     try to let the loaf cool before you tear into it\n",
       "dtype: object"
      ]
     },
     "execution_count": 26,
     "metadata": {},
     "output_type": "execute_result"
    }
   ],
   "source": [
    "obj = pd.Series(df_merge.loc[25082].steps)\n",
    "obj"
   ]
  },
  {
   "cell_type": "code",
   "execution_count": 27,
   "metadata": {},
   "outputs": [
    {
     "data": {
      "text/plain": [
       "5                 [20 minutes]\n",
       "7                 [10 minutes]\n",
       "9                    [2 hours]\n",
       "13                [10 minutes]\n",
       "16    [20 minutes, 30 minutes]\n",
       "dtype: object"
      ]
     },
     "execution_count": 27,
     "metadata": {},
     "output_type": "execute_result"
    }
   ],
   "source": [
    "patt = re.compile(r\"(\\d+\\shours?|\\d+\\sminutes?)\")\n",
    "result = obj.str.findall(patt)\n",
    "result = result[result.str.len() != 0]\n",
    "result"
   ]
  },
  {
   "cell_type": "markdown",
   "metadata": {},
   "source": [
    "4\\. Напишите регулярное выражение, которое ищет шаблон вида \"this..., but\" _в начале строки_ . Между словом \"this\" и частью \", but\" может находиться произвольное число букв, цифр, знаков подчеркивания и пробелов. Никаких других символов вместо многоточия быть не может. Пробел между запятой и словом \"but\" может присутствовать или отсутствовать.\n",
    "\n",
    "Используя строковые методы `pd.Series`, выясните, для каких рецептов данный шаблон содержится в тексте описания. Выведите на экран количество таких рецептов и 3 примера подходящих описаний (текст описания должен быть виден на экране полностью)."
   ]
  },
  {
   "cell_type": "code",
   "execution_count": 28,
   "metadata": {},
   "outputs": [
    {
     "data": {
      "text/plain": [
       "array([   76,   183,   337,   486,   678,   769,   800,  1490,  1570,\n",
       "        1666,  2319,  2390,  2392,  2646,  2749,  2903,  3356,  3713,\n",
       "        3965,  4151,  4249,  4650,  4755,  4883,  5186,  5260,  5325,\n",
       "        5624,  5779,  5811,  5834,  6083,  6211,  6329,  6580,  6780,\n",
       "        6968,  7188,  7606,  7852,  7853,  7872,  8272,  8281,  8456,\n",
       "        8579,  8644,  9798,  9799, 10272, 10544, 10710, 11071, 11762,\n",
       "       11995, 12287, 12399, 12487, 13505, 13524, 13726, 13792, 14148,\n",
       "       14258, 14735, 14881, 14921, 15402, 15877, 15994, 15995, 16721,\n",
       "       16869, 17167, 17270, 17916, 18183, 18278, 18713, 19431, 19476,\n",
       "       19573, 19732, 19756, 20017, 20523, 20682, 20736, 20844, 21004,\n",
       "       21418, 21471, 21510, 21528, 21731, 21954, 22336, 22399, 22422,\n",
       "       22505, 22570, 22827, 23309, 23572, 23683, 23704, 24032, 24245,\n",
       "       24345, 24773, 25121, 25400, 25538, 25540, 25597, 26220, 26417,\n",
       "       26434, 26909, 27159, 27255, 27700, 27805, 28090, 28159, 28367,\n",
       "       28658, 28730, 28955, 29315, 29340, 29853, 29967, 29998],\n",
       "      dtype=int64)"
      ]
     },
     "execution_count": 28,
     "metadata": {},
     "output_type": "execute_result"
    }
   ],
   "source": [
    "np.where(recipes.description.str.extract(r\"^this(\\s|\\w)*?,\\s*?but\").notnull())[0]"
   ]
  },
  {
   "cell_type": "markdown",
   "metadata": {},
   "source": [
    "## Количество таких рецептов"
   ]
  },
  {
   "cell_type": "code",
   "execution_count": 29,
   "metadata": {},
   "outputs": [
    {
     "data": {
      "text/plain": [
       "134"
      ]
     },
     "execution_count": 29,
     "metadata": {},
     "output_type": "execute_result"
    }
   ],
   "source": [
    "df_extr = recipes.iloc[np.where(recipes.description.str.extract(r\"^this(\\s|\\w)*?,\\s*?but\").notnull())[0]]\n",
    "df_extr.shape[0]"
   ]
  },
  {
   "cell_type": "markdown",
   "metadata": {},
   "source": [
    "## 3 примера подходящих описаний"
   ]
  },
  {
   "cell_type": "code",
   "execution_count": 30,
   "metadata": {},
   "outputs": [
    {
     "name": "stdout",
     "output_type": "stream",
     "text": [
      "this apple pie is loaded with apples, but they cook down during baking.  great served with a scoop of vanilla ice cream.\n",
      "\n",
      "this is a great recipe, but it is for 500 i need to figure out how to break it down.\n",
      "\n",
      "this pie crust retains the flavor of an all butter crust, but is flakier because of the shortening. the lemon juice isn't in the recipe for lemon flavour... trust me you won't taste it, but rather to work with the flour and prevent the pastry from being tough. i also find that the dough gives a bigger yield than the original 9 inch size stated, i roll mine relatively thin and can get a full top and bottom for a 26 cm (12 inch) shallow pie dish. i have included 20+ step by step photographs to help you see *exactly* how this is made so that you now have instructions for making an entire pie crust from ingredients to table. the new instructions may look long, but i have only tried to give practical details to that even if this is your first ever pie crust, you will have all the information you need for success. enjoy!  zwt region: united states.\n",
      "\n"
     ]
    }
   ],
   "source": [
    "for descr in df_extr.description.sample(n=3).tolist(): # Простите за цикл, использую для наглядности вывода (мог просто список вывести)\n",
    "    print(f'{descr}\\n')"
   ]
  },
  {
   "cell_type": "markdown",
   "metadata": {},
   "source": [
    "5\\. В текстах шагов рецептов обыкновенные дроби имеют вид \"a / b\". Используя регулярные выражения, уберите в тексте шагов рецепта с id 72367 пробелы до и после символа дроби. Выведите на экран шаги этого рецепта после их изменения."
   ]
  },
  {
   "cell_type": "code",
   "execution_count": 31,
   "metadata": {},
   "outputs": [
    {
     "data": {
      "text/plain": [
       "0                          mix butter , flour , 1 / 3 c\n",
       "1                                   sugar and 1-1 / 4 t\n",
       "2                                               vanilla\n",
       "3                  press into greased 9\" springform pan\n",
       "4                            mix cream cheese , 1 / 4 c\n",
       "5                              sugar , eggs and 1 / 2 t\n",
       "6                          vanilla beating until fluffy\n",
       "7                                       pour over dough\n",
       "8                              combine apples , 1 / 3 c\n",
       "9                                    sugar and cinnamon\n",
       "10    arrange on top of cream cheese mixture and spr...\n",
       "11    bake at 350 for 45-55 minutes , or until teste...\n",
       "dtype: object"
      ]
     },
     "execution_count": 31,
     "metadata": {},
     "output_type": "execute_result"
    }
   ],
   "source": [
    "obj2 = pd.Series(df_merge.loc[72367].steps)\n",
    "obj2"
   ]
  },
  {
   "cell_type": "markdown",
   "metadata": {},
   "source": [
    "## Выведите на экран шаги этого рецепта после их изменения"
   ]
  },
  {
   "cell_type": "code",
   "execution_count": 32,
   "metadata": {},
   "outputs": [
    {
     "name": "stdout",
     "output_type": "stream",
     "text": [
      "mix butter , flour , 1/3 c\n",
      "sugar and 1-1/4 t\n",
      "vanilla\n",
      "press into greased 9\" springform pan\n",
      "mix cream cheese , 1/4 c\n",
      "sugar , eggs and 1/2 t\n",
      "vanilla beating until fluffy\n",
      "pour over dough\n",
      "combine apples , 1/3 c\n",
      "sugar and cinnamon\n",
      "arrange on top of cream cheese mixture and sprinkle with almonds\n",
      "bake at 350 for 45-55 minutes , or until tester comes out clean\n"
     ]
    }
   ],
   "source": [
    "obj2 = obj2.apply(lambda x: re.sub(r'\\s\\/\\s', '/', str(x)))\n",
    "# Для наглядности выведу всё через цикл\n",
    "for steps in obj2:\n",
    "    print(f'{steps}')"
   ]
  },
  {
   "cell_type": "markdown",
   "metadata": {},
   "source": [
    "### Сегментация текста"
   ]
  },
  {
   "cell_type": "markdown",
   "metadata": {},
   "source": [
    "6\\. Разбейте тексты шагов рецептов на слова при помощи пакета `nltk`. Посчитайте и выведите на экран кол-во уникальных слов среди всех рецептов. Словом называется любая последовательность алфавитных символов (для проверки можно воспользоваться `str.isalpha`). При подсчете количества уникальных слов не учитывайте регистр."
   ]
  },
  {
   "cell_type": "code",
   "execution_count": 50,
   "metadata": {},
   "outputs": [
    {
     "name": "stdout",
     "output_type": "stream",
     "text": [
      "Количество уникальных слов: 15139\n"
     ]
    }
   ],
   "source": [
    "tokenize = nltk.tokenize.RegexpTokenizer(r\"[a-zA-Z]+\")\n",
    "words = []\n",
    "\n",
    "merge_split = df_merge.steps.apply(lambda x: tokenize.tokenize(str(x)))\n",
    "merge_split = merge_split.reset_index()\n",
    "merge_split.steps.apply(lambda x: words.extend(x));\n",
    "\n",
    "words = set(words)\n",
    "print(f'Количество уникальных слов: {len(words)}')"
   ]
  },
  {
   "cell_type": "markdown",
   "metadata": {},
   "source": [
    "7\\. Разбейте описания рецептов из `recipes` на предложения при помощи пакета `nltk`. Найдите 5 самых длинных описаний (по количеству _предложений_) рецептов в датасете и выведите строки фрейма, соответствующие этим рецептами, в порядке убывания длины."
   ]
  },
  {
   "cell_type": "code",
   "execution_count": 63,
   "metadata": {},
   "outputs": [
    {
     "data": {
      "text/html": [
       "<div>\n",
       "<style scoped>\n",
       "    .dataframe tbody tr th:only-of-type {\n",
       "        vertical-align: middle;\n",
       "    }\n",
       "\n",
       "    .dataframe tbody tr th {\n",
       "        vertical-align: top;\n",
       "    }\n",
       "\n",
       "    .dataframe thead th {\n",
       "        text-align: right;\n",
       "    }\n",
       "</style>\n",
       "<table border=\"1\" class=\"dataframe\">\n",
       "  <thead>\n",
       "    <tr style=\"text-align: right;\">\n",
       "      <th></th>\n",
       "      <th>name</th>\n",
       "      <th>id</th>\n",
       "      <th>minutes</th>\n",
       "      <th>contributor_id</th>\n",
       "      <th>submitted</th>\n",
       "      <th>n_steps</th>\n",
       "      <th>description</th>\n",
       "      <th>n_ingredients</th>\n",
       "      <th>len_description</th>\n",
       "    </tr>\n",
       "  </thead>\n",
       "  <tbody>\n",
       "    <tr>\n",
       "      <th>18408</th>\n",
       "      <td>my favorite buttercream icing for decorating</td>\n",
       "      <td>334113</td>\n",
       "      <td>30</td>\n",
       "      <td>681465</td>\n",
       "      <td>2008-10-30</td>\n",
       "      <td>12.0</td>\n",
       "      <td>[this wonderful icing is used for icing cakes ...</td>\n",
       "      <td>NaN</td>\n",
       "      <td>76</td>\n",
       "    </tr>\n",
       "    <tr>\n",
       "      <th>481</th>\n",
       "      <td>alligator claws  avocado fritters  with chipot...</td>\n",
       "      <td>287008</td>\n",
       "      <td>45</td>\n",
       "      <td>765354</td>\n",
       "      <td>2008-02-19</td>\n",
       "      <td>NaN</td>\n",
       "      <td>[a translucent golden-brown crust allows the g...</td>\n",
       "      <td>9.0</td>\n",
       "      <td>27</td>\n",
       "    </tr>\n",
       "    <tr>\n",
       "      <th>22566</th>\n",
       "      <td>rich barley mushroom soup</td>\n",
       "      <td>328708</td>\n",
       "      <td>60</td>\n",
       "      <td>221776</td>\n",
       "      <td>2008-10-03</td>\n",
       "      <td>NaN</td>\n",
       "      <td>[this is one of the best soups i've ever made ...</td>\n",
       "      <td>10.0</td>\n",
       "      <td>24</td>\n",
       "    </tr>\n",
       "    <tr>\n",
       "      <th>16296</th>\n",
       "      <td>little bunny foo foo cake  carrot cake  with c...</td>\n",
       "      <td>316000</td>\n",
       "      <td>68</td>\n",
       "      <td>689540</td>\n",
       "      <td>2008-07-27</td>\n",
       "      <td>14.0</td>\n",
       "      <td>[the first time i made this cake i grated a mi...</td>\n",
       "      <td>NaN</td>\n",
       "      <td>23</td>\n",
       "    </tr>\n",
       "    <tr>\n",
       "      <th>6779</th>\n",
       "      <td>chocolate tea</td>\n",
       "      <td>205348</td>\n",
       "      <td>6</td>\n",
       "      <td>428824</td>\n",
       "      <td>2007-01-14</td>\n",
       "      <td>NaN</td>\n",
       "      <td>[i wrote this because there are an astounding ...</td>\n",
       "      <td>NaN</td>\n",
       "      <td>23</td>\n",
       "    </tr>\n",
       "  </tbody>\n",
       "</table>\n",
       "</div>"
      ],
      "text/plain": [
       "                                                    name      id  minutes  \\\n",
       "18408       my favorite buttercream icing for decorating  334113       30   \n",
       "481    alligator claws  avocado fritters  with chipot...  287008       45   \n",
       "22566                          rich barley mushroom soup  328708       60   \n",
       "16296  little bunny foo foo cake  carrot cake  with c...  316000       68   \n",
       "6779                                       chocolate tea  205348        6   \n",
       "\n",
       "       contributor_id  submitted  n_steps  \\\n",
       "18408          681465 2008-10-30     12.0   \n",
       "481            765354 2008-02-19      NaN   \n",
       "22566          221776 2008-10-03      NaN   \n",
       "16296          689540 2008-07-27     14.0   \n",
       "6779           428824 2007-01-14      NaN   \n",
       "\n",
       "                                             description  n_ingredients  \\\n",
       "18408  [this wonderful icing is used for icing cakes ...            NaN   \n",
       "481    [a translucent golden-brown crust allows the g...            9.0   \n",
       "22566  [this is one of the best soups i've ever made ...           10.0   \n",
       "16296  [the first time i made this cake i grated a mi...            NaN   \n",
       "6779   [i wrote this because there are an astounding ...            NaN   \n",
       "\n",
       "       len_description  \n",
       "18408               76  \n",
       "481                 27  \n",
       "22566               24  \n",
       "16296               23  \n",
       "6779                23  "
      ]
     },
     "execution_count": 63,
     "metadata": {},
     "output_type": "execute_result"
    }
   ],
   "source": [
    "recipes[\"description\"] = recipes.description.apply(lambda x: nltk.sent_tokenize(str(x)))\n",
    "recipes[\"len_description\"] = recipes.description.str.len()\n",
    "recipes.sort_values('len_description', ascending=False).head(5)"
   ]
  },
  {
   "cell_type": "markdown",
   "metadata": {},
   "source": [
    "8\\. Напишите функцию, которая для заданного предложения выводит информацию о частях речи слов, входящих в предложение, в следующем виде:\n",
    "```\n",
    "PRP   VBD   DT      NNS     CC   VBD      NNS        RB   \n",
    " I  omitted the raspberries and added strawberries instead\n",
    "``` \n",
    "Для определения части речи слова можно воспользоваться `nltk.pos_tag`.\n",
    "\n",
    "Проверьте работоспособность функции на названии рецепта с id 241106.\n",
    "\n",
    "Обратите внимание, что часть речи должна находиться ровно посередине над соотвествующим словом, а между самими словами должен быть ровно один пробел.\n"
   ]
  },
  {
   "cell_type": "code",
   "execution_count": 70,
   "metadata": {},
   "outputs": [
    {
     "name": "stderr",
     "output_type": "stream",
     "text": [
      "[nltk_data] Downloading package averaged_perceptron_tagger to\n",
      "[nltk_data]     C:\\Users\\Артём\\AppData\\Roaming\\nltk_data...\n",
      "[nltk_data]   Unzipping taggers\\averaged_perceptron_tagger.zip.\n"
     ]
    },
    {
     "data": {
      "text/plain": [
       "True"
      ]
     },
     "execution_count": 70,
     "metadata": {},
     "output_type": "execute_result"
    }
   ],
   "source": [
    "#import nltk\n",
    "#nltk.download('averaged_perceptron_tagger')"
   ]
  },
  {
   "cell_type": "code",
   "execution_count": 68,
   "metadata": {},
   "outputs": [
    {
     "data": {
      "text/html": [
       "<div>\n",
       "<style scoped>\n",
       "    .dataframe tbody tr th:only-of-type {\n",
       "        vertical-align: middle;\n",
       "    }\n",
       "\n",
       "    .dataframe tbody tr th {\n",
       "        vertical-align: top;\n",
       "    }\n",
       "\n",
       "    .dataframe thead th {\n",
       "        text-align: right;\n",
       "    }\n",
       "</style>\n",
       "<table border=\"1\" class=\"dataframe\">\n",
       "  <thead>\n",
       "    <tr style=\"text-align: right;\">\n",
       "      <th></th>\n",
       "      <th>name</th>\n",
       "      <th>id</th>\n",
       "      <th>minutes</th>\n",
       "      <th>contributor_id</th>\n",
       "      <th>submitted</th>\n",
       "      <th>n_steps</th>\n",
       "      <th>description</th>\n",
       "      <th>n_ingredients</th>\n",
       "      <th>len_description</th>\n",
       "    </tr>\n",
       "  </thead>\n",
       "  <tbody>\n",
       "    <tr>\n",
       "      <th>10437</th>\n",
       "      <td>eggplant steaks with chickpeas  feta cheese an...</td>\n",
       "      <td>241106</td>\n",
       "      <td>30</td>\n",
       "      <td>226788</td>\n",
       "      <td>2007-07-17</td>\n",
       "      <td>15.0</td>\n",
       "      <td>[these are a really good quick meal to make in...</td>\n",
       "      <td>NaN</td>\n",
       "      <td>3</td>\n",
       "    </tr>\n",
       "  </tbody>\n",
       "</table>\n",
       "</div>"
      ],
      "text/plain": [
       "                                                    name      id  minutes  \\\n",
       "10437  eggplant steaks with chickpeas  feta cheese an...  241106       30   \n",
       "\n",
       "       contributor_id  submitted  n_steps  \\\n",
       "10437          226788 2007-07-17     15.0   \n",
       "\n",
       "                                             description  n_ingredients  \\\n",
       "10437  [these are a really good quick meal to make in...            NaN   \n",
       "\n",
       "       len_description  \n",
       "10437                3  "
      ]
     },
     "execution_count": 68,
     "metadata": {},
     "output_type": "execute_result"
    }
   ],
   "source": [
    "df_241106 = recipes[recipes.id == 241106]\n",
    "df_241106"
   ]
  },
  {
   "cell_type": "code",
   "execution_count": 100,
   "metadata": {},
   "outputs": [],
   "source": [
    "def pos_tag(s):\n",
    "    tokenize = nltk.tokenize.RegexpTokenizer(r\"[a-zA-Z]+\")\n",
    "    s = tokenize.tokenize(s)\n",
    "    words = nltk.pos_tag(s)\n",
    "    dict_words = dict(words)\n",
    "    str_1 = ''\n",
    "    str_2 = ''\n",
    "    for word in dict_words:\n",
    "        tag = dict_words[word]\n",
    "        len_word = max(len(word),len(tag)) \n",
    "        str_1 += f\"{tag:^{len_word}} \"\n",
    "        str_2 += f\"{word:^{len_word}} \"\n",
    "        \n",
    "    return print(f\"{str_1}\\n{str_2}\")   "
   ]
  },
  {
   "cell_type": "code",
   "execution_count": 104,
   "metadata": {},
   "outputs": [
    {
     "name": "stdout",
     "output_type": "stream",
     "text": [
      "   JJ     NNS    IN     NNS    VBP    JJ   CC   JJ    NNS   \n",
      "eggplant steaks with chickpeas feta cheese and black olives \n"
     ]
    }
   ],
   "source": [
    "df_241106['name'].apply(pos_tag);"
   ]
  },
  {
   "cell_type": "code",
   "execution_count": 1,
   "metadata": {},
   "outputs": [
    {
     "name": "stdout",
     "output_type": "stream",
     "text": [
      "Collecting xxhash\n",
      "  Downloading xxhash-3.1.0-cp38-cp38-win_amd64.whl (30 kB)\n",
      "Installing collected packages: xxhash\n",
      "Successfully installed xxhash-3.1.0\n"
     ]
    }
   ],
   "source": [
    "!pip install xxhash"
   ]
  },
  {
   "cell_type": "code",
   "execution_count": 8,
   "metadata": {},
   "outputs": [
    {
     "name": "stdout",
     "output_type": "stream",
     "text": [
      "Все перестановки слов входного текста.\n",
      "Длина: 3628800.\n",
      "Пример из начала:\n",
      "['мой дядя самых честных правил когда не в шутку занемог', 'мой дядя самых честных правил когда не в занемог шутку', 'мой дядя самых честных правил когда не шутку в занемог', 'мой дядя самых честных правил когда не шутку занемог в', 'мой дядя самых честных правил когда не занемог в шутку'].\n",
      "Пример внутри списка:\n",
      "['мой самых честных занемог когда в правил не дядя шутку', 'мой самых честных занемог когда в правил не шутку дядя', 'мой самых честных занемог когда в правил шутку дядя не', 'мой самых честных занемог когда в правил шутку не дядя', 'мой самых честных занемог когда в не дядя правил шутку'] \n",
      "3628800 \n",
      " 500000 \n",
      " 467045 \n",
      " 500000 \n",
      " 467019\n"
     ]
    }
   ],
   "source": [
    "# Что выведет на экран последняя строка ячейки с кодом:\n",
    "\n",
    "import xxhash\n",
    "import random\n",
    "from itertools import permutations\n",
    "\n",
    "random.seed(442)\n",
    "\n",
    "eo_words_lst = 'мой дядя самых честных правил когда не в шутку занемог'.split()\n",
    "eo_words_pеrms = [' '.join(p) for p in permutations(eo_words_lst)]\n",
    "\n",
    "print(f'''Все перестановки слов входного текста.\n",
    "Длина: {len(eo_words_pеrms)}.\n",
    "Пример из начала:\n",
    "{eo_words_pеrms[:5]}.\n",
    "Пример внутри списка:\n",
    "{eo_words_pеrms[50_000:50_005]} ''')\n",
    "\n",
    "# Все перестановки слов входного текста.\n",
    "# Длина: 3628800.\n",
    "# Пример из начала:\n",
    "# # ['мой дядя самых честных правил когда не в шутку занемог',\n",
    "# 'мой дядя самых честных правил когда не в занемог шутку',\n",
    "# 'мой дядя самых честных правил когда не шутку в занемог',\n",
    "# 'мой дядя самых честных правил когда не шутку занемог в',\n",
    "# 'мой дядя самых честных правил когда не занемог в шутку'].\n",
    "# Пример внутри списка:\n",
    "# ['мой самых честных занемог когда в правил не дядя шутку',\n",
    "# 'мой самых честных занемог когда в правил не шутку дядя',\n",
    "# 'мой самых честных занемог когда в правил шутку дядя не',\n",
    "# 'мой самых честных занемог когда в правил шутку не дядя',\n",
    "# 'мой самых честных занемог когда в не дядя правил шутку']\n",
    "\n",
    "# длина списка строк:\n",
    "eo_str_lst_qty = 500_000\n",
    "# список строк:\n",
    "eo_rnd_str_lst = [eo_words_pеrms[random.randint(0, 3628800)] for _ in range(eo_str_lst_qty)]\n",
    "# список хешей строк:\n",
    "eo_rnd_hash_lst = [xxhash.xxh32(wrd).intdigest() for wrd in eo_rnd_str_lst]\n",
    "\n",
    "print(len(eo_words_pеrms),'\\n',\n",
    "      len(eo_rnd_str_lst),'\\n',\n",
    "      len(set(eo_rnd_str_lst)),'\\n',\n",
    "      len(eo_rnd_hash_lst),'\\n',\n",
    "      len(set(eo_rnd_hash_lst)))"
   ]
  },
  {
   "cell_type": "code",
   "execution_count": null,
   "metadata": {},
   "outputs": [],
   "source": []
  }
 ],
 "metadata": {
  "kernelspec": {
   "display_name": "Python 3 (ipykernel)",
   "language": "python",
   "name": "python3"
  },
  "language_info": {
   "codemirror_mode": {
    "name": "ipython",
    "version": 3
   },
   "file_extension": ".py",
   "mimetype": "text/x-python",
   "name": "python",
   "nbconvert_exporter": "python",
   "pygments_lexer": "ipython3",
   "version": "3.10.8"
  }
 },
 "nbformat": 4,
 "nbformat_minor": 4
}
