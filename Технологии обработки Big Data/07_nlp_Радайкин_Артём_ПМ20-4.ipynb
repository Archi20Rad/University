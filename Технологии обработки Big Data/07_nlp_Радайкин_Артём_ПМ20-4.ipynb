{
 "cells": [
  {
   "cell_type": "markdown",
   "metadata": {},
   "source": [
    "# Введение в обработку текста на естественном языке"
   ]
  },
  {
   "cell_type": "markdown",
   "metadata": {},
   "source": [
    "__Автор задач: Блохин Н.В. (NVBlokhin@fa.ru)__\n",
    "\n",
    "Материалы:\n",
    "* Макрушин С.В. Лекция \"Введение в обработку текста на естественном языке\"\n",
    "* https://www.nltk.org/api/nltk.metrics.distance.html\n",
    "* https://pymorphy2.readthedocs.io/en/stable/user/guide.html\n",
    "* https://realpython.com/nltk-nlp-python/\n",
    "* https://scikit-learn.org/stable/modules/feature_extraction.html"
   ]
  },
  {
   "cell_type": "markdown",
   "metadata": {},
   "source": [
    "## Задачи для совместного разбора"
   ]
  },
  {
   "cell_type": "code",
   "execution_count": 1,
   "metadata": {
    "scrolled": false
   },
   "outputs": [],
   "source": [
    "#!pip install pymorphy2"
   ]
  },
  {
   "cell_type": "code",
   "execution_count": 2,
   "metadata": {},
   "outputs": [
    {
     "name": "stderr",
     "output_type": "stream",
     "text": [
      "C:\\Users\\Артём\\AppData\\Roaming\\Python\\Python38\\site-packages\\pandas\\core\\computation\\expressions.py:20: UserWarning: Pandas requires version '2.7.3' or newer of 'numexpr' (version '2.7.1' currently installed).\n",
      "  from pandas.core.computation.check import NUMEXPR_INSTALLED\n"
     ]
    }
   ],
   "source": [
    "import nltk\n",
    "import pandas as pd\n",
    "import numpy as np\n",
    "import re\n",
    "#nltk.download('punkt')"
   ]
  },
  {
   "cell_type": "markdown",
   "metadata": {},
   "source": [
    "1. Считайте слова из файла `litw-win.txt` и запишите их в список `words`. При помощи расстояния Левенштейна иправьте опечатку в слове \"велечайшим\"."
   ]
  },
  {
   "cell_type": "code",
   "execution_count": 3,
   "metadata": {},
   "outputs": [
    {
     "data": {
      "text/plain": [
       "162166"
      ]
     },
     "execution_count": 3,
     "metadata": {},
     "output_type": "execute_result"
    }
   ],
   "source": [
    "from nltk import edit_distance\n",
    "\n",
    "with open('C:\\\\Users\\\\Артём\\\\OneDrive - ФГОБУ ВО Финансовый университет при Правительстве РФ\\\\Учёба\\\\3 курс\\\\Технологии обработки BD\\\\ТОБД22-ПМ20-Материалы к семинарам\\\\07_nlp\\\\07_nlp_data\\\\litw-win.txt',\n",
    "        'r' \n",
    ") as fp:\n",
    "    words = []\n",
    "    tokenize = nltk.tokenize.RegexpTokenizer(r\"[a-zA-Z]+\")\n",
    "    for word in fp:\n",
    "        words.append(word.split()[-1])\n",
    "        \n",
    "len(words)    "
   ]
  },
  {
   "cell_type": "markdown",
   "metadata": {},
   "source": [
    "2. Разбейте текст из формулировки второго задания на слова. Проведите стемминг и лемматизацию слов."
   ]
  },
  {
   "cell_type": "code",
   "execution_count": 4,
   "metadata": {},
   "outputs": [],
   "source": [
    "from nltk.stem import SnowballStemmer\n",
    "from nltk import word_tokenize\n",
    "import pymorphy2"
   ]
  },
  {
   "cell_type": "code",
   "execution_count": 5,
   "metadata": {},
   "outputs": [
    {
     "data": {
      "text/plain": [
       "['разб',\n",
       " 'текст',\n",
       " 'из',\n",
       " 'формулировк',\n",
       " 'втор',\n",
       " 'задан',\n",
       " 'на',\n",
       " 'слов',\n",
       " 'провед',\n",
       " 'стемминг',\n",
       " 'и',\n",
       " 'лемматизац',\n",
       " 'слов']"
      ]
     },
     "execution_count": 5,
     "metadata": {},
     "output_type": "execute_result"
    }
   ],
   "source": [
    "text = \"Разбейте текст из формулировки второго задания на слова. Проведите стемминг и лемматизацию слов.\"\n",
    "tokenize = nltk.tokenize.RegexpTokenizer(r\"\\w+\")\n",
    "words = tokenize.tokenize(text)\n",
    "\n",
    "stemmer = SnowballStemmer(\"russian\")\n",
    "stemming = [stemmer.stem(word) for word in words]\n",
    "stemming"
   ]
  },
  {
   "cell_type": "markdown",
   "metadata": {},
   "source": [
    "## Лемматизация слов"
   ]
  },
  {
   "cell_type": "code",
   "execution_count": 6,
   "metadata": {},
   "outputs": [
    {
     "name": "stdout",
     "output_type": "stream",
     "text": [
      "разбить\n",
      "текст\n",
      "из\n",
      "формулировка\n",
      "второй\n",
      "задание\n",
      "на\n",
      "слово\n",
      "провести\n",
      "стемминг\n",
      "и\n",
      "лемматизация\n",
      "слово\n"
     ]
    }
   ],
   "source": [
    "morph = pymorphy2.MorphAnalyzer()\n",
    "for word in words:\n",
    "    p = morph.parse(word)[0]\n",
    "    print(p.normal_form)"
   ]
  },
  {
   "cell_type": "markdown",
   "metadata": {},
   "source": [
    "3. Преобразуйте предложения из формулировки задания 2 в векторы при помощи `CountVectorizer`. Выведите на экран словарь обученного токенизатора."
   ]
  },
  {
   "cell_type": "code",
   "execution_count": 7,
   "metadata": {},
   "outputs": [],
   "source": [
    "from sklearn.feature_extraction.text import CountVectorizer\n",
    "from nltk import sent_tokenize"
   ]
  },
  {
   "cell_type": "code",
   "execution_count": 8,
   "metadata": {},
   "outputs": [],
   "source": [
    "text = '''Разбейте текст из формулировки второго задания на слова. Проведите стемминг и лемматизацию слов.'''\n",
    "\n",
    "vectorizer = CountVectorizer()\n",
    "X = vectorizer.fit_transform(words)\n",
    "#vectorizer.get_feature_names_out()"
   ]
  },
  {
   "cell_type": "code",
   "execution_count": 9,
   "metadata": {},
   "outputs": [
    {
     "name": "stdout",
     "output_type": "stream",
     "text": [
      "[[0 0 0 0 0 0 1 0 0 0 0 0]\n",
      " [0 0 0 0 0 0 0 0 0 0 1 0]\n",
      " [0 0 1 0 0 0 0 0 0 0 0 0]\n",
      " [0 0 0 0 0 0 0 0 0 0 0 1]\n",
      " [1 0 0 0 0 0 0 0 0 0 0 0]\n",
      " [0 1 0 0 0 0 0 0 0 0 0 0]\n",
      " [0 0 0 0 1 0 0 0 0 0 0 0]\n",
      " [0 0 0 0 0 0 0 0 1 0 0 0]\n",
      " [0 0 0 0 0 1 0 0 0 0 0 0]\n",
      " [0 0 0 0 0 0 0 0 0 1 0 0]\n",
      " [0 0 0 0 0 0 0 0 0 0 0 0]\n",
      " [0 0 0 1 0 0 0 0 0 0 0 0]\n",
      " [0 0 0 0 0 0 0 1 0 0 0 0]]\n"
     ]
    }
   ],
   "source": [
    "print(X.toarray())"
   ]
  },
  {
   "cell_type": "markdown",
   "metadata": {},
   "source": [
    "## Лабораторная работа 7"
   ]
  },
  {
   "cell_type": "markdown",
   "metadata": {},
   "source": [
    "1\\. Загрузите данные из файла `ru_recipes_sample.csv` в виде `pd.DataFrame` `recipes` Используя регулярные выражения, удалите из описаний (столбец `description`) все символы, кроме русских букв, цифр и пробелов. Приведите все слова в описании к нижнему регистру. Сохраните полученный результат в столбец `description`."
   ]
  },
  {
   "cell_type": "code",
   "execution_count": 10,
   "metadata": {},
   "outputs": [
    {
     "data": {
      "text/plain": [
       "'C:\\\\Users\\\\Артём\\\\OneDrive - ФГОБУ ВО Финансовый университет при Правительстве РФ\\\\Учёба\\\\3 курс\\\\Технологии обработки BD\\\\ТОБД22-ПМ20-Материалы к семинарам\\\\07_nlp'"
      ]
     },
     "execution_count": 10,
     "metadata": {},
     "output_type": "execute_result"
    }
   ],
   "source": [
    "pwd"
   ]
  },
  {
   "cell_type": "code",
   "execution_count": 11,
   "metadata": {},
   "outputs": [
    {
     "data": {
      "text/html": [
       "<div>\n",
       "<style scoped>\n",
       "    .dataframe tbody tr th:only-of-type {\n",
       "        vertical-align: middle;\n",
       "    }\n",
       "\n",
       "    .dataframe tbody tr th {\n",
       "        vertical-align: top;\n",
       "    }\n",
       "\n",
       "    .dataframe thead th {\n",
       "        text-align: right;\n",
       "    }\n",
       "</style>\n",
       "<table border=\"1\" class=\"dataframe\">\n",
       "  <thead>\n",
       "    <tr style=\"text-align: right;\">\n",
       "      <th></th>\n",
       "      <th>url</th>\n",
       "      <th>name</th>\n",
       "      <th>ingredients</th>\n",
       "      <th>description</th>\n",
       "    </tr>\n",
       "  </thead>\n",
       "  <tbody>\n",
       "    <tr>\n",
       "      <th>0</th>\n",
       "      <td>https://www.povarenok.ru/recipes/show/164365/</td>\n",
       "      <td>Густой молочно-клубничный коктейль</td>\n",
       "      <td>{'Молоко': '250 мл', 'Клубника': '200 г', 'Сах...</td>\n",
       "      <td>Этот коктейль готовлю из замороженной клубники...</td>\n",
       "    </tr>\n",
       "    <tr>\n",
       "      <th>1</th>\n",
       "      <td>https://www.povarenok.ru/recipes/show/1306/</td>\n",
       "      <td>Рулетики</td>\n",
       "      <td>{'Сыр твердый': None, 'Чеснок': None, 'Яйцо ку...</td>\n",
       "      <td>Быстро и вкусно.</td>\n",
       "    </tr>\n",
       "    <tr>\n",
       "      <th>2</th>\n",
       "      <td>https://www.povarenok.ru/recipes/show/10625/</td>\n",
       "      <td>Салат \"Баклажанчик\"</td>\n",
       "      <td>{'Баклажан': '3 шт', 'Лук репчатый': '2 шт', '...</td>\n",
       "      <td>Сытный, овощной салатик, пальчики оближете.</td>\n",
       "    </tr>\n",
       "    <tr>\n",
       "      <th>3</th>\n",
       "      <td>https://www.povarenok.ru/recipes/show/167337/</td>\n",
       "      <td>Куриные котлеты с картофельным пюре в духовке</td>\n",
       "      <td>{'Фарш куриный': '800 г', 'Пюре картофельное':...</td>\n",
       "      <td>Картофельное пюре и куриные котлеты - вкусная ...</td>\n",
       "    </tr>\n",
       "    <tr>\n",
       "      <th>4</th>\n",
       "      <td>https://www.povarenok.ru/recipes/show/91919/</td>\n",
       "      <td>Рецепт вишневой наливки</td>\n",
       "      <td>{'Вишня': '1 кг', 'Водка': '1 л', 'Сахар': '30...</td>\n",
       "      <td>Вишневая наливка имеет яркий вишневый вкус, ко...</td>\n",
       "    </tr>\n",
       "  </tbody>\n",
       "</table>\n",
       "</div>"
      ],
      "text/plain": [
       "                                             url  \\\n",
       "0  https://www.povarenok.ru/recipes/show/164365/   \n",
       "1    https://www.povarenok.ru/recipes/show/1306/   \n",
       "2   https://www.povarenok.ru/recipes/show/10625/   \n",
       "3  https://www.povarenok.ru/recipes/show/167337/   \n",
       "4   https://www.povarenok.ru/recipes/show/91919/   \n",
       "\n",
       "                                            name  \\\n",
       "0             Густой молочно-клубничный коктейль   \n",
       "1                                       Рулетики   \n",
       "2                            Салат \"Баклажанчик\"   \n",
       "3  Куриные котлеты с картофельным пюре в духовке   \n",
       "4                        Рецепт вишневой наливки   \n",
       "\n",
       "                                         ingredients  \\\n",
       "0  {'Молоко': '250 мл', 'Клубника': '200 г', 'Сах...   \n",
       "1  {'Сыр твердый': None, 'Чеснок': None, 'Яйцо ку...   \n",
       "2  {'Баклажан': '3 шт', 'Лук репчатый': '2 шт', '...   \n",
       "3  {'Фарш куриный': '800 г', 'Пюре картофельное':...   \n",
       "4  {'Вишня': '1 кг', 'Водка': '1 л', 'Сахар': '30...   \n",
       "\n",
       "                                         description  \n",
       "0  Этот коктейль готовлю из замороженной клубники...  \n",
       "1                                   Быстро и вкусно.  \n",
       "2        Сытный, овощной салатик, пальчики оближете.  \n",
       "3  Картофельное пюре и куриные котлеты - вкусная ...  \n",
       "4  Вишневая наливка имеет яркий вишневый вкус, ко...  "
      ]
     },
     "execution_count": 11,
     "metadata": {},
     "output_type": "execute_result"
    }
   ],
   "source": [
    "recipes = pd.read_csv('C:\\\\Users\\\\Артём\\\\OneDrive - ФГОБУ ВО Финансовый университет при Правительстве РФ\\\\Учёба\\\\3 курс\\\\Технологии обработки BD\\\\ТОБД22-ПМ20-Материалы к семинарам\\\\07_nlp\\\\07_nlp_data\\\\ru_recipes_sample.csv', sep=',')\n",
    "recipes.head(5)"
   ]
  },
  {
   "cell_type": "code",
   "execution_count": 12,
   "metadata": {},
   "outputs": [
    {
     "data": {
      "text/plain": [
       "(3467, 4)"
      ]
     },
     "execution_count": 12,
     "metadata": {},
     "output_type": "execute_result"
    }
   ],
   "source": [
    "recipes.shape"
   ]
  },
  {
   "cell_type": "code",
   "execution_count": 13,
   "metadata": {},
   "outputs": [
    {
     "data": {
      "text/plain": [
       "0       этот коктейль готовлю из замороженной клубники...\n",
       "1                                         быстро и вкусно\n",
       "2                сытный овощной салатик пальчики оближете\n",
       "3       картофельное пюре и куриные котлеты  вкусная к...\n",
       "4       вишневая наливка имеет яркий вишневый вкус кот...\n",
       "                              ...                        \n",
       "3462    для тех кто любит чечевицу вам сюда очень вкус...\n",
       "3463    баклажановые фантазии продолжаются предлагаю в...\n",
       "3464    мое любимое блюдо лазанья но кушать только фар...\n",
       "3465    прошлым летом варила варенье из одуванчиков по...\n",
       "3466     и три корочки хлеба  сделал заказ буратино в ...\n",
       "Name: description, Length: 3467, dtype: object"
      ]
     },
     "execution_count": 13,
     "metadata": {},
     "output_type": "execute_result"
    }
   ],
   "source": [
    "recipes[\"description\"] = recipes[\"description\"].apply(lambda x: re.sub(r'[^а-яА-ЯёЁ0-9\\s]', '', str(x)).lower())\n",
    "recipes[\"description\"] "
   ]
  },
  {
   "cell_type": "markdown",
   "metadata": {},
   "source": [
    "### Расстояние редактирования"
   ]
  },
  {
   "cell_type": "markdown",
   "metadata": {},
   "source": [
    "2\\. Получите набор уникальных слов `words`, содержащихся в текстах описаний рецептов (воспользуйтесь `word_tokenize` из `nltk`). Сгенерируйте 5 пар случайно выбранных слов и посчитайте между ними расстояние Левенштейна. Выведите на экран результат в следующем виде:\n",
    "\n",
    "```\n",
    "d(word1, word2) = x\n",
    "```"
   ]
  },
  {
   "cell_type": "code",
   "execution_count": 14,
   "metadata": {},
   "outputs": [],
   "source": [
    "string_description = ' '.join(recipes[\"description\"]) # Строка со всеми описаниями рецептов"
   ]
  },
  {
   "cell_type": "code",
   "execution_count": 15,
   "metadata": {},
   "outputs": [
    {
     "data": {
      "text/plain": [
       "['подарками',\n",
       " 'вспомнилась',\n",
       " 'лисички',\n",
       " 'гречку',\n",
       " 'лепту',\n",
       " 'кабачка',\n",
       " 'вытеснили',\n",
       " 'понимании',\n",
       " 'грудки',\n",
       " 'копилка']"
      ]
     },
     "execution_count": 15,
     "metadata": {},
     "output_type": "execute_result"
    }
   ],
   "source": [
    "from nltk import word_tokenize, edit_distance\n",
    "\n",
    "words = list(set(word_tokenize(string_description)))\n",
    "words[115:125]"
   ]
  },
  {
   "cell_type": "markdown",
   "metadata": {},
   "source": [
    "### Сгенерируйте 5 пар случайно выбранных слов и посчитайте между ними расстояние Левенштейна."
   ]
  },
  {
   "cell_type": "code",
   "execution_count": 16,
   "metadata": {},
   "outputs": [
    {
     "name": "stdout",
     "output_type": "stream",
     "text": [
      "d(перловки, льда) = 7\n",
      "d(теряет, сооружение) = 8\n",
      "d(утра, лёгкая) = 5\n",
      "d(свежим, деток) = 5\n",
      "d(кушали, скудном) = 5\n"
     ]
    }
   ],
   "source": [
    "for i in range(5):\n",
    "    pair = np.random.choice(words,size=2, replace=False)\n",
    "    print(f'd({pair[0]}, {pair[1]}) = {edit_distance(*pair)}')"
   ]
  },
  {
   "cell_type": "markdown",
   "metadata": {},
   "source": [
    "3\\. Напишите функцию, которая принимает на вход 2 текстовые строки `s1` и `s2` и при помощи расстояния Левенштейна определяет, является ли строка `s2` плагиатом `s1`. Функция должна реализовывать следующую логику: для каждого слова `w1` из `s1` проверяет, есть в `s2` хотя бы одно слово `w2`, такое, что расстояние Левенштейна между `w1` и `w2` меньше 2, и считает количество таких слов в `s1` $P$. \n",
    "\n",
    "$$ P = \\#\\{w_1 \\in s_1\\ | \\exists w_2 \\in s_2 : d(w_1, w_2) < tol\\}$$\n",
    "\n",
    "$$ L = max(|s1|, |s2|) $$\n",
    "\n",
    "Здесь $|\\cdot|$ - количество слов в строке, $\\#A$ - число элементов в множестве $A$, $w \\in s$ означает, что слово $w$ содержится в тексте $s$.\n",
    "\n",
    "Если отношение $P / L$ больше 0.8, то функция должна вернуть True; иначе False.\n",
    "\n",
    "Продемонстрируйте работу вашей функции на примере описаний двух рецептов с ID 135488 и 851934 (ID рецепта - это число, стоящее в конце url рецепта). Выведите на экран описания этих рецептов и результат работы функции."
   ]
  },
  {
   "cell_type": "markdown",
   "metadata": {},
   "source": [
    "### Создадим столбец ID "
   ]
  },
  {
   "cell_type": "code",
   "execution_count": 17,
   "metadata": {},
   "outputs": [],
   "source": [
    "recipes['ID'] = recipes['url'].str.extract(r\"\\/(\\d+)\\/\").astype(int)\n",
    "recipes.reset_index(drop=True, inplace=True )\n",
    "recipes.set_index('ID', inplace=True)"
   ]
  },
  {
   "cell_type": "markdown",
   "metadata": {},
   "source": [
    "### Продемонстрируйте работу вашей функции на примере описаний двух рецептов с ID 135488 и 851934"
   ]
  },
  {
   "cell_type": "code",
   "execution_count": 18,
   "metadata": {},
   "outputs": [],
   "source": [
    "def is_plagiarism(s1: str, s2: str) -> bool:\n",
    "    P = 0\n",
    "    L = max(len(word_tokenize(s1)), len(word_tokenize(s2)))\n",
    "    for w1 in word_tokenize(s1):\n",
    "        for w2 in word_tokenize(s2):\n",
    "            if edit_distance(w1,w2) <= 2:\n",
    "                P += 1\n",
    "                break\n",
    "    if P/L > 0.8:\n",
    "        return True \n",
    "    else:\n",
    "        return False    "
   ]
  },
  {
   "cell_type": "code",
   "execution_count": 19,
   "metadata": {},
   "outputs": [
    {
     "data": {
      "text/plain": [
       "'прекрасной закуской к крепким напиткам на фуршетном столе станет паштет из сала и авокадо с чесноком который мы спрячем в орешках из бородинского хлеба положив в середину маслину закуска получается необычной оригинальной и ценится особенно мужчинами'"
      ]
     },
     "execution_count": 19,
     "metadata": {},
     "output_type": "execute_result"
    }
   ],
   "source": [
    "recipes['description'].loc[135488]"
   ]
  },
  {
   "cell_type": "code",
   "execution_count": 20,
   "metadata": {},
   "outputs": [
    {
     "data": {
      "text/plain": [
       "'замечательной закуской к напиткам на фуршетном столе станет паштет из сала и авокадо с чесноком куда мы добавим орешков из бородинского хлеба положив в середину маслины закуска получается крайне необычной оригинальной и ценится особенно мужчинами'"
      ]
     },
     "execution_count": 20,
     "metadata": {},
     "output_type": "execute_result"
    }
   ],
   "source": [
    "recipes['description'].loc[851934]"
   ]
  },
  {
   "cell_type": "code",
   "execution_count": 21,
   "metadata": {},
   "outputs": [
    {
     "data": {
      "text/plain": [
       "True"
      ]
     },
     "execution_count": 21,
     "metadata": {},
     "output_type": "execute_result"
    }
   ],
   "source": [
    "is_plagiarism(recipes['description'].loc[135488], recipes['description'].loc[851934])"
   ]
  },
  {
   "cell_type": "markdown",
   "metadata": {},
   "source": [
    "### Стемминг, лемматизация"
   ]
  },
  {
   "cell_type": "markdown",
   "metadata": {},
   "source": [
    "4\\. На основе набора слов из задания 2 создайте `pd.DataFrame` со столбцами `word`, `stemmed_word` и `normalized_word`. В столбец `stemmed_word` поместите версию слова после проведения процедуры стемминга; в столбец `normalized_word` поместите версию слова после проведения процедуры лемматизации. Столбец `word` укажите в качестве индекса. \n",
    "\n",
    "Для стемминга можно воспользоваться `SnowballStemmer` из `nltk`, для лемматизации слов - пакетом `pymorphy2`. Сравните результаты стемминга и лемматизации. Поясните на примере одной из строк получившегося фрейма (в виде текстового комментария), в чем разница между двумя этими подходами. "
   ]
  },
  {
   "cell_type": "code",
   "execution_count": 22,
   "metadata": {},
   "outputs": [
    {
     "data": {
      "text/html": [
       "<div>\n",
       "<style scoped>\n",
       "    .dataframe tbody tr th:only-of-type {\n",
       "        vertical-align: middle;\n",
       "    }\n",
       "\n",
       "    .dataframe tbody tr th {\n",
       "        vertical-align: top;\n",
       "    }\n",
       "\n",
       "    .dataframe thead th {\n",
       "        text-align: right;\n",
       "    }\n",
       "</style>\n",
       "<table border=\"1\" class=\"dataframe\">\n",
       "  <thead>\n",
       "    <tr style=\"text-align: right;\">\n",
       "      <th></th>\n",
       "      <th>stemmed_word</th>\n",
       "      <th>normalized_word</th>\n",
       "    </tr>\n",
       "    <tr>\n",
       "      <th>word</th>\n",
       "      <th></th>\n",
       "      <th></th>\n",
       "    </tr>\n",
       "  </thead>\n",
       "  <tbody>\n",
       "    <tr>\n",
       "      <th>пройтись</th>\n",
       "      <td>пройт</td>\n",
       "      <td>пройтись</td>\n",
       "    </tr>\n",
       "    <tr>\n",
       "      <th>ожидала</th>\n",
       "      <td>ожида</td>\n",
       "      <td>ожидать</td>\n",
       "    </tr>\n",
       "    <tr>\n",
       "      <th>ляпов</th>\n",
       "      <td>ляп</td>\n",
       "      <td>ляп</td>\n",
       "    </tr>\n",
       "    <tr>\n",
       "      <th>ужину</th>\n",
       "      <td>ужин</td>\n",
       "      <td>ужин</td>\n",
       "    </tr>\n",
       "  </tbody>\n",
       "</table>\n",
       "</div>"
      ],
      "text/plain": [
       "         stemmed_word normalized_word\n",
       "word                                 \n",
       "пройтись        пройт        пройтись\n",
       "ожидала         ожида         ожидать\n",
       "ляпов             ляп             ляп\n",
       "ужину            ужин            ужин"
      ]
     },
     "execution_count": 22,
     "metadata": {},
     "output_type": "execute_result"
    }
   ],
   "source": [
    "stemmer = SnowballStemmer(\"russian\")\n",
    "morph = pymorphy2.MorphAnalyzer()\n",
    "\n",
    "words_df = pd.DataFrame({'word':words})\n",
    "words_df['stemmed_word'] = words_df['word'].apply(lambda w: stemmer.stem(w))\n",
    "words_df['normalized_word'] = words_df['word'].apply(lambda w: morph.parse(w)[0].normalized.word)\n",
    "\n",
    "words_df.reset_index(drop=True, inplace=True)\n",
    "words_df.set_index('word', inplace=True)\n",
    "\n",
    "words_df.head(4)"
   ]
  },
  {
   "cell_type": "markdown",
   "metadata": {},
   "source": [
    "### Сравните результаты стемминга и лемматизации."
   ]
  },
  {
   "cell_type": "markdown",
   "metadata": {},
   "source": [
    "Возьмём для примера слово `поедаемое` (1 строка, см. выше). \n",
    "* Когда мы используем стемминг, то мы \"отбрасываем\" последнии нескольких символов.\n",
    "  Т.е. должна остаться только главная форма слова. В данном случае это `поеда`.\n",
    "* Когда мы используем лемматизацию, то слово приводится к начальной форме.\n",
    "  В данном случае у нас деепричастие `поедаемое`. Начальной формой деепричастия, как и у глагола, \n",
    "  является инфинитив - `поедать`. Также стемминг работает быстрее, чем лемматизация. "
   ]
  },
  {
   "cell_type": "markdown",
   "metadata": {},
   "source": [
    "5\\. Добавьте в таблицу `recipes` столбец `description_no_stopwords`, в котором содержится текст описания рецепта после удаления из него стоп-слов. Посчитайте и выведите на экран долю стоп-слов среди общего количества слов. Сравните топ-10 самых часто употребляемых слов до и после удаления стоп-слов."
   ]
  },
  {
   "cell_type": "code",
   "execution_count": 23,
   "metadata": {},
   "outputs": [],
   "source": [
    "#nltk.download('stopwords')"
   ]
  },
  {
   "cell_type": "markdown",
   "metadata": {},
   "source": [
    "### Добавьте в таблицу recipes столбец description_no_stopwords, в котором содержится текст описания рецепта после удаления из него стоп-слов."
   ]
  },
  {
   "cell_type": "code",
   "execution_count": 24,
   "metadata": {},
   "outputs": [
    {
     "data": {
      "text/plain": [
       "ID\n",
       "164365    коктейль готовлю замороженной клубники клубник...\n",
       "1306                                          быстро вкусно\n",
       "10625              сытный овощной салатик пальчики оближете\n",
       "167337    картофельное пюре куриные котлеты вкусная клас...\n",
       "91919     вишневая наливка имеет яркий вишневый вкус кот...\n",
       "                                ...                        \n",
       "54574     тех любит чечевицу сюда очень вкусная чечевичн...\n",
       "113494    баклажановые фантазии продолжаются предлагаю в...\n",
       "83228     мое любимое блюдо лазанья кушать фарш поднадое...\n",
       "172238    прошлым летом варила варенье одуванчиков рецеп...\n",
       "52794     корочки хлеба сделал заказ буратино таверне до...\n",
       "Name: description_no_stopwords, Length: 3467, dtype: object"
      ]
     },
     "execution_count": 24,
     "metadata": {},
     "output_type": "execute_result"
    }
   ],
   "source": [
    "from nltk.corpus import stopwords\n",
    "cachedStopWords = stopwords.words(\"russian\")\n",
    "\n",
    "recipes['description_no_stopwords'] = recipes['description'].apply(lambda w: \\\n",
    "    ' '.join([word for word in word_tokenize(w) if word not in cachedStopWords]))\n",
    "recipes['description_no_stopwords']"
   ]
  },
  {
   "cell_type": "markdown",
   "metadata": {},
   "source": [
    "### Посчитайте и выведите на экран долю стоп-слов среди общего количества слов."
   ]
  },
  {
   "cell_type": "code",
   "execution_count": 90,
   "metadata": {},
   "outputs": [
    {
     "name": "stdout",
     "output_type": "stream",
     "text": [
      "Доля стоп-слов среди общего количества слов: 0.322622307677368\n"
     ]
    }
   ],
   "source": [
    "words_2 = word_tokenize(string_description)\n",
    "stop_words = [word for word in words_2 if word in cachedStopWords]\n",
    "print(f'Доля стоп-слов среди общего количества слов: {len(stop_words) / len(words_2)}')"
   ]
  },
  {
   "cell_type": "markdown",
   "metadata": {},
   "source": [
    "### Сравните топ-10 самых часто употребляемых слов до и после удаления стоп-слов."
   ]
  },
  {
   "cell_type": "markdown",
   "metadata": {},
   "source": [
    "### До:"
   ]
  },
  {
   "cell_type": "code",
   "execution_count": 91,
   "metadata": {},
   "outputs": [
    {
     "data": {
      "text/plain": [
       "[('и', 5054),\n",
       " ('в', 2584),\n",
       " ('с', 1934),\n",
       " ('на', 1655),\n",
       " ('очень', 1607),\n",
       " ('не', 1517),\n",
       " ('из', 1006),\n",
       " ('я', 979),\n",
       " ('рецепт', 869),\n",
       " ('а', 863)]"
      ]
     },
     "execution_count": 91,
     "metadata": {},
     "output_type": "execute_result"
    }
   ],
   "source": [
    "import collections\n",
    "counter = collections.Counter(words_2)\n",
    "counter.most_common(10)"
   ]
  },
  {
   "cell_type": "markdown",
   "metadata": {},
   "source": [
    "### После:"
   ]
  },
  {
   "cell_type": "code",
   "execution_count": 92,
   "metadata": {},
   "outputs": [
    {
     "data": {
      "text/plain": [
       "[('очень', 1607),\n",
       " ('рецепт', 869),\n",
       " ('это', 734),\n",
       " ('блюдо', 524),\n",
       " ('вкусный', 461),\n",
       " ('просто', 436),\n",
       " ('вкусно', 375),\n",
       " ('приготовить', 344),\n",
       " ('вкус', 324),\n",
       " ('салат', 313)]"
      ]
     },
     "execution_count": 92,
     "metadata": {},
     "output_type": "execute_result"
    }
   ],
   "source": [
    "without_stop_words = [word for word in words_2 if word not in cachedStopWords]\n",
    "counter = collections.Counter(without_stop_words)\n",
    "counter.most_common(10)"
   ]
  },
  {
   "cell_type": "markdown",
   "metadata": {},
   "source": [
    "### Векторное представление текста"
   ]
  },
  {
   "cell_type": "markdown",
   "metadata": {},
   "source": [
    "6\\. Выберите случайным образом 5 рецептов из набора данных, в названии которых есть слово \"оладьи\" (без учета регистра). Представьте описание каждого рецепта в виде числового вектора при помощи `TfidfVectorizer`. На основе полученных векторов создайте `pd.DataFrame`, в котором названия колонок соответствуют словам из словаря объекта-векторизатора. \n",
    "\n",
    "Примечание: обратите внимание на порядок слов при создании колонок."
   ]
  },
  {
   "cell_type": "markdown",
   "metadata": {},
   "source": [
    "# В качестве описания рецепта, буду использовать столбец description_no_stopwords, т.к. лучше будет использовать именно этот столбец для последующих заданий.\n",
    "* `Если вы не удалите стоп-слова, вы получите пространство с более высокой размерностью, и угол между векторами будет больше, что подразумевает меньшее сходство, даже если векторы передают практически одинаковую информацию.`"
   ]
  },
  {
   "cell_type": "markdown",
   "metadata": {},
   "source": [
    "### Выберите случайным образом 5 рецептов из набора данных, в названии которых есть слово \"оладьи\" (без учета регистра)."
   ]
  },
  {
   "cell_type": "code",
   "execution_count": 93,
   "metadata": {},
   "outputs": [
    {
     "data": {
      "text/html": [
       "<div>\n",
       "<style scoped>\n",
       "    .dataframe tbody tr th:only-of-type {\n",
       "        vertical-align: middle;\n",
       "    }\n",
       "\n",
       "    .dataframe tbody tr th {\n",
       "        vertical-align: top;\n",
       "    }\n",
       "\n",
       "    .dataframe thead th {\n",
       "        text-align: right;\n",
       "    }\n",
       "</style>\n",
       "<table border=\"1\" class=\"dataframe\">\n",
       "  <thead>\n",
       "    <tr style=\"text-align: right;\">\n",
       "      <th></th>\n",
       "      <th>url</th>\n",
       "      <th>name</th>\n",
       "      <th>ingredients</th>\n",
       "      <th>description</th>\n",
       "      <th>description_no_stopwords</th>\n",
       "    </tr>\n",
       "    <tr>\n",
       "      <th>ID</th>\n",
       "      <th></th>\n",
       "      <th></th>\n",
       "      <th></th>\n",
       "      <th></th>\n",
       "      <th></th>\n",
       "    </tr>\n",
       "  </thead>\n",
       "  <tbody>\n",
       "    <tr>\n",
       "      <th>138148</th>\n",
       "      <td>https://www.povarenok.ru/recipes/show/138148/</td>\n",
       "      <td>Оладьи с изюмом</td>\n",
       "      <td>{'Кефир': '0.5 л', 'Яйцо куриное': '1 шт', 'Со...</td>\n",
       "      <td>вкусные домашние оладушки с изюмом\\r\\nугощайтесь</td>\n",
       "      <td>вкусные домашние оладушки изюмом угощайтесь</td>\n",
       "    </tr>\n",
       "    <tr>\n",
       "      <th>143418</th>\n",
       "      <td>https://www.povarenok.ru/recipes/show/143418/</td>\n",
       "      <td>Оладьи \"Лето\"</td>\n",
       "      <td>{'Картофель': '7 шт', 'Перец болгарский': '1 ш...</td>\n",
       "      <td>драники или деруны уже давно стали интернацион...</td>\n",
       "      <td>драники деруны давно стали интернациональным б...</td>\n",
       "    </tr>\n",
       "    <tr>\n",
       "      <th>57827</th>\n",
       "      <td>https://www.povarenok.ru/recipes/show/57827/</td>\n",
       "      <td>Нежные куриные оладьи</td>\n",
       "      <td>{'Филе куриное': '500 г', 'Сыр плавленый': '2 ...</td>\n",
       "      <td>нежные сочные оладьи и очень очень очень вкусные</td>\n",
       "      <td>нежные сочные оладьи очень очень очень вкусные</td>\n",
       "    </tr>\n",
       "    <tr>\n",
       "      <th>122866</th>\n",
       "      <td>https://www.povarenok.ru/recipes/show/122866/</td>\n",
       "      <td>Овсяные оладьи с луково-гороховой начинкой</td>\n",
       "      <td>{'Мука овсяная': '1 стак.', 'Молоко': '1 стак....</td>\n",
       "      <td>очень вкусные нежный оладьи несмотря на то что...</td>\n",
       "      <td>очень вкусные нежный оладьи несмотря состоят н...</td>\n",
       "    </tr>\n",
       "    <tr>\n",
       "      <th>116312</th>\n",
       "      <td>https://www.povarenok.ru/recipes/show/116312/</td>\n",
       "      <td>Оладьи кукурузно-сырные</td>\n",
       "      <td>{'Кукуруза': '1 бан.', 'Мука пшеничная': '2 ст...</td>\n",
       "      <td>опять в продолжение темы друзья оладьи чудесны...</td>\n",
       "      <td>продолжение темы друзья оладьи чудесные вспомн...</td>\n",
       "    </tr>\n",
       "  </tbody>\n",
       "</table>\n",
       "</div>"
      ],
      "text/plain": [
       "                                                  url  \\\n",
       "ID                                                      \n",
       "138148  https://www.povarenok.ru/recipes/show/138148/   \n",
       "143418  https://www.povarenok.ru/recipes/show/143418/   \n",
       "57827    https://www.povarenok.ru/recipes/show/57827/   \n",
       "122866  https://www.povarenok.ru/recipes/show/122866/   \n",
       "116312  https://www.povarenok.ru/recipes/show/116312/   \n",
       "\n",
       "                                              name  \\\n",
       "ID                                                   \n",
       "138148                             Оладьи с изюмом   \n",
       "143418                               Оладьи \"Лето\"   \n",
       "57827                        Нежные куриные оладьи   \n",
       "122866  Овсяные оладьи с луково-гороховой начинкой   \n",
       "116312                     Оладьи кукурузно-сырные   \n",
       "\n",
       "                                              ingredients  \\\n",
       "ID                                                          \n",
       "138148  {'Кефир': '0.5 л', 'Яйцо куриное': '1 шт', 'Со...   \n",
       "143418  {'Картофель': '7 шт', 'Перец болгарский': '1 ш...   \n",
       "57827   {'Филе куриное': '500 г', 'Сыр плавленый': '2 ...   \n",
       "122866  {'Мука овсяная': '1 стак.', 'Молоко': '1 стак....   \n",
       "116312  {'Кукуруза': '1 бан.', 'Мука пшеничная': '2 ст...   \n",
       "\n",
       "                                              description  \\\n",
       "ID                                                          \n",
       "138148   вкусные домашние оладушки с изюмом\\r\\nугощайтесь   \n",
       "143418  драники или деруны уже давно стали интернацион...   \n",
       "57827    нежные сочные оладьи и очень очень очень вкусные   \n",
       "122866  очень вкусные нежный оладьи несмотря на то что...   \n",
       "116312  опять в продолжение темы друзья оладьи чудесны...   \n",
       "\n",
       "                                 description_no_stopwords  \n",
       "ID                                                         \n",
       "138148        вкусные домашние оладушки изюмом угощайтесь  \n",
       "143418  драники деруны давно стали интернациональным б...  \n",
       "57827      нежные сочные оладьи очень очень очень вкусные  \n",
       "122866  очень вкусные нежный оладьи несмотря состоят н...  \n",
       "116312  продолжение темы друзья оладьи чудесные вспомн...  "
      ]
     },
     "execution_count": 93,
     "metadata": {},
     "output_type": "execute_result"
    }
   ],
   "source": [
    "df_pancakes = recipes.iloc[np.where(recipes['name'].str.extract(r\"(оладьи)\", re.I).notna())[0]].sample(n=5)\n",
    "df_pancakes"
   ]
  },
  {
   "cell_type": "markdown",
   "metadata": {},
   "source": [
    "### Представьте описание каждого рецепта в виде числового вектора при помощи TfidfVectorizer. На основе полученных векторов создайте pd.DataFrame, в котором названия колонок соответствуют словам из словаря объекта-векторизатора."
   ]
  },
  {
   "cell_type": "code",
   "execution_count": 94,
   "metadata": {},
   "outputs": [],
   "source": [
    "from sklearn.feature_extraction.text import TfidfVectorizer\n",
    "from sklearn.metrics.pairwise import cosine_distances\n",
    "from scipy.spatial.distance import cdist \n",
    "\n",
    "vectorizer = TfidfVectorizer().fit(df_pancakes['description_no_stopwords'])\n",
    "vectors = vectorizer.transform(df_pancakes['description_no_stopwords']).toarray()\n",
    "\n",
    "columns = vectorizer.get_feature_names()\n",
    "vectors;"
   ]
  },
  {
   "cell_type": "code",
   "execution_count": 95,
   "metadata": {},
   "outputs": [
    {
     "data": {
      "text/html": [
       "<div>\n",
       "<style scoped>\n",
       "    .dataframe tbody tr th:only-of-type {\n",
       "        vertical-align: middle;\n",
       "    }\n",
       "\n",
       "    .dataframe tbody tr th {\n",
       "        vertical-align: top;\n",
       "    }\n",
       "\n",
       "    .dataframe thead th {\n",
       "        text-align: right;\n",
       "    }\n",
       "</style>\n",
       "<table border=\"1\" class=\"dataframe\">\n",
       "  <thead>\n",
       "    <tr style=\"text-align: right;\">\n",
       "      <th></th>\n",
       "      <th>200мл</th>\n",
       "      <th>белорусскую</th>\n",
       "      <th>блюдо</th>\n",
       "      <th>блюдом</th>\n",
       "      <th>будут</th>\n",
       "      <th>вариант</th>\n",
       "      <th>везде</th>\n",
       "      <th>вкус</th>\n",
       "      <th>вкуса</th>\n",
       "      <th>вкусные</th>\n",
       "      <th>...</th>\n",
       "      <th>упустила</th>\n",
       "      <th>урожай</th>\n",
       "      <th>уходя</th>\n",
       "      <th>уютно</th>\n",
       "      <th>фарша</th>\n",
       "      <th>хороший</th>\n",
       "      <th>чудесные</th>\n",
       "      <th>шалот</th>\n",
       "      <th>шанс</th>\n",
       "      <th>широко</th>\n",
       "    </tr>\n",
       "  </thead>\n",
       "  <tbody>\n",
       "    <tr>\n",
       "      <th>0</th>\n",
       "      <td>0.000000</td>\n",
       "      <td>0.00000</td>\n",
       "      <td>0.000000</td>\n",
       "      <td>0.00000</td>\n",
       "      <td>0.000000</td>\n",
       "      <td>0.000000</td>\n",
       "      <td>0.000000</td>\n",
       "      <td>0.000000</td>\n",
       "      <td>0.00000</td>\n",
       "      <td>0.271139</td>\n",
       "      <td>...</td>\n",
       "      <td>0.00000</td>\n",
       "      <td>0.000000</td>\n",
       "      <td>0.00000</td>\n",
       "      <td>0.000000</td>\n",
       "      <td>0.000000</td>\n",
       "      <td>0.000000</td>\n",
       "      <td>0.000000</td>\n",
       "      <td>0.000000</td>\n",
       "      <td>0.00000</td>\n",
       "      <td>0.00000</td>\n",
       "    </tr>\n",
       "    <tr>\n",
       "      <th>1</th>\n",
       "      <td>0.000000</td>\n",
       "      <td>0.15749</td>\n",
       "      <td>0.000000</td>\n",
       "      <td>0.15749</td>\n",
       "      <td>0.000000</td>\n",
       "      <td>0.000000</td>\n",
       "      <td>0.000000</td>\n",
       "      <td>0.000000</td>\n",
       "      <td>0.15749</td>\n",
       "      <td>0.000000</td>\n",
       "      <td>...</td>\n",
       "      <td>0.15749</td>\n",
       "      <td>0.000000</td>\n",
       "      <td>0.15749</td>\n",
       "      <td>0.000000</td>\n",
       "      <td>0.000000</td>\n",
       "      <td>0.000000</td>\n",
       "      <td>0.000000</td>\n",
       "      <td>0.000000</td>\n",
       "      <td>0.15749</td>\n",
       "      <td>0.15749</td>\n",
       "    </tr>\n",
       "    <tr>\n",
       "      <th>2</th>\n",
       "      <td>0.000000</td>\n",
       "      <td>0.00000</td>\n",
       "      <td>0.000000</td>\n",
       "      <td>0.00000</td>\n",
       "      <td>0.000000</td>\n",
       "      <td>0.000000</td>\n",
       "      <td>0.000000</td>\n",
       "      <td>0.000000</td>\n",
       "      <td>0.00000</td>\n",
       "      <td>0.218119</td>\n",
       "      <td>...</td>\n",
       "      <td>0.00000</td>\n",
       "      <td>0.000000</td>\n",
       "      <td>0.00000</td>\n",
       "      <td>0.000000</td>\n",
       "      <td>0.000000</td>\n",
       "      <td>0.000000</td>\n",
       "      <td>0.000000</td>\n",
       "      <td>0.000000</td>\n",
       "      <td>0.00000</td>\n",
       "      <td>0.00000</td>\n",
       "    </tr>\n",
       "    <tr>\n",
       "      <th>3</th>\n",
       "      <td>0.182321</td>\n",
       "      <td>0.00000</td>\n",
       "      <td>0.000000</td>\n",
       "      <td>0.00000</td>\n",
       "      <td>0.000000</td>\n",
       "      <td>0.000000</td>\n",
       "      <td>0.182321</td>\n",
       "      <td>0.182321</td>\n",
       "      <td>0.00000</td>\n",
       "      <td>0.102717</td>\n",
       "      <td>...</td>\n",
       "      <td>0.00000</td>\n",
       "      <td>0.182321</td>\n",
       "      <td>0.00000</td>\n",
       "      <td>0.000000</td>\n",
       "      <td>0.182321</td>\n",
       "      <td>0.182321</td>\n",
       "      <td>0.000000</td>\n",
       "      <td>0.182321</td>\n",
       "      <td>0.00000</td>\n",
       "      <td>0.00000</td>\n",
       "    </tr>\n",
       "    <tr>\n",
       "      <th>4</th>\n",
       "      <td>0.000000</td>\n",
       "      <td>0.00000</td>\n",
       "      <td>0.173858</td>\n",
       "      <td>0.00000</td>\n",
       "      <td>0.173858</td>\n",
       "      <td>0.173858</td>\n",
       "      <td>0.000000</td>\n",
       "      <td>0.000000</td>\n",
       "      <td>0.00000</td>\n",
       "      <td>0.097949</td>\n",
       "      <td>...</td>\n",
       "      <td>0.00000</td>\n",
       "      <td>0.000000</td>\n",
       "      <td>0.00000</td>\n",
       "      <td>0.173858</td>\n",
       "      <td>0.000000</td>\n",
       "      <td>0.000000</td>\n",
       "      <td>0.173858</td>\n",
       "      <td>0.000000</td>\n",
       "      <td>0.00000</td>\n",
       "      <td>0.00000</td>\n",
       "    </tr>\n",
       "  </tbody>\n",
       "</table>\n",
       "<p>5 rows × 110 columns</p>\n",
       "</div>"
      ],
      "text/plain": [
       "      200мл  белорусскую     блюдо   блюдом     будут   вариант     везде  \\\n",
       "0  0.000000      0.00000  0.000000  0.00000  0.000000  0.000000  0.000000   \n",
       "1  0.000000      0.15749  0.000000  0.15749  0.000000  0.000000  0.000000   \n",
       "2  0.000000      0.00000  0.000000  0.00000  0.000000  0.000000  0.000000   \n",
       "3  0.182321      0.00000  0.000000  0.00000  0.000000  0.000000  0.182321   \n",
       "4  0.000000      0.00000  0.173858  0.00000  0.173858  0.173858  0.000000   \n",
       "\n",
       "       вкус    вкуса   вкусные  ...  упустила    урожай    уходя     уютно  \\\n",
       "0  0.000000  0.00000  0.271139  ...   0.00000  0.000000  0.00000  0.000000   \n",
       "1  0.000000  0.15749  0.000000  ...   0.15749  0.000000  0.15749  0.000000   \n",
       "2  0.000000  0.00000  0.218119  ...   0.00000  0.000000  0.00000  0.000000   \n",
       "3  0.182321  0.00000  0.102717  ...   0.00000  0.182321  0.00000  0.000000   \n",
       "4  0.000000  0.00000  0.097949  ...   0.00000  0.000000  0.00000  0.173858   \n",
       "\n",
       "      фарша   хороший  чудесные     шалот     шанс   широко  \n",
       "0  0.000000  0.000000  0.000000  0.000000  0.00000  0.00000  \n",
       "1  0.000000  0.000000  0.000000  0.000000  0.15749  0.15749  \n",
       "2  0.000000  0.000000  0.000000  0.000000  0.00000  0.00000  \n",
       "3  0.182321  0.182321  0.000000  0.182321  0.00000  0.00000  \n",
       "4  0.000000  0.000000  0.173858  0.000000  0.00000  0.00000  \n",
       "\n",
       "[5 rows x 110 columns]"
      ]
     },
     "execution_count": 95,
     "metadata": {},
     "output_type": "execute_result"
    }
   ],
   "source": [
    "df_vectorize = pd.DataFrame(data=vectors,columns=columns)\n",
    "df_vectorize"
   ]
  },
  {
   "cell_type": "markdown",
   "metadata": {},
   "source": [
    "7\\. Вычислите близость между каждой парой рецептов, выбранных в задании 6, используя косинусное расстояние (можно воспользоваться функциями из любого пакета: `scipy`, `scikit-learn` или реализовать функцию самому). Результаты оформите в виде таблицы `pd.DataFrame`. В качестве названий строк и столбцов используйте названия рецептов.\n",
    "\n",
    "Примечание: обратите внимание, что $d_{cosine}(x, x) = 0$"
   ]
  },
  {
   "cell_type": "code",
   "execution_count": 96,
   "metadata": {},
   "outputs": [
    {
     "data": {
      "text/html": [
       "<div>\n",
       "<style scoped>\n",
       "    .dataframe tbody tr th:only-of-type {\n",
       "        vertical-align: middle;\n",
       "    }\n",
       "\n",
       "    .dataframe tbody tr th {\n",
       "        vertical-align: top;\n",
       "    }\n",
       "\n",
       "    .dataframe thead th {\n",
       "        text-align: right;\n",
       "    }\n",
       "</style>\n",
       "<table border=\"1\" class=\"dataframe\">\n",
       "  <thead>\n",
       "    <tr style=\"text-align: right;\">\n",
       "      <th></th>\n",
       "      <th>Оладьи с изюмом</th>\n",
       "      <th>Оладьи \"Лето\"</th>\n",
       "      <th>Нежные куриные оладьи</th>\n",
       "      <th>Овсяные оладьи с луково-гороховой начинкой</th>\n",
       "      <th>Оладьи кукурузно-сырные</th>\n",
       "    </tr>\n",
       "  </thead>\n",
       "  <tbody>\n",
       "    <tr>\n",
       "      <th>Оладьи с изюмом</th>\n",
       "      <td>0.000000</td>\n",
       "      <td>1.000000</td>\n",
       "      <td>0.940859</td>\n",
       "      <td>0.972150</td>\n",
       "      <td>0.973442</td>\n",
       "    </tr>\n",
       "    <tr>\n",
       "      <th>Оладьи \"Лето\"</th>\n",
       "      <td>1.000000</td>\n",
       "      <td>0.000000</td>\n",
       "      <td>0.980647</td>\n",
       "      <td>0.990886</td>\n",
       "      <td>0.991309</td>\n",
       "    </tr>\n",
       "    <tr>\n",
       "      <th>Нежные куриные оладьи</th>\n",
       "      <td>0.940859</td>\n",
       "      <td>0.980647</td>\n",
       "      <td>0.000000</td>\n",
       "      <td>0.860213</td>\n",
       "      <td>0.866701</td>\n",
       "    </tr>\n",
       "    <tr>\n",
       "      <th>Овсяные оладьи с луково-гороховой начинкой</th>\n",
       "      <td>0.972150</td>\n",
       "      <td>0.990886</td>\n",
       "      <td>0.860213</td>\n",
       "      <td>0.000000</td>\n",
       "      <td>0.965661</td>\n",
       "    </tr>\n",
       "    <tr>\n",
       "      <th>Оладьи кукурузно-сырные</th>\n",
       "      <td>0.973442</td>\n",
       "      <td>0.991309</td>\n",
       "      <td>0.866701</td>\n",
       "      <td>0.965661</td>\n",
       "      <td>0.000000</td>\n",
       "    </tr>\n",
       "  </tbody>\n",
       "</table>\n",
       "</div>"
      ],
      "text/plain": [
       "                                            Оладьи с изюмом  Оладьи \"Лето\"  \\\n",
       "Оладьи с изюмом                                    0.000000       1.000000   \n",
       "Оладьи \"Лето\"                                      1.000000       0.000000   \n",
       "Нежные куриные оладьи                              0.940859       0.980647   \n",
       "Овсяные оладьи с луково-гороховой начинкой         0.972150       0.990886   \n",
       "Оладьи кукурузно-сырные                            0.973442       0.991309   \n",
       "\n",
       "                                            Нежные куриные оладьи  \\\n",
       "Оладьи с изюмом                                          0.940859   \n",
       "Оладьи \"Лето\"                                            0.980647   \n",
       "Нежные куриные оладьи                                    0.000000   \n",
       "Овсяные оладьи с луково-гороховой начинкой               0.860213   \n",
       "Оладьи кукурузно-сырные                                  0.866701   \n",
       "\n",
       "                                            Овсяные оладьи с луково-гороховой начинкой  \\\n",
       "Оладьи с изюмом                                                               0.972150   \n",
       "Оладьи \"Лето\"                                                                 0.990886   \n",
       "Нежные куриные оладьи                                                         0.860213   \n",
       "Овсяные оладьи с луково-гороховой начинкой                                    0.000000   \n",
       "Оладьи кукурузно-сырные                                                       0.965661   \n",
       "\n",
       "                                            Оладьи кукурузно-сырные  \n",
       "Оладьи с изюмом                                            0.973442  \n",
       "Оладьи \"Лето\"                                              0.991309  \n",
       "Нежные куриные оладьи                                      0.866701  \n",
       "Овсяные оладьи с луково-гороховой начинкой                 0.965661  \n",
       "Оладьи кукурузно-сырные                                    0.000000  "
      ]
     },
     "execution_count": 96,
     "metadata": {},
     "output_type": "execute_result"
    }
   ],
   "source": [
    "data_cosine = cosine_distances(vectors,vectors)\n",
    "df_cosine = pd.DataFrame(data=data_cosine, columns=df_pancakes['name'].values, index=df_pancakes['name'].values) \n",
    "df_cosine"
   ]
  },
  {
   "cell_type": "markdown",
   "metadata": {},
   "source": [
    "8\\. Напишите функцию, которая принимает на вход `pd.DataFrame`, полученный в задании 7, и возвращает в виде кортежа названия двух различных рецептов, которые являются наиболее похожими. Прокомментируйте результат (в виде текстового комментария). Для объяснения результата сравните слова в описаниях двух этих отзывов."
   ]
  },
  {
   "cell_type": "code",
   "execution_count": null,
   "metadata": {},
   "outputs": [],
   "source": []
  },
  {
   "cell_type": "code",
   "execution_count": 97,
   "metadata": {},
   "outputs": [
    {
     "data": {
      "text/plain": [
       "('Нежные куриные оладьи', 'Овсяные оладьи с луково-гороховой начинкой')"
      ]
     },
     "execution_count": 97,
     "metadata": {},
     "output_type": "execute_result"
    }
   ],
   "source": [
    "def find_closest(sim_df: pd.DataFrame) -> tuple:\n",
    "    col = sim_df.iloc[:, np.where(sim_df == sim_df[sim_df > 0].min().min())[0][0]].name\n",
    "    row = sim_df.iloc[np.where(sim_df == sim_df[sim_df > 0].min().min())[0][1],:].name\n",
    "    return (col, row)\n",
    "\n",
    "find_closest(df_cosine)"
   ]
  },
  {
   "cell_type": "code",
   "execution_count": 104,
   "metadata": {},
   "outputs": [
    {
     "data": {
      "text/plain": [
       "array(['нежные сочные оладьи очень очень очень вкусные',\n",
       "       'очень вкусные нежный оладьи несмотря состоят нескольких ингредиентов начинка лука зеленым горошком небольшим колвом фарша дополняют вкус подавать сметаной стакан 200мл лук шалот заменить обычный просто году хороший урожай кладу везде угошайтесь'],\n",
       "      dtype=object)"
      ]
     },
     "execution_count": 104,
     "metadata": {},
     "output_type": "execute_result"
    }
   ],
   "source": [
    "df_pancakes['description_no_stopwords'][(df_pancakes['name'] == find_closest(df_cosine)[0]) | (df_pancakes['name'] == find_closest(df_cosine)[1])].values"
   ]
  },
  {
   "cell_type": "markdown",
   "metadata": {},
   "source": [
    "### Похожие слова в предложениях:\n",
    "`нежные` и `нежный`, \n",
    "`оладьи` и `оладьи`,  \n",
    "`очень` и `очень`,\n",
    "`вкусные` и `вкусные`.\n",
    "Таким образом 4 пары слов коррелирует в данных двух описаниях рецептов, поэтому косинусное расстояние минимальное среди данных рецептов."
   ]
  },
  {
   "cell_type": "code",
   "execution_count": null,
   "metadata": {},
   "outputs": [],
   "source": []
  }
 ],
 "metadata": {
  "kernelspec": {
   "display_name": "Python 3 (ipykernel)",
   "language": "python",
   "name": "python3"
  },
  "language_info": {
   "codemirror_mode": {
    "name": "ipython",
    "version": 3
   },
   "file_extension": ".py",
   "mimetype": "text/x-python",
   "name": "python",
   "nbconvert_exporter": "python",
   "pygments_lexer": "ipython3",
   "version": "3.10.8"
  }
 },
 "nbformat": 4,
 "nbformat_minor": 4
}
