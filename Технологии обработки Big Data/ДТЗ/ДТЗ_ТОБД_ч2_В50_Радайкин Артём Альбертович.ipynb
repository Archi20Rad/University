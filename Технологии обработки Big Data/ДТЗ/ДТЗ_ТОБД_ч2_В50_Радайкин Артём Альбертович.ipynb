{
 "cells": [
  {
   "cell_type": "markdown",
   "id": "94701be2",
   "metadata": {},
   "source": [
    "## Домашнее творческое задание по дисциплине \"Технологии обработки больших данных\" (часть 2)\n",
    "\n",
    "Выполнил: студент группы __ПМ20-4 Кондаков Илья Владимирович__ и студент группы __ПМ20-4 Радайкин Артём Альбертович__ \n",
    "\n",
    "Вариант: __50__\n",
    "\n",
    "__Предметная область__ : Climate Change: Earth Surface Temperature Data\n",
    "\n",
    "__Источник данных__: https://www.kaggle.com/datasets/berkeleyearth/climate-change-earth-surface-temperature-data"
   ]
  },
  {
   "cell_type": "markdown",
   "id": "49b40976",
   "metadata": {},
   "source": [
    "__При решении данных задач не подразумевается использования циклов или генераторов Python в ходе работы с пакетами `numpy`, `pandas` и `dask`, если в задании не сказано обратного. Решения задач, в которых для обработки массивов `numpy`, структур `pandas` или структур `dask` используются явные циклы (без согласования с преподавателем), могут быть признаны некорректными и не засчитаны.__\n",
    "\n",
    "__В задачах, связанных с пакетом `dask`, явно указано, какой коллекцией вы должны пользоваться при решении задачи. Все операции вычислений должны проводиться  над этой коллекцией и средствами пакета `dask`, если в задании не сказано обратного.__ \n",
    "\n"
   ]
  },
  {
   "cell_type": "code",
   "execution_count": 1,
   "id": "c1de8066",
   "metadata": {},
   "outputs": [],
   "source": [
    "import pandas as pd\n",
    "import numpy as np\n",
    "import dask.array as da\n",
    "import dask.bag as db\n",
    "import dask.dataframe as dd\n",
    "import re\n",
    "import multiprocessing\n",
    "import sqlite3\n",
    "import json"
   ]
  },
  {
   "cell_type": "markdown",
   "id": "35797e1c",
   "metadata": {},
   "source": [
    "__Задание 1__. Придумайте несколько варианта посчета количества количества городов для каждой из стран (GlobalLandTemperaturesByCity.csv). Замерьте время выполнения этих решений при помощи time и timeit."
   ]
  },
  {
   "cell_type": "code",
   "execution_count": 2,
   "id": "d8d45323",
   "metadata": {},
   "outputs": [],
   "source": [
    "df = pd.read_csv('GlobalLandTemperaturesByCity.csv', encoding='UTF-8', parse_dates=['dt'])"
   ]
  },
  {
   "cell_type": "code",
   "execution_count": 3,
   "id": "512b409a",
   "metadata": {},
   "outputs": [
    {
     "data": {
      "text/html": [
       "<div>\n",
       "<style scoped>\n",
       "    .dataframe tbody tr th:only-of-type {\n",
       "        vertical-align: middle;\n",
       "    }\n",
       "\n",
       "    .dataframe tbody tr th {\n",
       "        vertical-align: top;\n",
       "    }\n",
       "\n",
       "    .dataframe thead th {\n",
       "        text-align: right;\n",
       "    }\n",
       "</style>\n",
       "<table border=\"1\" class=\"dataframe\">\n",
       "  <thead>\n",
       "    <tr style=\"text-align: right;\">\n",
       "      <th></th>\n",
       "      <th>dt</th>\n",
       "      <th>AverageTemperature</th>\n",
       "      <th>AverageTemperatureUncertainty</th>\n",
       "      <th>City</th>\n",
       "      <th>Country</th>\n",
       "      <th>Latitude</th>\n",
       "      <th>Longitude</th>\n",
       "    </tr>\n",
       "  </thead>\n",
       "  <tbody>\n",
       "    <tr>\n",
       "      <th>0</th>\n",
       "      <td>1743-11-01</td>\n",
       "      <td>6.068</td>\n",
       "      <td>1.737</td>\n",
       "      <td>Århus</td>\n",
       "      <td>Denmark</td>\n",
       "      <td>57.05N</td>\n",
       "      <td>10.33E</td>\n",
       "    </tr>\n",
       "    <tr>\n",
       "      <th>1</th>\n",
       "      <td>1743-12-01</td>\n",
       "      <td>NaN</td>\n",
       "      <td>NaN</td>\n",
       "      <td>Århus</td>\n",
       "      <td>Denmark</td>\n",
       "      <td>57.05N</td>\n",
       "      <td>10.33E</td>\n",
       "    </tr>\n",
       "    <tr>\n",
       "      <th>2</th>\n",
       "      <td>1744-01-01</td>\n",
       "      <td>NaN</td>\n",
       "      <td>NaN</td>\n",
       "      <td>Århus</td>\n",
       "      <td>Denmark</td>\n",
       "      <td>57.05N</td>\n",
       "      <td>10.33E</td>\n",
       "    </tr>\n",
       "    <tr>\n",
       "      <th>3</th>\n",
       "      <td>1744-02-01</td>\n",
       "      <td>NaN</td>\n",
       "      <td>NaN</td>\n",
       "      <td>Århus</td>\n",
       "      <td>Denmark</td>\n",
       "      <td>57.05N</td>\n",
       "      <td>10.33E</td>\n",
       "    </tr>\n",
       "    <tr>\n",
       "      <th>4</th>\n",
       "      <td>1744-03-01</td>\n",
       "      <td>NaN</td>\n",
       "      <td>NaN</td>\n",
       "      <td>Århus</td>\n",
       "      <td>Denmark</td>\n",
       "      <td>57.05N</td>\n",
       "      <td>10.33E</td>\n",
       "    </tr>\n",
       "  </tbody>\n",
       "</table>\n",
       "</div>"
      ],
      "text/plain": [
       "          dt  AverageTemperature  AverageTemperatureUncertainty   City  \\\n",
       "0 1743-11-01               6.068                          1.737  Århus   \n",
       "1 1743-12-01                 NaN                            NaN  Århus   \n",
       "2 1744-01-01                 NaN                            NaN  Århus   \n",
       "3 1744-02-01                 NaN                            NaN  Århus   \n",
       "4 1744-03-01                 NaN                            NaN  Århus   \n",
       "\n",
       "   Country Latitude Longitude  \n",
       "0  Denmark   57.05N    10.33E  \n",
       "1  Denmark   57.05N    10.33E  \n",
       "2  Denmark   57.05N    10.33E  \n",
       "3  Denmark   57.05N    10.33E  \n",
       "4  Denmark   57.05N    10.33E  "
      ]
     },
     "execution_count": 3,
     "metadata": {},
     "output_type": "execute_result"
    }
   ],
   "source": [
    "df.head()"
   ]
  },
  {
   "cell_type": "code",
   "execution_count": 4,
   "id": "f94f016f",
   "metadata": {},
   "outputs": [
    {
     "name": "stdout",
     "output_type": "stream",
     "text": [
      "CPU times: total: 1.66 s\n",
      "Wall time: 1.69 s\n"
     ]
    },
    {
     "data": {
      "text/html": [
       "<div>\n",
       "<style scoped>\n",
       "    .dataframe tbody tr th:only-of-type {\n",
       "        vertical-align: middle;\n",
       "    }\n",
       "\n",
       "    .dataframe tbody tr th {\n",
       "        vertical-align: top;\n",
       "    }\n",
       "\n",
       "    .dataframe thead th {\n",
       "        text-align: right;\n",
       "    }\n",
       "</style>\n",
       "<table border=\"1\" class=\"dataframe\">\n",
       "  <thead>\n",
       "    <tr style=\"text-align: right;\">\n",
       "      <th></th>\n",
       "      <th>City</th>\n",
       "    </tr>\n",
       "    <tr>\n",
       "      <th>Country</th>\n",
       "      <th></th>\n",
       "    </tr>\n",
       "  </thead>\n",
       "  <tbody>\n",
       "    <tr>\n",
       "      <th>Afghanistan</th>\n",
       "      <td>8</td>\n",
       "    </tr>\n",
       "    <tr>\n",
       "      <th>Albania</th>\n",
       "      <td>3</td>\n",
       "    </tr>\n",
       "    <tr>\n",
       "      <th>Algeria</th>\n",
       "      <td>5</td>\n",
       "    </tr>\n",
       "    <tr>\n",
       "      <th>Angola</th>\n",
       "      <td>6</td>\n",
       "    </tr>\n",
       "    <tr>\n",
       "      <th>Argentina</th>\n",
       "      <td>32</td>\n",
       "    </tr>\n",
       "    <tr>\n",
       "      <th>...</th>\n",
       "      <td>...</td>\n",
       "    </tr>\n",
       "    <tr>\n",
       "      <th>Venezuela</th>\n",
       "      <td>40</td>\n",
       "    </tr>\n",
       "    <tr>\n",
       "      <th>Vietnam</th>\n",
       "      <td>30</td>\n",
       "    </tr>\n",
       "    <tr>\n",
       "      <th>Yemen</th>\n",
       "      <td>2</td>\n",
       "    </tr>\n",
       "    <tr>\n",
       "      <th>Zambia</th>\n",
       "      <td>8</td>\n",
       "    </tr>\n",
       "    <tr>\n",
       "      <th>Zimbabwe</th>\n",
       "      <td>7</td>\n",
       "    </tr>\n",
       "  </tbody>\n",
       "</table>\n",
       "<p>159 rows × 1 columns</p>\n",
       "</div>"
      ],
      "text/plain": [
       "             City\n",
       "Country          \n",
       "Afghanistan     8\n",
       "Albania         3\n",
       "Algeria         5\n",
       "Angola          6\n",
       "Argentina      32\n",
       "...           ...\n",
       "Venezuela      40\n",
       "Vietnam        30\n",
       "Yemen           2\n",
       "Zambia          8\n",
       "Zimbabwe        7\n",
       "\n",
       "[159 rows x 1 columns]"
      ]
     },
     "execution_count": 4,
     "metadata": {},
     "output_type": "execute_result"
    }
   ],
   "source": [
    "%%time\n",
    "df[['Country', 'City']].drop_duplicates().groupby('Country').count()"
   ]
  },
  {
   "cell_type": "code",
   "execution_count": 5,
   "id": "f27802e4",
   "metadata": {},
   "outputs": [
    {
     "name": "stdout",
     "output_type": "stream",
     "text": [
      "1.64 s ± 10.9 ms per loop (mean ± std. dev. of 7 runs, 1 loop each)\n"
     ]
    }
   ],
   "source": [
    "%%timeit\n",
    "df[['Country', 'City']].drop_duplicates().groupby('Country').count()"
   ]
  },
  {
   "cell_type": "code",
   "execution_count": 6,
   "id": "e9055ad4",
   "metadata": {},
   "outputs": [
    {
     "name": "stdout",
     "output_type": "stream",
     "text": [
      "CPU times: total: 2min 58s\n",
      "Wall time: 3min\n"
     ]
    },
    {
     "data": {
      "text/html": [
       "<div>\n",
       "<style scoped>\n",
       "    .dataframe tbody tr th:only-of-type {\n",
       "        vertical-align: middle;\n",
       "    }\n",
       "\n",
       "    .dataframe tbody tr th {\n",
       "        vertical-align: top;\n",
       "    }\n",
       "\n",
       "    .dataframe thead th {\n",
       "        text-align: right;\n",
       "    }\n",
       "</style>\n",
       "<table border=\"1\" class=\"dataframe\">\n",
       "  <thead>\n",
       "    <tr style=\"text-align: right;\">\n",
       "      <th></th>\n",
       "      <th>City</th>\n",
       "    </tr>\n",
       "  </thead>\n",
       "  <tbody>\n",
       "    <tr>\n",
       "      <th>Afghanistan</th>\n",
       "      <td>8</td>\n",
       "    </tr>\n",
       "    <tr>\n",
       "      <th>Albania</th>\n",
       "      <td>3</td>\n",
       "    </tr>\n",
       "    <tr>\n",
       "      <th>Algeria</th>\n",
       "      <td>5</td>\n",
       "    </tr>\n",
       "    <tr>\n",
       "      <th>Angola</th>\n",
       "      <td>6</td>\n",
       "    </tr>\n",
       "    <tr>\n",
       "      <th>Argentina</th>\n",
       "      <td>32</td>\n",
       "    </tr>\n",
       "    <tr>\n",
       "      <th>...</th>\n",
       "      <td>...</td>\n",
       "    </tr>\n",
       "    <tr>\n",
       "      <th>Venezuela</th>\n",
       "      <td>40</td>\n",
       "    </tr>\n",
       "    <tr>\n",
       "      <th>Vietnam</th>\n",
       "      <td>30</td>\n",
       "    </tr>\n",
       "    <tr>\n",
       "      <th>Yemen</th>\n",
       "      <td>2</td>\n",
       "    </tr>\n",
       "    <tr>\n",
       "      <th>Zambia</th>\n",
       "      <td>8</td>\n",
       "    </tr>\n",
       "    <tr>\n",
       "      <th>Zimbabwe</th>\n",
       "      <td>7</td>\n",
       "    </tr>\n",
       "  </tbody>\n",
       "</table>\n",
       "<p>159 rows × 1 columns</p>\n",
       "</div>"
      ],
      "text/plain": [
       "             City\n",
       "Afghanistan     8\n",
       "Albania         3\n",
       "Algeria         5\n",
       "Angola          6\n",
       "Argentina      32\n",
       "...           ...\n",
       "Venezuela      40\n",
       "Vietnam        30\n",
       "Yemen           2\n",
       "Zambia          8\n",
       "Zimbabwe        7\n",
       "\n",
       "[159 rows x 1 columns]"
      ]
     },
     "execution_count": 6,
     "metadata": {},
     "output_type": "execute_result"
    }
   ],
   "source": [
    "%%time\n",
    "\n",
    "dict_ = {}\n",
    "\n",
    "def cnt(row):\n",
    "    global dict_\n",
    "    country = row['Country']\n",
    "    city = row['City']\n",
    "    \n",
    "    if country in dict_.keys():\n",
    "        if city not in dict_[country]:\n",
    "            dict_[country].append(city)\n",
    "    else:\n",
    "        dict_[country] = [city]\n",
    "\n",
    "df[['Country', 'City']].apply(cnt, axis=1) \n",
    "\n",
    "for key in dict_.keys():\n",
    "    dict_[key] = len(dict_[key])\n",
    "    \n",
    "pd.DataFrame.from_dict(dict_, orient='index', columns=['City']).sort_index()"
   ]
  },
  {
   "cell_type": "code",
   "execution_count": 8,
   "id": "7208395f",
   "metadata": {},
   "outputs": [],
   "source": [
    "def cnt(row):\n",
    "    global dict_\n",
    "    country = row['Country']\n",
    "    city = row['City']\n",
    "    \n",
    "    if country in dict_.keys():\n",
    "        if city not in dict_[country]:\n",
    "            dict_[country].append(city)\n",
    "    else:\n",
    "        dict_[country] = [city]"
   ]
  },
  {
   "cell_type": "code",
   "execution_count": 9,
   "id": "d35fc041",
   "metadata": {},
   "outputs": [
    {
     "ename": "TypeError",
     "evalue": "argument of type 'int' is not iterable",
     "output_type": "error",
     "traceback": [
      "\u001b[1;31m---------------------------------------------------------------------------\u001b[0m",
      "\u001b[1;31mTypeError\u001b[0m                                 Traceback (most recent call last)",
      "Cell \u001b[1;32mIn [9], line 1\u001b[0m\n\u001b[1;32m----> 1\u001b[0m \u001b[43mget_ipython\u001b[49m\u001b[43m(\u001b[49m\u001b[43m)\u001b[49m\u001b[38;5;241;43m.\u001b[39;49m\u001b[43mrun_cell_magic\u001b[49m\u001b[43m(\u001b[49m\u001b[38;5;124;43m'\u001b[39;49m\u001b[38;5;124;43mtimeit\u001b[39;49m\u001b[38;5;124;43m'\u001b[39;49m\u001b[43m,\u001b[49m\u001b[43m \u001b[49m\u001b[38;5;124;43m'\u001b[39;49m\u001b[38;5;124;43m'\u001b[39;49m\u001b[43m,\u001b[49m\u001b[43m \u001b[49m\u001b[38;5;124;43m\"\u001b[39;49m\u001b[38;5;130;43;01m\\n\u001b[39;49;00m\u001b[38;5;124;43mdict_ = \u001b[39;49m\u001b[38;5;132;43;01m{}\u001b[39;49;00m\u001b[38;5;130;43;01m\\n\u001b[39;49;00m\u001b[38;5;130;43;01m\\n\u001b[39;49;00m\u001b[38;5;124;43mdf[[\u001b[39;49m\u001b[38;5;124;43m'\u001b[39;49m\u001b[38;5;124;43mCountry\u001b[39;49m\u001b[38;5;124;43m'\u001b[39;49m\u001b[38;5;124;43m, \u001b[39;49m\u001b[38;5;124;43m'\u001b[39;49m\u001b[38;5;124;43mCity\u001b[39;49m\u001b[38;5;124;43m'\u001b[39;49m\u001b[38;5;124;43m]].apply(cnt, axis=1) \u001b[39;49m\u001b[38;5;130;43;01m\\n\u001b[39;49;00m\u001b[38;5;130;43;01m\\n\u001b[39;49;00m\u001b[38;5;124;43mfor key in dict_.keys():\u001b[39;49m\u001b[38;5;130;43;01m\\n\u001b[39;49;00m\u001b[38;5;124;43m    dict_[key] = len(dict_[key])\u001b[39;49m\u001b[38;5;130;43;01m\\n\u001b[39;49;00m\u001b[38;5;124;43m    \u001b[39;49m\u001b[38;5;130;43;01m\\n\u001b[39;49;00m\u001b[38;5;124;43mpd.DataFrame.from_dict(dict_, orient=\u001b[39;49m\u001b[38;5;124;43m'\u001b[39;49m\u001b[38;5;124;43mindex\u001b[39;49m\u001b[38;5;124;43m'\u001b[39;49m\u001b[38;5;124;43m, columns=[\u001b[39;49m\u001b[38;5;124;43m'\u001b[39;49m\u001b[38;5;124;43mCity\u001b[39;49m\u001b[38;5;124;43m'\u001b[39;49m\u001b[38;5;124;43m]).sort_index()\u001b[39;49m\u001b[38;5;130;43;01m\\n\u001b[39;49;00m\u001b[38;5;124;43m\"\u001b[39;49m\u001b[43m)\u001b[49m\n",
      "File \u001b[1;32mD:\\Anaconda\\envs\\Python\\lib\\site-packages\\IPython\\core\\interactiveshell.py:2417\u001b[0m, in \u001b[0;36mInteractiveShell.run_cell_magic\u001b[1;34m(self, magic_name, line, cell)\u001b[0m\n\u001b[0;32m   2415\u001b[0m \u001b[38;5;28;01mwith\u001b[39;00m \u001b[38;5;28mself\u001b[39m\u001b[38;5;241m.\u001b[39mbuiltin_trap:\n\u001b[0;32m   2416\u001b[0m     args \u001b[38;5;241m=\u001b[39m (magic_arg_s, cell)\n\u001b[1;32m-> 2417\u001b[0m     result \u001b[38;5;241m=\u001b[39m fn(\u001b[38;5;241m*\u001b[39margs, \u001b[38;5;241m*\u001b[39m\u001b[38;5;241m*\u001b[39mkwargs)\n\u001b[0;32m   2418\u001b[0m \u001b[38;5;28;01mreturn\u001b[39;00m result\n",
      "File \u001b[1;32mD:\\Anaconda\\envs\\Python\\lib\\site-packages\\IPython\\core\\magics\\execution.py:1162\u001b[0m, in \u001b[0;36mExecutionMagics.timeit\u001b[1;34m(self, line, cell, local_ns)\u001b[0m\n\u001b[0;32m   1160\u001b[0m \u001b[38;5;28;01mfor\u001b[39;00m index \u001b[38;5;129;01min\u001b[39;00m \u001b[38;5;28mrange\u001b[39m(\u001b[38;5;241m0\u001b[39m, \u001b[38;5;241m10\u001b[39m):\n\u001b[0;32m   1161\u001b[0m     number \u001b[38;5;241m=\u001b[39m \u001b[38;5;241m10\u001b[39m \u001b[38;5;241m*\u001b[39m\u001b[38;5;241m*\u001b[39m index\n\u001b[1;32m-> 1162\u001b[0m     time_number \u001b[38;5;241m=\u001b[39m \u001b[43mtimer\u001b[49m\u001b[38;5;241;43m.\u001b[39;49m\u001b[43mtimeit\u001b[49m\u001b[43m(\u001b[49m\u001b[43mnumber\u001b[49m\u001b[43m)\u001b[49m\n\u001b[0;32m   1163\u001b[0m     \u001b[38;5;28;01mif\u001b[39;00m time_number \u001b[38;5;241m>\u001b[39m\u001b[38;5;241m=\u001b[39m \u001b[38;5;241m0.2\u001b[39m:\n\u001b[0;32m   1164\u001b[0m         \u001b[38;5;28;01mbreak\u001b[39;00m\n",
      "File \u001b[1;32mD:\\Anaconda\\envs\\Python\\lib\\site-packages\\IPython\\core\\magics\\execution.py:156\u001b[0m, in \u001b[0;36mTimer.timeit\u001b[1;34m(self, number)\u001b[0m\n\u001b[0;32m    154\u001b[0m gc\u001b[38;5;241m.\u001b[39mdisable()\n\u001b[0;32m    155\u001b[0m \u001b[38;5;28;01mtry\u001b[39;00m:\n\u001b[1;32m--> 156\u001b[0m     timing \u001b[38;5;241m=\u001b[39m \u001b[38;5;28;43mself\u001b[39;49m\u001b[38;5;241;43m.\u001b[39;49m\u001b[43minner\u001b[49m\u001b[43m(\u001b[49m\u001b[43mit\u001b[49m\u001b[43m,\u001b[49m\u001b[43m \u001b[49m\u001b[38;5;28;43mself\u001b[39;49m\u001b[38;5;241;43m.\u001b[39;49m\u001b[43mtimer\u001b[49m\u001b[43m)\u001b[49m\n\u001b[0;32m    157\u001b[0m \u001b[38;5;28;01mfinally\u001b[39;00m:\n\u001b[0;32m    158\u001b[0m     \u001b[38;5;28;01mif\u001b[39;00m gcold:\n",
      "File \u001b[1;32m<magic-timeit>:3\u001b[0m, in \u001b[0;36minner\u001b[1;34m(_it, _timer)\u001b[0m\n",
      "File \u001b[1;32m~\\AppData\\Roaming\\Python\\Python310\\site-packages\\pandas\\core\\frame.py:9555\u001b[0m, in \u001b[0;36mDataFrame.apply\u001b[1;34m(self, func, axis, raw, result_type, args, **kwargs)\u001b[0m\n\u001b[0;32m   9544\u001b[0m \u001b[38;5;28;01mfrom\u001b[39;00m \u001b[38;5;21;01mpandas\u001b[39;00m\u001b[38;5;21;01m.\u001b[39;00m\u001b[38;5;21;01mcore\u001b[39;00m\u001b[38;5;21;01m.\u001b[39;00m\u001b[38;5;21;01mapply\u001b[39;00m \u001b[38;5;28;01mimport\u001b[39;00m frame_apply\n\u001b[0;32m   9546\u001b[0m op \u001b[38;5;241m=\u001b[39m frame_apply(\n\u001b[0;32m   9547\u001b[0m     \u001b[38;5;28mself\u001b[39m,\n\u001b[0;32m   9548\u001b[0m     func\u001b[38;5;241m=\u001b[39mfunc,\n\u001b[1;32m   (...)\u001b[0m\n\u001b[0;32m   9553\u001b[0m     kwargs\u001b[38;5;241m=\u001b[39mkwargs,\n\u001b[0;32m   9554\u001b[0m )\n\u001b[1;32m-> 9555\u001b[0m \u001b[38;5;28;01mreturn\u001b[39;00m \u001b[43mop\u001b[49m\u001b[38;5;241;43m.\u001b[39;49m\u001b[43mapply\u001b[49m\u001b[43m(\u001b[49m\u001b[43m)\u001b[49m\u001b[38;5;241m.\u001b[39m__finalize__(\u001b[38;5;28mself\u001b[39m, method\u001b[38;5;241m=\u001b[39m\u001b[38;5;124m\"\u001b[39m\u001b[38;5;124mapply\u001b[39m\u001b[38;5;124m\"\u001b[39m)\n",
      "File \u001b[1;32m~\\AppData\\Roaming\\Python\\Python310\\site-packages\\pandas\\core\\apply.py:746\u001b[0m, in \u001b[0;36mFrameApply.apply\u001b[1;34m(self)\u001b[0m\n\u001b[0;32m    743\u001b[0m \u001b[38;5;28;01melif\u001b[39;00m \u001b[38;5;28mself\u001b[39m\u001b[38;5;241m.\u001b[39mraw:\n\u001b[0;32m    744\u001b[0m     \u001b[38;5;28;01mreturn\u001b[39;00m \u001b[38;5;28mself\u001b[39m\u001b[38;5;241m.\u001b[39mapply_raw()\n\u001b[1;32m--> 746\u001b[0m \u001b[38;5;28;01mreturn\u001b[39;00m \u001b[38;5;28;43mself\u001b[39;49m\u001b[38;5;241;43m.\u001b[39;49m\u001b[43mapply_standard\u001b[49m\u001b[43m(\u001b[49m\u001b[43m)\u001b[49m\n",
      "File \u001b[1;32m~\\AppData\\Roaming\\Python\\Python310\\site-packages\\pandas\\core\\apply.py:873\u001b[0m, in \u001b[0;36mFrameApply.apply_standard\u001b[1;34m(self)\u001b[0m\n\u001b[0;32m    872\u001b[0m \u001b[38;5;28;01mdef\u001b[39;00m \u001b[38;5;21mapply_standard\u001b[39m(\u001b[38;5;28mself\u001b[39m):\n\u001b[1;32m--> 873\u001b[0m     results, res_index \u001b[38;5;241m=\u001b[39m \u001b[38;5;28;43mself\u001b[39;49m\u001b[38;5;241;43m.\u001b[39;49m\u001b[43mapply_series_generator\u001b[49m\u001b[43m(\u001b[49m\u001b[43m)\u001b[49m\n\u001b[0;32m    875\u001b[0m     \u001b[38;5;66;03m# wrap results\u001b[39;00m\n\u001b[0;32m    876\u001b[0m     \u001b[38;5;28;01mreturn\u001b[39;00m \u001b[38;5;28mself\u001b[39m\u001b[38;5;241m.\u001b[39mwrap_results(results, res_index)\n",
      "File \u001b[1;32m~\\AppData\\Roaming\\Python\\Python310\\site-packages\\pandas\\core\\apply.py:889\u001b[0m, in \u001b[0;36mFrameApply.apply_series_generator\u001b[1;34m(self)\u001b[0m\n\u001b[0;32m    886\u001b[0m \u001b[38;5;28;01mwith\u001b[39;00m option_context(\u001b[38;5;124m\"\u001b[39m\u001b[38;5;124mmode.chained_assignment\u001b[39m\u001b[38;5;124m\"\u001b[39m, \u001b[38;5;28;01mNone\u001b[39;00m):\n\u001b[0;32m    887\u001b[0m     \u001b[38;5;28;01mfor\u001b[39;00m i, v \u001b[38;5;129;01min\u001b[39;00m \u001b[38;5;28menumerate\u001b[39m(series_gen):\n\u001b[0;32m    888\u001b[0m         \u001b[38;5;66;03m# ignore SettingWithCopy here in case the user mutates\u001b[39;00m\n\u001b[1;32m--> 889\u001b[0m         results[i] \u001b[38;5;241m=\u001b[39m \u001b[38;5;28;43mself\u001b[39;49m\u001b[38;5;241;43m.\u001b[39;49m\u001b[43mf\u001b[49m\u001b[43m(\u001b[49m\u001b[43mv\u001b[49m\u001b[43m)\u001b[49m\n\u001b[0;32m    890\u001b[0m         \u001b[38;5;28;01mif\u001b[39;00m \u001b[38;5;28misinstance\u001b[39m(results[i], ABCSeries):\n\u001b[0;32m    891\u001b[0m             \u001b[38;5;66;03m# If we have a view on v, we need to make a copy because\u001b[39;00m\n\u001b[0;32m    892\u001b[0m             \u001b[38;5;66;03m#  series_generator will swap out the underlying data\u001b[39;00m\n\u001b[0;32m    893\u001b[0m             results[i] \u001b[38;5;241m=\u001b[39m results[i]\u001b[38;5;241m.\u001b[39mcopy(deep\u001b[38;5;241m=\u001b[39m\u001b[38;5;28;01mFalse\u001b[39;00m)\n",
      "Cell \u001b[1;32mIn [8], line 7\u001b[0m, in \u001b[0;36mcnt\u001b[1;34m(row)\u001b[0m\n\u001b[0;32m      4\u001b[0m city \u001b[38;5;241m=\u001b[39m row[\u001b[38;5;124m'\u001b[39m\u001b[38;5;124mCity\u001b[39m\u001b[38;5;124m'\u001b[39m]\n\u001b[0;32m      6\u001b[0m \u001b[38;5;28;01mif\u001b[39;00m country \u001b[38;5;129;01min\u001b[39;00m dict_\u001b[38;5;241m.\u001b[39mkeys():\n\u001b[1;32m----> 7\u001b[0m     \u001b[38;5;28;01mif\u001b[39;00m \u001b[43mcity\u001b[49m\u001b[43m \u001b[49m\u001b[38;5;129;43;01mnot\u001b[39;49;00m\u001b[43m \u001b[49m\u001b[38;5;129;43;01min\u001b[39;49;00m\u001b[43m \u001b[49m\u001b[43mdict_\u001b[49m\u001b[43m[\u001b[49m\u001b[43mcountry\u001b[49m\u001b[43m]\u001b[49m:\n\u001b[0;32m      8\u001b[0m         dict_[country]\u001b[38;5;241m.\u001b[39mappend(city)\n\u001b[0;32m      9\u001b[0m \u001b[38;5;28;01melse\u001b[39;00m:\n",
      "\u001b[1;31mTypeError\u001b[0m: argument of type 'int' is not iterable"
     ]
    }
   ],
   "source": [
    "%%timeit\n",
    "\n",
    "dict_ = {}\n",
    "\n",
    "df[['Country', 'City']].apply(cnt, axis=1) \n",
    "\n",
    "for key in dict_.keys():\n",
    "    dict_[key] = len(dict_[key])\n",
    "    \n",
    "pd.DataFrame.from_dict(dict_, orient='index', columns=['City']).sort_index()"
   ]
  },
  {
   "cell_type": "markdown",
   "id": "d6fef84c",
   "metadata": {},
   "source": [
    "__Задание 2__. На основе данных из GlobalLandTemperaturesByMajorCity.csv создайте таблицу в БД SQLite. Продемонстрируйте работу функции pd.read_sql_query, выполнив SQL-запрос с группировкой"
   ]
  },
  {
   "cell_type": "code",
   "execution_count": 62,
   "id": "3f12099f",
   "metadata": {},
   "outputs": [],
   "source": [
    "df_tem_by_majorcity = pd.read_csv('GlobalLandTemperaturesByMajorCity.csv', encoding='UTF-8', parse_dates=['dt'])"
   ]
  },
  {
   "cell_type": "code",
   "execution_count": 64,
   "id": "0c7ffbd3",
   "metadata": {},
   "outputs": [
    {
     "data": {
      "text/html": [
       "<div>\n",
       "<style scoped>\n",
       "    .dataframe tbody tr th:only-of-type {\n",
       "        vertical-align: middle;\n",
       "    }\n",
       "\n",
       "    .dataframe tbody tr th {\n",
       "        vertical-align: top;\n",
       "    }\n",
       "\n",
       "    .dataframe thead th {\n",
       "        text-align: right;\n",
       "    }\n",
       "</style>\n",
       "<table border=\"1\" class=\"dataframe\">\n",
       "  <thead>\n",
       "    <tr style=\"text-align: right;\">\n",
       "      <th></th>\n",
       "      <th>dt</th>\n",
       "      <th>AverageTemperature</th>\n",
       "      <th>AverageTemperatureUncertainty</th>\n",
       "      <th>City</th>\n",
       "      <th>Country</th>\n",
       "      <th>Latitude</th>\n",
       "      <th>Longitude</th>\n",
       "    </tr>\n",
       "  </thead>\n",
       "  <tbody>\n",
       "    <tr>\n",
       "      <th>0</th>\n",
       "      <td>1849-01-01</td>\n",
       "      <td>26.704</td>\n",
       "      <td>1.435</td>\n",
       "      <td>Abidjan</td>\n",
       "      <td>Côte D'Ivoire</td>\n",
       "      <td>5.63N</td>\n",
       "      <td>3.23W</td>\n",
       "    </tr>\n",
       "    <tr>\n",
       "      <th>1</th>\n",
       "      <td>1849-02-01</td>\n",
       "      <td>27.434</td>\n",
       "      <td>1.362</td>\n",
       "      <td>Abidjan</td>\n",
       "      <td>Côte D'Ivoire</td>\n",
       "      <td>5.63N</td>\n",
       "      <td>3.23W</td>\n",
       "    </tr>\n",
       "  </tbody>\n",
       "</table>\n",
       "</div>"
      ],
      "text/plain": [
       "          dt  AverageTemperature  AverageTemperatureUncertainty     City  \\\n",
       "0 1849-01-01              26.704                          1.435  Abidjan   \n",
       "1 1849-02-01              27.434                          1.362  Abidjan   \n",
       "\n",
       "         Country Latitude Longitude  \n",
       "0  Côte D'Ivoire    5.63N     3.23W  \n",
       "1  Côte D'Ivoire    5.63N     3.23W  "
      ]
     },
     "execution_count": 64,
     "metadata": {},
     "output_type": "execute_result"
    }
   ],
   "source": [
    "df_tem_by_majorcity.head(2)"
   ]
  },
  {
   "cell_type": "code",
   "execution_count": 65,
   "id": "84b85a09",
   "metadata": {},
   "outputs": [
    {
     "name": "stdout",
     "output_type": "stream",
     "text": [
      "<class 'pandas.core.frame.DataFrame'>\n",
      "RangeIndex: 239177 entries, 0 to 239176\n",
      "Data columns (total 7 columns):\n",
      " #   Column                         Non-Null Count   Dtype         \n",
      "---  ------                         --------------   -----         \n",
      " 0   dt                             239177 non-null  datetime64[ns]\n",
      " 1   AverageTemperature             228175 non-null  float64       \n",
      " 2   AverageTemperatureUncertainty  228175 non-null  float64       \n",
      " 3   City                           239177 non-null  object        \n",
      " 4   Country                        239177 non-null  object        \n",
      " 5   Latitude                       239177 non-null  object        \n",
      " 6   Longitude                      239177 non-null  object        \n",
      "dtypes: datetime64[ns](1), float64(2), object(4)\n",
      "memory usage: 12.8+ MB\n"
     ]
    }
   ],
   "source": [
    "df_tem_by_majorcity.info()"
   ]
  },
  {
   "cell_type": "code",
   "execution_count": 66,
   "id": "d6f41b2c",
   "metadata": {},
   "outputs": [],
   "source": [
    "con = sqlite3.connect(\"dtz.sqlite\")"
   ]
  },
  {
   "cell_type": "code",
   "execution_count": 67,
   "id": "8da78b01",
   "metadata": {},
   "outputs": [],
   "source": [
    "cur = con.cursor()"
   ]
  },
  {
   "cell_type": "code",
   "execution_count": 71,
   "id": "f035831f",
   "metadata": {
    "scrolled": true
   },
   "outputs": [
    {
     "data": {
      "text/plain": [
       "239177"
      ]
     },
     "execution_count": 71,
     "metadata": {},
     "output_type": "execute_result"
    }
   ],
   "source": [
    "df_tem_by_majorcity.to_sql('Temp_majorcity', con=con, if_exists='append', index=False)"
   ]
  },
  {
   "cell_type": "code",
   "execution_count": 72,
   "id": "277db132",
   "metadata": {},
   "outputs": [
    {
     "name": "stdout",
     "output_type": "stream",
     "text": [
      "[('1849-01-01 00:00:00', 26.704, 1.435, 'Abidjan', \"Côte D'Ivoire\", '5.63N', '3.23W'), ('1849-02-01 00:00:00', 27.434, 1.362, 'Abidjan', \"Côte D'Ivoire\", '5.63N', '3.23W')]\n"
     ]
    }
   ],
   "source": [
    "cur.execute(\"SELECT * FROM Temp_majorcity;\")\n",
    "all_results = cur.fetchmany(2)\n",
    "print(all_results)"
   ]
  },
  {
   "cell_type": "code",
   "execution_count": 82,
   "id": "a6a61968",
   "metadata": {},
   "outputs": [
    {
     "data": {
      "text/html": [
       "<div>\n",
       "<style scoped>\n",
       "    .dataframe tbody tr th:only-of-type {\n",
       "        vertical-align: middle;\n",
       "    }\n",
       "\n",
       "    .dataframe tbody tr th {\n",
       "        vertical-align: top;\n",
       "    }\n",
       "\n",
       "    .dataframe thead th {\n",
       "        text-align: right;\n",
       "    }\n",
       "</style>\n",
       "<table border=\"1\" class=\"dataframe\">\n",
       "  <thead>\n",
       "    <tr style=\"text-align: right;\">\n",
       "      <th></th>\n",
       "      <th>Country</th>\n",
       "      <th>avg_temp</th>\n",
       "    </tr>\n",
       "  </thead>\n",
       "  <tbody>\n",
       "    <tr>\n",
       "      <th>0</th>\n",
       "      <td>Burma</td>\n",
       "      <td>26.735193</td>\n",
       "    </tr>\n",
       "    <tr>\n",
       "      <th>1</th>\n",
       "      <td>Côte D'Ivoire</td>\n",
       "      <td>26.163737</td>\n",
       "    </tr>\n",
       "    <tr>\n",
       "      <th>2</th>\n",
       "      <td>Indonesia</td>\n",
       "      <td>26.659057</td>\n",
       "    </tr>\n",
       "    <tr>\n",
       "      <th>3</th>\n",
       "      <td>Nigeria</td>\n",
       "      <td>26.361323</td>\n",
       "    </tr>\n",
       "    <tr>\n",
       "      <th>4</th>\n",
       "      <td>Philippines</td>\n",
       "      <td>26.448334</td>\n",
       "    </tr>\n",
       "    <tr>\n",
       "      <th>5</th>\n",
       "      <td>Saudi Arabia</td>\n",
       "      <td>26.427309</td>\n",
       "    </tr>\n",
       "    <tr>\n",
       "      <th>6</th>\n",
       "      <td>Singapore</td>\n",
       "      <td>26.523103</td>\n",
       "    </tr>\n",
       "    <tr>\n",
       "      <th>7</th>\n",
       "      <td>Somalia</td>\n",
       "      <td>27.151964</td>\n",
       "    </tr>\n",
       "    <tr>\n",
       "      <th>8</th>\n",
       "      <td>Sudan</td>\n",
       "      <td>29.081291</td>\n",
       "    </tr>\n",
       "    <tr>\n",
       "      <th>9</th>\n",
       "      <td>Thailand</td>\n",
       "      <td>27.164733</td>\n",
       "    </tr>\n",
       "    <tr>\n",
       "      <th>10</th>\n",
       "      <td>Vietnam</td>\n",
       "      <td>27.193984</td>\n",
       "    </tr>\n",
       "  </tbody>\n",
       "</table>\n",
       "</div>"
      ],
      "text/plain": [
       "          Country   avg_temp\n",
       "0           Burma  26.735193\n",
       "1   Côte D'Ivoire  26.163737\n",
       "2       Indonesia  26.659057\n",
       "3         Nigeria  26.361323\n",
       "4     Philippines  26.448334\n",
       "5    Saudi Arabia  26.427309\n",
       "6       Singapore  26.523103\n",
       "7         Somalia  27.151964\n",
       "8           Sudan  29.081291\n",
       "9        Thailand  27.164733\n",
       "10        Vietnam  27.193984"
      ]
     },
     "execution_count": 82,
     "metadata": {},
     "output_type": "execute_result"
    }
   ],
   "source": [
    "query = '''\n",
    "        SELECT Country, AVG(AverageTemperature) as avg_temp\n",
    "        FROM Temp_majorcity\n",
    "        GROUP BY Country\n",
    "        HAVING avg_temp > 26\n",
    "        '''\n",
    "pd.read_sql_query(query, con=con)"
   ]
  },
  {
   "cell_type": "markdown",
   "id": "590c6fe1",
   "metadata": {},
   "source": [
    "__Задание 3__. Используя multiprocessing.Pool, продемонстрируйте, как можно применить параллельные вычисления для нахождения века с максимальной температурой (GlobalLandTemperaturesByCity.csv)."
   ]
  },
  {
   "cell_type": "code",
   "execution_count": 2,
   "id": "58e2771b",
   "metadata": {},
   "outputs": [],
   "source": [
    "shape = 8599212\n",
    "K  = 8\n",
    "chunk = 8599212 // K"
   ]
  },
  {
   "cell_type": "code",
   "execution_count": 5,
   "id": "799db9ba",
   "metadata": {},
   "outputs": [
    {
     "name": "stdout",
     "output_type": "stream",
     "text": [
      "Overwriting max_temp_with_centure.py\n"
     ]
    }
   ],
   "source": [
    "%%file max_temp_with_centure.py\n",
    "\n",
    "def max_temp_with_centure(df):\n",
    "    max_temp = df.AverageTemperature.max()\n",
    "    year = df.loc[df.AverageTemperature.idxmax()]['dt'][:4]\n",
    "    if year[2:4] == '00':\n",
    "        centure = int(year[:2])\n",
    "    else:\n",
    "        centure = int(year[:2]) + 1\n",
    "               \n",
    "    return [centure, max_temp]"
   ]
  },
  {
   "cell_type": "code",
   "execution_count": 6,
   "id": "9fe3d018",
   "metadata": {},
   "outputs": [],
   "source": [
    "from max_temp_with_centure import max_temp_with_centure"
   ]
  },
  {
   "cell_type": "code",
   "execution_count": 7,
   "id": "179c8989",
   "metadata": {},
   "outputs": [
    {
     "data": {
      "text/plain": [
       "[[21, 39.15600000000001],\n",
       " [21, 38.049],\n",
       " [20, 36.889],\n",
       " [21, 38.531],\n",
       " [21, 39.15600000000001],\n",
       " [21, 37.859],\n",
       " [21, 37.938],\n",
       " [18, 39.651],\n",
       " [21, 18.775]]"
      ]
     },
     "execution_count": 7,
     "metadata": {},
     "output_type": "execute_result"
    }
   ],
   "source": [
    "with multiprocessing.Pool(processes=K) as pool:\n",
    "    res = pool.map(max_temp_with_centure, [df for df in pd.read_csv('GlobalLandTemperaturesByCity.csv', chunksize=chunk)])\n",
    "res"
   ]
  },
  {
   "cell_type": "code",
   "execution_count": 8,
   "id": "cb494b1f",
   "metadata": {},
   "outputs": [
    {
     "data": {
      "text/plain": [
       "[18, 39.651]"
      ]
     },
     "execution_count": 8,
     "metadata": {},
     "output_type": "execute_result"
    }
   ],
   "source": [
    "max(res, key=lambda x: x[1])"
   ]
  },
  {
   "cell_type": "markdown",
   "id": "33570590",
   "metadata": {},
   "source": [
    "__Задание 4__. Используя dask.array (GlobalLandTemperaturesByCity.csv), соберите статистику по столбцу AverageTemperature с учетом неопределенности из столбца AverageTemperatureUncertainty\n"
   ]
  },
  {
   "cell_type": "code",
   "execution_count": 11,
   "id": "6442f0e9",
   "metadata": {},
   "outputs": [
    {
     "data": {
      "text/html": [
       "<div>\n",
       "<style scoped>\n",
       "    .dataframe tbody tr th:only-of-type {\n",
       "        vertical-align: middle;\n",
       "    }\n",
       "\n",
       "    .dataframe tbody tr th {\n",
       "        vertical-align: top;\n",
       "    }\n",
       "\n",
       "    .dataframe thead th {\n",
       "        text-align: right;\n",
       "    }\n",
       "</style>\n",
       "<table border=\"1\" class=\"dataframe\">\n",
       "  <thead>\n",
       "    <tr style=\"text-align: right;\">\n",
       "      <th></th>\n",
       "      <th>dt</th>\n",
       "      <th>AverageTemperature</th>\n",
       "      <th>AverageTemperatureUncertainty</th>\n",
       "      <th>City</th>\n",
       "      <th>Country</th>\n",
       "      <th>Latitude</th>\n",
       "      <th>Longitude</th>\n",
       "    </tr>\n",
       "  </thead>\n",
       "  <tbody>\n",
       "    <tr>\n",
       "      <th>0</th>\n",
       "      <td>1743-11-01</td>\n",
       "      <td>6.068</td>\n",
       "      <td>1.737</td>\n",
       "      <td>Århus</td>\n",
       "      <td>Denmark</td>\n",
       "      <td>57.05N</td>\n",
       "      <td>10.33E</td>\n",
       "    </tr>\n",
       "    <tr>\n",
       "      <th>1</th>\n",
       "      <td>1743-12-01</td>\n",
       "      <td>NaN</td>\n",
       "      <td>NaN</td>\n",
       "      <td>Århus</td>\n",
       "      <td>Denmark</td>\n",
       "      <td>57.05N</td>\n",
       "      <td>10.33E</td>\n",
       "    </tr>\n",
       "    <tr>\n",
       "      <th>2</th>\n",
       "      <td>1744-01-01</td>\n",
       "      <td>NaN</td>\n",
       "      <td>NaN</td>\n",
       "      <td>Århus</td>\n",
       "      <td>Denmark</td>\n",
       "      <td>57.05N</td>\n",
       "      <td>10.33E</td>\n",
       "    </tr>\n",
       "    <tr>\n",
       "      <th>3</th>\n",
       "      <td>1744-02-01</td>\n",
       "      <td>NaN</td>\n",
       "      <td>NaN</td>\n",
       "      <td>Århus</td>\n",
       "      <td>Denmark</td>\n",
       "      <td>57.05N</td>\n",
       "      <td>10.33E</td>\n",
       "    </tr>\n",
       "    <tr>\n",
       "      <th>4</th>\n",
       "      <td>1744-03-01</td>\n",
       "      <td>NaN</td>\n",
       "      <td>NaN</td>\n",
       "      <td>Århus</td>\n",
       "      <td>Denmark</td>\n",
       "      <td>57.05N</td>\n",
       "      <td>10.33E</td>\n",
       "    </tr>\n",
       "  </tbody>\n",
       "</table>\n",
       "</div>"
      ],
      "text/plain": [
       "          dt  AverageTemperature  AverageTemperatureUncertainty   City  \\\n",
       "0 1743-11-01               6.068                          1.737  Århus   \n",
       "1 1743-12-01                 NaN                            NaN  Århus   \n",
       "2 1744-01-01                 NaN                            NaN  Århus   \n",
       "3 1744-02-01                 NaN                            NaN  Århus   \n",
       "4 1744-03-01                 NaN                            NaN  Århus   \n",
       "\n",
       "   Country Latitude Longitude  \n",
       "0  Denmark   57.05N    10.33E  \n",
       "1  Denmark   57.05N    10.33E  \n",
       "2  Denmark   57.05N    10.33E  \n",
       "3  Denmark   57.05N    10.33E  \n",
       "4  Denmark   57.05N    10.33E  "
      ]
     },
     "execution_count": 11,
     "metadata": {},
     "output_type": "execute_result"
    }
   ],
   "source": [
    "df_gl_by_city = pd.read_csv('GlobalLandTemperaturesByCity.csv', parse_dates = ['dt'])\n",
    "df_gl_by_city.head()"
   ]
  },
  {
   "cell_type": "code",
   "execution_count": 14,
   "id": "3988a68c",
   "metadata": {},
   "outputs": [
    {
     "data": {
      "text/html": [
       "<table>\n",
       "    <tr>\n",
       "        <td>\n",
       "            <table style=\"border-collapse: collapse;\">\n",
       "                <thead>\n",
       "                    <tr>\n",
       "                        <td> </td>\n",
       "                        <th> Array </th>\n",
       "                        <th> Chunk </th>\n",
       "                    </tr>\n",
       "                </thead>\n",
       "                <tbody>\n",
       "                    \n",
       "                    <tr>\n",
       "                        <th> Bytes </th>\n",
       "                        <td> 131.21 MiB </td>\n",
       "                        <td> 128.00 MiB </td>\n",
       "                    </tr>\n",
       "                    \n",
       "                    <tr>\n",
       "                        <th> Shape </th>\n",
       "                        <td> (8599212, 2) </td>\n",
       "                        <td> (8388608, 2) </td>\n",
       "                    </tr>\n",
       "                    <tr>\n",
       "                        <th> Dask graph </th>\n",
       "                        <td colspan=\"2\"> 2 chunks in 1 graph layer </td>\n",
       "                    </tr>\n",
       "                    <tr>\n",
       "                        <th> Data type </th>\n",
       "                        <td colspan=\"2\"> float64 numpy.ndarray </td>\n",
       "                    </tr>\n",
       "                </tbody>\n",
       "            </table>\n",
       "        </td>\n",
       "        <td>\n",
       "        <svg width=\"75\" height=\"170\" style=\"stroke:rgb(0,0,0);stroke-width:1\" >\n",
       "\n",
       "  <!-- Horizontal lines -->\n",
       "  <line x1=\"0\" y1=\"0\" x2=\"25\" y2=\"0\" style=\"stroke-width:2\" />\n",
       "  <line x1=\"0\" y1=\"117\" x2=\"25\" y2=\"117\" />\n",
       "  <line x1=\"0\" y1=\"120\" x2=\"25\" y2=\"120\" style=\"stroke-width:2\" />\n",
       "\n",
       "  <!-- Vertical lines -->\n",
       "  <line x1=\"0\" y1=\"0\" x2=\"0\" y2=\"120\" style=\"stroke-width:2\" />\n",
       "  <line x1=\"25\" y1=\"0\" x2=\"25\" y2=\"120\" style=\"stroke-width:2\" />\n",
       "\n",
       "  <!-- Colored Rectangle -->\n",
       "  <polygon points=\"0.0,0.0 25.412616514582485,0.0 25.412616514582485,120.0 0.0,120.0\" style=\"fill:#ECB172A0;stroke-width:0\"/>\n",
       "\n",
       "  <!-- Text -->\n",
       "  <text x=\"12.706308\" y=\"140.000000\" font-size=\"1.0rem\" font-weight=\"100\" text-anchor=\"middle\" >2</text>\n",
       "  <text x=\"45.412617\" y=\"60.000000\" font-size=\"1.0rem\" font-weight=\"100\" text-anchor=\"middle\" transform=\"rotate(-90,45.412617,60.000000)\">8599212</text>\n",
       "</svg>\n",
       "        </td>\n",
       "    </tr>\n",
       "</table>"
      ],
      "text/plain": [
       "dask.array<array, shape=(8599212, 2), dtype=float64, chunksize=(8388608, 2), chunktype=numpy.ndarray>"
      ]
     },
     "execution_count": 14,
     "metadata": {},
     "output_type": "execute_result"
    }
   ],
   "source": [
    "da_avg_temp = da.from_array(df_gl_by_city[['AverageTemperature', 'AverageTemperatureUncertainty']].values)\n",
    "da_avg_temp"
   ]
  },
  {
   "cell_type": "code",
   "execution_count": 17,
   "id": "5fefdb1a",
   "metadata": {},
   "outputs": [
    {
     "data": {
      "text/plain": [
       "array([6.068,   nan,   nan,   nan,   nan])"
      ]
     },
     "execution_count": 17,
     "metadata": {},
     "output_type": "execute_result"
    }
   ],
   "source": [
    "da_avg_temp[:5, 0].compute()"
   ]
  },
  {
   "cell_type": "code",
   "execution_count": 23,
   "id": "6f2a943b",
   "metadata": {},
   "outputs": [
    {
     "data": {
      "text/plain": [
       "array([ 6.068,    nan,    nan, ..., 18.775, 18.025,    nan])"
      ]
     },
     "execution_count": 23,
     "metadata": {},
     "output_type": "execute_result"
    }
   ],
   "source": [
    "da_avg_temp[:, 0].compute()"
   ]
  },
  {
   "cell_type": "code",
   "execution_count": 34,
   "id": "21391451",
   "metadata": {},
   "outputs": [
    {
     "data": {
      "text/plain": [
       "'2022.12.0'"
      ]
     },
     "execution_count": 34,
     "metadata": {},
     "output_type": "execute_result"
    }
   ],
   "source": [
    "import dask\n",
    "dask.__version__"
   ]
  },
  {
   "cell_type": "code",
   "execution_count": 59,
   "id": "5c61d987",
   "metadata": {},
   "outputs": [],
   "source": [
    "res_of_conf_interval = da_avg_temp[(-da_avg_temp[:, 1] < da_avg_temp[:, 0]) & ( da_avg_temp[:, 0] < da_avg_temp[:, 1])][:, 0]"
   ]
  },
  {
   "cell_type": "code",
   "execution_count": 62,
   "id": "bf02bb53",
   "metadata": {},
   "outputs": [],
   "source": [
    "mean = res_of_conf_interval.mean()\n",
    "max_ = res_of_conf_interval.max()\n",
    "min_ = res_of_conf_interval.min()\n",
    "std = res_of_conf_interval.std()"
   ]
  },
  {
   "cell_type": "code",
   "execution_count": 63,
   "id": "bf191326",
   "metadata": {},
   "outputs": [
    {
     "data": {
      "text/plain": [
       "(1.88870670810785, 15.396, -11.636, 2.725413768849465)"
      ]
     },
     "execution_count": 63,
     "metadata": {},
     "output_type": "execute_result"
    }
   ],
   "source": [
    "da.compute(mean, max_, min_, std)"
   ]
  },
  {
   "cell_type": "markdown",
   "id": "796a179d",
   "metadata": {},
   "source": [
    "__Задание 5__. Используя dask.bag, найдите максимальное значение средней температуры на каждый год (GlobalLandTemperaturesByCity.csv) при помощи foldby"
   ]
  },
  {
   "cell_type": "code",
   "execution_count": 67,
   "id": "3d3c2479",
   "metadata": {},
   "outputs": [],
   "source": [
    "df_gl_temp = pd.read_csv('GlobalLandTemperaturesByCity.csv')"
   ]
  },
  {
   "cell_type": "code",
   "execution_count": 65,
   "id": "58488c19",
   "metadata": {},
   "outputs": [
    {
     "data": {
      "text/plain": [
       "('dt,AverageTemperature,AverageTemperatureUncertainty,City,Country,Latitude,Longitude\\n',\n",
       " '1743-11-01,6.068,1.7369999999999999,Århus,Denmark,57.05N,10.33E\\n',\n",
       " '1743-12-01,,,Århus,Denmark,57.05N,10.33E\\n',\n",
       " '1744-01-01,,,Århus,Denmark,57.05N,10.33E\\n',\n",
       " '1744-02-01,,,Århus,Denmark,57.05N,10.33E\\n')"
      ]
     },
     "execution_count": 65,
     "metadata": {},
     "output_type": "execute_result"
    }
   ],
   "source": [
    "db.read_text('GlobalLandTemperaturesByCity.csv').take(5)"
   ]
  },
  {
   "cell_type": "code",
   "execution_count": 122,
   "id": "4325c4fc",
   "metadata": {},
   "outputs": [],
   "source": [
    "df1 = df_gl_temp[['dt', 'AverageTemperature']].dropna().to_dict(orient='records')"
   ]
  },
  {
   "cell_type": "code",
   "execution_count": 123,
   "id": "bb65f39b",
   "metadata": {},
   "outputs": [],
   "source": [
    "with open('GlobalLandTemperaturesByCity.json', 'w') as outfile:\n",
    "    for row in df1:\n",
    "        outfile.write(str(row).replace(\"'\", '\"') + '\\n')"
   ]
  },
  {
   "cell_type": "code",
   "execution_count": 124,
   "id": "d6e982f4",
   "metadata": {},
   "outputs": [
    {
     "data": {
      "text/plain": [
       "({'dt': '1743-11-01', 'AverageTemperature': 6.068},\n",
       " {'dt': '1744-04-01', 'AverageTemperature': 5.787999999999999},\n",
       " {'dt': '1744-05-01', 'AverageTemperature': 10.644},\n",
       " {'dt': '1744-06-01', 'AverageTemperature': 14.050999999999998},\n",
       " {'dt': '1744-07-01', 'AverageTemperature': 16.082})"
      ]
     },
     "execution_count": 124,
     "metadata": {},
     "output_type": "execute_result"
    }
   ],
   "source": [
    "bag = db.read_text('GlobalLandTemperaturesByCity.json').map(json.loads)"
   ]
  },
  {
   "cell_type": "code",
   "execution_count": 125,
   "id": "362bc803",
   "metadata": {},
   "outputs": [
    {
     "data": {
      "text/plain": [
       "[('1743', {'dt': '1743-11-01', 'AverageTemperature': 18.722}),\n",
       " ('1744', {'dt': '1744-07-01', 'AverageTemperature': 27.496}),\n",
       " ('1745', {'dt': '1745-04-01', 'AverageTemperature': 21.63}),\n",
       " ('1750', {'dt': '1750-07-01', 'AverageTemperature': 29.613000000000003}),\n",
       " ('1751', {'dt': '1751-07-01', 'AverageTemperature': 28.611}),\n",
       " ('1752', {'dt': '1752-10-01', 'AverageTemperature': 22.244}),\n",
       " ('1753', {'dt': '1753-07-01', 'AverageTemperature': 36.397}),\n",
       " ('1754', {'dt': '1754-07-01', 'AverageTemperature': 35.626}),\n",
       " ('1755', {'dt': '1755-07-01', 'AverageTemperature': 35.36799999999999}),\n",
       " ('1756', {'dt': '1756-07-01', 'AverageTemperature': 34.864000000000004}),\n",
       " ('1757', {'dt': '1757-07-01', 'AverageTemperature': 38.414}),\n",
       " ('1758', {'dt': '1758-07-01', 'AverageTemperature': 34.392}),\n",
       " ('1759', {'dt': '1759-08-01', 'AverageTemperature': 34.898}),\n",
       " ('1760', {'dt': '1760-08-01', 'AverageTemperature': 34.431999999999995}),\n",
       " ('1761', {'dt': '1761-07-01', 'AverageTemperature': 39.651}),\n",
       " ('1762', {'dt': '1762-07-01', 'AverageTemperature': 36.617}),\n",
       " ('1763', {'dt': '1763-07-01', 'AverageTemperature': 36.812}),\n",
       " ('1764', {'dt': '1764-07-01', 'AverageTemperature': 33.326}),\n",
       " ('1765', {'dt': '1765-07-01', 'AverageTemperature': 33.944}),\n",
       " ('1766', {'dt': '1766-08-01', 'AverageTemperature': 34.991}),\n",
       " ('1767', {'dt': '1767-07-01', 'AverageTemperature': 35.103}),\n",
       " ('1768', {'dt': '1768-07-01', 'AverageTemperature': 34.992}),\n",
       " ('1769', {'dt': '1769-07-01', 'AverageTemperature': 35.29}),\n",
       " ('1770', {'dt': '1770-08-01', 'AverageTemperature': 32.982}),\n",
       " ('1771', {'dt': '1771-08-01', 'AverageTemperature': 35.774}),\n",
       " ('1772', {'dt': '1772-07-01', 'AverageTemperature': 35.914}),\n",
       " ('1773', {'dt': '1773-07-01', 'AverageTemperature': 34.611}),\n",
       " ('1774', {'dt': '1774-07-01', 'AverageTemperature': 37.074}),\n",
       " ('1775', {'dt': '1775-07-01', 'AverageTemperature': 35.526}),\n",
       " ('1776', {'dt': '1776-08-01', 'AverageTemperature': 35.408}),\n",
       " ('1777', {'dt': '1777-08-01', 'AverageTemperature': 33.781}),\n",
       " ('1778', {'dt': '1778-07-01', 'AverageTemperature': 35.822}),\n",
       " ('1779', {'dt': '1779-07-01', 'AverageTemperature': 34.15}),\n",
       " ('1780', {'dt': '1780-07-01', 'AverageTemperature': 36.591}),\n",
       " ('1781', {'dt': '1781-07-01', 'AverageTemperature': 35.641}),\n",
       " ('1782', {'dt': '1782-08-01', 'AverageTemperature': 36.481}),\n",
       " ('1783', {'dt': '1783-07-01', 'AverageTemperature': 34.317}),\n",
       " ('1784', {'dt': '1784-07-01', 'AverageTemperature': 36.445}),\n",
       " ('1785', {'dt': '1785-07-01', 'AverageTemperature': 35.599000000000004}),\n",
       " ('1786', {'dt': '1786-07-01', 'AverageTemperature': 36.065}),\n",
       " ('1787', {'dt': '1787-08-01', 'AverageTemperature': 34.686}),\n",
       " ('1788', {'dt': '1788-07-01', 'AverageTemperature': 37.745}),\n",
       " ('1789', {'dt': '1789-07-01', 'AverageTemperature': 35.174}),\n",
       " ('1790', {'dt': '1790-08-01', 'AverageTemperature': 34.96}),\n",
       " ('1791', {'dt': '1791-08-01', 'AverageTemperature': 34.831}),\n",
       " ('1792', {'dt': '1792-07-01', 'AverageTemperature': 34.753}),\n",
       " ('1793', {'dt': '1793-07-01', 'AverageTemperature': 35.059999999999995}),\n",
       " ('1794', {'dt': '1794-08-01', 'AverageTemperature': 33.924}),\n",
       " ('1795', {'dt': '1795-07-01', 'AverageTemperature': 35.085}),\n",
       " ('1796', {'dt': '1796-06-01', 'AverageTemperature': 35.777}),\n",
       " ('1797', {'dt': '1797-06-01', 'AverageTemperature': 35.88800000000001}),\n",
       " ('1798', {'dt': '1798-07-01', 'AverageTemperature': 35.952}),\n",
       " ('1799', {'dt': '1799-06-01', 'AverageTemperature': 36.06800000000001}),\n",
       " ('1800', {'dt': '1800-07-01', 'AverageTemperature': 35.651}),\n",
       " ('1801', {'dt': '1801-07-01', 'AverageTemperature': 35.969}),\n",
       " ('1802', {'dt': '1802-06-01', 'AverageTemperature': 36.51300000000001}),\n",
       " ('1803', {'dt': '1803-07-01', 'AverageTemperature': 35.753}),\n",
       " ('1804', {'dt': '1804-07-01', 'AverageTemperature': 36.574}),\n",
       " ('1805', {'dt': '1805-06-01', 'AverageTemperature': 36.01300000000001}),\n",
       " ('1806', {'dt': '1806-07-01', 'AverageTemperature': 35.495}),\n",
       " ('1807', {'dt': '1807-06-01', 'AverageTemperature': 35.48800000000001}),\n",
       " ('1808', {'dt': '1808-07-01', 'AverageTemperature': 35.944}),\n",
       " ('1809', {'dt': '1809-07-01', 'AverageTemperature': 34.233999999999995}),\n",
       " ('1810', {'dt': '1810-08-01', 'AverageTemperature': 33.052}),\n",
       " ('1811', {'dt': '1811-07-01', 'AverageTemperature': 33.542}),\n",
       " ('1812', {'dt': '1812-08-01', 'AverageTemperature': 34.586}),\n",
       " ('1813', {'dt': '1813-05-01', 'AverageTemperature': 35.741}),\n",
       " ('1814', {'dt': '1814-06-01', 'AverageTemperature': 34.979000000000006}),\n",
       " ('1815', {'dt': '1815-07-01', 'AverageTemperature': 34.555}),\n",
       " ('1816', {'dt': '1816-06-01', 'AverageTemperature': 34.829}),\n",
       " ('1817', {'dt': '1817-06-01', 'AverageTemperature': 34.120999999999995}),\n",
       " ('1818', {'dt': '1818-06-01', 'AverageTemperature': 36.693000000000005}),\n",
       " ('1819', {'dt': '1819-06-01', 'AverageTemperature': 35.33}),\n",
       " ('1820', {'dt': '1820-06-01', 'AverageTemperature': 35.822}),\n",
       " ('1821', {'dt': '1821-06-01', 'AverageTemperature': 35.457}),\n",
       " ('1822', {'dt': '1822-06-01', 'AverageTemperature': 35.751}),\n",
       " ('1823', {'dt': '1823-06-01', 'AverageTemperature': 36.695}),\n",
       " ('1824', {'dt': '1824-07-01', 'AverageTemperature': 35.49599999999999}),\n",
       " ('1825', {'dt': '1825-06-01', 'AverageTemperature': 35.45200000000001}),\n",
       " ('1826', {'dt': '1826-05-01', 'AverageTemperature': 35.638000000000005}),\n",
       " ('1827', {'dt': '1827-07-01', 'AverageTemperature': 35.792}),\n",
       " ('1828', {'dt': '1828-06-01', 'AverageTemperature': 35.871}),\n",
       " ('1829', {'dt': '1829-07-01', 'AverageTemperature': 35.47}),\n",
       " ('1830', {'dt': '1830-07-01', 'AverageTemperature': 36.639}),\n",
       " ('1831', {'dt': '1831-06-01', 'AverageTemperature': 35.188}),\n",
       " ('1832', {'dt': '1832-07-01', 'AverageTemperature': 35.973}),\n",
       " ('1833', {'dt': '1833-06-01', 'AverageTemperature': 35.913000000000004}),\n",
       " ('1834', {'dt': '1834-06-01', 'AverageTemperature': 35.462}),\n",
       " ('1835', {'dt': '1835-06-01', 'AverageTemperature': 34.741}),\n",
       " ('1836', {'dt': '1836-07-01', 'AverageTemperature': 36.088}),\n",
       " ('1837', {'dt': '1837-07-01', 'AverageTemperature': 35.70200000000001}),\n",
       " ('1838', {'dt': '1838-07-01', 'AverageTemperature': 36.173}),\n",
       " ('1839', {'dt': '1839-07-01', 'AverageTemperature': 36.55}),\n",
       " ('1840', {'dt': '1840-07-01', 'AverageTemperature': 37.982000000000006}),\n",
       " ('1841', {'dt': '1841-07-01', 'AverageTemperature': 37.07700000000001}),\n",
       " ('1842', {'dt': '1842-07-01', 'AverageTemperature': 36.13}),\n",
       " ('1843', {'dt': '1843-07-01', 'AverageTemperature': 36.317}),\n",
       " ('1844', {'dt': '1844-07-01', 'AverageTemperature': 36.785}),\n",
       " ('1845', {'dt': '1845-07-01', 'AverageTemperature': 36.306}),\n",
       " ('1846', {'dt': '1846-07-01', 'AverageTemperature': 36.811}),\n",
       " ('1847', {'dt': '1847-07-01', 'AverageTemperature': 37.57100000000001}),\n",
       " ('1848', {'dt': '1848-07-01', 'AverageTemperature': 36.483}),\n",
       " ('1849', {'dt': '1849-07-01', 'AverageTemperature': 36.338}),\n",
       " ('1850', {'dt': '1850-07-01', 'AverageTemperature': 36.96100000000001}),\n",
       " ('1851', {'dt': '1851-07-01', 'AverageTemperature': 36.746}),\n",
       " ('1852', {'dt': '1852-07-01', 'AverageTemperature': 36.527}),\n",
       " ('1853', {'dt': '1853-07-01', 'AverageTemperature': 36.57}),\n",
       " ('1854', {'dt': '1854-07-01', 'AverageTemperature': 35.578}),\n",
       " ('1855', {'dt': '1855-07-01', 'AverageTemperature': 36.277}),\n",
       " ('1856', {'dt': '1856-07-01', 'AverageTemperature': 36.622}),\n",
       " ('1857', {'dt': '1857-07-01', 'AverageTemperature': 35.81200000000001}),\n",
       " ('1858', {'dt': '1858-07-01', 'AverageTemperature': 36.86900000000001}),\n",
       " ('1859', {'dt': '1859-07-01', 'AverageTemperature': 36.051}),\n",
       " ('1860', {'dt': '1860-07-01', 'AverageTemperature': 37.624}),\n",
       " ('1861', {'dt': '1861-07-01', 'AverageTemperature': 36.41}),\n",
       " ('1862', {'dt': '1862-07-01', 'AverageTemperature': 36.36300000000001}),\n",
       " ('1863', {'dt': '1863-07-01', 'AverageTemperature': 36.67}),\n",
       " ('1864', {'dt': '1864-07-01', 'AverageTemperature': 36.259}),\n",
       " ('1865', {'dt': '1865-07-01', 'AverageTemperature': 36.32100000000001}),\n",
       " ('1866', {'dt': '1866-07-01', 'AverageTemperature': 36.608}),\n",
       " ('1867', {'dt': '1867-07-01', 'AverageTemperature': 35.79600000000001}),\n",
       " ('1868', {'dt': '1868-07-01', 'AverageTemperature': 36.688}),\n",
       " ('1869', {'dt': '1869-08-01', 'AverageTemperature': 36.63500000000001}),\n",
       " ('1870', {'dt': '1870-06-01', 'AverageTemperature': 36.427}),\n",
       " ('1871', {'dt': '1871-06-01', 'AverageTemperature': 35.91099999999999}),\n",
       " ('1872', {'dt': '1872-07-01', 'AverageTemperature': 36.661}),\n",
       " ('1873', {'dt': '1873-06-01', 'AverageTemperature': 36.111}),\n",
       " ('1874', {'dt': '1874-06-01', 'AverageTemperature': 36.00199999999999}),\n",
       " ('1875', {'dt': '1875-06-01', 'AverageTemperature': 37.498000000000005}),\n",
       " ('1876', {'dt': '1876-07-01', 'AverageTemperature': 36.45200000000001}),\n",
       " ('1877', {'dt': '1877-07-01', 'AverageTemperature': 36.878}),\n",
       " ('1878', {'dt': '1878-07-01', 'AverageTemperature': 37.78100000000001}),\n",
       " ('1879', {'dt': '1879-07-01', 'AverageTemperature': 36.911}),\n",
       " ('1880', {'dt': '1880-07-01', 'AverageTemperature': 36.064}),\n",
       " ('1881', {'dt': '1881-07-01', 'AverageTemperature': 36.48800000000001}),\n",
       " ('1882', {'dt': '1882-08-01', 'AverageTemperature': 36.329}),\n",
       " ('1883', {'dt': '1883-07-01', 'AverageTemperature': 36.89100000000001}),\n",
       " ('1884', {'dt': '1884-06-01', 'AverageTemperature': 35.781}),\n",
       " ('1885', {'dt': '1885-07-01', 'AverageTemperature': 36.435}),\n",
       " ('1886', {'dt': '1886-07-01', 'AverageTemperature': 36.74400000000001}),\n",
       " ('1887', {'dt': '1887-06-01', 'AverageTemperature': 36.043}),\n",
       " ('1888', {'dt': '1888-07-01', 'AverageTemperature': 36.117}),\n",
       " ('1889', {'dt': '1889-06-01', 'AverageTemperature': 36.819}),\n",
       " ('1890', {'dt': '1890-06-01', 'AverageTemperature': 36.477}),\n",
       " ('1891', {'dt': '1891-07-01', 'AverageTemperature': 36.189}),\n",
       " ('1892', {'dt': '1892-07-01', 'AverageTemperature': 36.338}),\n",
       " ('1893', {'dt': '1893-07-01', 'AverageTemperature': 36.228}),\n",
       " ('1894', {'dt': '1894-06-01', 'AverageTemperature': 35.885}),\n",
       " ('1895', {'dt': '1895-06-01', 'AverageTemperature': 36.322}),\n",
       " ('1896', {'dt': '1896-06-01', 'AverageTemperature': 36.953}),\n",
       " ('1897', {'dt': '1897-06-01', 'AverageTemperature': 36.302}),\n",
       " ('1898', {'dt': '1898-06-01', 'AverageTemperature': 36.89}),\n",
       " ('1899', {'dt': '1899-07-01', 'AverageTemperature': 37.261}),\n",
       " ('1900', {'dt': '1900-06-01', 'AverageTemperature': 37.004}),\n",
       " ('1901', {'dt': '1901-07-01', 'AverageTemperature': 37.201}),\n",
       " ('1902', {'dt': '1902-08-01', 'AverageTemperature': 36.825}),\n",
       " ('1903', {'dt': '1903-08-01', 'AverageTemperature': 37.328}),\n",
       " ('1904', {'dt': '1904-07-01', 'AverageTemperature': 36.51900000000001}),\n",
       " ('1905', {'dt': '1905-05-01', 'AverageTemperature': 36.565}),\n",
       " ('1906', {'dt': '1906-05-01', 'AverageTemperature': 36.761}),\n",
       " ('1907', {'dt': '1907-07-01', 'AverageTemperature': 36.151}),\n",
       " ('1908', {'dt': '1908-07-01', 'AverageTemperature': 36.473000000000006}),\n",
       " ('1909', {'dt': '1909-07-01', 'AverageTemperature': 36.71400000000001}),\n",
       " ('1910', {'dt': '1910-07-01', 'AverageTemperature': 36.884}),\n",
       " ('1911', {'dt': '1911-06-01', 'AverageTemperature': 36.589}),\n",
       " ('1912', {'dt': '1912-06-01', 'AverageTemperature': 36.898}),\n",
       " ('1913', {'dt': '1913-06-01', 'AverageTemperature': 36.526}),\n",
       " ('1914', {'dt': '1914-06-01', 'AverageTemperature': 36.711}),\n",
       " ('1915', {'dt': '1915-06-01', 'AverageTemperature': 37.389}),\n",
       " ('1916', {'dt': '1916-07-01', 'AverageTemperature': 36.313}),\n",
       " ('1917', {'dt': '1917-07-01', 'AverageTemperature': 37.90300000000001}),\n",
       " ('1918', {'dt': '1918-07-01', 'AverageTemperature': 36.195}),\n",
       " ('1919', {'dt': '1919-06-01', 'AverageTemperature': 37.372}),\n",
       " ('1920', {'dt': '1920-07-01', 'AverageTemperature': 35.98000000000001}),\n",
       " ('1921', {'dt': '1921-07-01', 'AverageTemperature': 38.38200000000001}),\n",
       " ('1922', {'dt': '1922-07-01', 'AverageTemperature': 37.226000000000006}),\n",
       " ('1923', {'dt': '1923-06-01', 'AverageTemperature': 36.726}),\n",
       " ('1924', {'dt': '1924-07-01', 'AverageTemperature': 37.021}),\n",
       " ('1925', {'dt': '1925-06-01', 'AverageTemperature': 36.392}),\n",
       " ('1926', {'dt': '1926-06-01', 'AverageTemperature': 36.511}),\n",
       " ('1927', {'dt': '1927-07-01', 'AverageTemperature': 36.704}),\n",
       " ('1928', {'dt': '1928-07-01', 'AverageTemperature': 36.737}),\n",
       " ('1929', {'dt': '1929-06-01', 'AverageTemperature': 36.748000000000005}),\n",
       " ('1930', {'dt': '1930-08-01', 'AverageTemperature': 36.532}),\n",
       " ('1931', {'dt': '1931-07-01', 'AverageTemperature': 37.201}),\n",
       " ('1932', {'dt': '1932-06-01', 'AverageTemperature': 36.034}),\n",
       " ('1933', {'dt': '1933-06-01', 'AverageTemperature': 36.472}),\n",
       " ('1934', {'dt': '1934-06-01', 'AverageTemperature': 36.185}),\n",
       " ('1935', {'dt': '1935-08-01', 'AverageTemperature': 36.70200000000001}),\n",
       " ('1936', {'dt': '1936-08-01', 'AverageTemperature': 36.984}),\n",
       " ('1937', {'dt': '1937-07-01', 'AverageTemperature': 37.204}),\n",
       " ('1938', {'dt': '1938-07-01', 'AverageTemperature': 37.596}),\n",
       " ('1939', {'dt': '1939-06-01', 'AverageTemperature': 36.136}),\n",
       " ('1940', {'dt': '1940-08-01', 'AverageTemperature': 36.582}),\n",
       " ('1941', {'dt': '1941-06-01', 'AverageTemperature': 36.83}),\n",
       " ('1942', {'dt': '1942-06-01', 'AverageTemperature': 36.532}),\n",
       " ('1943', {'dt': '1943-08-01', 'AverageTemperature': 36.756}),\n",
       " ('1944', {'dt': '1944-07-01', 'AverageTemperature': 36.86900000000001}),\n",
       " ('1945', {'dt': '1945-07-01', 'AverageTemperature': 36.538}),\n",
       " ('1946', {'dt': '1946-06-01', 'AverageTemperature': 37.34}),\n",
       " ('1947', {'dt': '1947-07-01', 'AverageTemperature': 37.22000000000001}),\n",
       " ('1948', {'dt': '1948-07-01', 'AverageTemperature': 36.90300000000001}),\n",
       " ('1949', {'dt': '1949-05-01', 'AverageTemperature': 36.809}),\n",
       " ('1950', {'dt': '1950-07-01', 'AverageTemperature': 36.32700000000001}),\n",
       " ('1951', {'dt': '1951-07-01', 'AverageTemperature': 36.973000000000006}),\n",
       " ('1952', {'dt': '1952-06-01', 'AverageTemperature': 36.998000000000005}),\n",
       " ('1953', {'dt': '1953-06-01', 'AverageTemperature': 36.788}),\n",
       " ('1954', {'dt': '1954-06-01', 'AverageTemperature': 36.89}),\n",
       " ('1955', {'dt': '1955-07-01', 'AverageTemperature': 36.834}),\n",
       " ('1956', {'dt': '1956-05-01', 'AverageTemperature': 36.444}),\n",
       " ('1957', {'dt': '1957-07-01', 'AverageTemperature': 36.152}),\n",
       " ('1958', {'dt': '1958-06-01', 'AverageTemperature': 36.743}),\n",
       " ('1959', {'dt': '1959-06-01', 'AverageTemperature': 36.605}),\n",
       " ('1960', {'dt': '1960-07-01', 'AverageTemperature': 37.032}),\n",
       " ('1961', {'dt': '1961-07-01', 'AverageTemperature': 37.159000000000006}),\n",
       " ('1962', {'dt': '1962-07-01', 'AverageTemperature': 37.36900000000001}),\n",
       " ('1963', {'dt': '1963-07-01', 'AverageTemperature': 37.114}),\n",
       " ('1964', {'dt': '1964-07-01', 'AverageTemperature': 36.777}),\n",
       " ('1965', {'dt': '1965-08-01', 'AverageTemperature': 36.678}),\n",
       " ('1966', {'dt': '1966-08-01', 'AverageTemperature': 36.285}),\n",
       " ('1967', {'dt': '1967-07-01', 'AverageTemperature': 36.74}),\n",
       " ('1968', {'dt': '1968-06-01', 'AverageTemperature': 36.783}),\n",
       " ('1969', {'dt': '1969-06-01', 'AverageTemperature': 36.7}),\n",
       " ('1970', {'dt': '1970-06-01', 'AverageTemperature': 36.572}),\n",
       " ('1971', {'dt': '1971-06-01', 'AverageTemperature': 36.54}),\n",
       " ('1972', {'dt': '1972-06-01', 'AverageTemperature': 36.699}),\n",
       " ('1973', {'dt': '1973-06-01', 'AverageTemperature': 37.329}),\n",
       " ('1974', {'dt': '1974-07-01', 'AverageTemperature': 36.16}),\n",
       " ('1975', {'dt': '1975-07-01', 'AverageTemperature': 37.118}),\n",
       " ('1976', {'dt': '1976-07-01', 'AverageTemperature': 35.99200000000001}),\n",
       " ('1977', {'dt': '1977-07-01', 'AverageTemperature': 36.93000000000001}),\n",
       " ('1978', {'dt': '1978-06-01', 'AverageTemperature': 36.862}),\n",
       " ('1979', {'dt': '1979-06-01', 'AverageTemperature': 37.345}),\n",
       " ('1980', {'dt': '1980-07-01', 'AverageTemperature': 37.823}),\n",
       " ('1981', {'dt': '1981-06-01', 'AverageTemperature': 36.916}),\n",
       " ('1982', {'dt': '1982-06-01', 'AverageTemperature': 36.419}),\n",
       " ('1983', {'dt': '1983-07-01', 'AverageTemperature': 37.49500000000001}),\n",
       " ('1984', {'dt': '1984-07-01', 'AverageTemperature': 37.131}),\n",
       " ('1985', {'dt': '1985-07-01', 'AverageTemperature': 36.797}),\n",
       " ('1986', {'dt': '1986-07-01', 'AverageTemperature': 37.50700000000001}),\n",
       " ('1987', {'dt': '1987-07-01', 'AverageTemperature': 37.142}),\n",
       " ('1988', {'dt': '1988-06-01', 'AverageTemperature': 37.235}),\n",
       " ('1989', {'dt': '1989-07-01', 'AverageTemperature': 38.08600000000001}),\n",
       " ('1990', {'dt': '1990-07-01', 'AverageTemperature': 38.103}),\n",
       " ('1991', {'dt': '1991-06-01', 'AverageTemperature': 37.187}),\n",
       " ('1992', {'dt': '1992-06-01', 'AverageTemperature': 37.569}),\n",
       " ('1993', {'dt': '1993-07-01', 'AverageTemperature': 37.176}),\n",
       " ('1994', {'dt': '1994-06-01', 'AverageTemperature': 37.39}),\n",
       " ('1995', {'dt': '1995-06-01', 'AverageTemperature': 37.52200000000001}),\n",
       " ('1996', {'dt': '1996-07-01', 'AverageTemperature': 38.43700000000001}),\n",
       " ('1997', {'dt': '1997-07-01', 'AverageTemperature': 37.21100000000001}),\n",
       " ('1998', {'dt': '1998-08-01', 'AverageTemperature': 38.537000000000006}),\n",
       " ('1999', {'dt': '1999-08-01', 'AverageTemperature': 38.389}),\n",
       " ('2000', {'dt': '2000-07-01', 'AverageTemperature': 38.899}),\n",
       " ('2001', {'dt': '2001-07-01', 'AverageTemperature': 38.63}),\n",
       " ('2002', {'dt': '2002-07-01', 'AverageTemperature': 38.274}),\n",
       " ('2003', {'dt': '2003-07-01', 'AverageTemperature': 38.38}),\n",
       " ('2004', {'dt': '2004-07-01', 'AverageTemperature': 37.826}),\n",
       " ('2005', {'dt': '2005-07-01', 'AverageTemperature': 38.563}),\n",
       " ('2006', {'dt': '2006-08-01', 'AverageTemperature': 38.585}),\n",
       " ('2007', {'dt': '2007-07-01', 'AverageTemperature': 37.90600000000001}),\n",
       " ('2008', {'dt': '2008-07-01', 'AverageTemperature': 38.17400000000001}),\n",
       " ('2009', {'dt': '2009-07-01', 'AverageTemperature': 38.14}),\n",
       " ('2010', {'dt': '2010-07-01', 'AverageTemperature': 38.96400000000001}),\n",
       " ('2011', {'dt': '2011-07-01', 'AverageTemperature': 38.793000000000006}),\n",
       " ('2012', {'dt': '2012-07-01', 'AverageTemperature': 39.15300000000001}),\n",
       " ('2013', {'dt': '2013-07-01', 'AverageTemperature': 39.15600000000001})]"
      ]
     },
     "execution_count": 125,
     "metadata": {},
     "output_type": "execute_result"
    }
   ],
   "source": [
    "def binop(l, r):\n",
    "    if l:\n",
    "        return max((l, r), key=lambda x: x['AverageTemperature'])\n",
    "    return r\n",
    "\n",
    "bag.foldby(lambda p: p['dt'][:4], binop).compute()"
   ]
  },
  {
   "cell_type": "markdown",
   "id": "484cb9cf",
   "metadata": {},
   "source": [
    "__Задание 6__. Используя dask.dataFrame (GlobalLandTemperaturesByCity.csм), найдите координаты самой северо-восточной точки из датасета"
   ]
  },
  {
   "cell_type": "code",
   "execution_count": 7,
   "id": "22803cd7",
   "metadata": {},
   "outputs": [],
   "source": [
    "df_gl_temp = pd.read_csv('GlobalLandTemperaturesByCity.csv', parse_dates=['dt'])"
   ]
  },
  {
   "cell_type": "code",
   "execution_count": 6,
   "id": "4a300e8a",
   "metadata": {},
   "outputs": [
    {
     "data": {
      "text/html": [
       "<div>\n",
       "<style scoped>\n",
       "    .dataframe tbody tr th:only-of-type {\n",
       "        vertical-align: middle;\n",
       "    }\n",
       "\n",
       "    .dataframe tbody tr th {\n",
       "        vertical-align: top;\n",
       "    }\n",
       "\n",
       "    .dataframe thead th {\n",
       "        text-align: right;\n",
       "    }\n",
       "</style>\n",
       "<table border=\"1\" class=\"dataframe\">\n",
       "  <thead>\n",
       "    <tr style=\"text-align: right;\">\n",
       "      <th></th>\n",
       "      <th>dt</th>\n",
       "      <th>AverageTemperature</th>\n",
       "      <th>AverageTemperatureUncertainty</th>\n",
       "      <th>City</th>\n",
       "      <th>Country</th>\n",
       "      <th>Latitude</th>\n",
       "      <th>Longitude</th>\n",
       "    </tr>\n",
       "  </thead>\n",
       "  <tbody>\n",
       "    <tr>\n",
       "      <th>0</th>\n",
       "      <td>1743-11-01</td>\n",
       "      <td>6.068</td>\n",
       "      <td>1.737</td>\n",
       "      <td>Århus</td>\n",
       "      <td>Denmark</td>\n",
       "      <td>57.05N</td>\n",
       "      <td>10.33E</td>\n",
       "    </tr>\n",
       "    <tr>\n",
       "      <th>1</th>\n",
       "      <td>1743-12-01</td>\n",
       "      <td>NaN</td>\n",
       "      <td>NaN</td>\n",
       "      <td>Århus</td>\n",
       "      <td>Denmark</td>\n",
       "      <td>57.05N</td>\n",
       "      <td>10.33E</td>\n",
       "    </tr>\n",
       "    <tr>\n",
       "      <th>2</th>\n",
       "      <td>1744-01-01</td>\n",
       "      <td>NaN</td>\n",
       "      <td>NaN</td>\n",
       "      <td>Århus</td>\n",
       "      <td>Denmark</td>\n",
       "      <td>57.05N</td>\n",
       "      <td>10.33E</td>\n",
       "    </tr>\n",
       "    <tr>\n",
       "      <th>3</th>\n",
       "      <td>1744-02-01</td>\n",
       "      <td>NaN</td>\n",
       "      <td>NaN</td>\n",
       "      <td>Århus</td>\n",
       "      <td>Denmark</td>\n",
       "      <td>57.05N</td>\n",
       "      <td>10.33E</td>\n",
       "    </tr>\n",
       "    <tr>\n",
       "      <th>4</th>\n",
       "      <td>1744-03-01</td>\n",
       "      <td>NaN</td>\n",
       "      <td>NaN</td>\n",
       "      <td>Århus</td>\n",
       "      <td>Denmark</td>\n",
       "      <td>57.05N</td>\n",
       "      <td>10.33E</td>\n",
       "    </tr>\n",
       "  </tbody>\n",
       "</table>\n",
       "</div>"
      ],
      "text/plain": [
       "           dt  AverageTemperature  AverageTemperatureUncertainty   City  \\\n",
       "0  1743-11-01               6.068                          1.737  Århus   \n",
       "1  1743-12-01                 NaN                            NaN  Århus   \n",
       "2  1744-01-01                 NaN                            NaN  Århus   \n",
       "3  1744-02-01                 NaN                            NaN  Århus   \n",
       "4  1744-03-01                 NaN                            NaN  Århus   \n",
       "\n",
       "   Country Latitude Longitude  \n",
       "0  Denmark   57.05N    10.33E  \n",
       "1  Denmark   57.05N    10.33E  \n",
       "2  Denmark   57.05N    10.33E  \n",
       "3  Denmark   57.05N    10.33E  \n",
       "4  Denmark   57.05N    10.33E  "
      ]
     },
     "execution_count": 6,
     "metadata": {},
     "output_type": "execute_result"
    }
   ],
   "source": [
    "df_gl_temp.head()"
   ]
  },
  {
   "cell_type": "code",
   "execution_count": 8,
   "id": "aa9a70b8",
   "metadata": {},
   "outputs": [
    {
     "data": {
      "text/plain": [
       "N    7323138\n",
       "S    1276074\n",
       "Name: Latitude, dtype: int64"
      ]
     },
     "execution_count": 8,
     "metadata": {},
     "output_type": "execute_result"
    }
   ],
   "source": [
    "df_gl_temp.Latitude.apply(lambda x: x[-1]).value_counts()"
   ]
  },
  {
   "cell_type": "code",
   "execution_count": 9,
   "id": "d00f80ba",
   "metadata": {},
   "outputs": [
    {
     "data": {
      "text/plain": [
       "E    6100003\n",
       "W    2499209\n",
       "Name: Longitude, dtype: int64"
      ]
     },
     "execution_count": 9,
     "metadata": {},
     "output_type": "execute_result"
    }
   ],
   "source": [
    "df_gl_temp.Longitude.apply(lambda x: x[-1]).value_counts()"
   ]
  },
  {
   "cell_type": "code",
   "execution_count": 43,
   "id": "4ec4ff39",
   "metadata": {},
   "outputs": [],
   "source": [
    "# нужны макс NE сумма\n",
    "df = dd.read_csv(\"GlobalLandTemperaturesByCity.csv\",\n",
    "                 parse_dates=['dt'],\n",
    "                 assume_missing=True)"
   ]
  },
  {
   "cell_type": "code",
   "execution_count": 44,
   "id": "f3ea88b1",
   "metadata": {},
   "outputs": [],
   "source": [
    "coords = df[['Latitude', 'Longitude']].drop_duplicates()"
   ]
  },
  {
   "cell_type": "code",
   "execution_count": 32,
   "id": "6a4c3294",
   "metadata": {},
   "outputs": [
    {
     "data": {
      "text/html": [
       "<div>\n",
       "<style scoped>\n",
       "    .dataframe tbody tr th:only-of-type {\n",
       "        vertical-align: middle;\n",
       "    }\n",
       "\n",
       "    .dataframe tbody tr th {\n",
       "        vertical-align: top;\n",
       "    }\n",
       "\n",
       "    .dataframe thead th {\n",
       "        text-align: right;\n",
       "    }\n",
       "</style>\n",
       "<table border=\"1\" class=\"dataframe\">\n",
       "  <thead>\n",
       "    <tr style=\"text-align: right;\">\n",
       "      <th></th>\n",
       "      <th>Latitude</th>\n",
       "      <th>Longitude</th>\n",
       "    </tr>\n",
       "  </thead>\n",
       "  <tbody>\n",
       "    <tr>\n",
       "      <th>0</th>\n",
       "      <td>57.05N</td>\n",
       "      <td>10.33E</td>\n",
       "    </tr>\n",
       "    <tr>\n",
       "      <th>3239</th>\n",
       "      <td>40.99N</td>\n",
       "      <td>27.69E</td>\n",
       "    </tr>\n",
       "    <tr>\n",
       "      <th>6478</th>\n",
       "      <td>40.99N</td>\n",
       "      <td>34.08E</td>\n",
       "    </tr>\n",
       "    <tr>\n",
       "      <th>9607</th>\n",
       "      <td>50.63N</td>\n",
       "      <td>82.39E</td>\n",
       "    </tr>\n",
       "    <tr>\n",
       "      <th>11925</th>\n",
       "      <td>44.20N</td>\n",
       "      <td>87.20E</td>\n",
       "    </tr>\n",
       "  </tbody>\n",
       "</table>\n",
       "</div>"
      ],
      "text/plain": [
       "      Latitude Longitude\n",
       "0       57.05N    10.33E\n",
       "3239    40.99N    27.69E\n",
       "6478    40.99N    34.08E\n",
       "9607    50.63N    82.39E\n",
       "11925   44.20N    87.20E"
      ]
     },
     "execution_count": 32,
     "metadata": {},
     "output_type": "execute_result"
    }
   ],
   "source": [
    "coords.head(5)"
   ]
  },
  {
   "cell_type": "code",
   "execution_count": 45,
   "id": "ac5ea225",
   "metadata": {},
   "outputs": [
    {
     "data": {
      "text/html": [
       "<div>\n",
       "<style scoped>\n",
       "    .dataframe tbody tr th:only-of-type {\n",
       "        vertical-align: middle;\n",
       "    }\n",
       "\n",
       "    .dataframe tbody tr th {\n",
       "        vertical-align: top;\n",
       "    }\n",
       "\n",
       "    .dataframe thead th {\n",
       "        text-align: right;\n",
       "    }\n",
       "</style>\n",
       "<table border=\"1\" class=\"dataframe\">\n",
       "  <thead>\n",
       "    <tr style=\"text-align: right;\">\n",
       "      <th></th>\n",
       "      <th>dt</th>\n",
       "      <th>AverageTemperature</th>\n",
       "      <th>AverageTemperatureUncertainty</th>\n",
       "      <th>City</th>\n",
       "      <th>Country</th>\n",
       "      <th>Latitude</th>\n",
       "      <th>Longitude</th>\n",
       "    </tr>\n",
       "  </thead>\n",
       "  <tbody>\n",
       "    <tr>\n",
       "      <th>437503</th>\n",
       "      <td>1980-05-01</td>\n",
       "      <td>22.562</td>\n",
       "      <td>0.489</td>\n",
       "      <td>Asgabat</td>\n",
       "      <td>Turkmenistan</td>\n",
       "      <td>37.78N</td>\n",
       "      <td>58.98E</td>\n",
       "    </tr>\n",
       "    <tr>\n",
       "      <th>437503</th>\n",
       "      <td>1895-04-01</td>\n",
       "      <td>4.910</td>\n",
       "      <td>0.474</td>\n",
       "      <td>Chernihiv</td>\n",
       "      <td>Ukraine</td>\n",
       "      <td>52.24N</td>\n",
       "      <td>31.53E</td>\n",
       "    </tr>\n",
       "    <tr>\n",
       "      <th>437503</th>\n",
       "      <td>2005-07-01</td>\n",
       "      <td>17.551</td>\n",
       "      <td>0.290</td>\n",
       "      <td>Glazov</td>\n",
       "      <td>Russia</td>\n",
       "      <td>58.66N</td>\n",
       "      <td>52.31E</td>\n",
       "    </tr>\n",
       "    <tr>\n",
       "      <th>437503</th>\n",
       "      <td>1853-01-01</td>\n",
       "      <td>0.464</td>\n",
       "      <td>1.860</td>\n",
       "      <td>Kashan</td>\n",
       "      <td>Iran</td>\n",
       "      <td>34.56N</td>\n",
       "      <td>50.59E</td>\n",
       "    </tr>\n",
       "    <tr>\n",
       "      <th>437503</th>\n",
       "      <td>1880-07-01</td>\n",
       "      <td>26.308</td>\n",
       "      <td>0.619</td>\n",
       "      <td>Melaka</td>\n",
       "      <td>Malaysia</td>\n",
       "      <td>2.41N</td>\n",
       "      <td>102.05E</td>\n",
       "    </tr>\n",
       "    <tr>\n",
       "      <th>437503</th>\n",
       "      <td>1839-08-01</td>\n",
       "      <td>12.157</td>\n",
       "      <td>1.811</td>\n",
       "      <td>Petropavlovsk Kamchatskiy</td>\n",
       "      <td>Russia</td>\n",
       "      <td>53.84N</td>\n",
       "      <td>159.55E</td>\n",
       "    </tr>\n",
       "    <tr>\n",
       "      <th>437503</th>\n",
       "      <td>1910-09-01</td>\n",
       "      <td>24.633</td>\n",
       "      <td>0.851</td>\n",
       "      <td>Shaki</td>\n",
       "      <td>Nigeria</td>\n",
       "      <td>8.84N</td>\n",
       "      <td>4.05E</td>\n",
       "    </tr>\n",
       "    <tr>\n",
       "      <th>437503</th>\n",
       "      <td>1791-12-01</td>\n",
       "      <td>-0.405</td>\n",
       "      <td>2.475</td>\n",
       "      <td>Vanadzor</td>\n",
       "      <td>Armenia</td>\n",
       "      <td>40.99N</td>\n",
       "      <td>44.73E</td>\n",
       "    </tr>\n",
       "  </tbody>\n",
       "</table>\n",
       "</div>"
      ],
      "text/plain": [
       "               dt  AverageTemperature  AverageTemperatureUncertainty  \\\n",
       "437503 1980-05-01              22.562                          0.489   \n",
       "437503 1895-04-01               4.910                          0.474   \n",
       "437503 2005-07-01              17.551                          0.290   \n",
       "437503 1853-01-01               0.464                          1.860   \n",
       "437503 1880-07-01              26.308                          0.619   \n",
       "437503 1839-08-01              12.157                          1.811   \n",
       "437503 1910-09-01              24.633                          0.851   \n",
       "437503 1791-12-01              -0.405                          2.475   \n",
       "\n",
       "                             City       Country Latitude Longitude  \n",
       "437503                    Asgabat  Turkmenistan   37.78N    58.98E  \n",
       "437503                  Chernihiv       Ukraine   52.24N    31.53E  \n",
       "437503                     Glazov        Russia   58.66N    52.31E  \n",
       "437503                     Kashan          Iran   34.56N    50.59E  \n",
       "437503                     Melaka      Malaysia    2.41N   102.05E  \n",
       "437503  Petropavlovsk Kamchatskiy        Russia   53.84N   159.55E  \n",
       "437503                      Shaki       Nigeria    8.84N     4.05E  \n",
       "437503                   Vanadzor       Armenia   40.99N    44.73E  "
      ]
     },
     "execution_count": 45,
     "metadata": {},
     "output_type": "execute_result"
    }
   ],
   "source": [
    "df.loc[coords.apply(lambda x: float(x.Latitude[:-1]) + float(x.Longitude[:-1]) \\\n",
    "         if (x.Latitude[-1] == 'N') and (x.Longitude[-1] == 'E') else 0, \n",
    "         axis=1,  \n",
    "         meta=('sum_of_coords', 'float')).idxmax()].compute()"
   ]
  },
  {
   "cell_type": "code",
   "execution_count": 51,
   "id": "6aa2f07a",
   "metadata": {},
   "outputs": [
    {
     "data": {
      "text/html": [
       "<div>\n",
       "<style scoped>\n",
       "    .dataframe tbody tr th:only-of-type {\n",
       "        vertical-align: middle;\n",
       "    }\n",
       "\n",
       "    .dataframe tbody tr th {\n",
       "        vertical-align: top;\n",
       "    }\n",
       "\n",
       "    .dataframe thead th {\n",
       "        text-align: right;\n",
       "    }\n",
       "</style>\n",
       "<table border=\"1\" class=\"dataframe\">\n",
       "  <thead>\n",
       "    <tr style=\"text-align: right;\">\n",
       "      <th></th>\n",
       "      <th>Latitude</th>\n",
       "      <th>Longitude</th>\n",
       "    </tr>\n",
       "  </thead>\n",
       "  <tbody>\n",
       "    <tr>\n",
       "      <th>437503</th>\n",
       "      <td>53.84N</td>\n",
       "      <td>159.55E</td>\n",
       "    </tr>\n",
       "  </tbody>\n",
       "</table>\n",
       "</div>"
      ],
      "text/plain": [
       "       Latitude Longitude\n",
       "437503   53.84N   159.55E"
      ]
     },
     "execution_count": 51,
     "metadata": {},
     "output_type": "execute_result"
    }
   ],
   "source": [
    "coords.loc[coords.apply(lambda x: float(x.Latitude[:-1]) + float(x.Longitude[:-1]) \\\n",
    "         if (x.Latitude[-1] == 'N') and (x.Longitude[-1] == 'E') else 0, \n",
    "         axis=1,  \n",
    "         meta=('sum_of_coords', 'float')).idxmax()].compute()"
   ]
  },
  {
   "cell_type": "code",
   "execution_count": 50,
   "id": "cdb030dc",
   "metadata": {},
   "outputs": [
    {
     "data": {
      "text/html": [
       "<div>\n",
       "<style scoped>\n",
       "    .dataframe tbody tr th:only-of-type {\n",
       "        vertical-align: middle;\n",
       "    }\n",
       "\n",
       "    .dataframe tbody tr th {\n",
       "        vertical-align: top;\n",
       "    }\n",
       "\n",
       "    .dataframe thead th {\n",
       "        text-align: right;\n",
       "    }\n",
       "</style>\n",
       "<table border=\"1\" class=\"dataframe\">\n",
       "  <thead>\n",
       "    <tr style=\"text-align: right;\">\n",
       "      <th></th>\n",
       "      <th>dt</th>\n",
       "      <th>AverageTemperature</th>\n",
       "      <th>AverageTemperatureUncertainty</th>\n",
       "      <th>City</th>\n",
       "      <th>Country</th>\n",
       "      <th>Latitude</th>\n",
       "      <th>Longitude</th>\n",
       "    </tr>\n",
       "  </thead>\n",
       "  <tbody>\n",
       "    <tr>\n",
       "      <th>437503</th>\n",
       "      <td>1980-05-01</td>\n",
       "      <td>22.562</td>\n",
       "      <td>0.489</td>\n",
       "      <td>Asgabat</td>\n",
       "      <td>Turkmenistan</td>\n",
       "      <td>37.78N</td>\n",
       "      <td>58.98E</td>\n",
       "    </tr>\n",
       "    <tr>\n",
       "      <th>437503</th>\n",
       "      <td>1895-04-01</td>\n",
       "      <td>4.910</td>\n",
       "      <td>0.474</td>\n",
       "      <td>Chernihiv</td>\n",
       "      <td>Ukraine</td>\n",
       "      <td>52.24N</td>\n",
       "      <td>31.53E</td>\n",
       "    </tr>\n",
       "    <tr>\n",
       "      <th>437503</th>\n",
       "      <td>2005-07-01</td>\n",
       "      <td>17.551</td>\n",
       "      <td>0.290</td>\n",
       "      <td>Glazov</td>\n",
       "      <td>Russia</td>\n",
       "      <td>58.66N</td>\n",
       "      <td>52.31E</td>\n",
       "    </tr>\n",
       "    <tr>\n",
       "      <th>437503</th>\n",
       "      <td>1853-01-01</td>\n",
       "      <td>0.464</td>\n",
       "      <td>1.860</td>\n",
       "      <td>Kashan</td>\n",
       "      <td>Iran</td>\n",
       "      <td>34.56N</td>\n",
       "      <td>50.59E</td>\n",
       "    </tr>\n",
       "    <tr>\n",
       "      <th>437503</th>\n",
       "      <td>1880-07-01</td>\n",
       "      <td>26.308</td>\n",
       "      <td>0.619</td>\n",
       "      <td>Melaka</td>\n",
       "      <td>Malaysia</td>\n",
       "      <td>2.41N</td>\n",
       "      <td>102.05E</td>\n",
       "    </tr>\n",
       "    <tr>\n",
       "      <th>437503</th>\n",
       "      <td>1839-08-01</td>\n",
       "      <td>12.157</td>\n",
       "      <td>1.811</td>\n",
       "      <td>Petropavlovsk Kamchatskiy</td>\n",
       "      <td>Russia</td>\n",
       "      <td>53.84N</td>\n",
       "      <td>159.55E</td>\n",
       "    </tr>\n",
       "    <tr>\n",
       "      <th>437503</th>\n",
       "      <td>1910-09-01</td>\n",
       "      <td>24.633</td>\n",
       "      <td>0.851</td>\n",
       "      <td>Shaki</td>\n",
       "      <td>Nigeria</td>\n",
       "      <td>8.84N</td>\n",
       "      <td>4.05E</td>\n",
       "    </tr>\n",
       "    <tr>\n",
       "      <th>437503</th>\n",
       "      <td>1791-12-01</td>\n",
       "      <td>-0.405</td>\n",
       "      <td>2.475</td>\n",
       "      <td>Vanadzor</td>\n",
       "      <td>Armenia</td>\n",
       "      <td>40.99N</td>\n",
       "      <td>44.73E</td>\n",
       "    </tr>\n",
       "  </tbody>\n",
       "</table>\n",
       "</div>"
      ],
      "text/plain": [
       "               dt  AverageTemperature  AverageTemperatureUncertainty  \\\n",
       "437503 1980-05-01              22.562                          0.489   \n",
       "437503 1895-04-01               4.910                          0.474   \n",
       "437503 2005-07-01              17.551                          0.290   \n",
       "437503 1853-01-01               0.464                          1.860   \n",
       "437503 1880-07-01              26.308                          0.619   \n",
       "437503 1839-08-01              12.157                          1.811   \n",
       "437503 1910-09-01              24.633                          0.851   \n",
       "437503 1791-12-01              -0.405                          2.475   \n",
       "\n",
       "                             City       Country Latitude Longitude  \n",
       "437503                    Asgabat  Turkmenistan   37.78N    58.98E  \n",
       "437503                  Chernihiv       Ukraine   52.24N    31.53E  \n",
       "437503                     Glazov        Russia   58.66N    52.31E  \n",
       "437503                     Kashan          Iran   34.56N    50.59E  \n",
       "437503                     Melaka      Malaysia    2.41N   102.05E  \n",
       "437503  Petropavlovsk Kamchatskiy        Russia   53.84N   159.55E  \n",
       "437503                      Shaki       Nigeria    8.84N     4.05E  \n",
       "437503                   Vanadzor       Armenia   40.99N    44.73E  "
      ]
     },
     "execution_count": 50,
     "metadata": {},
     "output_type": "execute_result"
    }
   ],
   "source": [
    "df.loc[437503].compute()"
   ]
  }
 ],
 "metadata": {
  "kernelspec": {
   "display_name": "Python 3 (ipykernel)",
   "language": "python",
   "name": "python3"
  },
  "language_info": {
   "codemirror_mode": {
    "name": "ipython",
    "version": 3
   },
   "file_extension": ".py",
   "mimetype": "text/x-python",
   "name": "python",
   "nbconvert_exporter": "python",
   "pygments_lexer": "ipython3",
   "version": "3.10.8"
  }
 },
 "nbformat": 4,
 "nbformat_minor": 5
}
