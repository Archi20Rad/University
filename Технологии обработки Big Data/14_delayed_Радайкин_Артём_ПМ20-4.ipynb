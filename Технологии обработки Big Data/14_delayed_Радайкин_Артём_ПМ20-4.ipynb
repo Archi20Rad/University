{
 "cells": [
  {
   "cell_type": "markdown",
   "metadata": {},
   "source": [
    "# Dask Delayed"
   ]
  },
  {
   "cell_type": "markdown",
   "metadata": {},
   "source": [
    "__Автор задач: Блохин Н.В. (NVBlokhin@fa.ru)__\n",
    "\n",
    "Материалы:\n",
    "* Макрушин С.В. Лекция \"Dask Delayed\"\n",
    "* https://docs.dask.org/en/latest/delayed.html\n",
    "* Jesse C. Daniel. Data Science with Python and Dask.\n",
    "* https://saturncloud.io/blog/a-data-scientist-s-guide-to-lazy-evaluation-with-dask/\n",
    "* https://www.coiled.io/blog/how-to-learn-dask-in-2021"
   ]
  },
  {
   "cell_type": "markdown",
   "metadata": {},
   "source": [
    "## Задачи для совместного разбора"
   ]
  },
  {
   "cell_type": "markdown",
   "metadata": {},
   "source": [
    "![](https://i.imgur.com/AwiN8y6.png)\n",
    "![](https://i.imgur.com/ceY6guU.png)"
   ]
  },
  {
   "cell_type": "markdown",
   "metadata": {},
   "source": [
    "1\\. Напишите 2 функции, имитирующие CPU-bound задачу и IO-bound задачу:\n",
    "\n",
    "`cpu_task()`: генерирует 100 тыс. случайных чисел и возвращает их сумму (без использования `numpy`)\n",
    "\n",
    "`io_task()`: \"спит\" 0.1 сек, затем генерирует случайное число и возвращает его\n",
    "\n",
    "Замерьте время выполнения 100 последовательных вызовов каждой из этих функций. Распараллелив вычисления при помощи `dask.delayed`, сократите время выполнения. Исследуйте, как зависит время вычислений от выбранного планировщика `scheduler`."
   ]
  },
  {
   "cell_type": "code",
   "execution_count": 1,
   "metadata": {},
   "outputs": [],
   "source": [
    "import numpy as np\n",
    "import dask.delayed as delayed\n",
    "import dask\n",
    "import dask.dataframe as dd\n",
    "import dask.bag as db\n",
    "from bs4 import BeautifulSoup\n",
    "from time import sleep\n",
    "import random\n",
    "import pandas as pd"
   ]
  },
  {
   "cell_type": "code",
   "execution_count": 3,
   "metadata": {},
   "outputs": [],
   "source": [
    "def cpu_task():\n",
    "    numbers = [random.randint(0, 1000) for _ in range(100_000)]\n",
    "    return sum(numbers)\n",
    "\n",
    "def io_task():\n",
    "    sleep(0.1)\n",
    "    return random.randint(0, 1000)"
   ]
  },
  {
   "cell_type": "code",
   "execution_count": 4,
   "metadata": {},
   "outputs": [
    {
     "name": "stdout",
     "output_type": "stream",
     "text": [
      "CPU times: total: 22.1 s\n",
      "Wall time: 22.1 s\n"
     ]
    }
   ],
   "source": [
    "%%time\n",
    "r = [cpu_task() for _ in range(100)]"
   ]
  },
  {
   "cell_type": "code",
   "execution_count": 5,
   "metadata": {},
   "outputs": [
    {
     "name": "stdout",
     "output_type": "stream",
     "text": [
      "CPU times: total: 0 ns\n",
      "Wall time: 10.8 s\n"
     ]
    }
   ],
   "source": [
    "%%time\n",
    "r = [io_task() for _ in range(100)]"
   ]
  },
  {
   "cell_type": "code",
   "execution_count": 6,
   "metadata": {},
   "outputs": [],
   "source": [
    "cpu_task_delayed = dask.delayed(cpu_task)"
   ]
  },
  {
   "cell_type": "code",
   "execution_count": 7,
   "metadata": {},
   "outputs": [
    {
     "name": "stdout",
     "output_type": "stream",
     "text": [
      "CPU times: total: 23.6 s\n",
      "Wall time: 23.6 s\n"
     ]
    }
   ],
   "source": [
    "%%time\n",
    "r = [cpu_task_delayed() for _ in range(100)]\n",
    "r = dask.compute(r, scheduler=\"threading\")"
   ]
  },
  {
   "cell_type": "code",
   "execution_count": 8,
   "metadata": {
    "scrolled": true
   },
   "outputs": [
    {
     "name": "stdout",
     "output_type": "stream",
     "text": [
      "CPU times: total: 203 ms\n",
      "Wall time: 9.12 s\n"
     ]
    }
   ],
   "source": [
    "%%time\n",
    "r = [cpu_task_delayed() for _ in range(100)]\n",
    "r = dask.compute(r, scheduler=\"multiprocessing\")"
   ]
  },
  {
   "cell_type": "code",
   "execution_count": 9,
   "metadata": {},
   "outputs": [],
   "source": [
    "io_task_delayed = dask.delayed(io_task)"
   ]
  },
  {
   "cell_type": "code",
   "execution_count": 10,
   "metadata": {},
   "outputs": [
    {
     "name": "stdout",
     "output_type": "stream",
     "text": [
      "CPU times: total: 15.6 ms\n",
      "Wall time: 1.44 s\n"
     ]
    }
   ],
   "source": [
    "%%time\n",
    "r = [io_task_delayed() for _ in range(100)]\n",
    "r = dask.compute(r, scheduler=\"threading\")"
   ]
  },
  {
   "cell_type": "code",
   "execution_count": 11,
   "metadata": {},
   "outputs": [
    {
     "name": "stdout",
     "output_type": "stream",
     "text": [
      "CPU times: total: 78.1 ms\n",
      "Wall time: 3.12 s\n"
     ]
    }
   ],
   "source": [
    "%%time\n",
    "r = [io_task_delayed() for _ in range(100)]\n",
    "r = dask.compute(r, scheduler=\"multiprocessing\")"
   ]
  },
  {
   "cell_type": "markdown",
   "metadata": {},
   "source": [
    "## Лабораторная работа 14"
   ]
  },
  {
   "cell_type": "markdown",
   "metadata": {},
   "source": [
    "1\\. Напишите функцию, которая считывает файл формата xml из каталога `reviewers_full` и по данным этого файла формирует список словарей, содержащих следующие ключи: `id`, `username`, `name`, `sex`, `country`, `mail`, `registered`, `birthdate`, `name_prefix`, `country_code`. Часть из этих значений в исходном файле хранится в виде тэгов, часть - в виде атрибутов тэгов. Для конкретного человека какие-то из этих ключей могут отсутствовать. \n",
    "\n"
   ]
  },
  {
   "cell_type": "code",
   "execution_count": null,
   "metadata": {},
   "outputs": [],
   "source": [
    "# ./14_delayed_data/reviewers_full/reviewers_full_{path}.xml"
   ]
  },
  {
   "cell_type": "code",
   "execution_count": 24,
   "metadata": {},
   "outputs": [],
   "source": [
    "def xml_to_dict(path):\n",
    "    reviewers_full = []\n",
    "    fp = open(path, \"r\").read()\n",
    "    xml = BeautifulSoup(fp,'xml')\n",
    "    \n",
    "    for user in xml.find_all('user'):\n",
    "        user_dict = {}\n",
    "        for key in ['id', 'username', 'name', 'sex', 'country', 'mail', 'registered', 'birthdate']:\n",
    "            if user.find(key):\n",
    "                user_dict[key] = user.find(key).text\n",
    "        if user.attrs:\n",
    "            user_dict['name_prefix'] = user.attrs['prefix']\n",
    "        if user.find('country'):\n",
    "            code = user.find('country').attrs\n",
    "            if code:\n",
    "                user_dict['country_code'] = code['code']\n",
    "            \n",
    "        reviewers_full.append(user_dict)\n",
    "    return reviewers_full"
   ]
  },
  {
   "cell_type": "code",
   "execution_count": 25,
   "metadata": {},
   "outputs": [
    {
     "data": {
      "text/plain": [
       "[{'id': '88005',\n",
       "  'username': 'jacqueline00',\n",
       "  'name': 'Michele Lewis',\n",
       "  'mail': 'morenocharlotte@yahoo.com'},\n",
       " {'id': '68591',\n",
       "  'username': 'daniellegomez',\n",
       "  'sex': 'F',\n",
       "  'country': 'Germany',\n",
       "  'birthdate': '2005-03-06',\n",
       "  'name_prefix': 'Dr.',\n",
       "  'country_code': 'DE'}]"
      ]
     },
     "execution_count": 25,
     "metadata": {},
     "output_type": "execute_result"
    }
   ],
   "source": [
    "xml_to_dict('./14_delayed_data/reviewers_full/reviewers_full_0.xml')[:2]"
   ]
  },
  {
   "cell_type": "markdown",
   "metadata": {},
   "source": [
    "2\\. Измерьте время выполнения функции из задания 1 на всех файлах из каталога `reviewers_full`. Ускорьте время выполнения, используя `dask.delayed`."
   ]
  },
  {
   "cell_type": "markdown",
   "metadata": {},
   "source": [
    "### Выполнение без ускорения:"
   ]
  },
  {
   "cell_type": "code",
   "execution_count": 64,
   "metadata": {},
   "outputs": [
    {
     "name": "stdout",
     "output_type": "stream",
     "text": [
      "CPU times: total: 17min 53s\n",
      "Wall time: 18min 20s\n"
     ]
    }
   ],
   "source": [
    "%%time\n",
    "for i in range(20):\n",
    "    xml_to_dict(f'./14_delayed_data/reviewers_full/reviewers_full_{i}.xml')"
   ]
  },
  {
   "cell_type": "markdown",
   "metadata": {},
   "source": [
    "### Выполнение с dask.delayed:"
   ]
  },
  {
   "cell_type": "code",
   "execution_count": 12,
   "metadata": {},
   "outputs": [],
   "source": [
    "xml_to_dict_delayed = dask.delayed(xml_to_dict)"
   ]
  },
  {
   "cell_type": "code",
   "execution_count": 68,
   "metadata": {},
   "outputs": [
    {
     "name": "stdout",
     "output_type": "stream",
     "text": [
      "CPU times: total: 2.09 s\n",
      "Wall time: 5min 54s\n"
     ]
    }
   ],
   "source": [
    "%%time\n",
    "r = [xml_to_dict_delayed(f'./14_delayed_data/reviewers_full/reviewers_full_{i}.xml') for i in range(20)]\n",
    "r = dask.compute(r, scheduler=\"multiprocessing\")"
   ]
  },
  {
   "cell_type": "code",
   "execution_count": 26,
   "metadata": {},
   "outputs": [
    {
     "name": "stdout",
     "output_type": "stream",
     "text": [
      "CPU times: total: 20min 44s\n",
      "Wall time: 19min 56s\n"
     ]
    }
   ],
   "source": [
    "%%time\n",
    "r = [xml_to_dict_delayed(f'./14_delayed_data/reviewers_full/reviewers_full_{i}.xml') for i in range(20)]\n",
    "r = dask.compute(r, scheduler=\"threading\")"
   ]
  },
  {
   "cell_type": "markdown",
   "metadata": {},
   "source": [
    "3\\. Задекорируйте функцию из задания 1 при помощи `dask.delayed` и создайте список `reviewers`, состоящий из 5 объектов `delayed` (по одному объекту на файл). Из списка объектов `delayed`, создайте `dask.bag` при помощи метода `db.from_delayed`. Добавьте ключ `birth_year`, в котором хранится год рождения человека. Оставьте в выборке только тех людей, которые __наверняка__ моложе 1980 года. Преобразуйте поле `id` к целому типу."
   ]
  },
  {
   "cell_type": "code",
   "execution_count": 13,
   "metadata": {},
   "outputs": [],
   "source": [
    "from datetime import datetime"
   ]
  },
  {
   "cell_type": "code",
   "execution_count": 14,
   "metadata": {},
   "outputs": [],
   "source": [
    "reviewers = [xml_to_dict_delayed(f'./14_delayed_data/reviewers_full/reviewers_full_{i}.xml') for i in range(5)]"
   ]
  },
  {
   "cell_type": "code",
   "execution_count": 15,
   "metadata": {},
   "outputs": [
    {
     "data": {
      "text/plain": [
       "5"
      ]
     },
     "execution_count": 15,
     "metadata": {},
     "output_type": "execute_result"
    }
   ],
   "source": [
    "len(reviewers)"
   ]
  },
  {
   "cell_type": "markdown",
   "metadata": {},
   "source": [
    "### Преобразование поля \"id\" к целому типу. Создание дополнительного столбца birth_year"
   ]
  },
  {
   "cell_type": "code",
   "execution_count": 16,
   "metadata": {},
   "outputs": [],
   "source": [
    "def upgrate_review(user):\n",
    "    user[\"id\"] = int(user[\"id\"])\n",
    "    \n",
    "    if user.get(\"birthdate\"): \n",
    "        date = datetime.strptime(user[\"birthdate\"], '%Y-%m-%d')\n",
    "        user[\"birth_year\"] = date.year\n",
    "        \n",
    "    return user"
   ]
  },
  {
   "cell_type": "code",
   "execution_count": 17,
   "metadata": {},
   "outputs": [],
   "source": [
    "db_reviewers = db.from_delayed(reviewers).map(upgrate_review)"
   ]
  },
  {
   "cell_type": "code",
   "execution_count": 18,
   "metadata": {},
   "outputs": [
    {
     "data": {
      "text/plain": [
       "({'id': 88005,\n",
       "  'username': 'jacqueline00',\n",
       "  'name': 'Michele Lewis',\n",
       "  'mail': 'morenocharlotte@yahoo.com'},\n",
       " {'id': 68591,\n",
       "  'username': 'daniellegomez',\n",
       "  'sex': 'F',\n",
       "  'country': 'Germany',\n",
       "  'birthdate': '2005-03-06',\n",
       "  'name_prefix': 'Dr.',\n",
       "  'country_code': 'DE',\n",
       "  'birth_year': 2005},\n",
       " {'id': 81003,\n",
       "  'username': 'alucero',\n",
       "  'name': 'Tammy Patton',\n",
       "  'mail': 'larsenrobert@gmail.com'},\n",
       " {'id': 61509,\n",
       "  'username': 'mcleanjacqueline',\n",
       "  'name': 'Jeremy Schmidt',\n",
       "  'sex': 'M',\n",
       "  'registered': '2017-09-21',\n",
       "  'name_prefix': 'Dr.'})"
      ]
     },
     "execution_count": 18,
     "metadata": {},
     "output_type": "execute_result"
    }
   ],
   "source": [
    "db_reviewers.take(4)"
   ]
  },
  {
   "cell_type": "markdown",
   "metadata": {},
   "source": [
    "### Оставим в выборке только тех людей, которые наверняка моложе 1980 года."
   ]
  },
  {
   "cell_type": "code",
   "execution_count": 19,
   "metadata": {},
   "outputs": [],
   "source": [
    "def filter_1980(user):\n",
    "    return user.get(\"birth_year\") is not None and user[\"birth_year\"] > 1980"
   ]
  },
  {
   "cell_type": "code",
   "execution_count": 20,
   "metadata": {},
   "outputs": [],
   "source": [
    "db_rev_1980 = db_reviewers.filter(filter_1980)"
   ]
  },
  {
   "cell_type": "code",
   "execution_count": 21,
   "metadata": {},
   "outputs": [
    {
     "data": {
      "text/plain": [
       "({'id': 68591,\n",
       "  'username': 'daniellegomez',\n",
       "  'sex': 'F',\n",
       "  'country': 'Germany',\n",
       "  'birthdate': '2005-03-06',\n",
       "  'name_prefix': 'Dr.',\n",
       "  'country_code': 'DE',\n",
       "  'birth_year': 2005},\n",
       " {'id': 43614,\n",
       "  'username': 'jeffreynelson',\n",
       "  'sex': 'F',\n",
       "  'country': 'Aruba',\n",
       "  'mail': 'laura77@hotmail.com',\n",
       "  'registered': '2019-11-19',\n",
       "  'birthdate': '1994-10-10',\n",
       "  'country_code': 'AW',\n",
       "  'birth_year': 1994},\n",
       " {'id': 25362,\n",
       "  'username': 'davidmaxwell',\n",
       "  'mail': 'steven53@gmail.com',\n",
       "  'registered': '2005-11-28',\n",
       "  'birthdate': '1996-09-07',\n",
       "  'birth_year': 1996},\n",
       " {'id': 1509,\n",
       "  'username': 'thomas07',\n",
       "  'sex': 'F',\n",
       "  'country': 'Tajikistan',\n",
       "  'registered': '2016-09-07',\n",
       "  'birthdate': '1997-03-29',\n",
       "  'name_prefix': 'Dr.',\n",
       "  'country_code': 'TJ',\n",
       "  'birth_year': 1997})"
      ]
     },
     "execution_count": 21,
     "metadata": {},
     "output_type": "execute_result"
    }
   ],
   "source": [
    "db_rev_1980.take(4)"
   ]
  }
 ],
 "metadata": {
  "kernelspec": {
   "display_name": "Python 3 (ipykernel)",
   "language": "python",
   "name": "python3"
  },
  "language_info": {
   "codemirror_mode": {
    "name": "ipython",
    "version": 3
   },
   "file_extension": ".py",
   "mimetype": "text/x-python",
   "name": "python",
   "nbconvert_exporter": "python",
   "pygments_lexer": "ipython3",
   "version": "3.10.8"
  }
 },
 "nbformat": 4,
 "nbformat_minor": 4
}
